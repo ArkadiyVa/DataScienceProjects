{
 "cells": [
  {
   "cell_type": "code",
   "execution_count": 0,
   "metadata": {
    "colab": {},
    "colab_type": "code",
    "id": "vD3Ym4FHPSkQ"
   },
   "outputs": [],
   "source": [
    "import pandas as pd\n",
    "import numpy as np\n",
    "import matplotlib.pyplot as plt\n",
    "import seaborn as sns\n",
    "from IPython.core import display as ICD"
   ]
  },
  {
   "cell_type": "code",
   "execution_count": 0,
   "metadata": {
    "colab": {},
    "colab_type": "code",
    "id": "Of0mGAMlPSkT"
   },
   "outputs": [],
   "source": [
    "pd.options.display.max_rows = 25"
   ]
  },
  {
   "cell_type": "code",
   "execution_count": 0,
   "metadata": {
    "colab": {},
    "colab_type": "code",
    "id": "2P7Y6BsnQfJf"
   },
   "outputs": [],
   "source": [
    "emails = pd.read_csv(\"emails.csv\")\n",
    "a_scores = pd.read_csv(\"a_scores.csv\")\n",
    "g_memb = pd.read_csv(\"g_memb.csv\")\n",
    "groups = pd.read_csv(\"groups.csv\")\n",
    "professionals = pd.read_csv(\"professionals.csv\")\n",
    "q_scores = pd.read_csv(\"q_scores.csv\")\n",
    "questions = pd.read_csv(\"questions.csv\")\n",
    "sch_memb = pd.read_csv(\"sch_memb.csv\")\n",
    "t_questions = pd.read_csv(\"t_questions.csv\")\n",
    "students = pd.read_csv(\"students.csv\")\n",
    "t_users = pd.read_csv(\"t_users.csv\")\n",
    "tags = pd.read_csv(\"tags.csv\")\n",
    "matches = pd.read_csv(\"matches.csv\")\n",
    "answers = pd.read_csv(\"answers.csv\")\n",
    "comments = pd.read_csv(\"comments.csv\")"
   ]
  },
  {
   "cell_type": "code",
   "execution_count": 0,
   "metadata": {
    "colab": {
     "base_uri": "https://localhost:8080/",
     "height": 204
    },
    "colab_type": "code",
    "id": "6v9ao2_HRH-n",
    "outputId": "befc5522-0610-474e-d5c1-26e719fd9aa3"
   },
   "outputs": [
    {
     "data": {
      "text/html": [
       "<div>\n",
       "<style scoped>\n",
       "    .dataframe tbody tr th:only-of-type {\n",
       "        vertical-align: middle;\n",
       "    }\n",
       "\n",
       "    .dataframe tbody tr th {\n",
       "        vertical-align: top;\n",
       "    }\n",
       "\n",
       "    .dataframe thead th {\n",
       "        text-align: right;\n",
       "    }\n",
       "</style>\n",
       "<table border=\"1\" class=\"dataframe\">\n",
       "  <thead>\n",
       "    <tr style=\"text-align: right;\">\n",
       "      <th></th>\n",
       "      <th>id</th>\n",
       "      <th>score</th>\n",
       "    </tr>\n",
       "  </thead>\n",
       "  <tbody>\n",
       "    <tr>\n",
       "      <th>0</th>\n",
       "      <td>7b2bb0fc0d384e298cffa6afde9cf6ab</td>\n",
       "      <td>1</td>\n",
       "    </tr>\n",
       "    <tr>\n",
       "      <th>1</th>\n",
       "      <td>7640a6e5d5224c8681cc58de860858f4</td>\n",
       "      <td>5</td>\n",
       "    </tr>\n",
       "    <tr>\n",
       "      <th>2</th>\n",
       "      <td>3ce32e236fa9435183b2180fb213375c</td>\n",
       "      <td>2</td>\n",
       "    </tr>\n",
       "    <tr>\n",
       "      <th>3</th>\n",
       "      <td>fa30fe4c016043e382c441a7ef743bfb</td>\n",
       "      <td>0</td>\n",
       "    </tr>\n",
       "    <tr>\n",
       "      <th>4</th>\n",
       "      <td>71229eb293314c8a9e545057ecc32c93</td>\n",
       "      <td>2</td>\n",
       "    </tr>\n",
       "  </tbody>\n",
       "</table>\n",
       "</div>"
      ],
      "text/plain": [
       "                                 id  score\n",
       "0  7b2bb0fc0d384e298cffa6afde9cf6ab      1\n",
       "1  7640a6e5d5224c8681cc58de860858f4      5\n",
       "2  3ce32e236fa9435183b2180fb213375c      2\n",
       "3  fa30fe4c016043e382c441a7ef743bfb      0\n",
       "4  71229eb293314c8a9e545057ecc32c93      2"
      ]
     },
     "execution_count": 17,
     "metadata": {
      "tags": []
     },
     "output_type": "execute_result"
    }
   ],
   "source": [
    "a_scores.head()"
   ]
  },
  {
   "cell_type": "markdown",
   "metadata": {
    "colab_type": "text",
    "id": "X9WZsLhEPSkX"
   },
   "source": [
    "План:\n",
    "\n",
    "1) Рассмотрим все данные, найдем пропуски.\n",
    "\n",
    "2) questions\n",
    "    \n",
    "3) answers\n",
    "\n",
    "4) Сравним рост $\\textbf{questions и answers:}$\n",
    "    \n",
    "5) q_scores\n",
    "    \n",
    "6) a_scores\n",
    "    \n",
    "7) tags\n",
    "    \n",
    "8) t_users\n",
    "\n",
    "9) t_questions\n",
    "\n",
    "10) students\n",
    "\n",
    "11) professionals\n",
    "\n",
    "12) Сравним $\\textbf{professionals и students:}$\n",
    "    \n",
    "13) comments\n",
    "\n",
    "14) emails\n",
    "\n",
    "15) matches\n",
    "\n",
    "16) groups\n",
    "\n",
    "17) g_memb\n",
    "\n",
    "18) sch_memb\n",
    "\n",
    "19) Визуализация соотношения студентов/профессионалов и вопросов/ответов"
   ]
  },
  {
   "cell_type": "markdown",
   "metadata": {
    "colab_type": "text",
    "id": "by7blzf_PSkY"
   },
   "source": [
    "$\\textbf{Вспомогательные функции :}$"
   ]
  },
  {
   "cell_type": "code",
   "execution_count": 0,
   "metadata": {
    "colab": {},
    "colab_type": "code",
    "id": "UCl8UOaEPSkY"
   },
   "outputs": [],
   "source": [
    "#Основная статистика по датафрейму\n",
    "def main_stats(df):\n",
    "    df_head = df.head()\n",
    "    df_shape = df.shape\n",
    "    df_nunique = df.nunique()\n",
    "    ICD.display(df_head)\n",
    "    print('\\033[1m' + 'число наблюдений =', df_shape[0])\n",
    "    print('\\n' + '\\033[1m' + 'число уникальных значений признаков')\n",
    "    ICD.display(df_nunique)"
   ]
  },
  {
   "cell_type": "code",
   "execution_count": 0,
   "metadata": {
    "colab": {},
    "colab_type": "code",
    "id": "Cg-gr5sWPSka"
   },
   "outputs": [],
   "source": [
    "#Годовой прирост по дате\n",
    "def yearly_growth(df, date_added):\n",
    "    df['year'] = df[date_added].dt.year\n",
    "    id_col_name = [col for col in df.columns if 's_id' in col]\n",
    "    yearly_growth_r = df.groupby('year')[id_col_name].count().reset_index()\n",
    "    yearly_growth_r.set_index('year', inplace=True)\n",
    "    return yearly_growth_r"
   ]
  },
  {
   "cell_type": "code",
   "execution_count": 0,
   "metadata": {
    "colab": {},
    "colab_type": "code",
    "id": "mhOZ32lcPSkc"
   },
   "outputs": [],
   "source": [
    "#Месячный прирост по дате\n",
    "def monthly_growth(df, date_added):\n",
    "    df['year'] = df[date_added].dt.year\n",
    "    df['month'] = df[date_added].dt.month\n",
    "    id_col_name = [col for col in df.columns if 's_id' in col]\n",
    "    monthly_growth_r = df.groupby(['year', 'month'])[id_col_name].count().reset_index()\n",
    "    monthly_growth_r.sort_values(by=['year', 'month'], inplace=True)\n",
    "    return monthly_growth_r"
   ]
  },
  {
   "cell_type": "code",
   "execution_count": 0,
   "metadata": {
    "colab": {},
    "colab_type": "code",
    "id": "q9LDlbqUPSke"
   },
   "outputs": [],
   "source": [
    "#Месячный рост количества по дате\n",
    "def monthly_count(df, date_added):\n",
    "    df['year'] = df[date_added].dt.year\n",
    "    df['month'] = df[date_added].dt.month\n",
    "    id_col_name = [col for col in df.columns if 's_id' in col]\n",
    "    monthly_count_r = df.groupby(['year', 'month'])[id_col_name].count().reset_index()\n",
    "    monthly_count_r.sort_values(by=['year', 'month'], inplace=True)\n",
    "    monthly_count_r[id_col_name] = monthly_count_r[id_col_name].cumsum()\n",
    "    return monthly_count_r"
   ]
  },
  {
   "cell_type": "code",
   "execution_count": 0,
   "metadata": {
    "colab": {},
    "colab_type": "code",
    "id": "P0P0NVIoPSkg"
   },
   "outputs": [],
   "source": [
    "#Круговая диаграмма\n",
    "def plot_pie(df1, df2, pie_title, pie_label_1, pie_label_2):\n",
    "    id_df1_name = [col for col in df1.columns if 'id' in col][0]\n",
    "    id_df2_name = [col for col in df2.columns if 'author_id' in col][0]\n",
    "    df_merge = pd.merge(df1, df2, how='left', left_on = id_df1_name, right_on = id_df2_name)\n",
    "    df = pd.DataFrame({'': [df_merge.isna().sum()[id_df2_name],\n",
    "                                    df1.shape[0] - df_merge.isna().sum()[id_df2_name]]},\n",
    "                   index=['1', '2'])\n",
    "    ax = df.plot.pie(y='', figsize=(9, 9),labels=[\n",
    "            pie_label_1,\n",
    "            pie_label_2],\n",
    "            autopct='%1.1f%%')\n",
    "    ax.set_title(pie_title)\n",
    "    plt.show()"
   ]
  },
  {
   "cell_type": "code",
   "execution_count": 0,
   "metadata": {
    "colab": {},
    "colab_type": "code",
    "id": "_R3wNIvSPSkj"
   },
   "outputs": [],
   "source": [
    "#Лист датафреймов с признаком date\n",
    "list_of_df_with_data = [emails, professionals, questions, students, answers, comments]"
   ]
  },
  {
   "cell_type": "code",
   "execution_count": 0,
   "metadata": {
    "colab": {
     "base_uri": "https://localhost:8080/",
     "height": 204
    },
    "colab_type": "code",
    "id": "AvO8vyGKQgFC",
    "outputId": "5c7a9ee0-56fa-4008-e866-ddc464b364fa"
   },
   "outputs": [
    {
     "data": {
      "text/html": [
       "<div>\n",
       "<style scoped>\n",
       "    .dataframe tbody tr th:only-of-type {\n",
       "        vertical-align: middle;\n",
       "    }\n",
       "\n",
       "    .dataframe tbody tr th {\n",
       "        vertical-align: top;\n",
       "    }\n",
       "\n",
       "    .dataframe thead th {\n",
       "        text-align: right;\n",
       "    }\n",
       "</style>\n",
       "<table border=\"1\" class=\"dataframe\">\n",
       "  <thead>\n",
       "    <tr style=\"text-align: right;\">\n",
       "      <th></th>\n",
       "      <th>emails_id</th>\n",
       "      <th>emails_recipient_id</th>\n",
       "      <th>emails_date_sent</th>\n",
       "      <th>emails_frequency_level</th>\n",
       "    </tr>\n",
       "  </thead>\n",
       "  <tbody>\n",
       "    <tr>\n",
       "      <th>0</th>\n",
       "      <td>2337714</td>\n",
       "      <td>0c673e046d824ec0ad0ebe012a0673e4</td>\n",
       "      <td>2018-12-07 01:05:40 UTC+0000</td>\n",
       "      <td>email_notification_daily</td>\n",
       "    </tr>\n",
       "    <tr>\n",
       "      <th>1</th>\n",
       "      <td>2336077</td>\n",
       "      <td>0c673e046d824ec0ad0ebe012a0673e4</td>\n",
       "      <td>2018-12-06 01:14:15 UTC+0000</td>\n",
       "      <td>email_notification_daily</td>\n",
       "    </tr>\n",
       "    <tr>\n",
       "      <th>2</th>\n",
       "      <td>2314660</td>\n",
       "      <td>0c673e046d824ec0ad0ebe012a0673e4</td>\n",
       "      <td>2018-11-17 00:38:27 UTC+0000</td>\n",
       "      <td>email_notification_daily</td>\n",
       "    </tr>\n",
       "    <tr>\n",
       "      <th>3</th>\n",
       "      <td>2312639</td>\n",
       "      <td>0c673e046d824ec0ad0ebe012a0673e4</td>\n",
       "      <td>2018-11-16 00:32:19 UTC+0000</td>\n",
       "      <td>email_notification_daily</td>\n",
       "    </tr>\n",
       "    <tr>\n",
       "      <th>4</th>\n",
       "      <td>2299700</td>\n",
       "      <td>0c673e046d824ec0ad0ebe012a0673e4</td>\n",
       "      <td>2018-11-08 00:16:40 UTC+0000</td>\n",
       "      <td>email_notification_daily</td>\n",
       "    </tr>\n",
       "  </tbody>\n",
       "</table>\n",
       "</div>"
      ],
      "text/plain": [
       "   emails_id  ...    emails_frequency_level\n",
       "0    2337714  ...  email_notification_daily\n",
       "1    2336077  ...  email_notification_daily\n",
       "2    2314660  ...  email_notification_daily\n",
       "3    2312639  ...  email_notification_daily\n",
       "4    2299700  ...  email_notification_daily\n",
       "\n",
       "[5 rows x 4 columns]"
      ]
     },
     "execution_count": 24,
     "metadata": {
      "tags": []
     },
     "output_type": "execute_result"
    }
   ],
   "source": [
    "emails.head()"
   ]
  },
  {
   "cell_type": "code",
   "execution_count": 0,
   "metadata": {
    "colab": {
     "base_uri": "https://localhost:8080/",
     "height": 153
    },
    "colab_type": "code",
    "id": "j5fuKnFfPSkl",
    "outputId": "ca895be2-0c23-405d-df33-05552ab0b418"
   },
   "outputs": [
    {
     "name": "stdout",
     "output_type": "stream",
     "text": [
      "CPU times: user 3 µs, sys: 1e+03 ns, total: 4 µs\n",
      "Wall time: 8.11 µs\n",
      "Processing columns :  ['emails_date_sent']\n",
      "Processing columns :  ['professionals_date_joined']\n",
      "Processing columns :  ['questions_date_added']\n",
      "Processing columns :  ['students_date_joined']\n",
      "Processing columns :  ['answers_date_added']\n",
      "Processing columns :  ['comments_date_added']\n"
     ]
    }
   ],
   "source": [
    "%time\n",
    "#Может занять пару минут\n",
    "#Поменяем тип значения date для работы с датой\n",
    "for df in list_of_df_with_data:\n",
    "    date_cols = [col for col in df.columns if 'date' in col]\n",
    "    print (\"Processing columns : \", date_cols)\n",
    "    df[date_cols] = df[date_cols].astype('datetime64')"
   ]
  },
  {
   "cell_type": "markdown",
   "metadata": {
    "colab_type": "text",
    "id": "2NBJGqEkPSkn"
   },
   "source": [
    "1) $\\textbf{Рассмотрим все данные вместе, найдем пропуски:}$"
   ]
  },
  {
   "cell_type": "code",
   "execution_count": 0,
   "metadata": {
    "colab": {},
    "colab_type": "code",
    "id": "aufSqqPHPSkp"
   },
   "outputs": [],
   "source": [
    "List_of_dfs = [emails, a_scores, g_memb, groups, professionals,\n",
    "              q_scores, questions, sch_memb, t_questions, students,\n",
    "              t_users, tags, matches, answers, comments\n",
    "              ]\n",
    "List_of_dfs_names = ['emails', 'a_scores', 'g_memb', 'groups', 'professionals',\n",
    "              'q_scores', 'questions', 'sch_memb', 't_questions', 'students',\n",
    "              't_users', 'tags', 'matches', 'answers', 'comments'\n",
    "              ]"
   ]
  },
  {
   "cell_type": "code",
   "execution_count": 0,
   "metadata": {
    "colab": {
     "base_uri": "https://localhost:8080/",
     "height": 272
    },
    "colab_type": "code",
    "id": "PDoRU-doPSkr",
    "outputId": "f1176820-def1-4d1e-da80-3de4d8c0232b"
   },
   "outputs": [
    {
     "name": "stdout",
     "output_type": "stream",
     "text": [
      "Количество пропусков в emails =  0;  Процент пропусков в emails =  0\n",
      "Количество пропусков в a_scores =  0;  Процент пропусков в a_scores =  0\n",
      "Количество пропусков в g_memb =  0;  Процент пропусков в g_memb =  0\n",
      "Количество пропусков в groups =  0;  Процент пропусков в groups =  0\n",
      "Количество пропусков в professionals = 7741;  Процент пропусков в professionals = 19\n",
      "Количество пропусков в q_scores =  0;  Процент пропусков в q_scores =  0\n",
      "Количество пропусков в questions =  0;  Процент пропусков в questions =  0\n",
      "Количество пропусков в sch_memb =  0;  Процент пропусков в sch_memb =  0\n",
      "Количество пропусков в t_questions =  0;  Процент пропусков в t_questions =  0\n",
      "Количество пропусков в students = 2033;  Процент пропусков в students =  7\n",
      "Количество пропусков в t_users =  0;  Процент пропусков в t_users =  0\n",
      "Количество пропусков в tags =  1;  Процент пропусков в tags =  0\n",
      "Количество пропусков в matches =  0;  Процент пропусков в matches =  0\n",
      "Количество пропусков в answers =  1;  Процент пропусков в answers =  0\n",
      "Количество пропусков в comments =  4;  Процент пропусков в comments =  0\n"
     ]
    }
   ],
   "source": [
    "c = 0\n",
    "for i in List_of_dfs:\n",
    "    print('Количество пропусков в {} = {:2.0f}; '.format(List_of_dfs_names[c], i.isnull().sum().sum()),\n",
    "          'Процент пропусков в {} = {:2.0f}'.format(List_of_dfs_names[c], len(i[i.isna().any(axis=1)])/len(i)*100))\n",
    "    c += 1"
   ]
  },
  {
   "cell_type": "markdown",
   "metadata": {
    "colab_type": "text",
    "id": "Vr-DFemuPSkv"
   },
   "source": [
    "В данных присутсвуют nan значения. Посмотрим на них."
   ]
  },
  {
   "cell_type": "code",
   "execution_count": 0,
   "metadata": {
    "colab": {
     "base_uri": "https://localhost:8080/",
     "height": 204
    },
    "colab_type": "code",
    "id": "mpdfb1-8PSkv",
    "outputId": "f09c522d-48ef-4557-e97e-5c5aa90301f4"
   },
   "outputs": [
    {
     "data": {
      "text/html": [
       "<div>\n",
       "<style scoped>\n",
       "    .dataframe tbody tr th:only-of-type {\n",
       "        vertical-align: middle;\n",
       "    }\n",
       "\n",
       "    .dataframe tbody tr th {\n",
       "        vertical-align: top;\n",
       "    }\n",
       "\n",
       "    .dataframe thead th {\n",
       "        text-align: right;\n",
       "    }\n",
       "</style>\n",
       "<table border=\"1\" class=\"dataframe\">\n",
       "  <thead>\n",
       "    <tr style=\"text-align: right;\">\n",
       "      <th></th>\n",
       "      <th>students_id</th>\n",
       "      <th>students_location</th>\n",
       "      <th>students_date_joined</th>\n",
       "    </tr>\n",
       "  </thead>\n",
       "  <tbody>\n",
       "    <tr>\n",
       "      <th>0</th>\n",
       "      <td>12a89e96755a4dba83ff03e03043d9c0</td>\n",
       "      <td>NaN</td>\n",
       "      <td>2011-12-16 14:19:24</td>\n",
       "    </tr>\n",
       "    <tr>\n",
       "      <th>1</th>\n",
       "      <td>e37a5990fe354c60be5e87376b08d5e3</td>\n",
       "      <td>NaN</td>\n",
       "      <td>2011-12-27 03:02:44</td>\n",
       "    </tr>\n",
       "    <tr>\n",
       "      <th>2</th>\n",
       "      <td>12b402cceeda43dcb6e12ef9f2d221ea</td>\n",
       "      <td>NaN</td>\n",
       "      <td>2012-01-01 05:00:00</td>\n",
       "    </tr>\n",
       "    <tr>\n",
       "      <th>3</th>\n",
       "      <td>a0f431fc79794edcb104f68ce55ab897</td>\n",
       "      <td>NaN</td>\n",
       "      <td>2012-01-01 05:00:00</td>\n",
       "    </tr>\n",
       "    <tr>\n",
       "      <th>4</th>\n",
       "      <td>23aea4702d804bd88d1e9fb28074a1b4</td>\n",
       "      <td>NaN</td>\n",
       "      <td>2012-01-01 05:00:00</td>\n",
       "    </tr>\n",
       "  </tbody>\n",
       "</table>\n",
       "</div>"
      ],
      "text/plain": [
       "                        students_id students_location students_date_joined\n",
       "0  12a89e96755a4dba83ff03e03043d9c0               NaN  2011-12-16 14:19:24\n",
       "1  e37a5990fe354c60be5e87376b08d5e3               NaN  2011-12-27 03:02:44\n",
       "2  12b402cceeda43dcb6e12ef9f2d221ea               NaN  2012-01-01 05:00:00\n",
       "3  a0f431fc79794edcb104f68ce55ab897               NaN  2012-01-01 05:00:00\n",
       "4  23aea4702d804bd88d1e9fb28074a1b4               NaN  2012-01-01 05:00:00"
      ]
     },
     "execution_count": 28,
     "metadata": {
      "tags": []
     },
     "output_type": "execute_result"
    }
   ],
   "source": [
    "students[students.isna().any(axis=1)].head()"
   ]
  },
  {
   "cell_type": "code",
   "execution_count": 0,
   "metadata": {
    "colab": {
     "base_uri": "https://localhost:8080/",
     "height": 514
    },
    "colab_type": "code",
    "id": "e9Q4mjQ2PSky",
    "outputId": "75496802-daec-4d14-a127-e647fd7586e2"
   },
   "outputs": [
    {
     "data": {
      "text/html": [
       "<div>\n",
       "<style scoped>\n",
       "    .dataframe tbody tr th:only-of-type {\n",
       "        vertical-align: middle;\n",
       "    }\n",
       "\n",
       "    .dataframe tbody tr th {\n",
       "        vertical-align: top;\n",
       "    }\n",
       "\n",
       "    .dataframe thead th {\n",
       "        text-align: right;\n",
       "    }\n",
       "</style>\n",
       "<table border=\"1\" class=\"dataframe\">\n",
       "  <thead>\n",
       "    <tr style=\"text-align: right;\">\n",
       "      <th></th>\n",
       "      <th>professionals_id</th>\n",
       "      <th>professionals_location</th>\n",
       "      <th>professionals_industry</th>\n",
       "      <th>professionals_headline</th>\n",
       "      <th>professionals_date_joined</th>\n",
       "    </tr>\n",
       "  </thead>\n",
       "  <tbody>\n",
       "    <tr>\n",
       "      <th>0</th>\n",
       "      <td>9ced4ce7519049c0944147afb75a8ce3</td>\n",
       "      <td>NaN</td>\n",
       "      <td>NaN</td>\n",
       "      <td>NaN</td>\n",
       "      <td>2011-10-05 20:35:19</td>\n",
       "    </tr>\n",
       "    <tr>\n",
       "      <th>1</th>\n",
       "      <td>f718dcf6d2ec4cb0a52a9db59d7f9e67</td>\n",
       "      <td>NaN</td>\n",
       "      <td>NaN</td>\n",
       "      <td>NaN</td>\n",
       "      <td>2011-10-05 20:49:21</td>\n",
       "    </tr>\n",
       "    <tr>\n",
       "      <th>2</th>\n",
       "      <td>0c673e046d824ec0ad0ebe012a0673e4</td>\n",
       "      <td>New York, New York</td>\n",
       "      <td>NaN</td>\n",
       "      <td>NaN</td>\n",
       "      <td>2011-10-18 17:31:26</td>\n",
       "    </tr>\n",
       "    <tr>\n",
       "      <th>3</th>\n",
       "      <td>977428d851b24183b223be0eb8619a8c</td>\n",
       "      <td>Boston, Massachusetts</td>\n",
       "      <td>NaN</td>\n",
       "      <td>NaN</td>\n",
       "      <td>2011-11-09 20:39:29</td>\n",
       "    </tr>\n",
       "    <tr>\n",
       "      <th>4</th>\n",
       "      <td>e2d57e5041a44f489288397c9904c2b2</td>\n",
       "      <td>NaN</td>\n",
       "      <td>NaN</td>\n",
       "      <td>NaN</td>\n",
       "      <td>2011-12-10 22:14:44</td>\n",
       "    </tr>\n",
       "    <tr>\n",
       "      <th>5</th>\n",
       "      <td>c9bfa93898594cbbace436deca644c64</td>\n",
       "      <td>NaN</td>\n",
       "      <td>NaN</td>\n",
       "      <td>NaN</td>\n",
       "      <td>2011-12-12 14:25:46</td>\n",
       "    </tr>\n",
       "    <tr>\n",
       "      <th>6</th>\n",
       "      <td>ed85488fb5e941eaa97014137fcbf317</td>\n",
       "      <td>NaN</td>\n",
       "      <td>NaN</td>\n",
       "      <td>NaN</td>\n",
       "      <td>2011-12-28 03:02:04</td>\n",
       "    </tr>\n",
       "    <tr>\n",
       "      <th>7</th>\n",
       "      <td>102fb92c28034ad988b593d0111cb4bb</td>\n",
       "      <td>NaN</td>\n",
       "      <td>NaN</td>\n",
       "      <td>NaN</td>\n",
       "      <td>2011-12-26 05:00:00</td>\n",
       "    </tr>\n",
       "    <tr>\n",
       "      <th>8</th>\n",
       "      <td>5a4a16842ec64430ac3f916aacf35fe1</td>\n",
       "      <td>NaN</td>\n",
       "      <td>NaN</td>\n",
       "      <td>NaN</td>\n",
       "      <td>2011-12-26 05:00:00</td>\n",
       "    </tr>\n",
       "    <tr>\n",
       "      <th>9</th>\n",
       "      <td>81999d5ad93549dab55636a545e84f2a</td>\n",
       "      <td>NaN</td>\n",
       "      <td>NaN</td>\n",
       "      <td>NaN</td>\n",
       "      <td>2011-12-26 05:00:00</td>\n",
       "    </tr>\n",
       "    <tr>\n",
       "      <th>10</th>\n",
       "      <td>7d425e8d7cfb4fe7b0702fff4d6d84e7</td>\n",
       "      <td>Milwaukee, Wisconsin</td>\n",
       "      <td>NaN</td>\n",
       "      <td>Ph.D. Student in Political Science at Harvard ...</td>\n",
       "      <td>2011-12-26 05:00:00</td>\n",
       "    </tr>\n",
       "    <tr>\n",
       "      <th>11</th>\n",
       "      <td>7daf1e6dfb3443b99b240890f0a4d69b</td>\n",
       "      <td>NaN</td>\n",
       "      <td>NaN</td>\n",
       "      <td>NaN</td>\n",
       "      <td>2011-12-26 05:00:00</td>\n",
       "    </tr>\n",
       "    <tr>\n",
       "      <th>12</th>\n",
       "      <td>b7dc946585734ab8acfbeeeb0d76af20</td>\n",
       "      <td>NaN</td>\n",
       "      <td>NaN</td>\n",
       "      <td>NaN</td>\n",
       "      <td>2011-12-26 05:00:00</td>\n",
       "    </tr>\n",
       "    <tr>\n",
       "      <th>13</th>\n",
       "      <td>4863a65cd35b42a1bb89f3ecfc8fa2fe</td>\n",
       "      <td>NaN</td>\n",
       "      <td>NaN</td>\n",
       "      <td>NaN</td>\n",
       "      <td>2011-12-26 05:00:00</td>\n",
       "    </tr>\n",
       "    <tr>\n",
       "      <th>14</th>\n",
       "      <td>d07bdc32226e4d2c826da05b39a0f8f7</td>\n",
       "      <td>NaN</td>\n",
       "      <td>NaN</td>\n",
       "      <td>NaN</td>\n",
       "      <td>2011-12-26 05:00:00</td>\n",
       "    </tr>\n",
       "  </tbody>\n",
       "</table>\n",
       "</div>"
      ],
      "text/plain": [
       "                    professionals_id  ... professionals_date_joined\n",
       "0   9ced4ce7519049c0944147afb75a8ce3  ...       2011-10-05 20:35:19\n",
       "1   f718dcf6d2ec4cb0a52a9db59d7f9e67  ...       2011-10-05 20:49:21\n",
       "2   0c673e046d824ec0ad0ebe012a0673e4  ...       2011-10-18 17:31:26\n",
       "3   977428d851b24183b223be0eb8619a8c  ...       2011-11-09 20:39:29\n",
       "4   e2d57e5041a44f489288397c9904c2b2  ...       2011-12-10 22:14:44\n",
       "5   c9bfa93898594cbbace436deca644c64  ...       2011-12-12 14:25:46\n",
       "6   ed85488fb5e941eaa97014137fcbf317  ...       2011-12-28 03:02:04\n",
       "7   102fb92c28034ad988b593d0111cb4bb  ...       2011-12-26 05:00:00\n",
       "8   5a4a16842ec64430ac3f916aacf35fe1  ...       2011-12-26 05:00:00\n",
       "9   81999d5ad93549dab55636a545e84f2a  ...       2011-12-26 05:00:00\n",
       "10  7d425e8d7cfb4fe7b0702fff4d6d84e7  ...       2011-12-26 05:00:00\n",
       "11  7daf1e6dfb3443b99b240890f0a4d69b  ...       2011-12-26 05:00:00\n",
       "12  b7dc946585734ab8acfbeeeb0d76af20  ...       2011-12-26 05:00:00\n",
       "13  4863a65cd35b42a1bb89f3ecfc8fa2fe  ...       2011-12-26 05:00:00\n",
       "14  d07bdc32226e4d2c826da05b39a0f8f7  ...       2011-12-26 05:00:00\n",
       "\n",
       "[15 rows x 5 columns]"
      ]
     },
     "execution_count": 29,
     "metadata": {
      "tags": []
     },
     "output_type": "execute_result"
    }
   ],
   "source": [
    "professionals[professionals.isna().any(axis=1)].head(15)"
   ]
  },
  {
   "cell_type": "markdown",
   "metadata": {
    "colab_type": "text",
    "id": "xepYhLlPPSk0"
   },
   "source": [
    "Пропущенные значения, которые соствляют менее 1% от всего датафрейма, можно удалить."
   ]
  },
  {
   "cell_type": "code",
   "execution_count": 0,
   "metadata": {
    "colab": {},
    "colab_type": "code",
    "id": "sXUWHx_XPSk1"
   },
   "outputs": [],
   "source": [
    "tags.dropna(inplace = True)\n",
    "answers.dropna(inplace = True)\n",
    "comments.dropna(inplace = True)"
   ]
  },
  {
   "cell_type": "markdown",
   "metadata": {
    "colab_type": "text",
    "id": "d3GLGsu4PSk5"
   },
   "source": [
    "2) Рассмотрим $\\textbf{questions:}$"
   ]
  },
  {
   "cell_type": "code",
   "execution_count": 0,
   "metadata": {
    "colab": {
     "base_uri": "https://localhost:8080/",
     "height": 442
    },
    "colab_type": "code",
    "id": "1opQfCcmPSk5",
    "outputId": "4c688b5d-84f1-4556-e2eb-5025bf22285e"
   },
   "outputs": [
    {
     "data": {
      "text/html": [
       "<div>\n",
       "<style scoped>\n",
       "    .dataframe tbody tr th:only-of-type {\n",
       "        vertical-align: middle;\n",
       "    }\n",
       "\n",
       "    .dataframe tbody tr th {\n",
       "        vertical-align: top;\n",
       "    }\n",
       "\n",
       "    .dataframe thead th {\n",
       "        text-align: right;\n",
       "    }\n",
       "</style>\n",
       "<table border=\"1\" class=\"dataframe\">\n",
       "  <thead>\n",
       "    <tr style=\"text-align: right;\">\n",
       "      <th></th>\n",
       "      <th>questions_id</th>\n",
       "      <th>questions_author_id</th>\n",
       "      <th>questions_date_added</th>\n",
       "      <th>questions_title</th>\n",
       "      <th>questions_body</th>\n",
       "    </tr>\n",
       "  </thead>\n",
       "  <tbody>\n",
       "    <tr>\n",
       "      <th>0</th>\n",
       "      <td>332a511f1569444485cf7a7a556a5e54</td>\n",
       "      <td>8f6f374ffd834d258ab69d376dd998f5</td>\n",
       "      <td>2016-04-26 11:14:26</td>\n",
       "      <td>Teacher   career   question</td>\n",
       "      <td>What  is  a  maths  teacher?   what  is  a  ma...</td>\n",
       "    </tr>\n",
       "    <tr>\n",
       "      <th>1</th>\n",
       "      <td>eb80205482e4424cad8f16bc25aa2d9c</td>\n",
       "      <td>acccbda28edd4362ab03fb8b6fd2d67b</td>\n",
       "      <td>2016-05-20 16:48:25</td>\n",
       "      <td>I want to become an army officer. What can I d...</td>\n",
       "      <td>I am Priyanka from Bangalore . Now am in 10th ...</td>\n",
       "    </tr>\n",
       "    <tr>\n",
       "      <th>2</th>\n",
       "      <td>4ec31632938a40b98909416bdd0decff</td>\n",
       "      <td>f2c179a563024ccc927399ce529094b5</td>\n",
       "      <td>2017-02-08 19:13:38</td>\n",
       "      <td>Will going abroad for your first job increase ...</td>\n",
       "      <td>I'm planning on going abroad for my first job....</td>\n",
       "    </tr>\n",
       "    <tr>\n",
       "      <th>3</th>\n",
       "      <td>2f6a9a99d9b24e5baa50d40d0ba50a75</td>\n",
       "      <td>2c30ffba444e40eabb4583b55233a5a4</td>\n",
       "      <td>2017-09-01 14:05:32</td>\n",
       "      <td>To become a specialist in business  management...</td>\n",
       "      <td>i hear business management is a hard way to ge...</td>\n",
       "    </tr>\n",
       "    <tr>\n",
       "      <th>4</th>\n",
       "      <td>5af8880460c141dbb02971a1a8369529</td>\n",
       "      <td>aa9eb1a2ab184ebbb00dc01ab663428a</td>\n",
       "      <td>2017-09-01 02:36:54</td>\n",
       "      <td>Are there any scholarships out there for stude...</td>\n",
       "      <td>I'm trying to find scholarships for first year...</td>\n",
       "    </tr>\n",
       "  </tbody>\n",
       "</table>\n",
       "</div>"
      ],
      "text/plain": [
       "                       questions_id  ...                                     questions_body\n",
       "0  332a511f1569444485cf7a7a556a5e54  ...  What  is  a  maths  teacher?   what  is  a  ma...\n",
       "1  eb80205482e4424cad8f16bc25aa2d9c  ...  I am Priyanka from Bangalore . Now am in 10th ...\n",
       "2  4ec31632938a40b98909416bdd0decff  ...  I'm planning on going abroad for my first job....\n",
       "3  2f6a9a99d9b24e5baa50d40d0ba50a75  ...  i hear business management is a hard way to ge...\n",
       "4  5af8880460c141dbb02971a1a8369529  ...  I'm trying to find scholarships for first year...\n",
       "\n",
       "[5 rows x 5 columns]"
      ]
     },
     "metadata": {
      "tags": []
     },
     "output_type": "display_data"
    },
    {
     "name": "stdout",
     "output_type": "stream",
     "text": [
      "\u001b[1mчисло наблюдений = 23931\n",
      "\n",
      "\u001b[1mчисло уникальных значений признаков\n"
     ]
    },
    {
     "data": {
      "text/plain": [
       "questions_id            23931\n",
       "questions_author_id     12329\n",
       "questions_date_added    23869\n",
       "questions_title         23739\n",
       "questions_body          23681\n",
       "dtype: int64"
      ]
     },
     "metadata": {
      "tags": []
     },
     "output_type": "display_data"
    }
   ],
   "source": [
    "main_stats(questions)"
   ]
  },
  {
   "cell_type": "code",
   "execution_count": 0,
   "metadata": {
    "colab": {
     "base_uri": "https://localhost:8080/",
     "height": 1000
    },
    "colab_type": "code",
    "id": "B2vYl7ARPSk8",
    "outputId": "71261113-fbee-469d-fd02-2c478392924b"
   },
   "outputs": [
    {
     "data": {
      "text/html": [
       "<div>\n",
       "<style scoped>\n",
       "    .dataframe tbody tr th:only-of-type {\n",
       "        vertical-align: middle;\n",
       "    }\n",
       "\n",
       "    .dataframe tbody tr th {\n",
       "        vertical-align: top;\n",
       "    }\n",
       "\n",
       "    .dataframe thead th {\n",
       "        text-align: right;\n",
       "    }\n",
       "</style>\n",
       "<table border=\"1\" class=\"dataframe\">\n",
       "  <thead>\n",
       "    <tr style=\"text-align: right;\">\n",
       "      <th></th>\n",
       "      <th>questions_id</th>\n",
       "      <th>questions_author_id</th>\n",
       "      <th>questions_date_added</th>\n",
       "      <th>questions_title</th>\n",
       "      <th>questions_body</th>\n",
       "    </tr>\n",
       "  </thead>\n",
       "  <tbody>\n",
       "    <tr>\n",
       "      <th>6784</th>\n",
       "      <td>38436aadef3d4b608ad089cf53ab0fe7</td>\n",
       "      <td>05444a2f42454327b2ac4b463c0adbe0</td>\n",
       "      <td>2011-09-27 15:23:17</td>\n",
       "      <td>What should I major in if I want to become an ...</td>\n",
       "      <td>&lt;p&gt;Many students want to become investment ban...</td>\n",
       "    </tr>\n",
       "    <tr>\n",
       "      <th>7937</th>\n",
       "      <td>edb8c179c5d64c9cb812a59a32045f55</td>\n",
       "      <td>05444a2f42454327b2ac4b463c0adbe0</td>\n",
       "      <td>2011-09-27 15:23:54</td>\n",
       "      <td>What is the typical compensation range for a f...</td>\n",
       "      <td>Please tell us what the common compensation ra...</td>\n",
       "    </tr>\n",
       "    <tr>\n",
       "      <th>21892</th>\n",
       "      <td>333464d7484b43e3866e86096bc4ddb9</td>\n",
       "      <td>05444a2f42454327b2ac4b463c0adbe0</td>\n",
       "      <td>2011-09-27 15:24:27</td>\n",
       "      <td>What are the best ways to prepare for intervie...</td>\n",
       "      <td>McKinsey, Bain, BCG, mainly.\\r\\n\\r\\nLooking fo...</td>\n",
       "    </tr>\n",
       "    <tr>\n",
       "      <th>5278</th>\n",
       "      <td>4b995e60b99d4ee18346e893e007cb8f</td>\n",
       "      <td>05444a2f42454327b2ac4b463c0adbe0</td>\n",
       "      <td>2011-09-27 15:24:52</td>\n",
       "      <td>What are the top tier management consulting fi...</td>\n",
       "      <td>Which companies are the top-tier? #consulting</td>\n",
       "    </tr>\n",
       "    <tr>\n",
       "      <th>19021</th>\n",
       "      <td>f6b9ca94aed04ba28256492708e74f60</td>\n",
       "      <td>05444a2f42454327b2ac4b463c0adbe0</td>\n",
       "      <td>2011-09-27 15:26:19</td>\n",
       "      <td>What do top tier consulting firms look for in ...</td>\n",
       "      <td>Please explain the factors consulting firms lo...</td>\n",
       "    </tr>\n",
       "    <tr>\n",
       "      <th>15522</th>\n",
       "      <td>216abb4056a64b198bdc6544830c822a</td>\n",
       "      <td>05444a2f42454327b2ac4b463c0adbe0</td>\n",
       "      <td>2011-09-27 15:26:48</td>\n",
       "      <td>What does an Investment Bank do other than \"in...</td>\n",
       "      <td>Investment banks do a lot more than just \"inve...</td>\n",
       "    </tr>\n",
       "    <tr>\n",
       "      <th>6509</th>\n",
       "      <td>ca209b4e19064d8e9834b3ca1a3f5361</td>\n",
       "      <td>05444a2f42454327b2ac4b463c0adbe0</td>\n",
       "      <td>2011-09-27 15:27:14</td>\n",
       "      <td>What is the path to get from high school to be...</td>\n",
       "      <td>What are some of the paths to getting from beg...</td>\n",
       "    </tr>\n",
       "    <tr>\n",
       "      <th>3001</th>\n",
       "      <td>dd363c09e4744c4b977499f215289b35</td>\n",
       "      <td>05444a2f42454327b2ac4b463c0adbe0</td>\n",
       "      <td>2011-10-10 19:37:26</td>\n",
       "      <td>What is the entry-level salary at a consulting...</td>\n",
       "      <td>I'm interested in getting benchmarks on salari...</td>\n",
       "    </tr>\n",
       "    <tr>\n",
       "      <th>19581</th>\n",
       "      <td>098e4b0acf17440da9cbd7c036c53d3b</td>\n",
       "      <td>977428d851b24183b223be0eb8619a8c</td>\n",
       "      <td>2011-11-09 20:42:03</td>\n",
       "      <td>Which careers make the most money?</td>\n",
       "      <td>I want to know what job I should pursue to mak...</td>\n",
       "    </tr>\n",
       "    <tr>\n",
       "      <th>23928</th>\n",
       "      <td>63c89317413046f483020585f0cc8dc4</td>\n",
       "      <td>977428d851b24183b223be0eb8619a8c</td>\n",
       "      <td>2011-11-09 20:42:47</td>\n",
       "      <td>Which careers are good if I enjoy working with...</td>\n",
       "      <td>I have been volunteering, and I have found tha...</td>\n",
       "    </tr>\n",
       "    <tr>\n",
       "      <th>19994</th>\n",
       "      <td>b53c5e9b7436453fa13a416a23b512cc</td>\n",
       "      <td>977428d851b24183b223be0eb8619a8c</td>\n",
       "      <td>2011-11-09 20:43:54</td>\n",
       "      <td>What is it like to be a politician?</td>\n",
       "      <td>&lt;p&gt;I really like talking to people. My mom has...</td>\n",
       "    </tr>\n",
       "    <tr>\n",
       "      <th>23071</th>\n",
       "      <td>057e9dcc3c7e4b93825170808839e08a</td>\n",
       "      <td>12a89e96755a4dba83ff03e03043d9c0</td>\n",
       "      <td>2011-12-16 14:26:31</td>\n",
       "      <td>What do magazine editors do?</td>\n",
       "      <td>I like popular mechanics and I'd love to work ...</td>\n",
       "    </tr>\n",
       "    <tr>\n",
       "      <th>...</th>\n",
       "      <td>...</td>\n",
       "      <td>...</td>\n",
       "      <td>...</td>\n",
       "      <td>...</td>\n",
       "      <td>...</td>\n",
       "    </tr>\n",
       "    <tr>\n",
       "      <th>4770</th>\n",
       "      <td>198d9f0de25b4be7ace65cd3e39eacd0</td>\n",
       "      <td>965f3afe66b3453dba0366ea28ccc3a0</td>\n",
       "      <td>2019-01-31 19:18:24</td>\n",
       "      <td>what do you enjoy most about the material hand...</td>\n",
       "      <td>what do you enjoy the most about the material ...</td>\n",
       "    </tr>\n",
       "    <tr>\n",
       "      <th>4787</th>\n",
       "      <td>1cf6b8847bb448e198070f007fa2088e</td>\n",
       "      <td>246417df7b7e49fb9adca803c2a2d6ee</td>\n",
       "      <td>2019-01-31 19:20:36</td>\n",
       "      <td>What are some things that interest you about A...</td>\n",
       "      <td>Reasons to why choosing  to be a Auto Mechanic...</td>\n",
       "    </tr>\n",
       "    <tr>\n",
       "      <th>5574</th>\n",
       "      <td>972f0b044eef4801a2d9bb3be660ba8c</td>\n",
       "      <td>986cb049d2c44c43816b2a7f7ad91ea2</td>\n",
       "      <td>2019-01-31 19:21:24</td>\n",
       "      <td>Training in Material Handling Distribution Ope...</td>\n",
       "      <td>what type of training did you have to receive ...</td>\n",
       "    </tr>\n",
       "    <tr>\n",
       "      <th>5580</th>\n",
       "      <td>5d681cfe0c9445c286bacebd074ac5e7</td>\n",
       "      <td>246417df7b7e49fb9adca803c2a2d6ee</td>\n",
       "      <td>2019-01-31 19:22:14</td>\n",
       "      <td>Why choose to be a Auto Mechanic?</td>\n",
       "      <td>Why choose being a Auto Mechanic out of all th...</td>\n",
       "    </tr>\n",
       "    <tr>\n",
       "      <th>5584</th>\n",
       "      <td>1f065628f6d148c3a4bd4b0eb42f2bc9</td>\n",
       "      <td>1154f74f4ac14aaf8ef1b15cdda2b84f</td>\n",
       "      <td>2019-01-31 19:22:28</td>\n",
       "      <td>How do you see Material Handling Distribution ...</td>\n",
       "      <td>What do you see yourself in the next 10 years ...</td>\n",
       "    </tr>\n",
       "    <tr>\n",
       "      <th>5902</th>\n",
       "      <td>0f5f365b7f0f4959aee65dadf0e3d2db</td>\n",
       "      <td>008c7ebabbdf4e7382870d172e6e6691</td>\n",
       "      <td>2019-01-31 19:23:47</td>\n",
       "      <td>what do you like least about network cable ins...</td>\n",
       "      <td>computers #computer-science #information-techn...</td>\n",
       "    </tr>\n",
       "    <tr>\n",
       "      <th>9138</th>\n",
       "      <td>e15ceba461654b75bcd21fd49e724dd4</td>\n",
       "      <td>965f3afe66b3453dba0366ea28ccc3a0</td>\n",
       "      <td>2019-01-31 19:24:17</td>\n",
       "      <td>what do you like least about material handling...</td>\n",
       "      <td>what do you like the least about material hand...</td>\n",
       "    </tr>\n",
       "    <tr>\n",
       "      <th>4342</th>\n",
       "      <td>585c2e18438d431e8976340d6e39d5c7</td>\n",
       "      <td>1154f74f4ac14aaf8ef1b15cdda2b84f</td>\n",
       "      <td>2019-01-31 19:25:15</td>\n",
       "      <td>Who else would you recommend that would speak ...</td>\n",
       "      <td>who else would you recommend that would speak ...</td>\n",
       "    </tr>\n",
       "    <tr>\n",
       "      <th>5096</th>\n",
       "      <td>473bc96a9c5646c3a464607fb66c296f</td>\n",
       "      <td>965f3afe66b3453dba0366ea28ccc3a0</td>\n",
       "      <td>2019-01-31 19:26:27</td>\n",
       "      <td>what kindsof work samples should my prolfolio ...</td>\n",
       "      <td>what kinds of work samples should my portfolio...</td>\n",
       "    </tr>\n",
       "    <tr>\n",
       "      <th>124</th>\n",
       "      <td>9fe651526385412fa8c9d8a817825ff7</td>\n",
       "      <td>008c7ebabbdf4e7382870d172e6e6691</td>\n",
       "      <td>2019-01-31 19:30:12</td>\n",
       "      <td>what is a typical day like in Network Cable In...</td>\n",
       "      <td>#technology #networking #business-management</td>\n",
       "    </tr>\n",
       "    <tr>\n",
       "      <th>8534</th>\n",
       "      <td>333e06afdb0048d19c126ce02f673a89</td>\n",
       "      <td>c445148b5fc8472da00f50b86dfd8faa</td>\n",
       "      <td>2019-01-31 21:05:44</td>\n",
       "      <td>Do you have to do graphics GCSE to be an inter...</td>\n",
       "      <td>#interior-design</td>\n",
       "    </tr>\n",
       "    <tr>\n",
       "      <th>9858</th>\n",
       "      <td>8ea56755f5c849099bcb85735e042865</td>\n",
       "      <td>44b3515e25454cfb80ed1df3a2a23f61</td>\n",
       "      <td>2019-01-31 22:32:00</td>\n",
       "      <td>What is the Difference between Elementary and ...</td>\n",
       "      <td>What is the difference between elementary and ...</td>\n",
       "    </tr>\n",
       "  </tbody>\n",
       "</table>\n",
       "<p>23931 rows × 5 columns</p>\n",
       "</div>"
      ],
      "text/plain": [
       "                           questions_id  ...                                     questions_body\n",
       "6784   38436aadef3d4b608ad089cf53ab0fe7  ...  <p>Many students want to become investment ban...\n",
       "7937   edb8c179c5d64c9cb812a59a32045f55  ...  Please tell us what the common compensation ra...\n",
       "21892  333464d7484b43e3866e86096bc4ddb9  ...  McKinsey, Bain, BCG, mainly.\\r\\n\\r\\nLooking fo...\n",
       "5278   4b995e60b99d4ee18346e893e007cb8f  ...      Which companies are the top-tier? #consulting\n",
       "19021  f6b9ca94aed04ba28256492708e74f60  ...  Please explain the factors consulting firms lo...\n",
       "15522  216abb4056a64b198bdc6544830c822a  ...  Investment banks do a lot more than just \"inve...\n",
       "6509   ca209b4e19064d8e9834b3ca1a3f5361  ...  What are some of the paths to getting from beg...\n",
       "3001   dd363c09e4744c4b977499f215289b35  ...  I'm interested in getting benchmarks on salari...\n",
       "19581  098e4b0acf17440da9cbd7c036c53d3b  ...  I want to know what job I should pursue to mak...\n",
       "23928  63c89317413046f483020585f0cc8dc4  ...  I have been volunteering, and I have found tha...\n",
       "19994  b53c5e9b7436453fa13a416a23b512cc  ...  <p>I really like talking to people. My mom has...\n",
       "23071  057e9dcc3c7e4b93825170808839e08a  ...  I like popular mechanics and I'd love to work ...\n",
       "...                                 ...  ...                                                ...\n",
       "4770   198d9f0de25b4be7ace65cd3e39eacd0  ...  what do you enjoy the most about the material ...\n",
       "4787   1cf6b8847bb448e198070f007fa2088e  ...  Reasons to why choosing  to be a Auto Mechanic...\n",
       "5574   972f0b044eef4801a2d9bb3be660ba8c  ...  what type of training did you have to receive ...\n",
       "5580   5d681cfe0c9445c286bacebd074ac5e7  ...  Why choose being a Auto Mechanic out of all th...\n",
       "5584   1f065628f6d148c3a4bd4b0eb42f2bc9  ...  What do you see yourself in the next 10 years ...\n",
       "5902   0f5f365b7f0f4959aee65dadf0e3d2db  ...  computers #computer-science #information-techn...\n",
       "9138   e15ceba461654b75bcd21fd49e724dd4  ...  what do you like the least about material hand...\n",
       "4342   585c2e18438d431e8976340d6e39d5c7  ...  who else would you recommend that would speak ...\n",
       "5096   473bc96a9c5646c3a464607fb66c296f  ...  what kinds of work samples should my portfolio...\n",
       "124    9fe651526385412fa8c9d8a817825ff7  ...      #technology #networking #business-management \n",
       "8534   333e06afdb0048d19c126ce02f673a89  ...                                   #interior-design\n",
       "9858   8ea56755f5c849099bcb85735e042865  ...  What is the difference between elementary and ...\n",
       "\n",
       "[23931 rows x 5 columns]"
      ]
     },
     "execution_count": 32,
     "metadata": {
      "tags": []
     },
     "output_type": "execute_result"
    }
   ],
   "source": [
    "questions.sort_values(by=['questions_date_added'])"
   ]
  },
  {
   "cell_type": "markdown",
   "metadata": {
    "colab_type": "text",
    "id": "3ayKYkgcPSlA"
   },
   "source": [
    "У нас имеется 23931 вопрос с 2011 по 2019 годы."
   ]
  },
  {
   "cell_type": "code",
   "execution_count": 0,
   "metadata": {
    "colab": {
     "base_uri": "https://localhost:8080/",
     "height": 119
    },
    "colab_type": "code",
    "id": "tTjRCm5mPSlA",
    "outputId": "8aa984d7-b92c-4d3b-9a06-34a20800c6b5"
   },
   "outputs": [
    {
     "data": {
      "text/plain": [
       "questions_id            23931\n",
       "questions_author_id     12329\n",
       "questions_date_added    23869\n",
       "questions_title         23739\n",
       "questions_body          23681\n",
       "dtype: int64"
      ]
     },
     "execution_count": 33,
     "metadata": {
      "tags": []
     },
     "output_type": "execute_result"
    }
   ],
   "source": [
    "questions.nunique()"
   ]
  },
  {
   "cell_type": "markdown",
   "metadata": {
    "colab_type": "text",
    "id": "6TBVrfXBPSlD"
   },
   "source": [
    "23931 уникальных вопроса заданных 12329 уникальными авторами. 1.94 вопроса в среднем задает один человек."
   ]
  },
  {
   "cell_type": "code",
   "execution_count": 0,
   "metadata": {
    "colab": {
     "base_uri": "https://localhost:8080/",
     "height": 68
    },
    "colab_type": "code",
    "id": "s1Lxx7RxPSlE",
    "outputId": "f04ae924-d31a-41d8-bb9f-8e7b830217bd"
   },
   "outputs": [
    {
     "name": "stdout",
     "output_type": "stream",
     "text": [
      "Средняя длина вопроса = 223.30\n",
      "Медиана длины вопроса = 174.00\n",
      "Среднеквадратическое отклонение длины вопроса = 203.75\n"
     ]
    }
   ],
   "source": [
    "print('Средняя длина вопроса = {:2.2f}'.format(questions['questions_body'].\n",
    "                                                str.lstrip('<p> \\n\\t').str.len().mean()))\n",
    "print('Медиана длины вопроса = {:2.2f}'.format(questions['questions_body'].\n",
    "                                                str.lstrip('<p> \\n\\t').str.len().median()))\n",
    "print('Среднеквадратическое отклонение длины вопроса = {:2.2f}'.format(questions['questions_body'].\n",
    "                                                str.lstrip('<p> \\n\\t').str.len().std()))"
   ]
  },
  {
   "cell_type": "markdown",
   "metadata": {
    "colab_type": "text",
    "id": "bHCweEDYPSlG"
   },
   "source": [
    "В связи с высоким среднеквадратичным отклонением разумнее использовать среднее значение, далее длины ответов и комментариев будет сравнивать по средним значениям."
   ]
  },
  {
   "cell_type": "markdown",
   "metadata": {
    "colab_type": "text",
    "id": "cGcdTHszPSlH"
   },
   "source": [
    "Средняя длина вопроса 223 символа. Плюс-минус пара символов не относящихся к тексту."
   ]
  },
  {
   "cell_type": "markdown",
   "metadata": {
    "colab_type": "text",
    "id": "v1UXK8_tPSlH"
   },
   "source": [
    "Сгруппируем вопросы по месяцам:"
   ]
  },
  {
   "cell_type": "code",
   "execution_count": 0,
   "metadata": {
    "colab": {
     "base_uri": "https://localhost:8080/",
     "height": 286
    },
    "colab_type": "code",
    "id": "spQ8LlcXPSlI",
    "outputId": "7c9de461-d898-4491-82cf-afbd4421378f"
   },
   "outputs": [
    {
     "data": {
      "image/png": "[encoded data removed]",
      "text/plain": [
       "<Figure size 432x288 with 1 Axes>"
      ]
     },
     "metadata": {
      "tags": []
     },
     "output_type": "display_data"
    }
   ],
   "source": [
    "questions.groupby(questions.questions_date_added.dt.month).questions_id.count().plot.bar()\n",
    "plt.show()"
   ]
  },
  {
   "cell_type": "markdown",
   "metadata": {
    "colab_type": "text",
    "id": "o3vNQ34gPSlL"
   },
   "source": [
    "В мае задается как минимум в 2 раза больше вопросов, чем в любом другом месяце."
   ]
  },
  {
   "cell_type": "markdown",
   "metadata": {
    "colab_type": "text",
    "id": "iXvZIOetPSlL"
   },
   "source": [
    "Сгруппируем вопросы по дням:"
   ]
  },
  {
   "cell_type": "code",
   "execution_count": 0,
   "metadata": {
    "colab": {
     "base_uri": "https://localhost:8080/",
     "height": 286
    },
    "colab_type": "code",
    "id": "FmYAi9IfPSlM",
    "outputId": "c0f07f7e-db82-4141-e9af-002bf7f768d5"
   },
   "outputs": [
    {
     "data": {
      "image/png": "[encoded data removed]",
      "text/plain": [
       "<Figure size 432x288 with 1 Axes>"
      ]
     },
     "metadata": {
      "tags": []
     },
     "output_type": "display_data"
    }
   ],
   "source": [
    "questions.groupby(questions.questions_date_added.dt.day).questions_id.count().plot.bar()\n",
    "plt.show()"
   ]
  },
  {
   "cell_type": "markdown",
   "metadata": {
    "colab_type": "text",
    "id": "kBzQ0YYePSlO"
   },
   "source": [
    "Во второй половине месяца задают больше вопросов, чем в первой."
   ]
  },
  {
   "cell_type": "markdown",
   "metadata": {
    "colab_type": "text",
    "id": "v-AVVRSbPSlP"
   },
   "source": [
    "Сгруппируем вопросы по дням недели, где 0 - это понедельник:"
   ]
  },
  {
   "cell_type": "code",
   "execution_count": 0,
   "metadata": {
    "colab": {
     "base_uri": "https://localhost:8080/",
     "height": 280
    },
    "colab_type": "code",
    "id": "8mMCBR8sPSlP",
    "outputId": "e39c8cd5-040b-4b19-b4c4-1465f0fa4bb7"
   },
   "outputs": [
    {
     "data": {
      "image/png": "[encoded data removed]",
      "text/plain": [
       "<Figure size 432x288 with 1 Axes>"
      ]
     },
     "metadata": {
      "tags": []
     },
     "output_type": "display_data"
    }
   ],
   "source": [
    "questions.groupby(questions.questions_date_added.dt.dayofweek).questions_id.count().plot.bar()\n",
    "plt.show()"
   ]
  },
  {
   "cell_type": "markdown",
   "metadata": {
    "colab_type": "text",
    "id": "Hqsndh_3PSlR"
   },
   "source": [
    "В выходные дни задают меньше всего вопросов."
   ]
  },
  {
   "cell_type": "markdown",
   "metadata": {
    "colab_type": "text",
    "id": "XL0Aryc2PSlS"
   },
   "source": [
    "3) Рассмотрим $\\textbf{answers:}$"
   ]
  },
  {
   "cell_type": "code",
   "execution_count": 0,
   "metadata": {
    "colab": {
     "base_uri": "https://localhost:8080/",
     "height": 442
    },
    "colab_type": "code",
    "id": "Kup-5IoMPSlS",
    "outputId": "b3b9190d-d799-4ed7-8cae-3df90798ff3b"
   },
   "outputs": [
    {
     "data": {
      "text/html": [
       "<div>\n",
       "<style scoped>\n",
       "    .dataframe tbody tr th:only-of-type {\n",
       "        vertical-align: middle;\n",
       "    }\n",
       "\n",
       "    .dataframe tbody tr th {\n",
       "        vertical-align: top;\n",
       "    }\n",
       "\n",
       "    .dataframe thead th {\n",
       "        text-align: right;\n",
       "    }\n",
       "</style>\n",
       "<table border=\"1\" class=\"dataframe\">\n",
       "  <thead>\n",
       "    <tr style=\"text-align: right;\">\n",
       "      <th></th>\n",
       "      <th>answers_id</th>\n",
       "      <th>answers_author_id</th>\n",
       "      <th>answers_question_id</th>\n",
       "      <th>answers_date_added</th>\n",
       "      <th>answers_body</th>\n",
       "    </tr>\n",
       "  </thead>\n",
       "  <tbody>\n",
       "    <tr>\n",
       "      <th>0</th>\n",
       "      <td>4e5f01128cae4f6d8fd697cec5dca60c</td>\n",
       "      <td>36ff3b3666df400f956f8335cf53e09e</td>\n",
       "      <td>332a511f1569444485cf7a7a556a5e54</td>\n",
       "      <td>2016-04-29 19:40:14</td>\n",
       "      <td>&lt;p&gt;Hi!&lt;/p&gt;\\n&lt;p&gt;You are asking a very interesti...</td>\n",
       "    </tr>\n",
       "    <tr>\n",
       "      <th>1</th>\n",
       "      <td>ada720538c014e9b8a6dceed09385ee3</td>\n",
       "      <td>2aa47af241bf42a4b874c453f0381bd4</td>\n",
       "      <td>eb80205482e4424cad8f16bc25aa2d9c</td>\n",
       "      <td>2018-05-01 14:19:08</td>\n",
       "      <td>&lt;p&gt;Hi. I joined the Army after I attended coll...</td>\n",
       "    </tr>\n",
       "    <tr>\n",
       "      <th>2</th>\n",
       "      <td>eaa66ef919bc408ab5296237440e323f</td>\n",
       "      <td>cbd8f30613a849bf918aed5c010340be</td>\n",
       "      <td>eb80205482e4424cad8f16bc25aa2d9c</td>\n",
       "      <td>2018-05-02 02:41:02</td>\n",
       "      <td>&lt;p&gt;Dear Priyanka,&lt;/p&gt;&lt;p&gt;Greetings! I have answ...</td>\n",
       "    </tr>\n",
       "    <tr>\n",
       "      <th>3</th>\n",
       "      <td>1a6b3749d391486c9e371fbd1e605014</td>\n",
       "      <td>7e72a630c303442ba92ff00e8ea451df</td>\n",
       "      <td>4ec31632938a40b98909416bdd0decff</td>\n",
       "      <td>2017-05-10 19:00:47</td>\n",
       "      <td>&lt;p&gt;I work for a global company who values high...</td>\n",
       "    </tr>\n",
       "    <tr>\n",
       "      <th>4</th>\n",
       "      <td>5229c514000446d582050f89ebd4e184</td>\n",
       "      <td>17802d94699140b0a0d2995f30c034c6</td>\n",
       "      <td>2f6a9a99d9b24e5baa50d40d0ba50a75</td>\n",
       "      <td>2017-10-13 22:07:33</td>\n",
       "      <td>I agree with Denise. Every single job I've had...</td>\n",
       "    </tr>\n",
       "  </tbody>\n",
       "</table>\n",
       "</div>"
      ],
      "text/plain": [
       "                         answers_id  ...                                       answers_body\n",
       "0  4e5f01128cae4f6d8fd697cec5dca60c  ...  <p>Hi!</p>\\n<p>You are asking a very interesti...\n",
       "1  ada720538c014e9b8a6dceed09385ee3  ...  <p>Hi. I joined the Army after I attended coll...\n",
       "2  eaa66ef919bc408ab5296237440e323f  ...  <p>Dear Priyanka,</p><p>Greetings! I have answ...\n",
       "3  1a6b3749d391486c9e371fbd1e605014  ...  <p>I work for a global company who values high...\n",
       "4  5229c514000446d582050f89ebd4e184  ...  I agree with Denise. Every single job I've had...\n",
       "\n",
       "[5 rows x 5 columns]"
      ]
     },
     "metadata": {
      "tags": []
     },
     "output_type": "display_data"
    },
    {
     "name": "stdout",
     "output_type": "stream",
     "text": [
      "\u001b[1mчисло наблюдений = 51122\n",
      "\n",
      "\u001b[1mчисло уникальных значений признаков\n"
     ]
    },
    {
     "data": {
      "text/plain": [
       "answers_id             51122\n",
       "answers_author_id      10169\n",
       "answers_question_id    23110\n",
       "answers_date_added     51061\n",
       "answers_body           50401\n",
       "dtype: int64"
      ]
     },
     "metadata": {
      "tags": []
     },
     "output_type": "display_data"
    }
   ],
   "source": [
    "main_stats(answers)"
   ]
  },
  {
   "cell_type": "markdown",
   "metadata": {
    "colab_type": "text",
    "id": "aaa3-sWBPSlW"
   },
   "source": [
    "С ответами у нас другая ситуация, нежели с вопросами. В среднем один человек отвечает на 5 вопросов. А на один вопрос приходится 2.2 ответа."
   ]
  },
  {
   "cell_type": "code",
   "execution_count": 0,
   "metadata": {
    "colab": {
     "base_uri": "https://localhost:8080/",
     "height": 34
    },
    "colab_type": "code",
    "id": "7jldABstPSlW",
    "outputId": "efcdc983-7427-491b-d347-70afed792732"
   },
   "outputs": [
    {
     "data": {
      "text/plain": [
       "890.5476702789406"
      ]
     },
     "execution_count": 39,
     "metadata": {
      "tags": []
     },
     "output_type": "execute_result"
    }
   ],
   "source": [
    "answers['answers_body'].str.lstrip('<p> \\n\\t').str.len().mean()"
   ]
  },
  {
   "cell_type": "markdown",
   "metadata": {
    "colab_type": "text",
    "id": "CfwKs4-QPSlZ"
   },
   "source": [
    "Средняя длина ответа 890 символов. Что в несколько раз превышает длину текста вопроса."
   ]
  },
  {
   "cell_type": "markdown",
   "metadata": {
    "colab_type": "text",
    "id": "CDld7hOGPSla"
   },
   "source": [
    "Сгруппируем ответы по месяцам:"
   ]
  },
  {
   "cell_type": "code",
   "execution_count": 0,
   "metadata": {
    "colab": {
     "base_uri": "https://localhost:8080/",
     "height": 286
    },
    "colab_type": "code",
    "id": "mQJgRdTuPSla",
    "outputId": "b42c23a9-5140-49d3-d271-98430d767774"
   },
   "outputs": [
    {
     "data": {
      "image/png": "[encoded data removed]",
      "text/plain": [
       "<Figure size 432x288 with 1 Axes>"
      ]
     },
     "metadata": {
      "tags": []
     },
     "output_type": "display_data"
    }
   ],
   "source": [
    "answers.groupby(answers.answers_date_added.dt.month).answers_id.count().plot.bar()\n",
    "plt.show()"
   ]
  },
  {
   "cell_type": "markdown",
   "metadata": {
    "colab_type": "text",
    "id": "mgwMGbf6PSld"
   },
   "source": [
    "Как и с вопросами, в мае больше всего ответов."
   ]
  },
  {
   "cell_type": "markdown",
   "metadata": {
    "colab_type": "text",
    "id": "0rVvWBDPPSld"
   },
   "source": [
    "Сгруппируем ответы по дням:"
   ]
  },
  {
   "cell_type": "code",
   "execution_count": 0,
   "metadata": {
    "colab": {
     "base_uri": "https://localhost:8080/",
     "height": 286
    },
    "colab_type": "code",
    "id": "fRhAQLz_PSld",
    "outputId": "1c98a71d-4d2d-4d13-8b1d-14c121e5e9e8"
   },
   "outputs": [
    {
     "data": {
      "image/png": "[encoded data removed]",
      "text/plain": [
       "<Figure size 432x288 with 1 Axes>"
      ]
     },
     "metadata": {
      "tags": []
     },
     "output_type": "display_data"
    }
   ],
   "source": [
    "answers.groupby(answers.answers_date_added.dt.day).answers_id.count().plot.bar()\n",
    "plt.show()"
   ]
  },
  {
   "cell_type": "markdown",
   "metadata": {
    "colab_type": "text",
    "id": "luC-zzZ3PSlg"
   },
   "source": [
    "А вот ответы распределены равномерно в течение всего месяца."
   ]
  },
  {
   "cell_type": "markdown",
   "metadata": {
    "colab_type": "text",
    "id": "GKLL7n3WPSlh"
   },
   "source": [
    "Сгруппируем ответы по дням недели, где 0 - это понедельник:"
   ]
  },
  {
   "cell_type": "code",
   "execution_count": 0,
   "metadata": {
    "colab": {
     "base_uri": "https://localhost:8080/",
     "height": 280
    },
    "colab_type": "code",
    "id": "hcccyo2YPSli",
    "outputId": "118738eb-a1a4-47d7-a194-7cec5be20d9b"
   },
   "outputs": [
    {
     "data": {
      "image/png": "[encoded data removed]",
      "text/plain": [
       "<Figure size 432x288 with 1 Axes>"
      ]
     },
     "metadata": {
      "tags": []
     },
     "output_type": "display_data"
    }
   ],
   "source": [
    "answers.groupby(answers.answers_date_added.dt.dayofweek).answers_id.count().plot.bar()\n",
    "plt.show()"
   ]
  },
  {
   "cell_type": "markdown",
   "metadata": {
    "colab_type": "text",
    "id": "c1W4Rtq1PSlk"
   },
   "source": [
    "Также как и с вопросами, отвечают по выходным дням реже."
   ]
  },
  {
   "cell_type": "markdown",
   "metadata": {
    "colab_type": "text",
    "id": "9ZWjEdKZPSlm"
   },
   "source": [
    "4) Сравним прирост $\\textbf{questions и answers:}$"
   ]
  },
  {
   "cell_type": "code",
   "execution_count": 0,
   "metadata": {
    "colab": {},
    "colab_type": "code",
    "id": "uPCzGUMwPSlm"
   },
   "outputs": [],
   "source": [
    "questions_yearly_cumcount = yearly_growth(questions,'questions_date_added')\n",
    "answers_yearly_cumcount = yearly_growth(answers, 'answers_date_added')"
   ]
  },
  {
   "cell_type": "code",
   "execution_count": 0,
   "metadata": {
    "colab": {
     "base_uri": "https://localhost:8080/",
     "height": 621
    },
    "colab_type": "code",
    "id": "lLEhpKXHPSlo",
    "outputId": "15c39d73-a50b-47b2-f3ac-4d5e5c523069"
   },
   "outputs": [
    {
     "data": {
      "image/png": "[encoded data removed]",
      "text/plain": [
       "<Figure size 1440x720 with 1 Axes>"
      ]
     },
     "metadata": {
      "tags": []
     },
     "output_type": "display_data"
    }
   ],
   "source": [
    "plt.figure(figsize=(20, 10))\n",
    "plt.plot(questions_yearly_cumcount, label='Questions')\n",
    "plt.plot(answers_yearly_cumcount, label='Answers')\n",
    "plt.xlabel('year')\n",
    "plt.ylabel('count')\n",
    "plt.title('Годовая динамика вопросов/ответов')\n",
    "plt.legend()\n",
    "plt.show()"
   ]
  },
  {
   "cell_type": "code",
   "execution_count": 0,
   "metadata": {
    "colab": {},
    "colab_type": "code",
    "id": "gHWvp9_1PSlq"
   },
   "outputs": [],
   "source": [
    "questions_monthly_count = monthly_growth(questions, 'questions_date_added')\n",
    "answers_monthly_count = monthly_growth(answers, 'answers_date_added')"
   ]
  },
  {
   "cell_type": "code",
   "execution_count": 0,
   "metadata": {
    "colab": {
     "base_uri": "https://localhost:8080/",
     "height": 621
    },
    "colab_type": "code",
    "id": "-ZjhBstgPSls",
    "outputId": "71b89127-0d21-4176-f997-b1552dcac65b"
   },
   "outputs": [
    {
     "data": {
      "image/png": "[encoded data removed]",
      "text/plain": [
       "<Figure size 1440x720 with 1 Axes>"
      ]
     },
     "metadata": {
      "tags": []
     },
     "output_type": "display_data"
    }
   ],
   "source": [
    "plt.figure(figsize=(20, 10))\n",
    "plt.plot(questions_monthly_count.questions_id, label='Questions')\n",
    "plt.plot(answers_monthly_count.answers_id, label='Answers')\n",
    "plt.xlabel('month')\n",
    "plt.ylabel('count')\n",
    "plt.title('Месячная динамика вопросов/ответов')\n",
    "plt.legend()\n",
    "plt.show()"
   ]
  },
  {
   "cell_type": "code",
   "execution_count": 0,
   "metadata": {
    "colab": {},
    "colab_type": "code",
    "id": "YWk2WD8rPSlu"
   },
   "outputs": [],
   "source": [
    "questions_monthly_cumcount = monthly_count(questions,'questions_date_added')\n",
    "answers_monthly_cumcount = monthly_count(answers,'answers_date_added')"
   ]
  },
  {
   "cell_type": "code",
   "execution_count": 0,
   "metadata": {
    "colab": {
     "base_uri": "https://localhost:8080/",
     "height": 621
    },
    "colab_type": "code",
    "id": "Pw6eniGRPSlx",
    "outputId": "de612313-a150-4261-a357-0b2f17d3213f"
   },
   "outputs": [
    {
     "data": {
      "image/png": "[encoded data removed]",
      "text/plain": [
       "<Figure size 1440x720 with 1 Axes>"
      ]
     },
     "metadata": {
      "tags": []
     },
     "output_type": "display_data"
    }
   ],
   "source": [
    "plt.figure(figsize=(20, 10))\n",
    "plt.plot(questions_monthly_cumcount.questions_id, label='Questions', color='orange')\n",
    "plt.plot(answers_monthly_cumcount.answers_id, label='Answers', color='purple')\n",
    "plt.xlabel('month')\n",
    "plt.ylabel('count')\n",
    "plt.title('Месячный рост количества вопросов/ответов')\n",
    "plt.legend()\n",
    "plt.show()"
   ]
  },
  {
   "cell_type": "markdown",
   "metadata": {
    "colab_type": "text",
    "id": "OGjs2KMyPSl5"
   },
   "source": [
    "В последние месяцы наблюдается увеличения отношения количества ответов кколичеству вопросов. Другими словами, в последние месяцы на одни вопрос приходится все больше ответов."
   ]
  },
  {
   "cell_type": "markdown",
   "metadata": {
    "colab_type": "text",
    "id": "cGIZizTFPSl6"
   },
   "source": [
    "5) Рассмотрим $\\textbf{q_scores:}$"
   ]
  },
  {
   "cell_type": "code",
   "execution_count": 0,
   "metadata": {
    "colab": {
     "base_uri": "https://localhost:8080/",
     "height": 306
    },
    "colab_type": "code",
    "id": "y_ryYW-NPSl6",
    "outputId": "3ada8f1b-d119-4d4e-ed45-d31e92b380d5"
   },
   "outputs": [
    {
     "data": {
      "text/html": [
       "<div>\n",
       "<style scoped>\n",
       "    .dataframe tbody tr th:only-of-type {\n",
       "        vertical-align: middle;\n",
       "    }\n",
       "\n",
       "    .dataframe tbody tr th {\n",
       "        vertical-align: top;\n",
       "    }\n",
       "\n",
       "    .dataframe thead th {\n",
       "        text-align: right;\n",
       "    }\n",
       "</style>\n",
       "<table border=\"1\" class=\"dataframe\">\n",
       "  <thead>\n",
       "    <tr style=\"text-align: right;\">\n",
       "      <th></th>\n",
       "      <th>id</th>\n",
       "      <th>score</th>\n",
       "    </tr>\n",
       "  </thead>\n",
       "  <tbody>\n",
       "    <tr>\n",
       "      <th>0</th>\n",
       "      <td>38436aadef3d4b608ad089cf53ab0fe7</td>\n",
       "      <td>5</td>\n",
       "    </tr>\n",
       "    <tr>\n",
       "      <th>1</th>\n",
       "      <td>edb8c179c5d64c9cb812a59a32045f55</td>\n",
       "      <td>4</td>\n",
       "    </tr>\n",
       "    <tr>\n",
       "      <th>2</th>\n",
       "      <td>333464d7484b43e3866e86096bc4ddb9</td>\n",
       "      <td>6</td>\n",
       "    </tr>\n",
       "    <tr>\n",
       "      <th>3</th>\n",
       "      <td>4b995e60b99d4ee18346e893e007cb8f</td>\n",
       "      <td>6</td>\n",
       "    </tr>\n",
       "    <tr>\n",
       "      <th>4</th>\n",
       "      <td>f6b9ca94aed04ba28256492708e74f60</td>\n",
       "      <td>6</td>\n",
       "    </tr>\n",
       "  </tbody>\n",
       "</table>\n",
       "</div>"
      ],
      "text/plain": [
       "                                 id  score\n",
       "0  38436aadef3d4b608ad089cf53ab0fe7      5\n",
       "1  edb8c179c5d64c9cb812a59a32045f55      4\n",
       "2  333464d7484b43e3866e86096bc4ddb9      6\n",
       "3  4b995e60b99d4ee18346e893e007cb8f      6\n",
       "4  f6b9ca94aed04ba28256492708e74f60      6"
      ]
     },
     "metadata": {
      "tags": []
     },
     "output_type": "display_data"
    },
    {
     "name": "stdout",
     "output_type": "stream",
     "text": [
      "\u001b[1mчисло наблюдений = 23928\n",
      "\n",
      "\u001b[1mчисло уникальных значений признаков\n"
     ]
    },
    {
     "data": {
      "text/plain": [
       "id       23928\n",
       "score       75\n",
       "dtype: int64"
      ]
     },
     "metadata": {
      "tags": []
     },
     "output_type": "display_data"
    }
   ],
   "source": [
    "main_stats(q_scores)"
   ]
  },
  {
   "cell_type": "code",
   "execution_count": 0,
   "metadata": {
    "colab": {
     "base_uri": "https://localhost:8080/",
     "height": 459
    },
    "colab_type": "code",
    "id": "EgwQYjnXPSl9",
    "outputId": "0acb1d10-596f-4d64-f141-ab48e270dac8"
   },
   "outputs": [
    {
     "data": {
      "text/plain": [
       "1      7311\n",
       "2      6120\n",
       "3      3893\n",
       "4      2583\n",
       "5      1370\n",
       "0       732\n",
       "6       676\n",
       "7       376\n",
       "8       197\n",
       "9       140\n",
       "10      107\n",
       "11       59\n",
       "       ... \n",
       "74        1\n",
       "68        1\n",
       "84        1\n",
       "100       1\n",
       "121       1\n",
       "73        1\n",
       "41        1\n",
       "37        1\n",
       "120       1\n",
       "104       1\n",
       "38        1\n",
       "39        1\n",
       "Name: score, Length: 75, dtype: int64"
      ]
     },
     "execution_count": 50,
     "metadata": {
      "tags": []
     },
     "output_type": "execute_result"
    }
   ],
   "source": [
    "q_scores['score'].value_counts()"
   ]
  },
  {
   "cell_type": "code",
   "execution_count": 0,
   "metadata": {
    "colab": {
     "base_uri": "https://localhost:8080/",
     "height": 34
    },
    "colab_type": "code",
    "id": "MufnVWH0PSl_",
    "outputId": "9db8dbee-2eea-48cd-c115-b6e7f12e5bd2"
   },
   "outputs": [
    {
     "data": {
      "text/plain": [
       "69399"
      ]
     },
     "execution_count": 51,
     "metadata": {
      "tags": []
     },
     "output_type": "execute_result"
    }
   ],
   "source": [
    "q_scores['score'].sum()"
   ]
  },
  {
   "cell_type": "markdown",
   "metadata": {
    "colab_type": "text",
    "id": "HKEXiL9rPSmD"
   },
   "source": [
    "69399 оценок набрали вопросы за весь данный период."
   ]
  },
  {
   "cell_type": "code",
   "execution_count": 0,
   "metadata": {
    "colab": {
     "base_uri": "https://localhost:8080/",
     "height": 34
    },
    "colab_type": "code",
    "id": "URm9FOM5PSmD",
    "outputId": "63f8808e-b3c4-4b4a-f1b5-db763f8733e1"
   },
   "outputs": [
    {
     "data": {
      "text/plain": [
       "2.9003259779338015"
      ]
     },
     "execution_count": 52,
     "metadata": {
      "tags": []
     },
     "output_type": "execute_result"
    }
   ],
   "source": [
    "q_scores['score'].mean()"
   ]
  },
  {
   "cell_type": "markdown",
   "metadata": {
    "colab_type": "text",
    "id": "FFWBzWYiPSmF"
   },
   "source": [
    "Почти 3 оценки в среднем набирает каждый вопрос."
   ]
  },
  {
   "cell_type": "code",
   "execution_count": 0,
   "metadata": {
    "colab": {
     "base_uri": "https://localhost:8080/",
     "height": 34
    },
    "colab_type": "code",
    "id": "RJpMvXk5PSmG",
    "outputId": "aa941e0a-6775-4582-c19f-50b96c0b0298"
   },
   "outputs": [
    {
     "data": {
      "text/plain": [
       "125"
      ]
     },
     "execution_count": 53,
     "metadata": {
      "tags": []
     },
     "output_type": "execute_result"
    }
   ],
   "source": [
    "q_scores['score'].max()"
   ]
  },
  {
   "cell_type": "markdown",
   "metadata": {
    "colab_type": "text",
    "id": "tFk45_trPSmH"
   },
   "source": [
    "125 оценок наибольший показатель среди вопросов."
   ]
  },
  {
   "cell_type": "markdown",
   "metadata": {
    "colab_type": "text",
    "id": "i8gYu5J4PSmI"
   },
   "source": [
    "Построим countplot для вопросов, имеюших score меньше 30."
   ]
  },
  {
   "cell_type": "code",
   "execution_count": 0,
   "metadata": {
    "colab": {
     "base_uri": "https://localhost:8080/",
     "height": 283
    },
    "colab_type": "code",
    "id": "ykqO0Jg-PSmJ",
    "outputId": "0c139ef9-fc7b-4525-d58c-7be675a513fd"
   },
   "outputs": [
    {
     "data": {
      "image/png": "[encoded data removed]",
      "text/plain": [
       "<Figure size 432x288 with 1 Axes>"
      ]
     },
     "metadata": {
      "tags": []
     },
     "output_type": "display_data"
    }
   ],
   "source": [
    "sns.countplot(x=\"score\", data=q_scores.loc[q_scores.score<30])\n",
    "plt.show()"
   ]
  },
  {
   "cell_type": "markdown",
   "metadata": {
    "colab_type": "text",
    "id": "oYuyI5oCPSmN"
   },
   "source": [
    "Самая распространенный score среди вопросов - это 1 и 2 оценки."
   ]
  },
  {
   "cell_type": "markdown",
   "metadata": {
    "colab_type": "text",
    "id": "7xgR6XQ9PSmO"
   },
   "source": [
    "6) Рассмотрим $\\textbf{a_scores:}$"
   ]
  },
  {
   "cell_type": "code",
   "execution_count": 0,
   "metadata": {
    "colab": {
     "base_uri": "https://localhost:8080/",
     "height": 306
    },
    "colab_type": "code",
    "id": "hVV53giDPSmO",
    "outputId": "93ffc1e2-c54c-478b-c354-b3f243d7935c"
   },
   "outputs": [
    {
     "data": {
      "text/html": [
       "<div>\n",
       "<style scoped>\n",
       "    .dataframe tbody tr th:only-of-type {\n",
       "        vertical-align: middle;\n",
       "    }\n",
       "\n",
       "    .dataframe tbody tr th {\n",
       "        vertical-align: top;\n",
       "    }\n",
       "\n",
       "    .dataframe thead th {\n",
       "        text-align: right;\n",
       "    }\n",
       "</style>\n",
       "<table border=\"1\" class=\"dataframe\">\n",
       "  <thead>\n",
       "    <tr style=\"text-align: right;\">\n",
       "      <th></th>\n",
       "      <th>id</th>\n",
       "      <th>score</th>\n",
       "    </tr>\n",
       "  </thead>\n",
       "  <tbody>\n",
       "    <tr>\n",
       "      <th>0</th>\n",
       "      <td>7b2bb0fc0d384e298cffa6afde9cf6ab</td>\n",
       "      <td>1</td>\n",
       "    </tr>\n",
       "    <tr>\n",
       "      <th>1</th>\n",
       "      <td>7640a6e5d5224c8681cc58de860858f4</td>\n",
       "      <td>5</td>\n",
       "    </tr>\n",
       "    <tr>\n",
       "      <th>2</th>\n",
       "      <td>3ce32e236fa9435183b2180fb213375c</td>\n",
       "      <td>2</td>\n",
       "    </tr>\n",
       "    <tr>\n",
       "      <th>3</th>\n",
       "      <td>fa30fe4c016043e382c441a7ef743bfb</td>\n",
       "      <td>0</td>\n",
       "    </tr>\n",
       "    <tr>\n",
       "      <th>4</th>\n",
       "      <td>71229eb293314c8a9e545057ecc32c93</td>\n",
       "      <td>2</td>\n",
       "    </tr>\n",
       "  </tbody>\n",
       "</table>\n",
       "</div>"
      ],
      "text/plain": [
       "                                 id  score\n",
       "0  7b2bb0fc0d384e298cffa6afde9cf6ab      1\n",
       "1  7640a6e5d5224c8681cc58de860858f4      5\n",
       "2  3ce32e236fa9435183b2180fb213375c      2\n",
       "3  fa30fe4c016043e382c441a7ef743bfb      0\n",
       "4  71229eb293314c8a9e545057ecc32c93      2"
      ]
     },
     "metadata": {
      "tags": []
     },
     "output_type": "display_data"
    },
    {
     "name": "stdout",
     "output_type": "stream",
     "text": [
      "\u001b[1mчисло наблюдений = 51138\n",
      "\n",
      "\u001b[1mчисло уникальных значений признаков\n"
     ]
    },
    {
     "data": {
      "text/plain": [
       "id       51138\n",
       "score       23\n",
       "dtype: int64"
      ]
     },
     "metadata": {
      "tags": []
     },
     "output_type": "display_data"
    }
   ],
   "source": [
    "main_stats(a_scores)"
   ]
  },
  {
   "cell_type": "code",
   "execution_count": 0,
   "metadata": {
    "colab": {
     "base_uri": "https://localhost:8080/",
     "height": 425
    },
    "colab_type": "code",
    "id": "sexb6ztXPSmQ",
    "outputId": "09fa9bc5-fa1d-45da-eb0f-f943e0f1c887"
   },
   "outputs": [
    {
     "data": {
      "text/plain": [
       "0     37301\n",
       "1      9615\n",
       "2      2660\n",
       "3       854\n",
       "4       362\n",
       "5       159\n",
       "6        67\n",
       "7        45\n",
       "8        28\n",
       "9        13\n",
       "10        8\n",
       "12        7\n",
       "11        5\n",
       "13        3\n",
       "14        3\n",
       "25        1\n",
       "15        1\n",
       "17        1\n",
       "18        1\n",
       "19        1\n",
       "20        1\n",
       "22        1\n",
       "30        1\n",
       "Name: score, dtype: int64"
      ]
     },
     "execution_count": 56,
     "metadata": {
      "tags": []
     },
     "output_type": "execute_result"
    }
   ],
   "source": [
    "a_scores['score'].value_counts()"
   ]
  },
  {
   "cell_type": "code",
   "execution_count": 0,
   "metadata": {
    "colab": {
     "base_uri": "https://localhost:8080/",
     "height": 34
    },
    "colab_type": "code",
    "id": "O_l630WYPSmR",
    "outputId": "9a36313d-237f-433f-f692-8d14482c14cc"
   },
   "outputs": [
    {
     "data": {
      "text/plain": [
       "21264"
      ]
     },
     "execution_count": 57,
     "metadata": {
      "tags": []
     },
     "output_type": "execute_result"
    }
   ],
   "source": [
    "a_scores['score'].sum()"
   ]
  },
  {
   "cell_type": "markdown",
   "metadata": {
    "colab_type": "text",
    "id": "zdfa_ZupPSmT"
   },
   "source": [
    "21264 количество оценок у ответов. Что значительно меньше 69399 оценок у вопросов."
   ]
  },
  {
   "cell_type": "code",
   "execution_count": 0,
   "metadata": {
    "colab": {
     "base_uri": "https://localhost:8080/",
     "height": 34
    },
    "colab_type": "code",
    "id": "4OJ5KeciPSmT",
    "outputId": "5cfdd602-c7ab-400d-a273-8e84bee4690f"
   },
   "outputs": [
    {
     "data": {
      "text/plain": [
       "0.4158160272204623"
      ]
     },
     "execution_count": 58,
     "metadata": {
      "tags": []
     },
     "output_type": "execute_result"
    }
   ],
   "source": [
    "a_scores['score'].mean()"
   ]
  },
  {
   "cell_type": "markdown",
   "metadata": {
    "colab_type": "text",
    "id": "Afhii66ZPSmW"
   },
   "source": [
    "Соответственно меньше и среднее значение. 0.42 против 2.9 среднего у вопросов."
   ]
  },
  {
   "cell_type": "code",
   "execution_count": 0,
   "metadata": {
    "colab": {
     "base_uri": "https://localhost:8080/",
     "height": 34
    },
    "colab_type": "code",
    "id": "9rOwftHoPSmW",
    "outputId": "7514c660-dd6d-43fd-daea-b1a234070bd9"
   },
   "outputs": [
    {
     "data": {
      "text/plain": [
       "30"
      ]
     },
     "execution_count": 59,
     "metadata": {
      "tags": []
     },
     "output_type": "execute_result"
    }
   ],
   "source": [
    "a_scores['score'].max()"
   ]
  },
  {
   "cell_type": "markdown",
   "metadata": {
    "colab_type": "text",
    "id": "9pvb7zOFPSmY"
   },
   "source": [
    "30 оценок - макисимальное значение среди ответов."
   ]
  },
  {
   "cell_type": "code",
   "execution_count": 0,
   "metadata": {
    "colab": {
     "base_uri": "https://localhost:8080/",
     "height": 283
    },
    "colab_type": "code",
    "id": "geDzv_NPPSmZ",
    "outputId": "9707a33b-a46c-45b5-cce4-3131371e90cb"
   },
   "outputs": [
    {
     "data": {
      "image/png": "[encoded data removed]",
      "text/plain": [
       "<Figure size 432x288 with 1 Axes>"
      ]
     },
     "metadata": {
      "tags": []
     },
     "output_type": "display_data"
    }
   ],
   "source": [
    "sns.countplot(x=\"score\", data=a_scores)\n",
    "plt.show()"
   ]
  },
  {
   "cell_type": "markdown",
   "metadata": {
    "colab_type": "text",
    "id": "PBGmPe7zPSma"
   },
   "source": [
    "Самая распространенная оценка ответов - это 0 баллов."
   ]
  },
  {
   "cell_type": "markdown",
   "metadata": {
    "colab_type": "text",
    "id": "jzptEP0OPSmb"
   },
   "source": [
    "7) Рассмотрим $\\textbf{tags:}$"
   ]
  },
  {
   "cell_type": "code",
   "execution_count": 0,
   "metadata": {
    "colab": {
     "base_uri": "https://localhost:8080/",
     "height": 306
    },
    "colab_type": "code",
    "id": "DGgl4eWqPSmb",
    "outputId": "3ab8673c-188f-47e1-b6e3-4661bffa8825"
   },
   "outputs": [
    {
     "data": {
      "text/html": [
       "<div>\n",
       "<style scoped>\n",
       "    .dataframe tbody tr th:only-of-type {\n",
       "        vertical-align: middle;\n",
       "    }\n",
       "\n",
       "    .dataframe tbody tr th {\n",
       "        vertical-align: top;\n",
       "    }\n",
       "\n",
       "    .dataframe thead th {\n",
       "        text-align: right;\n",
       "    }\n",
       "</style>\n",
       "<table border=\"1\" class=\"dataframe\">\n",
       "  <thead>\n",
       "    <tr style=\"text-align: right;\">\n",
       "      <th></th>\n",
       "      <th>tags_tag_id</th>\n",
       "      <th>tags_tag_name</th>\n",
       "    </tr>\n",
       "  </thead>\n",
       "  <tbody>\n",
       "    <tr>\n",
       "      <th>0</th>\n",
       "      <td>27490</td>\n",
       "      <td>college</td>\n",
       "    </tr>\n",
       "    <tr>\n",
       "      <th>1</th>\n",
       "      <td>461</td>\n",
       "      <td>computer-science</td>\n",
       "    </tr>\n",
       "    <tr>\n",
       "      <th>2</th>\n",
       "      <td>593</td>\n",
       "      <td>computer-software</td>\n",
       "    </tr>\n",
       "    <tr>\n",
       "      <th>3</th>\n",
       "      <td>27292</td>\n",
       "      <td>business</td>\n",
       "    </tr>\n",
       "    <tr>\n",
       "      <th>4</th>\n",
       "      <td>18217</td>\n",
       "      <td>doctor</td>\n",
       "    </tr>\n",
       "  </tbody>\n",
       "</table>\n",
       "</div>"
      ],
      "text/plain": [
       "   tags_tag_id      tags_tag_name\n",
       "0        27490            college\n",
       "1          461   computer-science\n",
       "2          593  computer-software\n",
       "3        27292           business\n",
       "4        18217             doctor"
      ]
     },
     "metadata": {
      "tags": []
     },
     "output_type": "display_data"
    },
    {
     "name": "stdout",
     "output_type": "stream",
     "text": [
      "\u001b[1mчисло наблюдений = 16268\n",
      "\n",
      "\u001b[1mчисло уникальных значений признаков\n"
     ]
    },
    {
     "data": {
      "text/plain": [
       "tags_tag_id      16268\n",
       "tags_tag_name    16268\n",
       "dtype: int64"
      ]
     },
     "metadata": {
      "tags": []
     },
     "output_type": "display_data"
    }
   ],
   "source": [
    "main_stats(tags)"
   ]
  },
  {
   "cell_type": "markdown",
   "metadata": {
    "colab_type": "text",
    "id": "2ZlyrrxFPSmd"
   },
   "source": [
    "8) Рассмотрим $\\textbf{t_users:}$"
   ]
  },
  {
   "cell_type": "code",
   "execution_count": 0,
   "metadata": {
    "colab": {
     "base_uri": "https://localhost:8080/",
     "height": 306
    },
    "colab_type": "code",
    "id": "jKWxiGPsPSmd",
    "outputId": "44295402-d257-4e87-e5fa-fa42fc0d08b8"
   },
   "outputs": [
    {
     "data": {
      "text/html": [
       "<div>\n",
       "<style scoped>\n",
       "    .dataframe tbody tr th:only-of-type {\n",
       "        vertical-align: middle;\n",
       "    }\n",
       "\n",
       "    .dataframe tbody tr th {\n",
       "        vertical-align: top;\n",
       "    }\n",
       "\n",
       "    .dataframe thead th {\n",
       "        text-align: right;\n",
       "    }\n",
       "</style>\n",
       "<table border=\"1\" class=\"dataframe\">\n",
       "  <thead>\n",
       "    <tr style=\"text-align: right;\">\n",
       "      <th></th>\n",
       "      <th>tag_users_tag_id</th>\n",
       "      <th>tag_users_user_id</th>\n",
       "    </tr>\n",
       "  </thead>\n",
       "  <tbody>\n",
       "    <tr>\n",
       "      <th>0</th>\n",
       "      <td>593</td>\n",
       "      <td>c72ab38e073246e88da7e9a4ec7a4472</td>\n",
       "    </tr>\n",
       "    <tr>\n",
       "      <th>1</th>\n",
       "      <td>1642</td>\n",
       "      <td>8db519781ec24f2e8bdc67c2ac53f614</td>\n",
       "    </tr>\n",
       "    <tr>\n",
       "      <th>2</th>\n",
       "      <td>638</td>\n",
       "      <td>042d2184ee3e4e548fc3589baaa69caf</td>\n",
       "    </tr>\n",
       "    <tr>\n",
       "      <th>3</th>\n",
       "      <td>11093</td>\n",
       "      <td>c660bd0dc1b34224be78a58aa5a84a63</td>\n",
       "    </tr>\n",
       "    <tr>\n",
       "      <th>4</th>\n",
       "      <td>21539</td>\n",
       "      <td>8ce1dca4e94240239e4385ed22ef43ce</td>\n",
       "    </tr>\n",
       "  </tbody>\n",
       "</table>\n",
       "</div>"
      ],
      "text/plain": [
       "   tag_users_tag_id                 tag_users_user_id\n",
       "0               593  c72ab38e073246e88da7e9a4ec7a4472\n",
       "1              1642  8db519781ec24f2e8bdc67c2ac53f614\n",
       "2               638  042d2184ee3e4e548fc3589baaa69caf\n",
       "3             11093  c660bd0dc1b34224be78a58aa5a84a63\n",
       "4             21539  8ce1dca4e94240239e4385ed22ef43ce"
      ]
     },
     "metadata": {
      "tags": []
     },
     "output_type": "display_data"
    },
    {
     "name": "stdout",
     "output_type": "stream",
     "text": [
      "\u001b[1mчисло наблюдений = 136663\n",
      "\n",
      "\u001b[1mчисло уникальных значений признаков\n"
     ]
    },
    {
     "data": {
      "text/plain": [
       "tag_users_tag_id     11911\n",
       "tag_users_user_id    30202\n",
       "dtype: int64"
      ]
     },
     "metadata": {
      "tags": []
     },
     "output_type": "display_data"
    }
   ],
   "source": [
    "main_stats(t_users)"
   ]
  },
  {
   "cell_type": "markdown",
   "metadata": {
    "colab_type": "text",
    "id": "UQP_MxOSPSmf"
   },
   "source": [
    "30202 уникальных пользователя следят за 11911 уникальными тэгами."
   ]
  },
  {
   "cell_type": "code",
   "execution_count": 0,
   "metadata": {
    "colab": {
     "base_uri": "https://localhost:8080/",
     "height": 34
    },
    "colab_type": "code",
    "id": "BqgA4kGcPSmf",
    "outputId": "ea6c9547-dc3d-40b2-9913-aff46da0c947"
   },
   "outputs": [
    {
     "name": "stdout",
     "output_type": "stream",
     "text": [
      "Cреднее количество отслеживаемых тегов у пользователя = 4.52\n"
     ]
    }
   ],
   "source": [
    "print('Cреднее количество отслеживаемых тегов у пользователя = {:2.2f}'.format(t_users.shape[0]/30202))"
   ]
  },
  {
   "cell_type": "code",
   "execution_count": 0,
   "metadata": {
    "colab": {
     "base_uri": "https://localhost:8080/",
     "height": 884
    },
    "colab_type": "code",
    "id": "0O2fL0quPSmh",
    "outputId": "a113786b-4a81-4575-f1cc-d5bec03d0f2d"
   },
   "outputs": [
    {
     "data": {
      "text/html": [
       "<div>\n",
       "<style scoped>\n",
       "    .dataframe tbody tr th:only-of-type {\n",
       "        vertical-align: middle;\n",
       "    }\n",
       "\n",
       "    .dataframe tbody tr th {\n",
       "        vertical-align: top;\n",
       "    }\n",
       "\n",
       "    .dataframe thead th {\n",
       "        text-align: right;\n",
       "    }\n",
       "</style>\n",
       "<table border=\"1\" class=\"dataframe\">\n",
       "  <thead>\n",
       "    <tr style=\"text-align: right;\">\n",
       "      <th></th>\n",
       "      <th>tag_users_tag_id</th>\n",
       "    </tr>\n",
       "    <tr>\n",
       "      <th>tag_users_user_id</th>\n",
       "      <th></th>\n",
       "    </tr>\n",
       "  </thead>\n",
       "  <tbody>\n",
       "    <tr>\n",
       "      <th>816b3ec43f7740a0a674f98616a322bf</th>\n",
       "      <td>1</td>\n",
       "    </tr>\n",
       "    <tr>\n",
       "      <th>87552c6bac354b6db9e9ca76b75d23ae</th>\n",
       "      <td>1</td>\n",
       "    </tr>\n",
       "    <tr>\n",
       "      <th>875c304b93b6478694dc5a2c30f011b3</th>\n",
       "      <td>1</td>\n",
       "    </tr>\n",
       "    <tr>\n",
       "      <th>8763365391d24cd2a57e52dba6611810</th>\n",
       "      <td>1</td>\n",
       "    </tr>\n",
       "    <tr>\n",
       "      <th>876ba8e082e2410791492573f81f9ee7</th>\n",
       "      <td>1</td>\n",
       "    </tr>\n",
       "    <tr>\n",
       "      <th>879acff6c59a4a4dbd66a0dee748ffe1</th>\n",
       "      <td>1</td>\n",
       "    </tr>\n",
       "    <tr>\n",
       "      <th>879bbf41830f4302a56c49b8aaecaffa</th>\n",
       "      <td>1</td>\n",
       "    </tr>\n",
       "    <tr>\n",
       "      <th>87a190bacca24f7d96f4303634bdc5fc</th>\n",
       "      <td>1</td>\n",
       "    </tr>\n",
       "    <tr>\n",
       "      <th>87a8d24361944f17bd66ea89761d37d2</th>\n",
       "      <td>1</td>\n",
       "    </tr>\n",
       "    <tr>\n",
       "      <th>87af53b253514a5d95c7e6eddbe0efcc</th>\n",
       "      <td>1</td>\n",
       "    </tr>\n",
       "    <tr>\n",
       "      <th>87bd89e5397a40c89aa5c82776277fea</th>\n",
       "      <td>1</td>\n",
       "    </tr>\n",
       "    <tr>\n",
       "      <th>87be31792a49465ab0d70d205cd2c7c5</th>\n",
       "      <td>1</td>\n",
       "    </tr>\n",
       "    <tr>\n",
       "      <th>...</th>\n",
       "      <td>...</td>\n",
       "    </tr>\n",
       "    <tr>\n",
       "      <th>1ce19b32e24445cf9fefcccc91ebd211</th>\n",
       "      <td>59</td>\n",
       "    </tr>\n",
       "    <tr>\n",
       "      <th>1d8d4ea9cd03402cb4b34aa41ad9f3a0</th>\n",
       "      <td>60</td>\n",
       "    </tr>\n",
       "    <tr>\n",
       "      <th>e5fccfc7e8b848a1b50c3e91879dd468</th>\n",
       "      <td>60</td>\n",
       "    </tr>\n",
       "    <tr>\n",
       "      <th>ec58bc7e2d484d70a40ee0989ec3033b</th>\n",
       "      <td>60</td>\n",
       "    </tr>\n",
       "    <tr>\n",
       "      <th>4203bd5dd6514f9dbd6ef34eb8da4804</th>\n",
       "      <td>61</td>\n",
       "    </tr>\n",
       "    <tr>\n",
       "      <th>370d3d345fc9428f8a2cce73a2d273ab</th>\n",
       "      <td>62</td>\n",
       "    </tr>\n",
       "    <tr>\n",
       "      <th>d4d1acf477fa4b08b02aabcb85c74df8</th>\n",
       "      <td>64</td>\n",
       "    </tr>\n",
       "    <tr>\n",
       "      <th>ba75d7aed9fb4752b4942c9fe1bfc204</th>\n",
       "      <td>66</td>\n",
       "    </tr>\n",
       "    <tr>\n",
       "      <th>283f866bdc5e4f909d8ba2e41ecf36e0</th>\n",
       "      <td>66</td>\n",
       "    </tr>\n",
       "    <tr>\n",
       "      <th>a16b38259e324ca69dbe01e23376a395</th>\n",
       "      <td>67</td>\n",
       "    </tr>\n",
       "    <tr>\n",
       "      <th>5d8cf751ab3444f8a697d2c7e76dddac</th>\n",
       "      <td>67</td>\n",
       "    </tr>\n",
       "    <tr>\n",
       "      <th>b3525548bad243cb9a437a0bf5f60eb9</th>\n",
       "      <td>82</td>\n",
       "    </tr>\n",
       "  </tbody>\n",
       "</table>\n",
       "<p>30202 rows × 1 columns</p>\n",
       "</div>"
      ],
      "text/plain": [
       "                                  tag_users_tag_id\n",
       "tag_users_user_id                                 \n",
       "816b3ec43f7740a0a674f98616a322bf                 1\n",
       "87552c6bac354b6db9e9ca76b75d23ae                 1\n",
       "875c304b93b6478694dc5a2c30f011b3                 1\n",
       "8763365391d24cd2a57e52dba6611810                 1\n",
       "876ba8e082e2410791492573f81f9ee7                 1\n",
       "879acff6c59a4a4dbd66a0dee748ffe1                 1\n",
       "879bbf41830f4302a56c49b8aaecaffa                 1\n",
       "87a190bacca24f7d96f4303634bdc5fc                 1\n",
       "87a8d24361944f17bd66ea89761d37d2                 1\n",
       "87af53b253514a5d95c7e6eddbe0efcc                 1\n",
       "87bd89e5397a40c89aa5c82776277fea                 1\n",
       "87be31792a49465ab0d70d205cd2c7c5                 1\n",
       "...                                            ...\n",
       "1ce19b32e24445cf9fefcccc91ebd211                59\n",
       "1d8d4ea9cd03402cb4b34aa41ad9f3a0                60\n",
       "e5fccfc7e8b848a1b50c3e91879dd468                60\n",
       "ec58bc7e2d484d70a40ee0989ec3033b                60\n",
       "4203bd5dd6514f9dbd6ef34eb8da4804                61\n",
       "370d3d345fc9428f8a2cce73a2d273ab                62\n",
       "d4d1acf477fa4b08b02aabcb85c74df8                64\n",
       "ba75d7aed9fb4752b4942c9fe1bfc204                66\n",
       "283f866bdc5e4f909d8ba2e41ecf36e0                66\n",
       "a16b38259e324ca69dbe01e23376a395                67\n",
       "5d8cf751ab3444f8a697d2c7e76dddac                67\n",
       "b3525548bad243cb9a437a0bf5f60eb9                82\n",
       "\n",
       "[30202 rows x 1 columns]"
      ]
     },
     "execution_count": 64,
     "metadata": {
      "tags": []
     },
     "output_type": "execute_result"
    }
   ],
   "source": [
    "t_users.groupby(t_users.tag_users_user_id).count().sort_values(by=['tag_users_tag_id'])"
   ]
  },
  {
   "cell_type": "markdown",
   "metadata": {
    "colab_type": "text",
    "id": "CO6AJ5YmPSmk"
   },
   "source": [
    "Максимальное количество тэгов, за которыми следит 1 пользователь - 82. Его можно найти в таблице professionals."
   ]
  },
  {
   "cell_type": "code",
   "execution_count": 0,
   "metadata": {
    "colab": {
     "base_uri": "https://localhost:8080/",
     "height": 51
    },
    "colab_type": "code",
    "id": "VFE6Lzl2PSmk",
    "outputId": "207ebac0-a616-4dd7-f07e-b2b2491447c1"
   },
   "outputs": [
    {
     "data": {
      "text/plain": [
       "tag_users_tag_id    4.524965\n",
       "dtype: float64"
      ]
     },
     "execution_count": 65,
     "metadata": {
      "tags": []
     },
     "output_type": "execute_result"
    }
   ],
   "source": [
    "t_users.groupby(t_users.tag_users_user_id).count().mean()"
   ]
  },
  {
   "cell_type": "markdown",
   "metadata": {
    "colab_type": "text",
    "id": "qwdr4chKPSmm"
   },
   "source": [
    "Среди пользователей, которые следят за тэгами, среднее значение отслеживаемых тэгов равно 5. Позже мы сделаем более точную оценку, когда учтем пользователей, которые не следят за тэгами вообще."
   ]
  },
  {
   "cell_type": "code",
   "execution_count": 0,
   "metadata": {
    "colab": {
     "base_uri": "https://localhost:8080/",
     "height": 884
    },
    "colab_type": "code",
    "id": "yMq4AT9OPSmm",
    "outputId": "7f51360f-be82-4398-9ea9-71c8a5cc1cfe"
   },
   "outputs": [
    {
     "data": {
      "text/html": [
       "<div>\n",
       "<style scoped>\n",
       "    .dataframe tbody tr th:only-of-type {\n",
       "        vertical-align: middle;\n",
       "    }\n",
       "\n",
       "    .dataframe tbody tr th {\n",
       "        vertical-align: top;\n",
       "    }\n",
       "\n",
       "    .dataframe thead th {\n",
       "        text-align: right;\n",
       "    }\n",
       "</style>\n",
       "<table border=\"1\" class=\"dataframe\">\n",
       "  <thead>\n",
       "    <tr style=\"text-align: right;\">\n",
       "      <th></th>\n",
       "      <th>tag_users_user_id</th>\n",
       "    </tr>\n",
       "    <tr>\n",
       "      <th>tag_users_tag_id</th>\n",
       "      <th></th>\n",
       "    </tr>\n",
       "  </thead>\n",
       "  <tbody>\n",
       "    <tr>\n",
       "      <th>29512</th>\n",
       "      <td>1</td>\n",
       "    </tr>\n",
       "    <tr>\n",
       "      <th>32152</th>\n",
       "      <td>1</td>\n",
       "    </tr>\n",
       "    <tr>\n",
       "      <th>32153</th>\n",
       "      <td>1</td>\n",
       "    </tr>\n",
       "    <tr>\n",
       "      <th>32154</th>\n",
       "      <td>1</td>\n",
       "    </tr>\n",
       "    <tr>\n",
       "      <th>32157</th>\n",
       "      <td>1</td>\n",
       "    </tr>\n",
       "    <tr>\n",
       "      <th>32158</th>\n",
       "      <td>1</td>\n",
       "    </tr>\n",
       "    <tr>\n",
       "      <th>32161</th>\n",
       "      <td>1</td>\n",
       "    </tr>\n",
       "    <tr>\n",
       "      <th>32148</th>\n",
       "      <td>1</td>\n",
       "    </tr>\n",
       "    <tr>\n",
       "      <th>32165</th>\n",
       "      <td>1</td>\n",
       "    </tr>\n",
       "    <tr>\n",
       "      <th>32173</th>\n",
       "      <td>1</td>\n",
       "    </tr>\n",
       "    <tr>\n",
       "      <th>32174</th>\n",
       "      <td>1</td>\n",
       "    </tr>\n",
       "    <tr>\n",
       "      <th>32175</th>\n",
       "      <td>1</td>\n",
       "    </tr>\n",
       "    <tr>\n",
       "      <th>...</th>\n",
       "      <td>...</td>\n",
       "    </tr>\n",
       "    <tr>\n",
       "      <th>29121</th>\n",
       "      <td>818</td>\n",
       "    </tr>\n",
       "    <tr>\n",
       "      <th>27510</th>\n",
       "      <td>980</td>\n",
       "    </tr>\n",
       "    <tr>\n",
       "      <th>17972</th>\n",
       "      <td>1025</td>\n",
       "    </tr>\n",
       "    <tr>\n",
       "      <th>692</th>\n",
       "      <td>1036</td>\n",
       "    </tr>\n",
       "    <tr>\n",
       "      <th>162</th>\n",
       "      <td>1120</td>\n",
       "    </tr>\n",
       "    <tr>\n",
       "      <th>18145</th>\n",
       "      <td>1137</td>\n",
       "    </tr>\n",
       "    <tr>\n",
       "      <th>27292</th>\n",
       "      <td>1271</td>\n",
       "    </tr>\n",
       "    <tr>\n",
       "      <th>28970</th>\n",
       "      <td>1306</td>\n",
       "    </tr>\n",
       "    <tr>\n",
       "      <th>18073</th>\n",
       "      <td>1306</td>\n",
       "    </tr>\n",
       "    <tr>\n",
       "      <th>593</th>\n",
       "      <td>1443</td>\n",
       "    </tr>\n",
       "    <tr>\n",
       "      <th>27490</th>\n",
       "      <td>1669</td>\n",
       "    </tr>\n",
       "    <tr>\n",
       "      <th>20141</th>\n",
       "      <td>3135</td>\n",
       "    </tr>\n",
       "  </tbody>\n",
       "</table>\n",
       "<p>11911 rows × 1 columns</p>\n",
       "</div>"
      ],
      "text/plain": [
       "                  tag_users_user_id\n",
       "tag_users_tag_id                   \n",
       "29512                             1\n",
       "32152                             1\n",
       "32153                             1\n",
       "32154                             1\n",
       "32157                             1\n",
       "32158                             1\n",
       "32161                             1\n",
       "32148                             1\n",
       "32165                             1\n",
       "32173                             1\n",
       "32174                             1\n",
       "32175                             1\n",
       "...                             ...\n",
       "29121                           818\n",
       "27510                           980\n",
       "17972                          1025\n",
       "692                            1036\n",
       "162                            1120\n",
       "18145                          1137\n",
       "27292                          1271\n",
       "28970                          1306\n",
       "18073                          1306\n",
       "593                            1443\n",
       "27490                          1669\n",
       "20141                          3135\n",
       "\n",
       "[11911 rows x 1 columns]"
      ]
     },
     "execution_count": 66,
     "metadata": {
      "tags": []
     },
     "output_type": "execute_result"
    }
   ],
   "source": [
    "t_users.groupby(t_users.tag_users_tag_id).count().sort_values(by=['tag_users_user_id'])"
   ]
  },
  {
   "cell_type": "markdown",
   "metadata": {
    "colab_type": "text",
    "id": "CkLWOVi-PSmo"
   },
   "source": [
    "20141 наиболее популярный тэг. Заглянув в таблицу tags узнаем, что это telecommunications. Также к популярным отслеживаемым тэгам относятся: college, computer-software, technology, information-technology-and-services. \n",
    "Почти все популярные тэги связаны с информационными технологиями."
   ]
  },
  {
   "cell_type": "markdown",
   "metadata": {
    "colab_type": "text",
    "id": "B1gKRW2sPSmo"
   },
   "source": [
    "9) Рассмотрим $\\textbf{t_questions:}$"
   ]
  },
  {
   "cell_type": "code",
   "execution_count": 0,
   "metadata": {
    "colab": {
     "base_uri": "https://localhost:8080/",
     "height": 306
    },
    "colab_type": "code",
    "id": "Kq3JW5knPSmp",
    "outputId": "6b36391b-c00b-4c75-b9f8-62391daa8f51"
   },
   "outputs": [
    {
     "data": {
      "text/html": [
       "<div>\n",
       "<style scoped>\n",
       "    .dataframe tbody tr th:only-of-type {\n",
       "        vertical-align: middle;\n",
       "    }\n",
       "\n",
       "    .dataframe tbody tr th {\n",
       "        vertical-align: top;\n",
       "    }\n",
       "\n",
       "    .dataframe thead th {\n",
       "        text-align: right;\n",
       "    }\n",
       "</style>\n",
       "<table border=\"1\" class=\"dataframe\">\n",
       "  <thead>\n",
       "    <tr style=\"text-align: right;\">\n",
       "      <th></th>\n",
       "      <th>tag_questions_tag_id</th>\n",
       "      <th>tag_questions_question_id</th>\n",
       "    </tr>\n",
       "  </thead>\n",
       "  <tbody>\n",
       "    <tr>\n",
       "      <th>0</th>\n",
       "      <td>28930</td>\n",
       "      <td>cb43ebee01364c68ac61d347a393ae39</td>\n",
       "    </tr>\n",
       "    <tr>\n",
       "      <th>1</th>\n",
       "      <td>28930</td>\n",
       "      <td>47f55e85ce944242a5a347ab85a8ffb4</td>\n",
       "    </tr>\n",
       "    <tr>\n",
       "      <th>2</th>\n",
       "      <td>28930</td>\n",
       "      <td>ccc30a033a0f4dfdb2eb987012f25792</td>\n",
       "    </tr>\n",
       "    <tr>\n",
       "      <th>3</th>\n",
       "      <td>28930</td>\n",
       "      <td>e30b274e48d741f7bf50eb5e7171a3c0</td>\n",
       "    </tr>\n",
       "    <tr>\n",
       "      <th>4</th>\n",
       "      <td>28930</td>\n",
       "      <td>3d22742052df4989b311b4195cbb0f1a</td>\n",
       "    </tr>\n",
       "  </tbody>\n",
       "</table>\n",
       "</div>"
      ],
      "text/plain": [
       "   tag_questions_tag_id         tag_questions_question_id\n",
       "0                 28930  cb43ebee01364c68ac61d347a393ae39\n",
       "1                 28930  47f55e85ce944242a5a347ab85a8ffb4\n",
       "2                 28930  ccc30a033a0f4dfdb2eb987012f25792\n",
       "3                 28930  e30b274e48d741f7bf50eb5e7171a3c0\n",
       "4                 28930  3d22742052df4989b311b4195cbb0f1a"
      ]
     },
     "metadata": {
      "tags": []
     },
     "output_type": "display_data"
    },
    {
     "name": "stdout",
     "output_type": "stream",
     "text": [
      "\u001b[1mчисло наблюдений = 76553\n",
      "\n",
      "\u001b[1mчисло уникальных значений признаков\n"
     ]
    },
    {
     "data": {
      "text/plain": [
       "tag_questions_tag_id          7091\n",
       "tag_questions_question_id    23288\n",
       "dtype: int64"
      ]
     },
     "metadata": {
      "tags": []
     },
     "output_type": "display_data"
    }
   ],
   "source": [
    "main_stats(t_questions)"
   ]
  },
  {
   "cell_type": "markdown",
   "metadata": {
    "colab_type": "text",
    "id": "QZ7BcCkBPSmq"
   },
   "source": [
    "Из 16268 тэгов в вопросах использованы только 7091."
   ]
  },
  {
   "cell_type": "code",
   "execution_count": 0,
   "metadata": {
    "colab": {
     "base_uri": "https://localhost:8080/",
     "height": 34
    },
    "colab_type": "code",
    "id": "0P79WvxGPSmr",
    "outputId": "99f4add5-7bc8-43b9-8331-871781c8fd41"
   },
   "outputs": [
    {
     "name": "stdout",
     "output_type": "stream",
     "text": [
      "Cреднее количество тэгов у вопроса = 3.29\n"
     ]
    }
   ],
   "source": [
    "print('Cреднее количество тэгов у вопроса = {:2.2f}'.format(t_questions.shape[0]/23288))"
   ]
  },
  {
   "cell_type": "code",
   "execution_count": 0,
   "metadata": {
    "colab": {
     "base_uri": "https://localhost:8080/",
     "height": 884
    },
    "colab_type": "code",
    "id": "gYgW0eHJPSms",
    "outputId": "e36a4afa-bcdf-452e-be5f-ee57846c552a"
   },
   "outputs": [
    {
     "data": {
      "text/html": [
       "<div>\n",
       "<style scoped>\n",
       "    .dataframe tbody tr th:only-of-type {\n",
       "        vertical-align: middle;\n",
       "    }\n",
       "\n",
       "    .dataframe tbody tr th {\n",
       "        vertical-align: top;\n",
       "    }\n",
       "\n",
       "    .dataframe thead th {\n",
       "        text-align: right;\n",
       "    }\n",
       "</style>\n",
       "<table border=\"1\" class=\"dataframe\">\n",
       "  <thead>\n",
       "    <tr style=\"text-align: right;\">\n",
       "      <th></th>\n",
       "      <th>tag_questions_question_id</th>\n",
       "    </tr>\n",
       "    <tr>\n",
       "      <th>tag_questions_tag_id</th>\n",
       "      <th></th>\n",
       "    </tr>\n",
       "  </thead>\n",
       "  <tbody>\n",
       "    <tr>\n",
       "      <th>28913</th>\n",
       "      <td>1</td>\n",
       "    </tr>\n",
       "    <tr>\n",
       "      <th>32939</th>\n",
       "      <td>1</td>\n",
       "    </tr>\n",
       "    <tr>\n",
       "      <th>32937</th>\n",
       "      <td>1</td>\n",
       "    </tr>\n",
       "    <tr>\n",
       "      <th>32936</th>\n",
       "      <td>1</td>\n",
       "    </tr>\n",
       "    <tr>\n",
       "      <th>32935</th>\n",
       "      <td>1</td>\n",
       "    </tr>\n",
       "    <tr>\n",
       "      <th>32934</th>\n",
       "      <td>1</td>\n",
       "    </tr>\n",
       "    <tr>\n",
       "      <th>32931</th>\n",
       "      <td>1</td>\n",
       "    </tr>\n",
       "    <tr>\n",
       "      <th>32926</th>\n",
       "      <td>1</td>\n",
       "    </tr>\n",
       "    <tr>\n",
       "      <th>32924</th>\n",
       "      <td>1</td>\n",
       "    </tr>\n",
       "    <tr>\n",
       "      <th>32941</th>\n",
       "      <td>1</td>\n",
       "    </tr>\n",
       "    <tr>\n",
       "      <th>32919</th>\n",
       "      <td>1</td>\n",
       "    </tr>\n",
       "    <tr>\n",
       "      <th>32911</th>\n",
       "      <td>1</td>\n",
       "    </tr>\n",
       "    <tr>\n",
       "      <th>...</th>\n",
       "      <td>...</td>\n",
       "    </tr>\n",
       "    <tr>\n",
       "      <th>27422</th>\n",
       "      <td>545</td>\n",
       "    </tr>\n",
       "    <tr>\n",
       "      <th>18109</th>\n",
       "      <td>638</td>\n",
       "    </tr>\n",
       "    <tr>\n",
       "      <th>18360</th>\n",
       "      <td>679</td>\n",
       "    </tr>\n",
       "    <tr>\n",
       "      <th>452</th>\n",
       "      <td>692</td>\n",
       "    </tr>\n",
       "    <tr>\n",
       "      <th>53</th>\n",
       "      <td>701</td>\n",
       "    </tr>\n",
       "    <tr>\n",
       "      <th>20227</th>\n",
       "      <td>783</td>\n",
       "    </tr>\n",
       "    <tr>\n",
       "      <th>18217</th>\n",
       "      <td>946</td>\n",
       "    </tr>\n",
       "    <tr>\n",
       "      <th>27292</th>\n",
       "      <td>989</td>\n",
       "    </tr>\n",
       "    <tr>\n",
       "      <th>54</th>\n",
       "      <td>1083</td>\n",
       "    </tr>\n",
       "    <tr>\n",
       "      <th>89</th>\n",
       "      <td>1324</td>\n",
       "    </tr>\n",
       "    <tr>\n",
       "      <th>129</th>\n",
       "      <td>1566</td>\n",
       "    </tr>\n",
       "    <tr>\n",
       "      <th>27490</th>\n",
       "      <td>3744</td>\n",
       "    </tr>\n",
       "  </tbody>\n",
       "</table>\n",
       "<p>7091 rows × 1 columns</p>\n",
       "</div>"
      ],
      "text/plain": [
       "                      tag_questions_question_id\n",
       "tag_questions_tag_id                           \n",
       "28913                                         1\n",
       "32939                                         1\n",
       "32937                                         1\n",
       "32936                                         1\n",
       "32935                                         1\n",
       "32934                                         1\n",
       "32931                                         1\n",
       "32926                                         1\n",
       "32924                                         1\n",
       "32941                                         1\n",
       "32919                                         1\n",
       "32911                                         1\n",
       "...                                         ...\n",
       "27422                                       545\n",
       "18109                                       638\n",
       "18360                                       679\n",
       "452                                         692\n",
       "53                                          701\n",
       "20227                                       783\n",
       "18217                                       946\n",
       "27292                                       989\n",
       "54                                         1083\n",
       "89                                         1324\n",
       "129                                        1566\n",
       "27490                                      3744\n",
       "\n",
       "[7091 rows x 1 columns]"
      ]
     },
     "execution_count": 69,
     "metadata": {
      "tags": []
     },
     "output_type": "execute_result"
    }
   ],
   "source": [
    "t_questions.groupby(t_questions.tag_questions_tag_id).count().sort_values(by=['tag_questions_question_id'])"
   ]
  },
  {
   "cell_type": "markdown",
   "metadata": {
    "colab_type": "text",
    "id": "EVtt2wx_PSmt"
   },
   "source": [
    "Самый популярный тэг в вопросах - college. Далее следуют: career, medicine, engineering и business."
   ]
  },
  {
   "cell_type": "markdown",
   "metadata": {
    "colab_type": "text",
    "id": "_DWpr7-IPSmu"
   },
   "source": [
    "10) Рассмотрим $\\textbf{students:}$"
   ]
  },
  {
   "cell_type": "code",
   "execution_count": 0,
   "metadata": {
    "colab": {
     "base_uri": "https://localhost:8080/",
     "height": 323
    },
    "colab_type": "code",
    "id": "jVzrbjMpPSmu",
    "outputId": "28883eba-06ea-4882-853a-6cbcee9e0aa1"
   },
   "outputs": [
    {
     "data": {
      "text/html": [
       "<div>\n",
       "<style scoped>\n",
       "    .dataframe tbody tr th:only-of-type {\n",
       "        vertical-align: middle;\n",
       "    }\n",
       "\n",
       "    .dataframe tbody tr th {\n",
       "        vertical-align: top;\n",
       "    }\n",
       "\n",
       "    .dataframe thead th {\n",
       "        text-align: right;\n",
       "    }\n",
       "</style>\n",
       "<table border=\"1\" class=\"dataframe\">\n",
       "  <thead>\n",
       "    <tr style=\"text-align: right;\">\n",
       "      <th></th>\n",
       "      <th>students_id</th>\n",
       "      <th>students_location</th>\n",
       "      <th>students_date_joined</th>\n",
       "    </tr>\n",
       "  </thead>\n",
       "  <tbody>\n",
       "    <tr>\n",
       "      <th>0</th>\n",
       "      <td>12a89e96755a4dba83ff03e03043d9c0</td>\n",
       "      <td>NaN</td>\n",
       "      <td>2011-12-16 14:19:24</td>\n",
       "    </tr>\n",
       "    <tr>\n",
       "      <th>1</th>\n",
       "      <td>e37a5990fe354c60be5e87376b08d5e3</td>\n",
       "      <td>NaN</td>\n",
       "      <td>2011-12-27 03:02:44</td>\n",
       "    </tr>\n",
       "    <tr>\n",
       "      <th>2</th>\n",
       "      <td>12b402cceeda43dcb6e12ef9f2d221ea</td>\n",
       "      <td>NaN</td>\n",
       "      <td>2012-01-01 05:00:00</td>\n",
       "    </tr>\n",
       "    <tr>\n",
       "      <th>3</th>\n",
       "      <td>a0f431fc79794edcb104f68ce55ab897</td>\n",
       "      <td>NaN</td>\n",
       "      <td>2012-01-01 05:00:00</td>\n",
       "    </tr>\n",
       "    <tr>\n",
       "      <th>4</th>\n",
       "      <td>23aea4702d804bd88d1e9fb28074a1b4</td>\n",
       "      <td>NaN</td>\n",
       "      <td>2012-01-01 05:00:00</td>\n",
       "    </tr>\n",
       "  </tbody>\n",
       "</table>\n",
       "</div>"
      ],
      "text/plain": [
       "                        students_id students_location students_date_joined\n",
       "0  12a89e96755a4dba83ff03e03043d9c0               NaN  2011-12-16 14:19:24\n",
       "1  e37a5990fe354c60be5e87376b08d5e3               NaN  2011-12-27 03:02:44\n",
       "2  12b402cceeda43dcb6e12ef9f2d221ea               NaN  2012-01-01 05:00:00\n",
       "3  a0f431fc79794edcb104f68ce55ab897               NaN  2012-01-01 05:00:00\n",
       "4  23aea4702d804bd88d1e9fb28074a1b4               NaN  2012-01-01 05:00:00"
      ]
     },
     "metadata": {
      "tags": []
     },
     "output_type": "display_data"
    },
    {
     "name": "stdout",
     "output_type": "stream",
     "text": [
      "\u001b[1mчисло наблюдений = 30971\n",
      "\n",
      "\u001b[1mчисло уникальных значений признаков\n"
     ]
    },
    {
     "data": {
      "text/plain": [
       "students_id             30971\n",
       "students_location        5480\n",
       "students_date_joined    29736\n",
       "dtype: int64"
      ]
     },
     "metadata": {
      "tags": []
     },
     "output_type": "display_data"
    }
   ],
   "source": [
    "main_stats(students)"
   ]
  },
  {
   "cell_type": "markdown",
   "metadata": {
    "colab_type": "text",
    "id": "-KcSLd7wPSmw"
   },
   "source": [
    "Количество уникальных студентов совпадает с размером таблицы."
   ]
  },
  {
   "cell_type": "code",
   "execution_count": 0,
   "metadata": {
    "colab": {
     "base_uri": "https://localhost:8080/",
     "height": 476
    },
    "colab_type": "code",
    "id": "_-XUdolpPSmw",
    "outputId": "4be4d637-5983-4167-d8e3-4773de6d212e"
   },
   "outputs": [
    {
     "data": {
      "text/plain": [
       "students_location\n",
       ".                                         1\n",
       "Highland Charter Township, Michigan       1\n",
       "Highland Heights, Ohio                    1\n",
       "Highland Park, Illinois                   1\n",
       "Highland Park, Michigan                   1\n",
       "Highland Park, New Jersey                 1\n",
       "Highland, California                      1\n",
       "Highland, Maryland                        1\n",
       "Richmond West, Florida                    1\n",
       "Richmond Hill, Ontario, Canada            1\n",
       "Ridgefield Park, New Jersey               1\n",
       "Highlands, Texas                          1\n",
       "                                       ... \n",
       "San Antonio, Texas                      202\n",
       "Oakland, California                     261\n",
       "Chicago, Illinois                       344\n",
       "Chennai, Tamil Nadu, India              437\n",
       "Houston, Texas                          476\n",
       "San Jose, California                    548\n",
       "San Francisco, California               550\n",
       "Boston, Massachusetts                   557\n",
       "Hyderabad, Telangana, India             597\n",
       "Los Angeles, California                 663\n",
       "Bengaluru, Karnataka, India             890\n",
       "New York, New York                     1313\n",
       "Name: students_id, Length: 5480, dtype: int64"
      ]
     },
     "execution_count": 71,
     "metadata": {
      "tags": []
     },
     "output_type": "execute_result"
    }
   ],
   "source": [
    "students.groupby(students.students_location).students_id.count().sort_values()"
   ]
  },
  {
   "cell_type": "markdown",
   "metadata": {
    "colab_type": "text",
    "id": "FlMGSsIkPSmz"
   },
   "source": [
    "Большая часть студентов из Нью Йорка и других городов Америки. Однако, так же много студентов из Индии."
   ]
  },
  {
   "cell_type": "markdown",
   "metadata": {
    "colab_type": "text",
    "id": "UlOq3KRpPSm0"
   },
   "source": [
    "11) Рассмотрим $\\textbf{professionals:}$"
   ]
  },
  {
   "cell_type": "code",
   "execution_count": 0,
   "metadata": {
    "colab": {
     "base_uri": "https://localhost:8080/",
     "height": 357
    },
    "colab_type": "code",
    "id": "TtfbhRG-PSm0",
    "outputId": "63d01409-39c6-4778-9516-3b967d255f96"
   },
   "outputs": [
    {
     "data": {
      "text/html": [
       "<div>\n",
       "<style scoped>\n",
       "    .dataframe tbody tr th:only-of-type {\n",
       "        vertical-align: middle;\n",
       "    }\n",
       "\n",
       "    .dataframe tbody tr th {\n",
       "        vertical-align: top;\n",
       "    }\n",
       "\n",
       "    .dataframe thead th {\n",
       "        text-align: right;\n",
       "    }\n",
       "</style>\n",
       "<table border=\"1\" class=\"dataframe\">\n",
       "  <thead>\n",
       "    <tr style=\"text-align: right;\">\n",
       "      <th></th>\n",
       "      <th>professionals_id</th>\n",
       "      <th>professionals_location</th>\n",
       "      <th>professionals_industry</th>\n",
       "      <th>professionals_headline</th>\n",
       "      <th>professionals_date_joined</th>\n",
       "    </tr>\n",
       "  </thead>\n",
       "  <tbody>\n",
       "    <tr>\n",
       "      <th>0</th>\n",
       "      <td>9ced4ce7519049c0944147afb75a8ce3</td>\n",
       "      <td>NaN</td>\n",
       "      <td>NaN</td>\n",
       "      <td>NaN</td>\n",
       "      <td>2011-10-05 20:35:19</td>\n",
       "    </tr>\n",
       "    <tr>\n",
       "      <th>1</th>\n",
       "      <td>f718dcf6d2ec4cb0a52a9db59d7f9e67</td>\n",
       "      <td>NaN</td>\n",
       "      <td>NaN</td>\n",
       "      <td>NaN</td>\n",
       "      <td>2011-10-05 20:49:21</td>\n",
       "    </tr>\n",
       "    <tr>\n",
       "      <th>2</th>\n",
       "      <td>0c673e046d824ec0ad0ebe012a0673e4</td>\n",
       "      <td>New York, New York</td>\n",
       "      <td>NaN</td>\n",
       "      <td>NaN</td>\n",
       "      <td>2011-10-18 17:31:26</td>\n",
       "    </tr>\n",
       "    <tr>\n",
       "      <th>3</th>\n",
       "      <td>977428d851b24183b223be0eb8619a8c</td>\n",
       "      <td>Boston, Massachusetts</td>\n",
       "      <td>NaN</td>\n",
       "      <td>NaN</td>\n",
       "      <td>2011-11-09 20:39:29</td>\n",
       "    </tr>\n",
       "    <tr>\n",
       "      <th>4</th>\n",
       "      <td>e2d57e5041a44f489288397c9904c2b2</td>\n",
       "      <td>NaN</td>\n",
       "      <td>NaN</td>\n",
       "      <td>NaN</td>\n",
       "      <td>2011-12-10 22:14:44</td>\n",
       "    </tr>\n",
       "  </tbody>\n",
       "</table>\n",
       "</div>"
      ],
      "text/plain": [
       "                   professionals_id  ... professionals_date_joined\n",
       "0  9ced4ce7519049c0944147afb75a8ce3  ...       2011-10-05 20:35:19\n",
       "1  f718dcf6d2ec4cb0a52a9db59d7f9e67  ...       2011-10-05 20:49:21\n",
       "2  0c673e046d824ec0ad0ebe012a0673e4  ...       2011-10-18 17:31:26\n",
       "3  977428d851b24183b223be0eb8619a8c  ...       2011-11-09 20:39:29\n",
       "4  e2d57e5041a44f489288397c9904c2b2  ...       2011-12-10 22:14:44\n",
       "\n",
       "[5 rows x 5 columns]"
      ]
     },
     "metadata": {
      "tags": []
     },
     "output_type": "display_data"
    },
    {
     "name": "stdout",
     "output_type": "stream",
     "text": [
      "\u001b[1mчисло наблюдений = 28152\n",
      "\n",
      "\u001b[1mчисло уникальных значений признаков\n"
     ]
    },
    {
     "data": {
      "text/plain": [
       "professionals_id             28152\n",
       "professionals_location        2582\n",
       "professionals_industry        2470\n",
       "professionals_headline       22272\n",
       "professionals_date_joined    28000\n",
       "dtype: int64"
      ]
     },
     "metadata": {
      "tags": []
     },
     "output_type": "display_data"
    }
   ],
   "source": [
    "main_stats(professionals)"
   ]
  },
  {
   "cell_type": "code",
   "execution_count": 0,
   "metadata": {
    "colab": {
     "base_uri": "https://localhost:8080/",
     "height": 476
    },
    "colab_type": "code",
    "id": "gTgbVHaaPSm2",
    "outputId": "f6b57062-5fef-4416-a258-5d014b996174"
   },
   "outputs": [
    {
     "data": {
      "text/plain": [
       "professionals_location\n",
       "Aberdeen Proving Ground, Maryland                                 1\n",
       "Middletown, Delaware                                              1\n",
       "Middle River, Maryland                                            1\n",
       "Middle Island, New York                                           1\n",
       "Mettupalayam, Tamil Nadu, India                                   1\n",
       "Metropolitan Region of Sorocaba, State of São Paulo, Brazil       1\n",
       "Methuen, Massachusetts                                            1\n",
       "Metairie, Louisiana                                               1\n",
       "Meru, Meru County, Kenya                                          1\n",
       "Merta Area, India                                                 1\n",
       "Merrimack, New Hampshire                                          1\n",
       "Merrick, New York                                                 1\n",
       "                                                               ... \n",
       "Bengaluru, Karnataka, India                                     394\n",
       "San Francisco, California                                       425\n",
       "San Francisco Bay Area                                          513\n",
       "Houston, Texas                                                  556\n",
       "Austin, Texas                                                   574\n",
       "Chicago, Illinois                                               576\n",
       "Atlanta, Georgia                                                578\n",
       "Los Angeles, California                                         617\n",
       "Boston, Massachusetts                                           714\n",
       "Greater New York City Area                                      745\n",
       "California, California                                          864\n",
       "New York, New York                                             1337\n",
       "Name: professionals_id, Length: 2582, dtype: int64"
      ]
     },
     "execution_count": 73,
     "metadata": {
      "tags": []
     },
     "output_type": "execute_result"
    }
   ],
   "source": [
    "professionals.groupby(professionals.professionals_location).professionals_id.count().sort_values()"
   ]
  },
  {
   "cell_type": "markdown",
   "metadata": {
    "colab_type": "text",
    "id": "SMHMSICVPSm5"
   },
   "source": [
    "В отличие от студентов, подавляющее большинство профессионалов из США."
   ]
  },
  {
   "cell_type": "code",
   "execution_count": 0,
   "metadata": {
    "colab": {
     "base_uri": "https://localhost:8080/",
     "height": 476
    },
    "colab_type": "code",
    "id": "BS2GM2WUPSm6",
    "outputId": "96f3073e-989a-4cce-9419-e77c9d7ae07c"
   },
   "outputs": [
    {
     "data": {
      "text/plain": [
       "professionals_industry\n",
       " Call Center                                                1\n",
       "Non-profit Marketing Management                             1\n",
       "Non-profit                                                  1\n",
       "Non-Profit/Political                                        1\n",
       "Non-Profit and Entertaiment                                 1\n",
       "Non-Profit Management, Conflict Resolution, Education       1\n",
       "No profit                                                   1\n",
       "Newspapers/News Media                                       1\n",
       "Newspapers/Magazines                                        1\n",
       "News                                                        1\n",
       "New Ventures                                                1\n",
       "New Media and Communications                                1\n",
       "                                                         ... \n",
       "Mechanical or Industrial Engineering                      359\n",
       "Human Resources                                           377\n",
       "Internet                                                  427\n",
       "Marketing and Advertising                                 526\n",
       "Education Management                                      593\n",
       "Financial Services                                        639\n",
       "Accounting                                                781\n",
       "Higher Education                                          800\n",
       "Hospital and Health Care                                  862\n",
       "Computer Software                                        1272\n",
       "Information Technology and Services                      2109\n",
       "Telecommunications                                       3166\n",
       "Name: professionals_id, Length: 2470, dtype: int64"
      ]
     },
     "execution_count": 74,
     "metadata": {
      "tags": []
     },
     "output_type": "execute_result"
    }
   ],
   "source": [
    "professionals.groupby(professionals.professionals_industry).professionals_id.count().sort_values()"
   ]
  },
  {
   "cell_type": "markdown",
   "metadata": {
    "colab_type": "text",
    "id": "VIa-X_VaPSm8"
   },
   "source": [
    "Среди областей знаний профессионалов (professionals_industry) имеется склонность к информационным технологиям."
   ]
  },
  {
   "cell_type": "markdown",
   "metadata": {
    "colab_type": "text",
    "id": "bXP2JtvSPSm8"
   },
   "source": [
    "12) Сравним $\\textbf{professionals и students:}$"
   ]
  },
  {
   "cell_type": "code",
   "execution_count": 0,
   "metadata": {
    "colab": {
     "base_uri": "https://localhost:8080/",
     "height": 621
    },
    "colab_type": "code",
    "id": "JcjyqIl3PSm-",
    "outputId": "8a60d2dd-d125-47af-edd4-eaeb6bf9481b"
   },
   "outputs": [
    {
     "data": {
      "image/png": "[encoded data removed]",
      "text/plain": [
       "<Figure size 1080x720 with 1 Axes>"
      ]
     },
     "metadata": {
      "tags": []
     },
     "output_type": "display_data"
    }
   ],
   "source": [
    "professionals_yearly_count = yearly_growth(professionals, 'professionals_date_joined')\n",
    "students_yearly_count = yearly_growth(students, 'students_date_joined')\n",
    "\n",
    "plt.figure(figsize=(15, 10))\n",
    "plt.plot(professionals_yearly_count, label='Professionals')\n",
    "plt.plot(students_yearly_count, label='Students')\n",
    "plt.xlabel('year')\n",
    "plt.ylabel('count')\n",
    "plt.title('Годовая динамика новых пользователей')\n",
    "plt.legend()\n",
    "plt.show()"
   ]
  },
  {
   "cell_type": "markdown",
   "metadata": {
    "colab_type": "text",
    "id": "vW9_VdkyPSnA"
   },
   "source": [
    "Наблюдается положительная динамика в росте количества профессионалов, посмотрим подробнее."
   ]
  },
  {
   "cell_type": "code",
   "execution_count": 0,
   "metadata": {
    "colab": {
     "base_uri": "https://localhost:8080/",
     "height": 621
    },
    "colab_type": "code",
    "id": "lw54gWjYPSnB",
    "outputId": "fa36a0a9-adfb-41ac-cb55-26eb919b446e"
   },
   "outputs": [
    {
     "data": {
      "image/png": "[encoded data removed]",
      "text/plain": [
       "<Figure size 1080x720 with 1 Axes>"
      ]
     },
     "metadata": {
      "tags": []
     },
     "output_type": "display_data"
    }
   ],
   "source": [
    "professionals_monthly_count = monthly_growth(professionals, 'professionals_date_joined')\n",
    "students_monthly_count = monthly_growth(students, 'students_date_joined')\n",
    "\n",
    "plt.figure(figsize=(15, 10))\n",
    "plt.plot(professionals_monthly_count.professionals_id, label='Professionals')\n",
    "plt.plot(students_monthly_count.students_id, label='Students')\n",
    "plt.xlabel('month')\n",
    "plt.ylabel('count')\n",
    "plt.title('Месячная динамика новых пользователей')\n",
    "plt.legend()\n",
    "plt.show()"
   ]
  },
  {
   "cell_type": "markdown",
   "metadata": {
    "colab_type": "text",
    "id": "TAtymGVnPSnD"
   },
   "source": [
    "С каждым месяцев прибывает все больше профессионалов, у студентов так же положительная динамика и прирост происходит более резкими скачками."
   ]
  },
  {
   "cell_type": "code",
   "execution_count": 0,
   "metadata": {
    "colab": {
     "base_uri": "https://localhost:8080/",
     "height": 621
    },
    "colab_type": "code",
    "id": "Yb0mWVBqPSnE",
    "outputId": "67cf70af-7933-4ec1-8cbd-793b9628fdd4"
   },
   "outputs": [
    {
     "data": {
      "image/png": "[encoded data removed]",
      "text/plain": [
       "<Figure size 1080x720 with 1 Axes>"
      ]
     },
     "metadata": {
      "tags": []
     },
     "output_type": "display_data"
    }
   ],
   "source": [
    "professionals_monthly_cumcount = monthly_count(professionals, 'professionals_date_joined')\n",
    "students_monthly_cumcount = monthly_count(students, 'students_date_joined')\n",
    "\n",
    "plt.figure(figsize=(15, 10))\n",
    "plt.plot(professionals_monthly_cumcount.professionals_id, label='Professionals')\n",
    "plt.plot(students_monthly_cumcount.students_id, label='Students')\n",
    "plt.xlabel('month')\n",
    "plt.ylabel('count')\n",
    "plt.title('Месячный рост количества участников форума')\n",
    "plt.legend()\n",
    "plt.show()"
   ]
  },
  {
   "cell_type": "markdown",
   "metadata": {
    "colab_type": "text",
    "id": "qAKxmaKSPSnF"
   },
   "source": [
    "Предыдущий вывод хорошо демонстрирует график с ростом количества участников форума."
   ]
  },
  {
   "cell_type": "markdown",
   "metadata": {
    "colab_type": "text",
    "id": "wjFAPHyDPSnG"
   },
   "source": [
    "Теперь наконец мы можем ответить на вопрос: какая часть участников форума пользуется системой отслеживания тэгов."
   ]
  },
  {
   "cell_type": "code",
   "execution_count": 0,
   "metadata": {
    "colab": {
     "base_uri": "https://localhost:8080/",
     "height": 34
    },
    "colab_type": "code",
    "id": "gPzCRMX9PSnG",
    "outputId": "dd6f066c-81ed-422f-c74e-d68504463bb1"
   },
   "outputs": [
    {
     "data": {
      "text/plain": [
       "30202"
      ]
     },
     "execution_count": 78,
     "metadata": {
      "tags": []
     },
     "output_type": "execute_result"
    }
   ],
   "source": [
    "t_users.groupby(t_users.tag_users_user_id).count().shape[0]"
   ]
  },
  {
   "cell_type": "code",
   "execution_count": 0,
   "metadata": {
    "colab": {
     "base_uri": "https://localhost:8080/",
     "height": 34
    },
    "colab_type": "code",
    "id": "Hk05AgtTPSnH",
    "outputId": "34f4084d-dcfb-446b-9a6b-430ebd87378b"
   },
   "outputs": [
    {
     "name": "stdout",
     "output_type": "stream",
     "text": [
      "51.1 % пользователей пользуется отслеживанием тэгов.\n"
     ]
    }
   ],
   "source": [
    "print(round(30202*100/(professionals.shape[0]+students.shape[0]),1),\n",
    "      '% пользователей пользуется отслеживанием тэгов.')"
   ]
  },
  {
   "cell_type": "markdown",
   "metadata": {
    "colab_type": "text",
    "id": "KB6yagIrPSnK"
   },
   "source": [
    "13) Рассмотрим $\\textbf{comments:}$"
   ]
  },
  {
   "cell_type": "code",
   "execution_count": 0,
   "metadata": {
    "colab": {
     "base_uri": "https://localhost:8080/",
     "height": 442
    },
    "colab_type": "code",
    "id": "Es4CLqPPPSnK",
    "outputId": "bf735893-bb5b-4a39-ae74-3f8182c7c9cb"
   },
   "outputs": [
    {
     "data": {
      "text/html": [
       "<div>\n",
       "<style scoped>\n",
       "    .dataframe tbody tr th:only-of-type {\n",
       "        vertical-align: middle;\n",
       "    }\n",
       "\n",
       "    .dataframe tbody tr th {\n",
       "        vertical-align: top;\n",
       "    }\n",
       "\n",
       "    .dataframe thead th {\n",
       "        text-align: right;\n",
       "    }\n",
       "</style>\n",
       "<table border=\"1\" class=\"dataframe\">\n",
       "  <thead>\n",
       "    <tr style=\"text-align: right;\">\n",
       "      <th></th>\n",
       "      <th>comments_id</th>\n",
       "      <th>comments_author_id</th>\n",
       "      <th>comments_parent_content_id</th>\n",
       "      <th>comments_date_added</th>\n",
       "      <th>comments_body</th>\n",
       "    </tr>\n",
       "  </thead>\n",
       "  <tbody>\n",
       "    <tr>\n",
       "      <th>0</th>\n",
       "      <td>f30250d3c2ca489db1afa9b95d481e08</td>\n",
       "      <td>9fc88a7c3323466dbb35798264c7d497</td>\n",
       "      <td>b476f9c6d9cd4c50a7bacdd90edd015a</td>\n",
       "      <td>2019-01-31 23:39:40</td>\n",
       "      <td>First, you speak to recruiters. They are train...</td>\n",
       "    </tr>\n",
       "    <tr>\n",
       "      <th>1</th>\n",
       "      <td>ca9bfc4ba9464ea383a8b080301ad72c</td>\n",
       "      <td>de2415064b9b445c8717425ed70fd99a</td>\n",
       "      <td>ef4b6ae24d1f4c3b977731e8189c7fd7</td>\n",
       "      <td>2019-01-31 20:30:47</td>\n",
       "      <td>Most large universities offer study abroad pro...</td>\n",
       "    </tr>\n",
       "    <tr>\n",
       "      <th>2</th>\n",
       "      <td>c354f6e33956499aa8b03798a60e9386</td>\n",
       "      <td>6ed20605002a42b0b8e3d6ac97c50c7f</td>\n",
       "      <td>ca7a9d7a95df471c816db82ee758f57d</td>\n",
       "      <td>2019-01-31 18:44:04</td>\n",
       "      <td>First, I want to put you at ease that the oppo...</td>\n",
       "    </tr>\n",
       "    <tr>\n",
       "      <th>3</th>\n",
       "      <td>73a6223948714c5da6231937157e4cb7</td>\n",
       "      <td>d02f6d9faac24997a7003a59e5f34bd3</td>\n",
       "      <td>c7a88aa76f5f49b0830bfeb46ba17e4d</td>\n",
       "      <td>2019-01-31 17:53:28</td>\n",
       "      <td>Your question submission was great! I just wan...</td>\n",
       "    </tr>\n",
       "    <tr>\n",
       "      <th>4</th>\n",
       "      <td>55a89a9061d44dd19569c45f90a22779</td>\n",
       "      <td>e78f75c543e84e1c94da1801d8560f65</td>\n",
       "      <td>c7a88aa76f5f49b0830bfeb46ba17e4d</td>\n",
       "      <td>2019-01-31 14:51:53</td>\n",
       "      <td>Thank you. I'm new to this site. I'm sorry if ...</td>\n",
       "    </tr>\n",
       "  </tbody>\n",
       "</table>\n",
       "</div>"
      ],
      "text/plain": [
       "                        comments_id  ...                                      comments_body\n",
       "0  f30250d3c2ca489db1afa9b95d481e08  ...  First, you speak to recruiters. They are train...\n",
       "1  ca9bfc4ba9464ea383a8b080301ad72c  ...  Most large universities offer study abroad pro...\n",
       "2  c354f6e33956499aa8b03798a60e9386  ...  First, I want to put you at ease that the oppo...\n",
       "3  73a6223948714c5da6231937157e4cb7  ...  Your question submission was great! I just wan...\n",
       "4  55a89a9061d44dd19569c45f90a22779  ...  Thank you. I'm new to this site. I'm sorry if ...\n",
       "\n",
       "[5 rows x 5 columns]"
      ]
     },
     "metadata": {
      "tags": []
     },
     "output_type": "display_data"
    },
    {
     "name": "stdout",
     "output_type": "stream",
     "text": [
      "\u001b[1mчисло наблюдений = 14962\n",
      "\n",
      "\u001b[1mчисло уникальных значений признаков\n"
     ]
    },
    {
     "data": {
      "text/plain": [
       "comments_id                   14962\n",
       "comments_author_id             4230\n",
       "comments_parent_content_id     9923\n",
       "comments_date_added           14901\n",
       "comments_body                 11963\n",
       "dtype: int64"
      ]
     },
     "metadata": {
      "tags": []
     },
     "output_type": "display_data"
    }
   ],
   "source": [
    "main_stats(comments)"
   ]
  },
  {
   "cell_type": "markdown",
   "metadata": {
    "colab_type": "text",
    "id": "NZmYzq_iPSnL"
   },
   "source": [
    "4230 уникальных комментаторов оставили 14962 комментариев. В среднем, каждый комментатор оставляет 3.5 комментария."
   ]
  },
  {
   "cell_type": "markdown",
   "metadata": {
    "colab_type": "text",
    "id": "zesXYzGkPSnL"
   },
   "source": [
    "Так же мы знаем количество зарегестрированных людей на ресурсе, посчитаем какой процент людей оставляет комментарии."
   ]
  },
  {
   "cell_type": "code",
   "execution_count": 0,
   "metadata": {
    "colab": {
     "base_uri": "https://localhost:8080/",
     "height": 34
    },
    "colab_type": "code",
    "id": "gRSO1y_hPSnM",
    "outputId": "fc8e26b0-abf7-4b77-f869-184cde6d6436"
   },
   "outputs": [
    {
     "name": "stdout",
     "output_type": "stream",
     "text": [
      "7.2 % пользователей оставляли хотя бы 1 комментарий.\n"
     ]
    }
   ],
   "source": [
    "print(round(4230*100/(professionals.shape[0]+students.shape[0]),1),\n",
    "      '% пользователей оставляли хотя бы 1 комментарий.')"
   ]
  },
  {
   "cell_type": "code",
   "execution_count": 0,
   "metadata": {
    "colab": {
     "base_uri": "https://localhost:8080/",
     "height": 299
    },
    "colab_type": "code",
    "id": "gffhdaxBPSnN",
    "outputId": "e10db320-3c8e-4597-b364-80427920b768"
   },
   "outputs": [
    {
     "data": {
      "image/png": "[encoded data removed]",
      "text/plain": [
       "<Figure size 432x288 with 1 Axes>"
      ]
     },
     "metadata": {
      "tags": []
     },
     "output_type": "display_data"
    }
   ],
   "source": [
    "comments['comments_date_added'] = pd.to_datetime(comments['comments_date_added'])\n",
    "comments.groupby(comments.comments_date_added.dt.year).comments_id.count().plot.bar()\n",
    "plt.show()"
   ]
  },
  {
   "cell_type": "markdown",
   "metadata": {
    "colab_type": "text",
    "id": "a7JajdsMPSnO"
   },
   "source": [
    "Помимо известного всплеска активности в 2016 году, мы так же видим всплеск активности комментариев в 2014."
   ]
  },
  {
   "cell_type": "code",
   "execution_count": 0,
   "metadata": {
    "colab": {
     "base_uri": "https://localhost:8080/",
     "height": 34
    },
    "colab_type": "code",
    "id": "0Co5J-vgPSnO",
    "outputId": "0afc3c53-c44b-4fa9-ecbd-3897423a9f32"
   },
   "outputs": [
    {
     "data": {
      "text/plain": [
       "165.35362919395803"
      ]
     },
     "execution_count": 83,
     "metadata": {
      "tags": []
     },
     "output_type": "execute_result"
    }
   ],
   "source": [
    "comments['comments_body'].str.lstrip('<p> \\n\\t').str.len().mean()"
   ]
  },
  {
   "cell_type": "markdown",
   "metadata": {
    "colab_type": "text",
    "id": "dxskBiq6PSnP"
   },
   "source": [
    "Средний комментарий короче вопроса и ответа (165 против 890 и 223 соответственно)."
   ]
  },
  {
   "cell_type": "code",
   "execution_count": 0,
   "metadata": {
    "colab": {
     "base_uri": "https://localhost:8080/",
     "height": 34
    },
    "colab_type": "code",
    "id": "KSDdRd9sPSnQ",
    "outputId": "913650bb-1325-40d4-8279-e78eee1283a8"
   },
   "outputs": [
    {
     "data": {
      "text/plain": [
       "1.5078101380630857"
      ]
     },
     "execution_count": 84,
     "metadata": {
      "tags": []
     },
     "output_type": "execute_result"
    }
   ],
   "source": [
    "comments.groupby(comments.comments_parent_content_id).comments_id.count().mean()"
   ]
  },
  {
   "cell_type": "markdown",
   "metadata": {
    "colab_type": "text",
    "id": "JE6BSBqaPSnR"
   },
   "source": [
    "Среднее значение комментариев под каждым ответов - 1.5"
   ]
  },
  {
   "cell_type": "markdown",
   "metadata": {
    "colab_type": "text",
    "id": "Zi5W7JS3PSnR"
   },
   "source": [
    "14) Рассмотрим $\\textbf{emails:}$"
   ]
  },
  {
   "cell_type": "code",
   "execution_count": 0,
   "metadata": {
    "colab": {
     "base_uri": "https://localhost:8080/",
     "height": 340
    },
    "colab_type": "code",
    "id": "2A7n-bmSPSnR",
    "outputId": "da2e4dbc-fdb5-48b7-facb-e5cf43de1e94"
   },
   "outputs": [
    {
     "data": {
      "text/html": [
       "<div>\n",
       "<style scoped>\n",
       "    .dataframe tbody tr th:only-of-type {\n",
       "        vertical-align: middle;\n",
       "    }\n",
       "\n",
       "    .dataframe tbody tr th {\n",
       "        vertical-align: top;\n",
       "    }\n",
       "\n",
       "    .dataframe thead th {\n",
       "        text-align: right;\n",
       "    }\n",
       "</style>\n",
       "<table border=\"1\" class=\"dataframe\">\n",
       "  <thead>\n",
       "    <tr style=\"text-align: right;\">\n",
       "      <th></th>\n",
       "      <th>emails_id</th>\n",
       "      <th>emails_recipient_id</th>\n",
       "      <th>emails_date_sent</th>\n",
       "      <th>emails_frequency_level</th>\n",
       "    </tr>\n",
       "  </thead>\n",
       "  <tbody>\n",
       "    <tr>\n",
       "      <th>0</th>\n",
       "      <td>2337714</td>\n",
       "      <td>0c673e046d824ec0ad0ebe012a0673e4</td>\n",
       "      <td>2018-12-07 01:05:40</td>\n",
       "      <td>email_notification_daily</td>\n",
       "    </tr>\n",
       "    <tr>\n",
       "      <th>1</th>\n",
       "      <td>2336077</td>\n",
       "      <td>0c673e046d824ec0ad0ebe012a0673e4</td>\n",
       "      <td>2018-12-06 01:14:15</td>\n",
       "      <td>email_notification_daily</td>\n",
       "    </tr>\n",
       "    <tr>\n",
       "      <th>2</th>\n",
       "      <td>2314660</td>\n",
       "      <td>0c673e046d824ec0ad0ebe012a0673e4</td>\n",
       "      <td>2018-11-17 00:38:27</td>\n",
       "      <td>email_notification_daily</td>\n",
       "    </tr>\n",
       "    <tr>\n",
       "      <th>3</th>\n",
       "      <td>2312639</td>\n",
       "      <td>0c673e046d824ec0ad0ebe012a0673e4</td>\n",
       "      <td>2018-11-16 00:32:19</td>\n",
       "      <td>email_notification_daily</td>\n",
       "    </tr>\n",
       "    <tr>\n",
       "      <th>4</th>\n",
       "      <td>2299700</td>\n",
       "      <td>0c673e046d824ec0ad0ebe012a0673e4</td>\n",
       "      <td>2018-11-08 00:16:40</td>\n",
       "      <td>email_notification_daily</td>\n",
       "    </tr>\n",
       "  </tbody>\n",
       "</table>\n",
       "</div>"
      ],
      "text/plain": [
       "   emails_id  ...    emails_frequency_level\n",
       "0    2337714  ...  email_notification_daily\n",
       "1    2336077  ...  email_notification_daily\n",
       "2    2314660  ...  email_notification_daily\n",
       "3    2312639  ...  email_notification_daily\n",
       "4    2299700  ...  email_notification_daily\n",
       "\n",
       "[5 rows x 4 columns]"
      ]
     },
     "metadata": {
      "tags": []
     },
     "output_type": "display_data"
    },
    {
     "name": "stdout",
     "output_type": "stream",
     "text": [
      "\u001b[1mчисло наблюдений = 1850101\n",
      "\n",
      "\u001b[1mчисло уникальных значений признаков\n"
     ]
    },
    {
     "data": {
      "text/plain": [
       "emails_id                 1850101\n",
       "emails_recipient_id         22168\n",
       "emails_date_sent          1610163\n",
       "emails_frequency_level          3\n",
       "dtype: int64"
      ]
     },
     "metadata": {
      "tags": []
     },
     "output_type": "display_data"
    }
   ],
   "source": [
    "main_stats(emails)"
   ]
  },
  {
   "cell_type": "code",
   "execution_count": 0,
   "metadata": {
    "colab": {
     "base_uri": "https://localhost:8080/",
     "height": 34
    },
    "colab_type": "code",
    "id": "v4SDY0dnPSnS",
    "outputId": "25af2443-ece6-49d4-c685-955a385a55cf"
   },
   "outputs": [
    {
     "name": "stdout",
     "output_type": "stream",
     "text": [
      "Среднее количество полученных писем каждым пользователем = 83.46\n"
     ]
    }
   ],
   "source": [
    "print('Среднее количество полученных писем каждым пользователем = {:2.2f}'.format(1850101/22168))"
   ]
  },
  {
   "cell_type": "code",
   "execution_count": 0,
   "metadata": {
    "colab": {
     "base_uri": "https://localhost:8080/",
     "height": 85
    },
    "colab_type": "code",
    "id": "kQWYyOlWPSnT",
    "outputId": "29bfd2c4-e1ef-4dd0-9c1b-c12be4f4f375"
   },
   "outputs": [
    {
     "name": "stdout",
     "output_type": "stream",
     "text": [
      "Существуют 3 вида email уведомлений:\n",
      "email_notification_daily\n",
      "email_notification_immediate\n",
      "email_notification_weekly\n"
     ]
    }
   ],
   "source": [
    "print('Существуют 3 вида email уведомлений:')\n",
    "for i in range(len(emails['emails_frequency_level'].unique())): \n",
    "    print (emails['emails_frequency_level'].unique()[i])"
   ]
  },
  {
   "cell_type": "code",
   "execution_count": 0,
   "metadata": {
    "colab": {
     "base_uri": "https://localhost:8080/",
     "height": 102
    },
    "colab_type": "code",
    "id": "ea5_Zj_FPSnV",
    "outputId": "6efe8f1d-415b-4f3a-e227-c0e8f3023857"
   },
   "outputs": [
    {
     "data": {
      "text/plain": [
       "emails_frequency_level\n",
       "email_notification_daily        1488240\n",
       "email_notification_immediate     333183\n",
       "email_notification_weekly         28678\n",
       "Name: emails_id, dtype: int64"
      ]
     },
     "execution_count": 88,
     "metadata": {
      "tags": []
     },
     "output_type": "execute_result"
    }
   ],
   "source": [
    "emails.groupby(emails.emails_frequency_level).emails_id.count()"
   ]
  },
  {
   "cell_type": "markdown",
   "metadata": {
    "colab_type": "text",
    "id": "4v5ymDLBPSnW"
   },
   "source": [
    "Ежедневные почтовые уведомления наиболее популярны. Недельные наименее распостранены."
   ]
  },
  {
   "cell_type": "code",
   "execution_count": 0,
   "metadata": {
    "colab": {
     "base_uri": "https://localhost:8080/",
     "height": 204
    },
    "colab_type": "code",
    "id": "PzG6c94wPSnW",
    "outputId": "3d91c861-f724-4b43-ccbf-9ef3705c397c"
   },
   "outputs": [
    {
     "data": {
      "text/html": [
       "<div>\n",
       "<style scoped>\n",
       "    .dataframe tbody tr th:only-of-type {\n",
       "        vertical-align: middle;\n",
       "    }\n",
       "\n",
       "    .dataframe tbody tr th {\n",
       "        vertical-align: top;\n",
       "    }\n",
       "\n",
       "    .dataframe thead th {\n",
       "        text-align: right;\n",
       "    }\n",
       "</style>\n",
       "<table border=\"1\" class=\"dataframe\">\n",
       "  <thead>\n",
       "    <tr style=\"text-align: right;\">\n",
       "      <th></th>\n",
       "      <th>emails_id</th>\n",
       "      <th>emails_recipient_id</th>\n",
       "      <th>emails_date_sent</th>\n",
       "      <th>emails_frequency_level</th>\n",
       "    </tr>\n",
       "  </thead>\n",
       "  <tbody>\n",
       "    <tr>\n",
       "      <th>81448</th>\n",
       "      <td>2340</td>\n",
       "      <td>64a77f3d3be84ba5a71ba6081e086c3a</td>\n",
       "      <td>2014-02-03 23:00:04</td>\n",
       "      <td>email_notification_daily</td>\n",
       "    </tr>\n",
       "    <tr>\n",
       "      <th>84312</th>\n",
       "      <td>2341</td>\n",
       "      <td>d49b70f663074d3494252f0d834bac6b</td>\n",
       "      <td>2014-02-03 23:00:04</td>\n",
       "      <td>email_notification_daily</td>\n",
       "    </tr>\n",
       "    <tr>\n",
       "      <th>41133</th>\n",
       "      <td>2898</td>\n",
       "      <td>9ce1a6a0bb3c4cc49bc6414788b80c49</td>\n",
       "      <td>2014-02-11 23:00:04</td>\n",
       "      <td>email_notification_daily</td>\n",
       "    </tr>\n",
       "    <tr>\n",
       "      <th>96572</th>\n",
       "      <td>2899</td>\n",
       "      <td>eea91690141e4abb98d66ab65852acce</td>\n",
       "      <td>2014-02-11 23:00:05</td>\n",
       "      <td>email_notification_daily</td>\n",
       "    </tr>\n",
       "    <tr>\n",
       "      <th>105443</th>\n",
       "      <td>3316</td>\n",
       "      <td>7288ca4b38eb424dbffc39b21e72aebf</td>\n",
       "      <td>2014-02-14 23:00:04</td>\n",
       "      <td>email_notification_daily</td>\n",
       "    </tr>\n",
       "  </tbody>\n",
       "</table>\n",
       "</div>"
      ],
      "text/plain": [
       "        emails_id  ...    emails_frequency_level\n",
       "81448        2340  ...  email_notification_daily\n",
       "84312        2341  ...  email_notification_daily\n",
       "41133        2898  ...  email_notification_daily\n",
       "96572        2899  ...  email_notification_daily\n",
       "105443       3316  ...  email_notification_daily\n",
       "\n",
       "[5 rows x 4 columns]"
      ]
     },
     "execution_count": 89,
     "metadata": {
      "tags": []
     },
     "output_type": "execute_result"
    }
   ],
   "source": [
    "emails.loc[emails.emails_frequency_level=='email_notification_daily'].sort_values(by=['emails_date_sent']).head()"
   ]
  },
  {
   "cell_type": "markdown",
   "metadata": {
    "colab_type": "text",
    "id": "aLgD7jiYPSnY"
   },
   "source": [
    "Первые ежедневные почтовые уведомления были отправлены в 2014 году."
   ]
  },
  {
   "cell_type": "code",
   "execution_count": 0,
   "metadata": {
    "colab": {
     "base_uri": "https://localhost:8080/",
     "height": 204
    },
    "colab_type": "code",
    "id": "OJeT3Ud3PSnZ",
    "outputId": "b2c80ab1-2dec-4f71-f152-738519ea8d27"
   },
   "outputs": [
    {
     "data": {
      "text/html": [
       "<div>\n",
       "<style scoped>\n",
       "    .dataframe tbody tr th:only-of-type {\n",
       "        vertical-align: middle;\n",
       "    }\n",
       "\n",
       "    .dataframe tbody tr th {\n",
       "        vertical-align: top;\n",
       "    }\n",
       "\n",
       "    .dataframe thead th {\n",
       "        text-align: right;\n",
       "    }\n",
       "</style>\n",
       "<table border=\"1\" class=\"dataframe\">\n",
       "  <thead>\n",
       "    <tr style=\"text-align: right;\">\n",
       "      <th></th>\n",
       "      <th>emails_id</th>\n",
       "      <th>emails_recipient_id</th>\n",
       "      <th>emails_date_sent</th>\n",
       "      <th>emails_frequency_level</th>\n",
       "    </tr>\n",
       "  </thead>\n",
       "  <tbody>\n",
       "    <tr>\n",
       "      <th>16398</th>\n",
       "      <td>106</td>\n",
       "      <td>407c325e0cfe4dc7b993edb525e07849</td>\n",
       "      <td>2013-11-23 00:17:42</td>\n",
       "      <td>email_notification_immediate</td>\n",
       "    </tr>\n",
       "    <tr>\n",
       "      <th>48794</th>\n",
       "      <td>108</td>\n",
       "      <td>2b561cc648da4d08a082a3a835e73766</td>\n",
       "      <td>2013-11-23 00:17:43</td>\n",
       "      <td>email_notification_immediate</td>\n",
       "    </tr>\n",
       "    <tr>\n",
       "      <th>21934</th>\n",
       "      <td>107</td>\n",
       "      <td>368b46536e8d40079f20f314f0ad2655</td>\n",
       "      <td>2013-11-23 00:17:43</td>\n",
       "      <td>email_notification_immediate</td>\n",
       "    </tr>\n",
       "    <tr>\n",
       "      <th>48886</th>\n",
       "      <td>110</td>\n",
       "      <td>dbf810042a6744058d518dda7643b02b</td>\n",
       "      <td>2013-11-23 00:17:44</td>\n",
       "      <td>email_notification_immediate</td>\n",
       "    </tr>\n",
       "    <tr>\n",
       "      <th>10348</th>\n",
       "      <td>279</td>\n",
       "      <td>44b2484ecd3642c6a47514f3876cf14a</td>\n",
       "      <td>2013-12-03 22:45:51</td>\n",
       "      <td>email_notification_immediate</td>\n",
       "    </tr>\n",
       "  </tbody>\n",
       "</table>\n",
       "</div>"
      ],
      "text/plain": [
       "       emails_id  ...        emails_frequency_level\n",
       "16398        106  ...  email_notification_immediate\n",
       "48794        108  ...  email_notification_immediate\n",
       "21934        107  ...  email_notification_immediate\n",
       "48886        110  ...  email_notification_immediate\n",
       "10348        279  ...  email_notification_immediate\n",
       "\n",
       "[5 rows x 4 columns]"
      ]
     },
     "execution_count": 90,
     "metadata": {
      "tags": []
     },
     "output_type": "execute_result"
    }
   ],
   "source": [
    "emails.loc[emails.emails_frequency_level=='email_notification_immediate'].sort_values(by=['emails_date_sent']).head()"
   ]
  },
  {
   "cell_type": "markdown",
   "metadata": {
    "colab_type": "text",
    "id": "NxUdS_EgPSnb"
   },
   "source": [
    "В конце 2013 были отправленны первые мгновенные уведомления."
   ]
  },
  {
   "cell_type": "markdown",
   "metadata": {
    "colab_type": "text",
    "id": "UcAhYB3aPSnb"
   },
   "source": [
    "Посмотрим на пользователей с наибольшим количеством полученных email уведомлений."
   ]
  },
  {
   "cell_type": "code",
   "execution_count": 0,
   "metadata": {
    "colab": {
     "base_uri": "https://localhost:8080/",
     "height": 476
    },
    "colab_type": "code",
    "id": "XjbFwjjIPSnc",
    "outputId": "7656e87f-d64b-487b-c657-596e69fd9b07"
   },
   "outputs": [
    {
     "data": {
      "text/plain": [
       "emails_recipient_id\n",
       "a33a1617ecb14884b3ee0c99ad372e0f       1\n",
       "e22cad3d29384df0b2c0fa9f99e153da       1\n",
       "2a9358b45a1043b5b01e23e85f418376       1\n",
       "2a8b6b2b4aaa44d297f99d40062ac997       1\n",
       "bf24c04c3f63473c92e7ffe6ba6448ed       1\n",
       "77aff8c0735242ea9574f33726849b58       1\n",
       "bf24ecd287ba4fd6a8db1bea0bac653c       1\n",
       "7765bdee8b5b4d52b1866fa19bbb1b45       1\n",
       "77ba6d8b69874361b31f22b84548b118       1\n",
       "bf351324cfb34cbf890d260a39ab4809       1\n",
       "e1dadbdaee7b4f3b9233d6887946d675       1\n",
       "8ffae02d90fc44b583dc0a51956c66e1       1\n",
       "                                    ... \n",
       "bb73af76350b4d7ca923129d2bc734c9    1717\n",
       "1d8d4ea9cd03402cb4b34aa41ad9f3a0    1861\n",
       "99c1e11f1161446f9199feab65b4b795    1942\n",
       "73cbd4b0241f4e9dbd5e8b5b48c7e701    1958\n",
       "547122349484428c885dd9d18051b71e    2016\n",
       "5688bc6b68b243a7bb3144f0fcc02a30    2133\n",
       "ccad06e8fb2749c8bccee97b2538ea50    2252\n",
       "a41eeb74c7ad4310be0a166d3dac3d12    2587\n",
       "82d744719ffd452a8b1bd62cd17e5056    2637\n",
       "a082cb6441ce48f6bf9abe0f8e55d5fe    2970\n",
       "36ff3b3666df400f956f8335cf53e09e    3348\n",
       "0079e89bf1544926b98310e81315b9f1    3496\n",
       "Name: emails_id, Length: 22168, dtype: int64"
      ]
     },
     "execution_count": 91,
     "metadata": {
      "tags": []
     },
     "output_type": "execute_result"
    }
   ],
   "source": [
    "emails.groupby(emails.emails_recipient_id).emails_id.count().sort_values()"
   ]
  },
  {
   "cell_type": "code",
   "execution_count": 0,
   "metadata": {
    "colab": {
     "base_uri": "https://localhost:8080/",
     "height": 299
    },
    "colab_type": "code",
    "id": "7VW2BYFsPSnd",
    "outputId": "00c3ca93-7879-43f0-b68d-27b28a51ac29"
   },
   "outputs": [
    {
     "data": {
      "image/png": "[encoded data removed]",
      "text/plain": [
       "<Figure size 432x288 with 1 Axes>"
      ]
     },
     "metadata": {
      "tags": []
     },
     "output_type": "display_data"
    }
   ],
   "source": [
    "emails.groupby(emails.emails_date_sent.dt.year).emails_id.count().plot.bar()\n",
    "plt.show()"
   ]
  },
  {
   "cell_type": "markdown",
   "metadata": {
    "colab_type": "text",
    "id": "he8XzGkaPSnf"
   },
   "source": [
    "Наблюдается позитивная тенденция в количестве отправляемых пользователям email сообщений. Скорее всего это связано с количественным ростом аудитории ресурса."
   ]
  },
  {
   "cell_type": "markdown",
   "metadata": {
    "colab_type": "text",
    "id": "k2xT37n5PSnf"
   },
   "source": [
    "15) Рассмотрим $\\textbf{matches:}$"
   ]
  },
  {
   "cell_type": "code",
   "execution_count": 0,
   "metadata": {
    "colab": {
     "base_uri": "https://localhost:8080/",
     "height": 306
    },
    "colab_type": "code",
    "id": "dCpBnp4hPSng",
    "outputId": "85da8bcb-9582-460c-d01f-7b62a0d3c198"
   },
   "outputs": [
    {
     "data": {
      "text/html": [
       "<div>\n",
       "<style scoped>\n",
       "    .dataframe tbody tr th:only-of-type {\n",
       "        vertical-align: middle;\n",
       "    }\n",
       "\n",
       "    .dataframe tbody tr th {\n",
       "        vertical-align: top;\n",
       "    }\n",
       "\n",
       "    .dataframe thead th {\n",
       "        text-align: right;\n",
       "    }\n",
       "</style>\n",
       "<table border=\"1\" class=\"dataframe\">\n",
       "  <thead>\n",
       "    <tr style=\"text-align: right;\">\n",
       "      <th></th>\n",
       "      <th>matches_email_id</th>\n",
       "      <th>matches_question_id</th>\n",
       "    </tr>\n",
       "  </thead>\n",
       "  <tbody>\n",
       "    <tr>\n",
       "      <th>0</th>\n",
       "      <td>1721939</td>\n",
       "      <td>332a511f1569444485cf7a7a556a5e54</td>\n",
       "    </tr>\n",
       "    <tr>\n",
       "      <th>1</th>\n",
       "      <td>1665388</td>\n",
       "      <td>332a511f1569444485cf7a7a556a5e54</td>\n",
       "    </tr>\n",
       "    <tr>\n",
       "      <th>2</th>\n",
       "      <td>1636634</td>\n",
       "      <td>332a511f1569444485cf7a7a556a5e54</td>\n",
       "    </tr>\n",
       "    <tr>\n",
       "      <th>3</th>\n",
       "      <td>1635498</td>\n",
       "      <td>332a511f1569444485cf7a7a556a5e54</td>\n",
       "    </tr>\n",
       "    <tr>\n",
       "      <th>4</th>\n",
       "      <td>1620298</td>\n",
       "      <td>332a511f1569444485cf7a7a556a5e54</td>\n",
       "    </tr>\n",
       "  </tbody>\n",
       "</table>\n",
       "</div>"
      ],
      "text/plain": [
       "   matches_email_id               matches_question_id\n",
       "0           1721939  332a511f1569444485cf7a7a556a5e54\n",
       "1           1665388  332a511f1569444485cf7a7a556a5e54\n",
       "2           1636634  332a511f1569444485cf7a7a556a5e54\n",
       "3           1635498  332a511f1569444485cf7a7a556a5e54\n",
       "4           1620298  332a511f1569444485cf7a7a556a5e54"
      ]
     },
     "metadata": {
      "tags": []
     },
     "output_type": "display_data"
    },
    {
     "name": "stdout",
     "output_type": "stream",
     "text": [
      "\u001b[1mчисло наблюдений = 4316275\n",
      "\n",
      "\u001b[1mчисло уникальных значений признаков\n"
     ]
    },
    {
     "data": {
      "text/plain": [
       "matches_email_id       1794085\n",
       "matches_question_id      21894\n",
       "dtype: int64"
      ]
     },
     "metadata": {
      "tags": []
     },
     "output_type": "display_data"
    }
   ],
   "source": [
    "main_stats(matches)"
   ]
  },
  {
   "cell_type": "markdown",
   "metadata": {
    "colab_type": "text",
    "id": "qFu_u7AMPSnh"
   },
   "source": [
    "Похоже что matches_email_id это уже не уникальные email_id."
   ]
  },
  {
   "cell_type": "code",
   "execution_count": 0,
   "metadata": {
    "colab": {
     "base_uri": "https://localhost:8080/",
     "height": 476
    },
    "colab_type": "code",
    "id": "7vXr0qnxPSni",
    "outputId": "7c83298e-a638-4a35-c13d-69721237a169"
   },
   "outputs": [
    {
     "data": {
      "text/plain": [
       "matches_question_id\n",
       "feb08f17ab834693ba4df126699d67f8       1\n",
       "d14bfb91bf194f718eb40e1afd98f858       1\n",
       "655df5914ba347ff88ef6722993e0ebf       1\n",
       "3c9dcef198dc4150962779e5ef80eab3       1\n",
       "8c9df8b08466440390343fd40e70ad28       1\n",
       "d5e8772db14d4884b1d2ae66b7358cb6       1\n",
       "d5ea227ac39d450791692e29b0090925       1\n",
       "5b796797d5274fbb81bc0cf56b5b7c2d       1\n",
       "135d4ec7a2794370ba3177c119a54308       1\n",
       "0b8cf32fd00048e4a31a86b76403b20b       1\n",
       "1dd0c363a3834dab9d62693ec708e903       1\n",
       "c227b3e687df475fb43f717c0649bcdf       1\n",
       "                                    ... \n",
       "395aa1b1f2c94f82b43746e062ccd3e9    1614\n",
       "52650cfd697c40be8b6f0b763ba05fd2    1632\n",
       "c146e9855bbf45b68b8b976326714c89    1638\n",
       "b6f1419f0ac24d93bb83bf722bea6447    1647\n",
       "894d1e27a7aa42359b3dfbecc82eda1e    1649\n",
       "e01d3b0b12a741ad9c621f3ac831d3a2    1659\n",
       "4f3db830d5ed4e178534a87bb14925e8    1698\n",
       "0b1be66cd79e456ba75b5eec186b65a9    1756\n",
       "25af07c8de984543b3d735891d7f3fd3    1765\n",
       "502af307aca94f0fbd5318a46dda0c89    1781\n",
       "5a66b47f099f4e2ab069f42c7a4b076c    1854\n",
       "d9b06cd477a943b9b3821f37d64a1da3    2099\n",
       "Name: matches_email_id, Length: 21894, dtype: int64"
      ]
     },
     "execution_count": 94,
     "metadata": {
      "tags": []
     },
     "output_type": "execute_result"
    }
   ],
   "source": [
    "matches.groupby(matches.matches_question_id).matches_email_id.count().sort_values()"
   ]
  },
  {
   "cell_type": "markdown",
   "metadata": {
    "colab_type": "text",
    "id": "RLRZapCmPSnm"
   },
   "source": [
    "Вопрос с самым большим количеством уведомлений - 2099 штук."
   ]
  },
  {
   "cell_type": "code",
   "execution_count": 0,
   "metadata": {
    "colab": {
     "base_uri": "https://localhost:8080/",
     "height": 80
    },
    "colab_type": "code",
    "id": "j10ZfJMtPSnm",
    "outputId": "d6b3ecde-260b-4893-baad-984f6a9348fc"
   },
   "outputs": [
    {
     "data": {
      "text/html": [
       "<div>\n",
       "<style scoped>\n",
       "    .dataframe tbody tr th:only-of-type {\n",
       "        vertical-align: middle;\n",
       "    }\n",
       "\n",
       "    .dataframe tbody tr th {\n",
       "        vertical-align: top;\n",
       "    }\n",
       "\n",
       "    .dataframe thead th {\n",
       "        text-align: right;\n",
       "    }\n",
       "</style>\n",
       "<table border=\"1\" class=\"dataframe\">\n",
       "  <thead>\n",
       "    <tr style=\"text-align: right;\">\n",
       "      <th></th>\n",
       "      <th>id</th>\n",
       "      <th>score</th>\n",
       "    </tr>\n",
       "  </thead>\n",
       "  <tbody>\n",
       "    <tr>\n",
       "      <th>15105</th>\n",
       "      <td>d9b06cd477a943b9b3821f37d64a1da3</td>\n",
       "      <td>2</td>\n",
       "    </tr>\n",
       "  </tbody>\n",
       "</table>\n",
       "</div>"
      ],
      "text/plain": [
       "                                     id  score\n",
       "15105  d9b06cd477a943b9b3821f37d64a1da3      2"
      ]
     },
     "execution_count": 95,
     "metadata": {
      "tags": []
     },
     "output_type": "execute_result"
    }
   ],
   "source": [
    "q_scores.loc[q_scores.id=='d9b06cd477a943b9b3821f37d64a1da3']"
   ]
  },
  {
   "cell_type": "code",
   "execution_count": 0,
   "metadata": {
    "colab": {
     "base_uri": "https://localhost:8080/",
     "height": 80
    },
    "colab_type": "code",
    "id": "9QYe3I6TPSnn",
    "outputId": "0bff8b6b-74e0-4508-dcdd-aa10e8a74738"
   },
   "outputs": [
    {
     "data": {
      "text/html": [
       "<div>\n",
       "<style scoped>\n",
       "    .dataframe tbody tr th:only-of-type {\n",
       "        vertical-align: middle;\n",
       "    }\n",
       "\n",
       "    .dataframe tbody tr th {\n",
       "        vertical-align: top;\n",
       "    }\n",
       "\n",
       "    .dataframe thead th {\n",
       "        text-align: right;\n",
       "    }\n",
       "</style>\n",
       "<table border=\"1\" class=\"dataframe\">\n",
       "  <thead>\n",
       "    <tr style=\"text-align: right;\">\n",
       "      <th></th>\n",
       "      <th>id</th>\n",
       "      <th>score</th>\n",
       "    </tr>\n",
       "  </thead>\n",
       "  <tbody>\n",
       "    <tr>\n",
       "      <th>14751</th>\n",
       "      <td>5a66b47f099f4e2ab069f42c7a4b076c</td>\n",
       "      <td>3</td>\n",
       "    </tr>\n",
       "  </tbody>\n",
       "</table>\n",
       "</div>"
      ],
      "text/plain": [
       "                                     id  score\n",
       "14751  5a66b47f099f4e2ab069f42c7a4b076c      3"
      ]
     },
     "execution_count": 96,
     "metadata": {
      "tags": []
     },
     "output_type": "execute_result"
    }
   ],
   "source": [
    "q_scores.loc[q_scores.id=='5a66b47f099f4e2ab069f42c7a4b076c']"
   ]
  },
  {
   "cell_type": "markdown",
   "metadata": {
    "colab_type": "text",
    "id": "bUjASEzpPSnp"
   },
   "source": [
    "Вопросы с максимальными количеством уведомлений имеют мало оценок. Выглядит аномально."
   ]
  },
  {
   "cell_type": "code",
   "execution_count": 0,
   "metadata": {
    "colab": {
     "base_uri": "https://localhost:8080/",
     "height": 476
    },
    "colab_type": "code",
    "id": "IMJ9boDPPSnp",
    "outputId": "0a1ed372-63e3-4579-f973-747647b9ef9f"
   },
   "outputs": [
    {
     "data": {
      "text/plain": [
       "matches_email_id\n",
       "106          1\n",
       "1047447      1\n",
       "2206348      1\n",
       "2206344      1\n",
       "1047454      1\n",
       "1047456      1\n",
       "2206342      1\n",
       "1047459      1\n",
       "1047445      1\n",
       "1047460      1\n",
       "1047463      1\n",
       "1047465      1\n",
       "          ... \n",
       "569826     190\n",
       "508674     194\n",
       "569949     204\n",
       "508625     204\n",
       "508558     213\n",
       "569942     229\n",
       "569950     242\n",
       "508675     247\n",
       "569941     253\n",
       "569829     258\n",
       "569892     266\n",
       "569938     268\n",
       "Name: matches_question_id, Length: 1794085, dtype: int64"
      ]
     },
     "execution_count": 97,
     "metadata": {
      "tags": []
     },
     "output_type": "execute_result"
    }
   ],
   "source": [
    "matches.groupby(matches.matches_email_id).matches_question_id.count().sort_values()"
   ]
  },
  {
   "cell_type": "code",
   "execution_count": 0,
   "metadata": {
    "colab": {
     "base_uri": "https://localhost:8080/",
     "height": 80
    },
    "colab_type": "code",
    "id": "JmYkpw79PSnr",
    "outputId": "2c9ed42b-3be3-4cad-8fdc-5e2b5eebf0bf"
   },
   "outputs": [
    {
     "data": {
      "text/html": [
       "<div>\n",
       "<style scoped>\n",
       "    .dataframe tbody tr th:only-of-type {\n",
       "        vertical-align: middle;\n",
       "    }\n",
       "\n",
       "    .dataframe tbody tr th {\n",
       "        vertical-align: top;\n",
       "    }\n",
       "\n",
       "    .dataframe thead th {\n",
       "        text-align: right;\n",
       "    }\n",
       "</style>\n",
       "<table border=\"1\" class=\"dataframe\">\n",
       "  <thead>\n",
       "    <tr style=\"text-align: right;\">\n",
       "      <th></th>\n",
       "      <th>emails_id</th>\n",
       "      <th>emails_recipient_id</th>\n",
       "      <th>emails_date_sent</th>\n",
       "      <th>emails_frequency_level</th>\n",
       "    </tr>\n",
       "  </thead>\n",
       "  <tbody>\n",
       "    <tr>\n",
       "      <th>932586</th>\n",
       "      <td>569938</td>\n",
       "      <td>d0627db80d7045149a5345e1487bf33c</td>\n",
       "      <td>2016-05-27 21:01:27</td>\n",
       "      <td>email_notification_weekly</td>\n",
       "    </tr>\n",
       "  </tbody>\n",
       "</table>\n",
       "</div>"
      ],
      "text/plain": [
       "        emails_id  ...     emails_frequency_level\n",
       "932586     569938  ...  email_notification_weekly\n",
       "\n",
       "[1 rows x 4 columns]"
      ]
     },
     "execution_count": 98,
     "metadata": {
      "tags": []
     },
     "output_type": "execute_result"
    }
   ],
   "source": [
    "emails.loc[emails.emails_id == 569938]"
   ]
  },
  {
   "cell_type": "markdown",
   "metadata": {
    "colab_type": "text",
    "id": "GIcq7r4aPSns"
   },
   "source": [
    "Скорее всего, matches_email_id имеющие много matches_question_id - это еженедельные уведомления для одного пользователя, в которых содержится много вопросов, накопившихся за неделю."
   ]
  },
  {
   "cell_type": "markdown",
   "metadata": {
    "colab_type": "text",
    "id": "3YDrQM2jPSns"
   },
   "source": [
    "16) Рассмотрим $\\textbf{groups:}$"
   ]
  },
  {
   "cell_type": "code",
   "execution_count": 0,
   "metadata": {
    "colab": {
     "base_uri": "https://localhost:8080/",
     "height": 306
    },
    "colab_type": "code",
    "id": "ATibBn1LPSns",
    "outputId": "6a1dafb2-e4ba-4343-ba83-1eae75ca0f18"
   },
   "outputs": [
    {
     "data": {
      "text/html": [
       "<div>\n",
       "<style scoped>\n",
       "    .dataframe tbody tr th:only-of-type {\n",
       "        vertical-align: middle;\n",
       "    }\n",
       "\n",
       "    .dataframe tbody tr th {\n",
       "        vertical-align: top;\n",
       "    }\n",
       "\n",
       "    .dataframe thead th {\n",
       "        text-align: right;\n",
       "    }\n",
       "</style>\n",
       "<table border=\"1\" class=\"dataframe\">\n",
       "  <thead>\n",
       "    <tr style=\"text-align: right;\">\n",
       "      <th></th>\n",
       "      <th>groups_id</th>\n",
       "      <th>groups_group_type</th>\n",
       "    </tr>\n",
       "  </thead>\n",
       "  <tbody>\n",
       "    <tr>\n",
       "      <th>0</th>\n",
       "      <td>eabbdf4029734c848a9da20779637d03</td>\n",
       "      <td>youth program</td>\n",
       "    </tr>\n",
       "    <tr>\n",
       "      <th>1</th>\n",
       "      <td>7080bf8dcf78463bb03e6863887fd715</td>\n",
       "      <td>youth program</td>\n",
       "    </tr>\n",
       "    <tr>\n",
       "      <th>2</th>\n",
       "      <td>bc6fc50a2b444efc8ec47111b290ffb8</td>\n",
       "      <td>youth program</td>\n",
       "    </tr>\n",
       "    <tr>\n",
       "      <th>3</th>\n",
       "      <td>37f002e8d5e442ca8e36e972eaa55882</td>\n",
       "      <td>youth program</td>\n",
       "    </tr>\n",
       "    <tr>\n",
       "      <th>4</th>\n",
       "      <td>52419ff84d4b47bebd0b0a6c1263c296</td>\n",
       "      <td>youth program</td>\n",
       "    </tr>\n",
       "  </tbody>\n",
       "</table>\n",
       "</div>"
      ],
      "text/plain": [
       "                          groups_id groups_group_type\n",
       "0  eabbdf4029734c848a9da20779637d03     youth program\n",
       "1  7080bf8dcf78463bb03e6863887fd715     youth program\n",
       "2  bc6fc50a2b444efc8ec47111b290ffb8     youth program\n",
       "3  37f002e8d5e442ca8e36e972eaa55882     youth program\n",
       "4  52419ff84d4b47bebd0b0a6c1263c296     youth program"
      ]
     },
     "metadata": {
      "tags": []
     },
     "output_type": "display_data"
    },
    {
     "name": "stdout",
     "output_type": "stream",
     "text": [
      "\u001b[1mчисло наблюдений = 49\n",
      "\n",
      "\u001b[1mчисло уникальных значений признаков\n"
     ]
    },
    {
     "data": {
      "text/plain": [
       "groups_id            49\n",
       "groups_group_type     7\n",
       "dtype: int64"
      ]
     },
     "metadata": {
      "tags": []
     },
     "output_type": "display_data"
    }
   ],
   "source": [
    "main_stats(groups)"
   ]
  },
  {
   "cell_type": "code",
   "execution_count": 0,
   "metadata": {
    "colab": {
     "base_uri": "https://localhost:8080/",
     "height": 153
    },
    "colab_type": "code",
    "id": "LPpYyHytPSnt",
    "outputId": "6c73f3f3-ccf5-448a-89d4-d32ed28610b5"
   },
   "outputs": [
    {
     "name": "stdout",
     "output_type": "stream",
     "text": [
      "Существуют 7 видов групп:\n",
      "youth program\n",
      "cause\n",
      "professional network\n",
      "club\n",
      "competition\n",
      "mentorship program\n",
      "interest group\n"
     ]
    }
   ],
   "source": [
    "print('Существуют 7 видов групп:')\n",
    "for i in range(len(groups['groups_group_type'].unique())): \n",
    "    print (groups['groups_group_type'].unique()[i])"
   ]
  },
  {
   "cell_type": "markdown",
   "metadata": {
    "colab_type": "text",
    "id": "ZPaxnlshPSnv"
   },
   "source": [
    "Посмотрим на количество групп каждого вида:"
   ]
  },
  {
   "cell_type": "code",
   "execution_count": 0,
   "metadata": {
    "colab": {
     "base_uri": "https://localhost:8080/",
     "height": 170
    },
    "colab_type": "code",
    "id": "Kswwwem3PSnw",
    "outputId": "b10e7fcb-91ae-47c3-9405-540b00ee434f"
   },
   "outputs": [
    {
     "data": {
      "text/plain": [
       "groups_group_type\n",
       "club                     1\n",
       "competition              1\n",
       "interest group           1\n",
       "cause                    2\n",
       "mentorship program       3\n",
       "professional network     8\n",
       "youth program           33\n",
       "Name: groups_id, dtype: int64"
      ]
     },
     "execution_count": 101,
     "metadata": {
      "tags": []
     },
     "output_type": "execute_result"
    }
   ],
   "source": [
    "groups.groupby(groups.groups_group_type).groups_id.count().sort_values()"
   ]
  },
  {
   "cell_type": "markdown",
   "metadata": {
    "colab_type": "text",
    "id": "mJ7hVRnrPSnx"
   },
   "source": [
    "youth program определенно самый популярный тип групп."
   ]
  },
  {
   "cell_type": "markdown",
   "metadata": {
    "colab_type": "text",
    "id": "VK5DJD8APSnx"
   },
   "source": [
    "17) Рассмотрим $\\textbf{g_memb:}$"
   ]
  },
  {
   "cell_type": "code",
   "execution_count": 0,
   "metadata": {
    "colab": {
     "base_uri": "https://localhost:8080/",
     "height": 306
    },
    "colab_type": "code",
    "id": "9Jyy-KNuPSnx",
    "outputId": "8fb6ba93-f36e-4693-b369-2bced0ca9fa8"
   },
   "outputs": [
    {
     "data": {
      "text/html": [
       "<div>\n",
       "<style scoped>\n",
       "    .dataframe tbody tr th:only-of-type {\n",
       "        vertical-align: middle;\n",
       "    }\n",
       "\n",
       "    .dataframe tbody tr th {\n",
       "        vertical-align: top;\n",
       "    }\n",
       "\n",
       "    .dataframe thead th {\n",
       "        text-align: right;\n",
       "    }\n",
       "</style>\n",
       "<table border=\"1\" class=\"dataframe\">\n",
       "  <thead>\n",
       "    <tr style=\"text-align: right;\">\n",
       "      <th></th>\n",
       "      <th>group_memberships_group_id</th>\n",
       "      <th>group_memberships_user_id</th>\n",
       "    </tr>\n",
       "  </thead>\n",
       "  <tbody>\n",
       "    <tr>\n",
       "      <th>0</th>\n",
       "      <td>eabbdf4029734c848a9da20779637d03</td>\n",
       "      <td>9a5aead62c344207b2624dba90985dc5</td>\n",
       "    </tr>\n",
       "    <tr>\n",
       "      <th>1</th>\n",
       "      <td>eabbdf4029734c848a9da20779637d03</td>\n",
       "      <td>ea7122da1c7b4244a2184a4f9f944053</td>\n",
       "    </tr>\n",
       "    <tr>\n",
       "      <th>2</th>\n",
       "      <td>eabbdf4029734c848a9da20779637d03</td>\n",
       "      <td>cba603f34acb4a40b3ccb53fe6681b5d</td>\n",
       "    </tr>\n",
       "    <tr>\n",
       "      <th>3</th>\n",
       "      <td>eabbdf4029734c848a9da20779637d03</td>\n",
       "      <td>fa9a126e63714641ae0145557a390cab</td>\n",
       "    </tr>\n",
       "    <tr>\n",
       "      <th>4</th>\n",
       "      <td>eabbdf4029734c848a9da20779637d03</td>\n",
       "      <td>299da113c5d1420ab525106c242c9429</td>\n",
       "    </tr>\n",
       "  </tbody>\n",
       "</table>\n",
       "</div>"
      ],
      "text/plain": [
       "         group_memberships_group_id         group_memberships_user_id\n",
       "0  eabbdf4029734c848a9da20779637d03  9a5aead62c344207b2624dba90985dc5\n",
       "1  eabbdf4029734c848a9da20779637d03  ea7122da1c7b4244a2184a4f9f944053\n",
       "2  eabbdf4029734c848a9da20779637d03  cba603f34acb4a40b3ccb53fe6681b5d\n",
       "3  eabbdf4029734c848a9da20779637d03  fa9a126e63714641ae0145557a390cab\n",
       "4  eabbdf4029734c848a9da20779637d03  299da113c5d1420ab525106c242c9429"
      ]
     },
     "metadata": {
      "tags": []
     },
     "output_type": "display_data"
    },
    {
     "name": "stdout",
     "output_type": "stream",
     "text": [
      "\u001b[1mчисло наблюдений = 1038\n",
      "\n",
      "\u001b[1mчисло уникальных значений признаков\n"
     ]
    },
    {
     "data": {
      "text/plain": [
       "group_memberships_group_id     46\n",
       "group_memberships_user_id     727\n",
       "dtype: int64"
      ]
     },
     "metadata": {
      "tags": []
     },
     "output_type": "display_data"
    }
   ],
   "source": [
    "main_stats(g_memb)"
   ]
  },
  {
   "cell_type": "markdown",
   "metadata": {
    "colab_type": "text",
    "id": "GXigJz2yPSn0"
   },
   "source": [
    "В 46 из 49 групп есть люди. В среднем 1 человек находится только в 1 группе."
   ]
  },
  {
   "cell_type": "code",
   "execution_count": 0,
   "metadata": {
    "colab": {
     "base_uri": "https://localhost:8080/",
     "height": 476
    },
    "colab_type": "code",
    "id": "Mwv0dXXkPSn0",
    "outputId": "a35c6df4-37a7-47a0-c2e0-64fac2cdaaa9"
   },
   "outputs": [
    {
     "data": {
      "text/plain": [
       "group_memberships_group_id\n",
       "64f55a07c0864292afe4b41d674ee2e9      1\n",
       "6f13430a2bd1409f8c0863ca3a133db6      1\n",
       "d617d88792bf4fa5bff144d0ddb3bdf0      2\n",
       "7080bf8dcf78463bb03e6863887fd715      3\n",
       "7d715f982c8b4a6da7be5142f74b1472      3\n",
       "e2d6994350424f46a329cb3ba17e4893      3\n",
       "559dbc7bd1f64c268ff149c4d5d63500      3\n",
       "c8ec0ba0966b4eba8f50e1a279742e8e      3\n",
       "febfa8fcd364484487a245d32dbe24f7      4\n",
       "414e3cd11cd84e549abe723567e8d931      4\n",
       "55e6f99b63e24b2ea21b99d31064717b      5\n",
       "eabbdf4029734c848a9da20779637d03      5\n",
       "                                   ... \n",
       "f79273f51df849d298bd6f4b86daee99     28\n",
       "cfdab61b2c6c47a78c4641852debb38f     28\n",
       "cfaac1762bed4c8bb88696267129a560     34\n",
       "37f002e8d5e442ca8e36e972eaa55882     34\n",
       "52419ff84d4b47bebd0b0a6c1263c296     39\n",
       "d692245208e248e49625d76f6b932aff     44\n",
       "528fa2c7559a40749b6151a07d3b8ef5     48\n",
       "df78fe697f3b41068d2efc3654f5e707     58\n",
       "e6780d7982c14f9aba3fdf8bee66a2ad     60\n",
       "ba94226c87d249a1a2dbdc32a848b769     77\n",
       "45b7c8a5647647df92de6f40d5f12682    115\n",
       "f16d593910bf443598839021bbe97128    117\n",
       "Name: group_memberships_user_id, Length: 46, dtype: int64"
      ]
     },
     "execution_count": 103,
     "metadata": {
      "tags": []
     },
     "output_type": "execute_result"
    }
   ],
   "source": [
    "g_memb.groupby(g_memb.group_memberships_group_id).group_memberships_user_id.count().sort_values()"
   ]
  },
  {
   "cell_type": "code",
   "execution_count": 0,
   "metadata": {
    "colab": {
     "base_uri": "https://localhost:8080/",
     "height": 80
    },
    "colab_type": "code",
    "id": "OrLUFt0_PSn3",
    "outputId": "10da30ed-1f31-4a54-c1fc-944a648bd092"
   },
   "outputs": [
    {
     "data": {
      "text/html": [
       "<div>\n",
       "<style scoped>\n",
       "    .dataframe tbody tr th:only-of-type {\n",
       "        vertical-align: middle;\n",
       "    }\n",
       "\n",
       "    .dataframe tbody tr th {\n",
       "        vertical-align: top;\n",
       "    }\n",
       "\n",
       "    .dataframe thead th {\n",
       "        text-align: right;\n",
       "    }\n",
       "</style>\n",
       "<table border=\"1\" class=\"dataframe\">\n",
       "  <thead>\n",
       "    <tr style=\"text-align: right;\">\n",
       "      <th></th>\n",
       "      <th>groups_id</th>\n",
       "      <th>groups_group_type</th>\n",
       "    </tr>\n",
       "  </thead>\n",
       "  <tbody>\n",
       "    <tr>\n",
       "      <th>19</th>\n",
       "      <td>f16d593910bf443598839021bbe97128</td>\n",
       "      <td>cause</td>\n",
       "    </tr>\n",
       "  </tbody>\n",
       "</table>\n",
       "</div>"
      ],
      "text/plain": [
       "                           groups_id groups_group_type\n",
       "19  f16d593910bf443598839021bbe97128             cause"
      ]
     },
     "execution_count": 104,
     "metadata": {
      "tags": []
     },
     "output_type": "execute_result"
    }
   ],
   "source": [
    "groups.loc[groups.groups_id == 'f16d593910bf443598839021bbe97128']"
   ]
  },
  {
   "cell_type": "code",
   "execution_count": 0,
   "metadata": {
    "colab": {
     "base_uri": "https://localhost:8080/",
     "height": 80
    },
    "colab_type": "code",
    "id": "u_fa5q3vPSn5",
    "outputId": "a670c46a-ae12-4298-8244-84ff65accf9b"
   },
   "outputs": [
    {
     "data": {
      "text/html": [
       "<div>\n",
       "<style scoped>\n",
       "    .dataframe tbody tr th:only-of-type {\n",
       "        vertical-align: middle;\n",
       "    }\n",
       "\n",
       "    .dataframe tbody tr th {\n",
       "        vertical-align: top;\n",
       "    }\n",
       "\n",
       "    .dataframe thead th {\n",
       "        text-align: right;\n",
       "    }\n",
       "</style>\n",
       "<table border=\"1\" class=\"dataframe\">\n",
       "  <thead>\n",
       "    <tr style=\"text-align: right;\">\n",
       "      <th></th>\n",
       "      <th>groups_id</th>\n",
       "      <th>groups_group_type</th>\n",
       "    </tr>\n",
       "  </thead>\n",
       "  <tbody>\n",
       "    <tr>\n",
       "      <th>18</th>\n",
       "      <td>45b7c8a5647647df92de6f40d5f12682</td>\n",
       "      <td>cause</td>\n",
       "    </tr>\n",
       "  </tbody>\n",
       "</table>\n",
       "</div>"
      ],
      "text/plain": [
       "                           groups_id groups_group_type\n",
       "18  45b7c8a5647647df92de6f40d5f12682             cause"
      ]
     },
     "execution_count": 105,
     "metadata": {
      "tags": []
     },
     "output_type": "execute_result"
    }
   ],
   "source": [
    "groups.loc[groups.groups_id == '45b7c8a5647647df92de6f40d5f12682']"
   ]
  },
  {
   "cell_type": "markdown",
   "metadata": {
    "colab_type": "text",
    "id": "9MM4hXRCPSn6"
   },
   "source": [
    "Хоть youth program и самый распостранненый вид групп, к типу cause принадлежат 2 самые многочисленные группы."
   ]
  },
  {
   "cell_type": "markdown",
   "metadata": {
    "colab_type": "text",
    "id": "KaCfImyhPSn6"
   },
   "source": [
    "18) Рассмотрим $\\textbf{sch_memb:}$"
   ]
  },
  {
   "cell_type": "code",
   "execution_count": 0,
   "metadata": {
    "colab": {
     "base_uri": "https://localhost:8080/",
     "height": 204
    },
    "colab_type": "code",
    "id": "I47jTMniPSn7",
    "outputId": "ae20b065-e06d-4c9c-88af-82cf0540b622"
   },
   "outputs": [
    {
     "data": {
      "text/html": [
       "<div>\n",
       "<style scoped>\n",
       "    .dataframe tbody tr th:only-of-type {\n",
       "        vertical-align: middle;\n",
       "    }\n",
       "\n",
       "    .dataframe tbody tr th {\n",
       "        vertical-align: top;\n",
       "    }\n",
       "\n",
       "    .dataframe thead th {\n",
       "        text-align: right;\n",
       "    }\n",
       "</style>\n",
       "<table border=\"1\" class=\"dataframe\">\n",
       "  <thead>\n",
       "    <tr style=\"text-align: right;\">\n",
       "      <th></th>\n",
       "      <th>school_memberships_school_id</th>\n",
       "      <th>school_memberships_user_id</th>\n",
       "    </tr>\n",
       "  </thead>\n",
       "  <tbody>\n",
       "    <tr>\n",
       "      <th>0</th>\n",
       "      <td>197406</td>\n",
       "      <td>23dce13ca6164a73aec7a3cd56a4884d</td>\n",
       "    </tr>\n",
       "    <tr>\n",
       "      <th>1</th>\n",
       "      <td>197398</td>\n",
       "      <td>23dce13ca6164a73aec7a3cd56a4884d</td>\n",
       "    </tr>\n",
       "    <tr>\n",
       "      <th>2</th>\n",
       "      <td>199821</td>\n",
       "      <td>23dce13ca6164a73aec7a3cd56a4884d</td>\n",
       "    </tr>\n",
       "    <tr>\n",
       "      <th>3</th>\n",
       "      <td>186239</td>\n",
       "      <td>9c5803ae43ca4cf6b27ea85871625116</td>\n",
       "    </tr>\n",
       "    <tr>\n",
       "      <th>4</th>\n",
       "      <td>182063</td>\n",
       "      <td>9c5803ae43ca4cf6b27ea85871625116</td>\n",
       "    </tr>\n",
       "  </tbody>\n",
       "</table>\n",
       "</div>"
      ],
      "text/plain": [
       "   school_memberships_school_id        school_memberships_user_id\n",
       "0                        197406  23dce13ca6164a73aec7a3cd56a4884d\n",
       "1                        197398  23dce13ca6164a73aec7a3cd56a4884d\n",
       "2                        199821  23dce13ca6164a73aec7a3cd56a4884d\n",
       "3                        186239  9c5803ae43ca4cf6b27ea85871625116\n",
       "4                        182063  9c5803ae43ca4cf6b27ea85871625116"
      ]
     },
     "execution_count": 106,
     "metadata": {
      "tags": []
     },
     "output_type": "execute_result"
    }
   ],
   "source": [
    "sch_memb.head()"
   ]
  },
  {
   "cell_type": "code",
   "execution_count": 0,
   "metadata": {
    "colab": {
     "base_uri": "https://localhost:8080/",
     "height": 34
    },
    "colab_type": "code",
    "id": "wg3h81HGPSn8",
    "outputId": "daa70745-8166-4c04-f98c-d31b84672c75"
   },
   "outputs": [
    {
     "data": {
      "text/plain": [
       "(5638, 2)"
      ]
     },
     "execution_count": 107,
     "metadata": {
      "tags": []
     },
     "output_type": "execute_result"
    }
   ],
   "source": [
    "sch_memb.shape"
   ]
  },
  {
   "cell_type": "code",
   "execution_count": 0,
   "metadata": {
    "colab": {
     "base_uri": "https://localhost:8080/",
     "height": 68
    },
    "colab_type": "code",
    "id": "PAbKwRD8PSn9",
    "outputId": "c55df06c-3b42-4861-d632-191741be71cf"
   },
   "outputs": [
    {
     "data": {
      "text/plain": [
       "school_memberships_school_id    2706\n",
       "school_memberships_user_id      3181\n",
       "dtype: int64"
      ]
     },
     "execution_count": 108,
     "metadata": {
      "tags": []
     },
     "output_type": "execute_result"
    }
   ],
   "source": [
    "sch_memb.nunique()"
   ]
  },
  {
   "cell_type": "markdown",
   "metadata": {
    "colab_type": "text",
    "id": "ssBoAHpLPSoA"
   },
   "source": [
    "Посмотрим в каких школах больше всего учащихся:"
   ]
  },
  {
   "cell_type": "code",
   "execution_count": 0,
   "metadata": {
    "colab": {
     "base_uri": "https://localhost:8080/",
     "height": 476
    },
    "colab_type": "code",
    "id": "7ifreIIkPSoB",
    "outputId": "d731b500-4c59-4fac-91f5-0dd76e44a5e5"
   },
   "outputs": [
    {
     "data": {
      "text/plain": [
       "school_memberships_user_id\n",
       "85d47bec01274592b41e16297af2880d     1\n",
       "99277a5dc1884d4fa38a5c9ca3100287     1\n",
       "991ab0a7d05446879138784dc3cb7408     1\n",
       "98cbceefad3e4f7db812f5d2a963db3f     1\n",
       "98c6c424727f4abf9d570ecf9d2fd24f     1\n",
       "98931001dfa1461cacb34cc30dd58c23     1\n",
       "98905cc3ac5f4490b0f90018257fc402     1\n",
       "988a1a169209402e851814edbc9ea594     1\n",
       "986a6efc73f840a9947e81f6b7aaf38a     1\n",
       "985edda7364a4e42819a4d471b6f3321     1\n",
       "9841215fcfdd4aa095d97ebbd6e9efaa     1\n",
       "983d090aee56437b934c4a38c006dcc5     1\n",
       "                                    ..\n",
       "ca8cf29aedf74c94b131a9ac75f52895     9\n",
       "65e1b233c443411689b837b35602a02b    10\n",
       "b1c77f0004d5498cab08ed211528a7eb    10\n",
       "36ff3b3666df400f956f8335cf53e09e    10\n",
       "fa2390b702804bbb957d2236c8b07d38    11\n",
       "a9816607755f42ae999c1cd0d29d4867    12\n",
       "6d1b569a8a024dc88b35f5cdb1570dc1    15\n",
       "b04b09de94044000b2616389eb1419c3    15\n",
       "30f79e36479a4f29be36c71a7edc34a6    16\n",
       "338635b17df248b3959ab4d5423cc6f3    17\n",
       "a1246930dc4944ae840cd7c25a34c9a7    20\n",
       "a7730a0f42cb4cd6805cecc03ec2df0a    29\n",
       "Name: school_memberships_school_id, Length: 3181, dtype: int64"
      ]
     },
     "execution_count": 109,
     "metadata": {
      "tags": []
     },
     "output_type": "execute_result"
    }
   ],
   "source": [
    "sch_memb.groupby(sch_memb.school_memberships_user_id).school_memberships_school_id\t.count().sort_values()"
   ]
  },
  {
   "cell_type": "markdown",
   "metadata": {
    "colab_type": "text",
    "id": "ZTehE02_PSoC"
   },
   "source": [
    "В целом, ни одна школа не выделяется численностью участников."
   ]
  },
  {
   "cell_type": "markdown",
   "metadata": {
    "colab_type": "text",
    "id": "tJZcoDcwPSoC"
   },
   "source": [
    "19) Визуализация соотношения $\\textbf{студентов/профессионалов}$ и  $\\textbf{вопросов/ответов}$"
   ]
  },
  {
   "cell_type": "code",
   "execution_count": 0,
   "metadata": {
    "colab": {
     "base_uri": "https://localhost:8080/",
     "height": 540
    },
    "colab_type": "code",
    "id": "H9Erj9tFPSoC",
    "outputId": "1f223a7e-0cd0-4f91-d7eb-67c9eec3bacb"
   },
   "outputs": [
    {
     "data": {
      "image/png": "[encoded data removed]",
      "text/plain": [
       "<Figure size 648x648 with 1 Axes>"
      ]
     },
     "metadata": {
      "tags": []
     },
     "output_type": "display_data"
    }
   ],
   "source": [
    "plot_pie(students,questions,'Вопросы студентов',\n",
    "         'Студенты не задававшие вопросы',\n",
    "         'Студенты задававшие вопросы')"
   ]
  },
  {
   "cell_type": "markdown",
   "metadata": {
    "colab_type": "text",
    "id": "BEFpm3orPSoE"
   },
   "source": [
    "Более 60% студентов ни разу не задавали вопросы."
   ]
  },
  {
   "cell_type": "code",
   "execution_count": 0,
   "metadata": {
    "colab": {
     "base_uri": "https://localhost:8080/",
     "height": 540
    },
    "colab_type": "code",
    "id": "_aTMQvjTPSoF",
    "outputId": "29b2141d-11c7-4069-a138-f038b9d22247"
   },
   "outputs": [
    {
     "data": {
      "image/png": "[encoded data removed]",
      "text/plain": [
       "<Figure size 648x648 with 1 Axes>"
      ]
     },
     "metadata": {
      "tags": []
     },
     "output_type": "display_data"
    }
   ],
   "source": [
    "plot_pie(professionals, questions, 'Вопросы профессионалов',\n",
    "         'Профессионалы не задававшие вопросы',\n",
    "         'Профессионалов задававшие вопросы')"
   ]
  },
  {
   "cell_type": "markdown",
   "metadata": {
    "colab_type": "text",
    "id": "0Z79NyoGPSoG"
   },
   "source": [
    "Профессионалы обычно не задают вопросы :)"
   ]
  },
  {
   "cell_type": "code",
   "execution_count": 0,
   "metadata": {
    "colab": {
     "base_uri": "https://localhost:8080/",
     "height": 540
    },
    "colab_type": "code",
    "id": "2DtW5b8WPSoG",
    "outputId": "3f81bd2e-057a-4879-a371-24608f82cbcf"
   },
   "outputs": [
    {
     "data": {
      "image/png": "[encoded data removed]",
      "text/plain": [
       "<Figure size 648x648 with 1 Axes>"
      ]
     },
     "metadata": {
      "tags": []
     },
     "output_type": "display_data"
    }
   ],
   "source": [
    "plot_pie(students, answers, 'Ответы студентов',\n",
    "         'Студенты не отвечавшие на вопросы',\n",
    "         'Студенты отвечавшие на вопросы')"
   ]
  },
  {
   "cell_type": "markdown",
   "metadata": {
    "colab_type": "text",
    "id": "ORNhAK8ZPSoH"
   },
   "source": [
    "А студенты обычно не отвечают на вопросы"
   ]
  },
  {
   "cell_type": "code",
   "execution_count": 0,
   "metadata": {
    "colab": {
     "base_uri": "https://localhost:8080/",
     "height": 540
    },
    "colab_type": "code",
    "id": "E3dLV4dZPSoH",
    "outputId": "8dc87ba1-3a47-4368-9d79-ada0139ac7bd"
   },
   "outputs": [
    {
     "data": {
      "image/png": "[encoded data removed]",
      "text/plain": [
       "<Figure size 648x648 with 1 Axes>"
      ]
     },
     "metadata": {
      "tags": []
     },
     "output_type": "display_data"
    }
   ],
   "source": [
    "plot_pie(professionals, answers, 'Ответы профессионалов',\n",
    "         'Профессионалы не отвечавшие на вопросы',\n",
    "         'Профессионалы отвечавшие на вопросы')"
   ]
  },
  {
   "cell_type": "markdown",
   "metadata": {
    "colab_type": "text",
    "id": "_W8prCcSPSoI"
   },
   "source": [
    "Примерно 36% профессионалов когда-либо отвечали на вопросы."
   ]
  },
  {
   "cell_type": "code",
   "execution_count": 0,
   "metadata": {
    "colab": {},
    "colab_type": "code",
    "id": "_IG7ZfVoPSoK"
   },
   "outputs": [],
   "source": [
    "#Т.к. я не передаю в функцию поле с id, оформил эту функцию отдельно.\n",
    "#Круговая диаграмма\n",
    "def plot_pie(df1, df2, pie_title, pie_label_1, pie_label_2):\n",
    "    id_df1_name = [col for col in df1.columns if 'questions_id' in col][0]\n",
    "    id_df2_name = [col for col in df2.columns if 'answers_question_id' in col][0]\n",
    "    df_merge = pd.merge(df1, df2, how='left', left_on = id_df1_name, right_on = id_df2_name)\n",
    "    df = pd.DataFrame({'': [df_merge.isna().sum()[id_df2_name],\n",
    "                                    df1.shape[0] - df_merge.isna().sum()[id_df2_name]]},\n",
    "                   index=['1', '2'])\n",
    "    ax = df.plot.pie(y='', figsize=(9, 9),labels=[\n",
    "            pie_label_1,\n",
    "            pie_label_2],\n",
    "            autopct='%1.6f%%')\n",
    "    ax.set_title(pie_title)\n",
    "    plt.show()"
   ]
  },
  {
   "cell_type": "code",
   "execution_count": 0,
   "metadata": {
    "colab": {
     "base_uri": "https://localhost:8080/",
     "height": 540
    },
    "colab_type": "code",
    "id": "OS6nBdngPSoK",
    "outputId": "fe3111f0-c0b3-4473-f7d1-5158311fb880"
   },
   "outputs": [
    {
     "data": {
      "image/png": "[encoded data removed]",
      "text/plain": [
       "<Figure size 648x648 with 1 Axes>"
      ]
     },
     "metadata": {
      "tags": []
     },
     "output_type": "display_data"
    }
   ],
   "source": [
    "plot_pie(questions, answers, 'Количество вопросов', 'Количество вопросов без ответа', 'Количество вопросов с ответом')"
   ]
  },
  {
   "cell_type": "markdown",
   "metadata": {
    "colab_type": "text",
    "id": "ei9JLLHWPSoL"
   },
   "source": [
    "Большинство вопросов не остались без ответа!"
   ]
  }
 ],
 "metadata": {
  "colab": {
   "collapsed_sections": [],
   "name": "EDA.ipynb",
   "provenance": [],
   "version": "0.3.2"
  },
  "kernelspec": {
   "display_name": "Python 3",
   "language": "python",
   "name": "python3"
  },
  "language_info": {
   "codemirror_mode": {
    "name": "ipython",
    "version": 3
   },
   "file_extension": ".py",
   "mimetype": "text/x-python",
   "name": "python",
   "nbconvert_exporter": "python",
   "pygments_lexer": "ipython3",
   "version": "3.5.5"
  }
 },
 "nbformat": 4,
 "nbformat_minor": 1
}
