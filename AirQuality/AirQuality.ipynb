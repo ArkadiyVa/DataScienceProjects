{
 "cells": [
  {
   "cell_type": "markdown",
   "metadata": {
    "colab_type": "text",
    "id": "rxdCIggLAvQO"
   },
   "source": [
    "**Regression Homework**\n",
    "\n",
    "Regression analysis of Air Quality dataset: https://archive.ics.uci.edu/ml/datasets/Air+Quality#\n",
    "\n",
    "Target - C6H6(GT)\n",
    "-200 indicates missing values\n",
    "\n",
    "**Data Set Information:**\n",
    "\n",
    "The dataset contains 9358 instances of hourly averaged responses from an array of 5 metal oxide chemical sensors embedded in an Air Quality Chemical Multisensor Device. The device was located on the field in a significantly polluted area, at road level,within an Italian city. Data were recorded from March 2004 to February 2005 (one year)representing the longest freely available recordings of on field deployed air quality chemical sensor devices responses. Ground Truth hourly averaged concentrations for CO, Non Metanic Hydrocarbons, Benzene, Total Nitrogen Oxides (NOx) and Nitrogen Dioxide (NO2) and were provided by a co-located reference certified analyzer. Evidences of cross-sensitivities as well as both concept and sensor drifts are present as described in De Vito et al., Sens. And Act. B, Vol. 129,2,2008 (citation required) eventually affecting sensors concentration estimation capabilities. Missing values are tagged with -200 value. \n",
    "This dataset can be used exclusively for research purposes. Commercial purposes are fully excluded. \n",
    "\n",
    "**Attribute Information:**\n",
    "\n",
    "0 Date\t(DD/MM/YYYY)\n",
    "\n",
    "1 Time\t(HH.MM.SS)\n",
    "\n",
    "2 True hourly averaged concentration CO in mg/m^3 (reference analyzer)\n",
    "\n",
    "3 PT08.S1 (tin oxide) hourly averaged sensor response (nominally CO targeted)\n",
    "\n",
    "4 True hourly averaged overall Non Metanic HydroCarbons concentration in microg/m^3 (reference analyzer) \n",
    "\n",
    "5 True hourly averaged Benzene concentration in microg/m^3 (reference analyzer) \n",
    "\n",
    "6 PT08.S2 (titania) hourly averaged sensor response (nominally NMHC targeted)\t\n",
    "\n",
    "7 True hourly averaged NOx concentration in ppb (reference analyzer) \n",
    "\n",
    "8 PT08.S3 (tungsten oxide) hourly averaged sensor response (nominally NOx targeted) \n",
    "\n",
    "9 True hourly averaged NO2 concentration in microg/m^3 (reference analyzer)\t\n",
    "\n",
    "10 PT08.S4 (tungsten oxide) hourly averaged sensor response (nominally NO2 targeted)\t\n",
    "\n",
    "11 PT08.S5 (indium oxide) hourly averaged sensor response (nominally O3 targeted) \n",
    "\n",
    "12 Temperature in Â°C\t\n",
    "\n",
    "13 Relative Humidity (%) \n",
    "\n",
    "14 AH Absolute Humidity "
   ]
  },
  {
   "cell_type": "code",
   "execution_count": 0,
   "metadata": {
    "_cell_guid": "b1076dfc-b9ad-4769-8c92-a6c4dae69d19",
    "_uuid": "8f2839f25d086af736a60e9eeb907d3b93b6e0e5",
    "colab": {},
    "colab_type": "code",
    "id": "HchGiN6i5gbE"
   },
   "outputs": [],
   "source": [
    "from yellowbrick.regressor import AlphaSelection, PredictionError, ResidualsPlot\n",
    "from sklearn.feature_selection import SelectFromModel\n",
    "from sklearn.model_selection import train_test_split\n",
    "from sklearn.model_selection import cross_val_score\n",
    "from sklearn.linear_model import LinearRegression\n",
    "from sklearn.preprocessing import StandardScaler\n",
    "from sklearn.metrics import mean_squared_error\n",
    "from sklearn.feature_selection import RFE\n",
    "import matplotlib.pyplot as plt\n",
    "from hyperopt.fmin import fmin\n",
    "from sklearn.base import clone\n",
    "import statsmodels.api as sm\n",
    "from hyperopt import hp, tpe\n",
    "import matplotlib as mpl\n",
    "import scipy.stats as ss\n",
    "import lightgbm as lgb\n",
    "import seaborn as sns\n",
    "import pandas as pd\n",
    "import numpy as np\n",
    "from google_drive_downloader import GoogleDriveDownloader as gdd"
   ]
  },
  {
   "cell_type": "markdown",
   "metadata": {
    "colab_type": "text",
    "id": "Kv1Q7gO-DO6F"
   },
   "source": [
    "Скачивание файла с Google Drive:"
   ]
  },
  {
   "cell_type": "code",
   "execution_count": 0,
   "metadata": {
    "colab": {
     "base_uri": "https://localhost:8080/",
     "height": 35
    },
    "colab_type": "code",
    "id": "2FYROm9j5gbH",
    "outputId": "3908f271-80a0-49bc-95f2-f749161d9fd3"
   },
   "outputs": [
    {
     "name": "stdout",
     "output_type": "stream",
     "text": [
      "Downloading 1PjPU4vb_NjGmDd_UJdsRRJOH0ckgc7pt into /data/AirQualityUCI.csv... Done.\n"
     ]
    }
   ],
   "source": [
    "gdd.download_file_from_google_drive(file_id='1kdUfE0Wft228V2cRnNyCoh0rVecGmeGD',\\\n",
    "                                    dest_path='/data/AirQualityUCI.csv')\n",
    "data = pd.read_csv('/data/AirQualityUCI.csv', sep=';', delimiter=\";\", decimal=\",\")"
   ]
  },
  {
   "cell_type": "code",
   "execution_count": 0,
   "metadata": {
    "colab": {
     "base_uri": "https://localhost:8080/",
     "height": 35
    },
    "colab_type": "code",
    "id": "vYRxt0D05gbK",
    "outputId": "eac31109-886d-4e32-888d-74f5335bbb76"
   },
   "outputs": [
    {
     "data": {
      "text/plain": [
       "(9471, 17)"
      ]
     },
     "execution_count": 3,
     "metadata": {
      "tags": []
     },
     "output_type": "execute_result"
    }
   ],
   "source": [
    "data.shape"
   ]
  },
  {
   "cell_type": "code",
   "execution_count": 0,
   "metadata": {
    "colab": {
     "base_uri": "https://localhost:8080/",
     "height": 247
    },
    "colab_type": "code",
    "id": "Q8Czyfzi5gbQ",
    "outputId": "93f67df6-bd31-421e-850a-3e3d21e7715b"
   },
   "outputs": [
    {
     "data": {
      "text/html": [
       "<div>\n",
       "<style scoped>\n",
       "    .dataframe tbody tr th:only-of-type {\n",
       "        vertical-align: middle;\n",
       "    }\n",
       "\n",
       "    .dataframe tbody tr th {\n",
       "        vertical-align: top;\n",
       "    }\n",
       "\n",
       "    .dataframe thead th {\n",
       "        text-align: right;\n",
       "    }\n",
       "</style>\n",
       "<table border=\"1\" class=\"dataframe\">\n",
       "  <thead>\n",
       "    <tr style=\"text-align: right;\">\n",
       "      <th></th>\n",
       "      <th>Date</th>\n",
       "      <th>Time</th>\n",
       "      <th>CO(GT)</th>\n",
       "      <th>PT08.S1(CO)</th>\n",
       "      <th>NMHC(GT)</th>\n",
       "      <th>C6H6(GT)</th>\n",
       "      <th>PT08.S2(NMHC)</th>\n",
       "      <th>NOx(GT)</th>\n",
       "      <th>PT08.S3(NOx)</th>\n",
       "      <th>NO2(GT)</th>\n",
       "      <th>PT08.S4(NO2)</th>\n",
       "      <th>PT08.S5(O3)</th>\n",
       "      <th>T</th>\n",
       "      <th>RH</th>\n",
       "      <th>AH</th>\n",
       "      <th>Unnamed: 15</th>\n",
       "      <th>Unnamed: 16</th>\n",
       "    </tr>\n",
       "  </thead>\n",
       "  <tbody>\n",
       "    <tr>\n",
       "      <th>0</th>\n",
       "      <td>10/03/2004</td>\n",
       "      <td>18.00.00</td>\n",
       "      <td>2.6</td>\n",
       "      <td>1360.0</td>\n",
       "      <td>150.0</td>\n",
       "      <td>11.9</td>\n",
       "      <td>1046.0</td>\n",
       "      <td>166.0</td>\n",
       "      <td>1056.0</td>\n",
       "      <td>113.0</td>\n",
       "      <td>1692.0</td>\n",
       "      <td>1268.0</td>\n",
       "      <td>13.6</td>\n",
       "      <td>48.9</td>\n",
       "      <td>0.7578</td>\n",
       "      <td>NaN</td>\n",
       "      <td>NaN</td>\n",
       "    </tr>\n",
       "    <tr>\n",
       "      <th>1</th>\n",
       "      <td>10/03/2004</td>\n",
       "      <td>19.00.00</td>\n",
       "      <td>2.0</td>\n",
       "      <td>1292.0</td>\n",
       "      <td>112.0</td>\n",
       "      <td>9.4</td>\n",
       "      <td>955.0</td>\n",
       "      <td>103.0</td>\n",
       "      <td>1174.0</td>\n",
       "      <td>92.0</td>\n",
       "      <td>1559.0</td>\n",
       "      <td>972.0</td>\n",
       "      <td>13.3</td>\n",
       "      <td>47.7</td>\n",
       "      <td>0.7255</td>\n",
       "      <td>NaN</td>\n",
       "      <td>NaN</td>\n",
       "    </tr>\n",
       "    <tr>\n",
       "      <th>2</th>\n",
       "      <td>10/03/2004</td>\n",
       "      <td>20.00.00</td>\n",
       "      <td>2.2</td>\n",
       "      <td>1402.0</td>\n",
       "      <td>88.0</td>\n",
       "      <td>9.0</td>\n",
       "      <td>939.0</td>\n",
       "      <td>131.0</td>\n",
       "      <td>1140.0</td>\n",
       "      <td>114.0</td>\n",
       "      <td>1555.0</td>\n",
       "      <td>1074.0</td>\n",
       "      <td>11.9</td>\n",
       "      <td>54.0</td>\n",
       "      <td>0.7502</td>\n",
       "      <td>NaN</td>\n",
       "      <td>NaN</td>\n",
       "    </tr>\n",
       "    <tr>\n",
       "      <th>3</th>\n",
       "      <td>10/03/2004</td>\n",
       "      <td>21.00.00</td>\n",
       "      <td>2.2</td>\n",
       "      <td>1376.0</td>\n",
       "      <td>80.0</td>\n",
       "      <td>9.2</td>\n",
       "      <td>948.0</td>\n",
       "      <td>172.0</td>\n",
       "      <td>1092.0</td>\n",
       "      <td>122.0</td>\n",
       "      <td>1584.0</td>\n",
       "      <td>1203.0</td>\n",
       "      <td>11.0</td>\n",
       "      <td>60.0</td>\n",
       "      <td>0.7867</td>\n",
       "      <td>NaN</td>\n",
       "      <td>NaN</td>\n",
       "    </tr>\n",
       "    <tr>\n",
       "      <th>4</th>\n",
       "      <td>10/03/2004</td>\n",
       "      <td>22.00.00</td>\n",
       "      <td>1.6</td>\n",
       "      <td>1272.0</td>\n",
       "      <td>51.0</td>\n",
       "      <td>6.5</td>\n",
       "      <td>836.0</td>\n",
       "      <td>131.0</td>\n",
       "      <td>1205.0</td>\n",
       "      <td>116.0</td>\n",
       "      <td>1490.0</td>\n",
       "      <td>1110.0</td>\n",
       "      <td>11.2</td>\n",
       "      <td>59.6</td>\n",
       "      <td>0.7888</td>\n",
       "      <td>NaN</td>\n",
       "      <td>NaN</td>\n",
       "    </tr>\n",
       "  </tbody>\n",
       "</table>\n",
       "</div>"
      ],
      "text/plain": [
       "         Date      Time  CO(GT)  ...      AH  Unnamed: 15  Unnamed: 16\n",
       "0  10/03/2004  18.00.00     2.6  ...  0.7578          NaN          NaN\n",
       "1  10/03/2004  19.00.00     2.0  ...  0.7255          NaN          NaN\n",
       "2  10/03/2004  20.00.00     2.2  ...  0.7502          NaN          NaN\n",
       "3  10/03/2004  21.00.00     2.2  ...  0.7867          NaN          NaN\n",
       "4  10/03/2004  22.00.00     1.6  ...  0.7888          NaN          NaN\n",
       "\n",
       "[5 rows x 17 columns]"
      ]
     },
     "execution_count": 4,
     "metadata": {
      "tags": []
     },
     "output_type": "execute_result"
    }
   ],
   "source": [
    "data.head()"
   ]
  },
  {
   "cell_type": "markdown",
   "metadata": {
    "colab_type": "text",
    "id": "d2WoEBL6CEbl"
   },
   "source": [
    "Посмотрим на пропущенные значения:"
   ]
  },
  {
   "cell_type": "code",
   "execution_count": 0,
   "metadata": {
    "colab": {
     "base_uri": "https://localhost:8080/",
     "height": 333
    },
    "colab_type": "code",
    "id": "puBr7nJN5gbV",
    "outputId": "360b7dc8-2c57-4d4a-b4b1-4219696a2e57"
   },
   "outputs": [
    {
     "data": {
      "text/plain": [
       "Date              114\n",
       "Time              114\n",
       "CO(GT)            114\n",
       "PT08.S1(CO)       114\n",
       "NMHC(GT)          114\n",
       "C6H6(GT)          114\n",
       "PT08.S2(NMHC)     114\n",
       "NOx(GT)           114\n",
       "PT08.S3(NOx)      114\n",
       "NO2(GT)           114\n",
       "PT08.S4(NO2)      114\n",
       "PT08.S5(O3)       114\n",
       "T                 114\n",
       "RH                114\n",
       "AH                114\n",
       "Unnamed: 15      9471\n",
       "Unnamed: 16      9471\n",
       "dtype: int64"
      ]
     },
     "execution_count": 5,
     "metadata": {
      "tags": []
     },
     "output_type": "execute_result"
    }
   ],
   "source": [
    "data.isna().sum()"
   ]
  },
  {
   "cell_type": "code",
   "execution_count": 0,
   "metadata": {
    "colab": {
     "base_uri": "https://localhost:8080/",
     "height": 1000
    },
    "colab_type": "code",
    "id": "VoCf6Mv55gbX",
    "outputId": "3c6ce79b-b26c-4ba0-cd84-b3aef5720a43"
   },
   "outputs": [
    {
     "data": {
      "text/html": [
       "<div>\n",
       "<style scoped>\n",
       "    .dataframe tbody tr th:only-of-type {\n",
       "        vertical-align: middle;\n",
       "    }\n",
       "\n",
       "    .dataframe tbody tr th {\n",
       "        vertical-align: top;\n",
       "    }\n",
       "\n",
       "    .dataframe thead th {\n",
       "        text-align: right;\n",
       "    }\n",
       "</style>\n",
       "<table border=\"1\" class=\"dataframe\">\n",
       "  <thead>\n",
       "    <tr style=\"text-align: right;\">\n",
       "      <th></th>\n",
       "      <th>Date</th>\n",
       "      <th>Time</th>\n",
       "      <th>CO(GT)</th>\n",
       "      <th>PT08.S1(CO)</th>\n",
       "      <th>NMHC(GT)</th>\n",
       "      <th>C6H6(GT)</th>\n",
       "      <th>PT08.S2(NMHC)</th>\n",
       "      <th>NOx(GT)</th>\n",
       "      <th>PT08.S3(NOx)</th>\n",
       "      <th>NO2(GT)</th>\n",
       "      <th>PT08.S4(NO2)</th>\n",
       "      <th>PT08.S5(O3)</th>\n",
       "      <th>T</th>\n",
       "      <th>RH</th>\n",
       "      <th>AH</th>\n",
       "      <th>Unnamed: 15</th>\n",
       "      <th>Unnamed: 16</th>\n",
       "    </tr>\n",
       "  </thead>\n",
       "  <tbody>\n",
       "    <tr>\n",
       "      <th>9357</th>\n",
       "      <td>NaN</td>\n",
       "      <td>NaN</td>\n",
       "      <td>NaN</td>\n",
       "      <td>NaN</td>\n",
       "      <td>NaN</td>\n",
       "      <td>NaN</td>\n",
       "      <td>NaN</td>\n",
       "      <td>NaN</td>\n",
       "      <td>NaN</td>\n",
       "      <td>NaN</td>\n",
       "      <td>NaN</td>\n",
       "      <td>NaN</td>\n",
       "      <td>NaN</td>\n",
       "      <td>NaN</td>\n",
       "      <td>NaN</td>\n",
       "      <td>NaN</td>\n",
       "      <td>NaN</td>\n",
       "    </tr>\n",
       "    <tr>\n",
       "      <th>9358</th>\n",
       "      <td>NaN</td>\n",
       "      <td>NaN</td>\n",
       "      <td>NaN</td>\n",
       "      <td>NaN</td>\n",
       "      <td>NaN</td>\n",
       "      <td>NaN</td>\n",
       "      <td>NaN</td>\n",
       "      <td>NaN</td>\n",
       "      <td>NaN</td>\n",
       "      <td>NaN</td>\n",
       "      <td>NaN</td>\n",
       "      <td>NaN</td>\n",
       "      <td>NaN</td>\n",
       "      <td>NaN</td>\n",
       "      <td>NaN</td>\n",
       "      <td>NaN</td>\n",
       "      <td>NaN</td>\n",
       "    </tr>\n",
       "    <tr>\n",
       "      <th>9359</th>\n",
       "      <td>NaN</td>\n",
       "      <td>NaN</td>\n",
       "      <td>NaN</td>\n",
       "      <td>NaN</td>\n",
       "      <td>NaN</td>\n",
       "      <td>NaN</td>\n",
       "      <td>NaN</td>\n",
       "      <td>NaN</td>\n",
       "      <td>NaN</td>\n",
       "      <td>NaN</td>\n",
       "      <td>NaN</td>\n",
       "      <td>NaN</td>\n",
       "      <td>NaN</td>\n",
       "      <td>NaN</td>\n",
       "      <td>NaN</td>\n",
       "      <td>NaN</td>\n",
       "      <td>NaN</td>\n",
       "    </tr>\n",
       "    <tr>\n",
       "      <th>9360</th>\n",
       "      <td>NaN</td>\n",
       "      <td>NaN</td>\n",
       "      <td>NaN</td>\n",
       "      <td>NaN</td>\n",
       "      <td>NaN</td>\n",
       "      <td>NaN</td>\n",
       "      <td>NaN</td>\n",
       "      <td>NaN</td>\n",
       "      <td>NaN</td>\n",
       "      <td>NaN</td>\n",
       "      <td>NaN</td>\n",
       "      <td>NaN</td>\n",
       "      <td>NaN</td>\n",
       "      <td>NaN</td>\n",
       "      <td>NaN</td>\n",
       "      <td>NaN</td>\n",
       "      <td>NaN</td>\n",
       "    </tr>\n",
       "    <tr>\n",
       "      <th>9361</th>\n",
       "      <td>NaN</td>\n",
       "      <td>NaN</td>\n",
       "      <td>NaN</td>\n",
       "      <td>NaN</td>\n",
       "      <td>NaN</td>\n",
       "      <td>NaN</td>\n",
       "      <td>NaN</td>\n",
       "      <td>NaN</td>\n",
       "      <td>NaN</td>\n",
       "      <td>NaN</td>\n",
       "      <td>NaN</td>\n",
       "      <td>NaN</td>\n",
       "      <td>NaN</td>\n",
       "      <td>NaN</td>\n",
       "      <td>NaN</td>\n",
       "      <td>NaN</td>\n",
       "      <td>NaN</td>\n",
       "    </tr>\n",
       "    <tr>\n",
       "      <th>9362</th>\n",
       "      <td>NaN</td>\n",
       "      <td>NaN</td>\n",
       "      <td>NaN</td>\n",
       "      <td>NaN</td>\n",
       "      <td>NaN</td>\n",
       "      <td>NaN</td>\n",
       "      <td>NaN</td>\n",
       "      <td>NaN</td>\n",
       "      <td>NaN</td>\n",
       "      <td>NaN</td>\n",
       "      <td>NaN</td>\n",
       "      <td>NaN</td>\n",
       "      <td>NaN</td>\n",
       "      <td>NaN</td>\n",
       "      <td>NaN</td>\n",
       "      <td>NaN</td>\n",
       "      <td>NaN</td>\n",
       "    </tr>\n",
       "    <tr>\n",
       "      <th>9363</th>\n",
       "      <td>NaN</td>\n",
       "      <td>NaN</td>\n",
       "      <td>NaN</td>\n",
       "      <td>NaN</td>\n",
       "      <td>NaN</td>\n",
       "      <td>NaN</td>\n",
       "      <td>NaN</td>\n",
       "      <td>NaN</td>\n",
       "      <td>NaN</td>\n",
       "      <td>NaN</td>\n",
       "      <td>NaN</td>\n",
       "      <td>NaN</td>\n",
       "      <td>NaN</td>\n",
       "      <td>NaN</td>\n",
       "      <td>NaN</td>\n",
       "      <td>NaN</td>\n",
       "      <td>NaN</td>\n",
       "    </tr>\n",
       "    <tr>\n",
       "      <th>9364</th>\n",
       "      <td>NaN</td>\n",
       "      <td>NaN</td>\n",
       "      <td>NaN</td>\n",
       "      <td>NaN</td>\n",
       "      <td>NaN</td>\n",
       "      <td>NaN</td>\n",
       "      <td>NaN</td>\n",
       "      <td>NaN</td>\n",
       "      <td>NaN</td>\n",
       "      <td>NaN</td>\n",
       "      <td>NaN</td>\n",
       "      <td>NaN</td>\n",
       "      <td>NaN</td>\n",
       "      <td>NaN</td>\n",
       "      <td>NaN</td>\n",
       "      <td>NaN</td>\n",
       "      <td>NaN</td>\n",
       "    </tr>\n",
       "    <tr>\n",
       "      <th>9365</th>\n",
       "      <td>NaN</td>\n",
       "      <td>NaN</td>\n",
       "      <td>NaN</td>\n",
       "      <td>NaN</td>\n",
       "      <td>NaN</td>\n",
       "      <td>NaN</td>\n",
       "      <td>NaN</td>\n",
       "      <td>NaN</td>\n",
       "      <td>NaN</td>\n",
       "      <td>NaN</td>\n",
       "      <td>NaN</td>\n",
       "      <td>NaN</td>\n",
       "      <td>NaN</td>\n",
       "      <td>NaN</td>\n",
       "      <td>NaN</td>\n",
       "      <td>NaN</td>\n",
       "      <td>NaN</td>\n",
       "    </tr>\n",
       "    <tr>\n",
       "      <th>9366</th>\n",
       "      <td>NaN</td>\n",
       "      <td>NaN</td>\n",
       "      <td>NaN</td>\n",
       "      <td>NaN</td>\n",
       "      <td>NaN</td>\n",
       "      <td>NaN</td>\n",
       "      <td>NaN</td>\n",
       "      <td>NaN</td>\n",
       "      <td>NaN</td>\n",
       "      <td>NaN</td>\n",
       "      <td>NaN</td>\n",
       "      <td>NaN</td>\n",
       "      <td>NaN</td>\n",
       "      <td>NaN</td>\n",
       "      <td>NaN</td>\n",
       "      <td>NaN</td>\n",
       "      <td>NaN</td>\n",
       "    </tr>\n",
       "    <tr>\n",
       "      <th>9367</th>\n",
       "      <td>NaN</td>\n",
       "      <td>NaN</td>\n",
       "      <td>NaN</td>\n",
       "      <td>NaN</td>\n",
       "      <td>NaN</td>\n",
       "      <td>NaN</td>\n",
       "      <td>NaN</td>\n",
       "      <td>NaN</td>\n",
       "      <td>NaN</td>\n",
       "      <td>NaN</td>\n",
       "      <td>NaN</td>\n",
       "      <td>NaN</td>\n",
       "      <td>NaN</td>\n",
       "      <td>NaN</td>\n",
       "      <td>NaN</td>\n",
       "      <td>NaN</td>\n",
       "      <td>NaN</td>\n",
       "    </tr>\n",
       "    <tr>\n",
       "      <th>9368</th>\n",
       "      <td>NaN</td>\n",
       "      <td>NaN</td>\n",
       "      <td>NaN</td>\n",
       "      <td>NaN</td>\n",
       "      <td>NaN</td>\n",
       "      <td>NaN</td>\n",
       "      <td>NaN</td>\n",
       "      <td>NaN</td>\n",
       "      <td>NaN</td>\n",
       "      <td>NaN</td>\n",
       "      <td>NaN</td>\n",
       "      <td>NaN</td>\n",
       "      <td>NaN</td>\n",
       "      <td>NaN</td>\n",
       "      <td>NaN</td>\n",
       "      <td>NaN</td>\n",
       "      <td>NaN</td>\n",
       "    </tr>\n",
       "    <tr>\n",
       "      <th>9369</th>\n",
       "      <td>NaN</td>\n",
       "      <td>NaN</td>\n",
       "      <td>NaN</td>\n",
       "      <td>NaN</td>\n",
       "      <td>NaN</td>\n",
       "      <td>NaN</td>\n",
       "      <td>NaN</td>\n",
       "      <td>NaN</td>\n",
       "      <td>NaN</td>\n",
       "      <td>NaN</td>\n",
       "      <td>NaN</td>\n",
       "      <td>NaN</td>\n",
       "      <td>NaN</td>\n",
       "      <td>NaN</td>\n",
       "      <td>NaN</td>\n",
       "      <td>NaN</td>\n",
       "      <td>NaN</td>\n",
       "    </tr>\n",
       "    <tr>\n",
       "      <th>9370</th>\n",
       "      <td>NaN</td>\n",
       "      <td>NaN</td>\n",
       "      <td>NaN</td>\n",
       "      <td>NaN</td>\n",
       "      <td>NaN</td>\n",
       "      <td>NaN</td>\n",
       "      <td>NaN</td>\n",
       "      <td>NaN</td>\n",
       "      <td>NaN</td>\n",
       "      <td>NaN</td>\n",
       "      <td>NaN</td>\n",
       "      <td>NaN</td>\n",
       "      <td>NaN</td>\n",
       "      <td>NaN</td>\n",
       "      <td>NaN</td>\n",
       "      <td>NaN</td>\n",
       "      <td>NaN</td>\n",
       "    </tr>\n",
       "    <tr>\n",
       "      <th>9371</th>\n",
       "      <td>NaN</td>\n",
       "      <td>NaN</td>\n",
       "      <td>NaN</td>\n",
       "      <td>NaN</td>\n",
       "      <td>NaN</td>\n",
       "      <td>NaN</td>\n",
       "      <td>NaN</td>\n",
       "      <td>NaN</td>\n",
       "      <td>NaN</td>\n",
       "      <td>NaN</td>\n",
       "      <td>NaN</td>\n",
       "      <td>NaN</td>\n",
       "      <td>NaN</td>\n",
       "      <td>NaN</td>\n",
       "      <td>NaN</td>\n",
       "      <td>NaN</td>\n",
       "      <td>NaN</td>\n",
       "    </tr>\n",
       "    <tr>\n",
       "      <th>9372</th>\n",
       "      <td>NaN</td>\n",
       "      <td>NaN</td>\n",
       "      <td>NaN</td>\n",
       "      <td>NaN</td>\n",
       "      <td>NaN</td>\n",
       "      <td>NaN</td>\n",
       "      <td>NaN</td>\n",
       "      <td>NaN</td>\n",
       "      <td>NaN</td>\n",
       "      <td>NaN</td>\n",
       "      <td>NaN</td>\n",
       "      <td>NaN</td>\n",
       "      <td>NaN</td>\n",
       "      <td>NaN</td>\n",
       "      <td>NaN</td>\n",
       "      <td>NaN</td>\n",
       "      <td>NaN</td>\n",
       "    </tr>\n",
       "    <tr>\n",
       "      <th>9373</th>\n",
       "      <td>NaN</td>\n",
       "      <td>NaN</td>\n",
       "      <td>NaN</td>\n",
       "      <td>NaN</td>\n",
       "      <td>NaN</td>\n",
       "      <td>NaN</td>\n",
       "      <td>NaN</td>\n",
       "      <td>NaN</td>\n",
       "      <td>NaN</td>\n",
       "      <td>NaN</td>\n",
       "      <td>NaN</td>\n",
       "      <td>NaN</td>\n",
       "      <td>NaN</td>\n",
       "      <td>NaN</td>\n",
       "      <td>NaN</td>\n",
       "      <td>NaN</td>\n",
       "      <td>NaN</td>\n",
       "    </tr>\n",
       "    <tr>\n",
       "      <th>9374</th>\n",
       "      <td>NaN</td>\n",
       "      <td>NaN</td>\n",
       "      <td>NaN</td>\n",
       "      <td>NaN</td>\n",
       "      <td>NaN</td>\n",
       "      <td>NaN</td>\n",
       "      <td>NaN</td>\n",
       "      <td>NaN</td>\n",
       "      <td>NaN</td>\n",
       "      <td>NaN</td>\n",
       "      <td>NaN</td>\n",
       "      <td>NaN</td>\n",
       "      <td>NaN</td>\n",
       "      <td>NaN</td>\n",
       "      <td>NaN</td>\n",
       "      <td>NaN</td>\n",
       "      <td>NaN</td>\n",
       "    </tr>\n",
       "    <tr>\n",
       "      <th>9375</th>\n",
       "      <td>NaN</td>\n",
       "      <td>NaN</td>\n",
       "      <td>NaN</td>\n",
       "      <td>NaN</td>\n",
       "      <td>NaN</td>\n",
       "      <td>NaN</td>\n",
       "      <td>NaN</td>\n",
       "      <td>NaN</td>\n",
       "      <td>NaN</td>\n",
       "      <td>NaN</td>\n",
       "      <td>NaN</td>\n",
       "      <td>NaN</td>\n",
       "      <td>NaN</td>\n",
       "      <td>NaN</td>\n",
       "      <td>NaN</td>\n",
       "      <td>NaN</td>\n",
       "      <td>NaN</td>\n",
       "    </tr>\n",
       "    <tr>\n",
       "      <th>9376</th>\n",
       "      <td>NaN</td>\n",
       "      <td>NaN</td>\n",
       "      <td>NaN</td>\n",
       "      <td>NaN</td>\n",
       "      <td>NaN</td>\n",
       "      <td>NaN</td>\n",
       "      <td>NaN</td>\n",
       "      <td>NaN</td>\n",
       "      <td>NaN</td>\n",
       "      <td>NaN</td>\n",
       "      <td>NaN</td>\n",
       "      <td>NaN</td>\n",
       "      <td>NaN</td>\n",
       "      <td>NaN</td>\n",
       "      <td>NaN</td>\n",
       "      <td>NaN</td>\n",
       "      <td>NaN</td>\n",
       "    </tr>\n",
       "    <tr>\n",
       "      <th>9377</th>\n",
       "      <td>NaN</td>\n",
       "      <td>NaN</td>\n",
       "      <td>NaN</td>\n",
       "      <td>NaN</td>\n",
       "      <td>NaN</td>\n",
       "      <td>NaN</td>\n",
       "      <td>NaN</td>\n",
       "      <td>NaN</td>\n",
       "      <td>NaN</td>\n",
       "      <td>NaN</td>\n",
       "      <td>NaN</td>\n",
       "      <td>NaN</td>\n",
       "      <td>NaN</td>\n",
       "      <td>NaN</td>\n",
       "      <td>NaN</td>\n",
       "      <td>NaN</td>\n",
       "      <td>NaN</td>\n",
       "    </tr>\n",
       "    <tr>\n",
       "      <th>9378</th>\n",
       "      <td>NaN</td>\n",
       "      <td>NaN</td>\n",
       "      <td>NaN</td>\n",
       "      <td>NaN</td>\n",
       "      <td>NaN</td>\n",
       "      <td>NaN</td>\n",
       "      <td>NaN</td>\n",
       "      <td>NaN</td>\n",
       "      <td>NaN</td>\n",
       "      <td>NaN</td>\n",
       "      <td>NaN</td>\n",
       "      <td>NaN</td>\n",
       "      <td>NaN</td>\n",
       "      <td>NaN</td>\n",
       "      <td>NaN</td>\n",
       "      <td>NaN</td>\n",
       "      <td>NaN</td>\n",
       "    </tr>\n",
       "    <tr>\n",
       "      <th>9379</th>\n",
       "      <td>NaN</td>\n",
       "      <td>NaN</td>\n",
       "      <td>NaN</td>\n",
       "      <td>NaN</td>\n",
       "      <td>NaN</td>\n",
       "      <td>NaN</td>\n",
       "      <td>NaN</td>\n",
       "      <td>NaN</td>\n",
       "      <td>NaN</td>\n",
       "      <td>NaN</td>\n",
       "      <td>NaN</td>\n",
       "      <td>NaN</td>\n",
       "      <td>NaN</td>\n",
       "      <td>NaN</td>\n",
       "      <td>NaN</td>\n",
       "      <td>NaN</td>\n",
       "      <td>NaN</td>\n",
       "    </tr>\n",
       "    <tr>\n",
       "      <th>9380</th>\n",
       "      <td>NaN</td>\n",
       "      <td>NaN</td>\n",
       "      <td>NaN</td>\n",
       "      <td>NaN</td>\n",
       "      <td>NaN</td>\n",
       "      <td>NaN</td>\n",
       "      <td>NaN</td>\n",
       "      <td>NaN</td>\n",
       "      <td>NaN</td>\n",
       "      <td>NaN</td>\n",
       "      <td>NaN</td>\n",
       "      <td>NaN</td>\n",
       "      <td>NaN</td>\n",
       "      <td>NaN</td>\n",
       "      <td>NaN</td>\n",
       "      <td>NaN</td>\n",
       "      <td>NaN</td>\n",
       "    </tr>\n",
       "    <tr>\n",
       "      <th>9381</th>\n",
       "      <td>NaN</td>\n",
       "      <td>NaN</td>\n",
       "      <td>NaN</td>\n",
       "      <td>NaN</td>\n",
       "      <td>NaN</td>\n",
       "      <td>NaN</td>\n",
       "      <td>NaN</td>\n",
       "      <td>NaN</td>\n",
       "      <td>NaN</td>\n",
       "      <td>NaN</td>\n",
       "      <td>NaN</td>\n",
       "      <td>NaN</td>\n",
       "      <td>NaN</td>\n",
       "      <td>NaN</td>\n",
       "      <td>NaN</td>\n",
       "      <td>NaN</td>\n",
       "      <td>NaN</td>\n",
       "    </tr>\n",
       "    <tr>\n",
       "      <th>9382</th>\n",
       "      <td>NaN</td>\n",
       "      <td>NaN</td>\n",
       "      <td>NaN</td>\n",
       "      <td>NaN</td>\n",
       "      <td>NaN</td>\n",
       "      <td>NaN</td>\n",
       "      <td>NaN</td>\n",
       "      <td>NaN</td>\n",
       "      <td>NaN</td>\n",
       "      <td>NaN</td>\n",
       "      <td>NaN</td>\n",
       "      <td>NaN</td>\n",
       "      <td>NaN</td>\n",
       "      <td>NaN</td>\n",
       "      <td>NaN</td>\n",
       "      <td>NaN</td>\n",
       "      <td>NaN</td>\n",
       "    </tr>\n",
       "    <tr>\n",
       "      <th>9383</th>\n",
       "      <td>NaN</td>\n",
       "      <td>NaN</td>\n",
       "      <td>NaN</td>\n",
       "      <td>NaN</td>\n",
       "      <td>NaN</td>\n",
       "      <td>NaN</td>\n",
       "      <td>NaN</td>\n",
       "      <td>NaN</td>\n",
       "      <td>NaN</td>\n",
       "      <td>NaN</td>\n",
       "      <td>NaN</td>\n",
       "      <td>NaN</td>\n",
       "      <td>NaN</td>\n",
       "      <td>NaN</td>\n",
       "      <td>NaN</td>\n",
       "      <td>NaN</td>\n",
       "      <td>NaN</td>\n",
       "    </tr>\n",
       "    <tr>\n",
       "      <th>9384</th>\n",
       "      <td>NaN</td>\n",
       "      <td>NaN</td>\n",
       "      <td>NaN</td>\n",
       "      <td>NaN</td>\n",
       "      <td>NaN</td>\n",
       "      <td>NaN</td>\n",
       "      <td>NaN</td>\n",
       "      <td>NaN</td>\n",
       "      <td>NaN</td>\n",
       "      <td>NaN</td>\n",
       "      <td>NaN</td>\n",
       "      <td>NaN</td>\n",
       "      <td>NaN</td>\n",
       "      <td>NaN</td>\n",
       "      <td>NaN</td>\n",
       "      <td>NaN</td>\n",
       "      <td>NaN</td>\n",
       "    </tr>\n",
       "    <tr>\n",
       "      <th>9385</th>\n",
       "      <td>NaN</td>\n",
       "      <td>NaN</td>\n",
       "      <td>NaN</td>\n",
       "      <td>NaN</td>\n",
       "      <td>NaN</td>\n",
       "      <td>NaN</td>\n",
       "      <td>NaN</td>\n",
       "      <td>NaN</td>\n",
       "      <td>NaN</td>\n",
       "      <td>NaN</td>\n",
       "      <td>NaN</td>\n",
       "      <td>NaN</td>\n",
       "      <td>NaN</td>\n",
       "      <td>NaN</td>\n",
       "      <td>NaN</td>\n",
       "      <td>NaN</td>\n",
       "      <td>NaN</td>\n",
       "    </tr>\n",
       "    <tr>\n",
       "      <th>9386</th>\n",
       "      <td>NaN</td>\n",
       "      <td>NaN</td>\n",
       "      <td>NaN</td>\n",
       "      <td>NaN</td>\n",
       "      <td>NaN</td>\n",
       "      <td>NaN</td>\n",
       "      <td>NaN</td>\n",
       "      <td>NaN</td>\n",
       "      <td>NaN</td>\n",
       "      <td>NaN</td>\n",
       "      <td>NaN</td>\n",
       "      <td>NaN</td>\n",
       "      <td>NaN</td>\n",
       "      <td>NaN</td>\n",
       "      <td>NaN</td>\n",
       "      <td>NaN</td>\n",
       "      <td>NaN</td>\n",
       "    </tr>\n",
       "    <tr>\n",
       "      <th>...</th>\n",
       "      <td>...</td>\n",
       "      <td>...</td>\n",
       "      <td>...</td>\n",
       "      <td>...</td>\n",
       "      <td>...</td>\n",
       "      <td>...</td>\n",
       "      <td>...</td>\n",
       "      <td>...</td>\n",
       "      <td>...</td>\n",
       "      <td>...</td>\n",
       "      <td>...</td>\n",
       "      <td>...</td>\n",
       "      <td>...</td>\n",
       "      <td>...</td>\n",
       "      <td>...</td>\n",
       "      <td>...</td>\n",
       "      <td>...</td>\n",
       "    </tr>\n",
       "    <tr>\n",
       "      <th>9441</th>\n",
       "      <td>NaN</td>\n",
       "      <td>NaN</td>\n",
       "      <td>NaN</td>\n",
       "      <td>NaN</td>\n",
       "      <td>NaN</td>\n",
       "      <td>NaN</td>\n",
       "      <td>NaN</td>\n",
       "      <td>NaN</td>\n",
       "      <td>NaN</td>\n",
       "      <td>NaN</td>\n",
       "      <td>NaN</td>\n",
       "      <td>NaN</td>\n",
       "      <td>NaN</td>\n",
       "      <td>NaN</td>\n",
       "      <td>NaN</td>\n",
       "      <td>NaN</td>\n",
       "      <td>NaN</td>\n",
       "    </tr>\n",
       "    <tr>\n",
       "      <th>9442</th>\n",
       "      <td>NaN</td>\n",
       "      <td>NaN</td>\n",
       "      <td>NaN</td>\n",
       "      <td>NaN</td>\n",
       "      <td>NaN</td>\n",
       "      <td>NaN</td>\n",
       "      <td>NaN</td>\n",
       "      <td>NaN</td>\n",
       "      <td>NaN</td>\n",
       "      <td>NaN</td>\n",
       "      <td>NaN</td>\n",
       "      <td>NaN</td>\n",
       "      <td>NaN</td>\n",
       "      <td>NaN</td>\n",
       "      <td>NaN</td>\n",
       "      <td>NaN</td>\n",
       "      <td>NaN</td>\n",
       "    </tr>\n",
       "    <tr>\n",
       "      <th>9443</th>\n",
       "      <td>NaN</td>\n",
       "      <td>NaN</td>\n",
       "      <td>NaN</td>\n",
       "      <td>NaN</td>\n",
       "      <td>NaN</td>\n",
       "      <td>NaN</td>\n",
       "      <td>NaN</td>\n",
       "      <td>NaN</td>\n",
       "      <td>NaN</td>\n",
       "      <td>NaN</td>\n",
       "      <td>NaN</td>\n",
       "      <td>NaN</td>\n",
       "      <td>NaN</td>\n",
       "      <td>NaN</td>\n",
       "      <td>NaN</td>\n",
       "      <td>NaN</td>\n",
       "      <td>NaN</td>\n",
       "    </tr>\n",
       "    <tr>\n",
       "      <th>9444</th>\n",
       "      <td>NaN</td>\n",
       "      <td>NaN</td>\n",
       "      <td>NaN</td>\n",
       "      <td>NaN</td>\n",
       "      <td>NaN</td>\n",
       "      <td>NaN</td>\n",
       "      <td>NaN</td>\n",
       "      <td>NaN</td>\n",
       "      <td>NaN</td>\n",
       "      <td>NaN</td>\n",
       "      <td>NaN</td>\n",
       "      <td>NaN</td>\n",
       "      <td>NaN</td>\n",
       "      <td>NaN</td>\n",
       "      <td>NaN</td>\n",
       "      <td>NaN</td>\n",
       "      <td>NaN</td>\n",
       "    </tr>\n",
       "    <tr>\n",
       "      <th>9445</th>\n",
       "      <td>NaN</td>\n",
       "      <td>NaN</td>\n",
       "      <td>NaN</td>\n",
       "      <td>NaN</td>\n",
       "      <td>NaN</td>\n",
       "      <td>NaN</td>\n",
       "      <td>NaN</td>\n",
       "      <td>NaN</td>\n",
       "      <td>NaN</td>\n",
       "      <td>NaN</td>\n",
       "      <td>NaN</td>\n",
       "      <td>NaN</td>\n",
       "      <td>NaN</td>\n",
       "      <td>NaN</td>\n",
       "      <td>NaN</td>\n",
       "      <td>NaN</td>\n",
       "      <td>NaN</td>\n",
       "    </tr>\n",
       "    <tr>\n",
       "      <th>9446</th>\n",
       "      <td>NaN</td>\n",
       "      <td>NaN</td>\n",
       "      <td>NaN</td>\n",
       "      <td>NaN</td>\n",
       "      <td>NaN</td>\n",
       "      <td>NaN</td>\n",
       "      <td>NaN</td>\n",
       "      <td>NaN</td>\n",
       "      <td>NaN</td>\n",
       "      <td>NaN</td>\n",
       "      <td>NaN</td>\n",
       "      <td>NaN</td>\n",
       "      <td>NaN</td>\n",
       "      <td>NaN</td>\n",
       "      <td>NaN</td>\n",
       "      <td>NaN</td>\n",
       "      <td>NaN</td>\n",
       "    </tr>\n",
       "    <tr>\n",
       "      <th>9447</th>\n",
       "      <td>NaN</td>\n",
       "      <td>NaN</td>\n",
       "      <td>NaN</td>\n",
       "      <td>NaN</td>\n",
       "      <td>NaN</td>\n",
       "      <td>NaN</td>\n",
       "      <td>NaN</td>\n",
       "      <td>NaN</td>\n",
       "      <td>NaN</td>\n",
       "      <td>NaN</td>\n",
       "      <td>NaN</td>\n",
       "      <td>NaN</td>\n",
       "      <td>NaN</td>\n",
       "      <td>NaN</td>\n",
       "      <td>NaN</td>\n",
       "      <td>NaN</td>\n",
       "      <td>NaN</td>\n",
       "    </tr>\n",
       "    <tr>\n",
       "      <th>9448</th>\n",
       "      <td>NaN</td>\n",
       "      <td>NaN</td>\n",
       "      <td>NaN</td>\n",
       "      <td>NaN</td>\n",
       "      <td>NaN</td>\n",
       "      <td>NaN</td>\n",
       "      <td>NaN</td>\n",
       "      <td>NaN</td>\n",
       "      <td>NaN</td>\n",
       "      <td>NaN</td>\n",
       "      <td>NaN</td>\n",
       "      <td>NaN</td>\n",
       "      <td>NaN</td>\n",
       "      <td>NaN</td>\n",
       "      <td>NaN</td>\n",
       "      <td>NaN</td>\n",
       "      <td>NaN</td>\n",
       "    </tr>\n",
       "    <tr>\n",
       "      <th>9449</th>\n",
       "      <td>NaN</td>\n",
       "      <td>NaN</td>\n",
       "      <td>NaN</td>\n",
       "      <td>NaN</td>\n",
       "      <td>NaN</td>\n",
       "      <td>NaN</td>\n",
       "      <td>NaN</td>\n",
       "      <td>NaN</td>\n",
       "      <td>NaN</td>\n",
       "      <td>NaN</td>\n",
       "      <td>NaN</td>\n",
       "      <td>NaN</td>\n",
       "      <td>NaN</td>\n",
       "      <td>NaN</td>\n",
       "      <td>NaN</td>\n",
       "      <td>NaN</td>\n",
       "      <td>NaN</td>\n",
       "    </tr>\n",
       "    <tr>\n",
       "      <th>9450</th>\n",
       "      <td>NaN</td>\n",
       "      <td>NaN</td>\n",
       "      <td>NaN</td>\n",
       "      <td>NaN</td>\n",
       "      <td>NaN</td>\n",
       "      <td>NaN</td>\n",
       "      <td>NaN</td>\n",
       "      <td>NaN</td>\n",
       "      <td>NaN</td>\n",
       "      <td>NaN</td>\n",
       "      <td>NaN</td>\n",
       "      <td>NaN</td>\n",
       "      <td>NaN</td>\n",
       "      <td>NaN</td>\n",
       "      <td>NaN</td>\n",
       "      <td>NaN</td>\n",
       "      <td>NaN</td>\n",
       "    </tr>\n",
       "    <tr>\n",
       "      <th>9451</th>\n",
       "      <td>NaN</td>\n",
       "      <td>NaN</td>\n",
       "      <td>NaN</td>\n",
       "      <td>NaN</td>\n",
       "      <td>NaN</td>\n",
       "      <td>NaN</td>\n",
       "      <td>NaN</td>\n",
       "      <td>NaN</td>\n",
       "      <td>NaN</td>\n",
       "      <td>NaN</td>\n",
       "      <td>NaN</td>\n",
       "      <td>NaN</td>\n",
       "      <td>NaN</td>\n",
       "      <td>NaN</td>\n",
       "      <td>NaN</td>\n",
       "      <td>NaN</td>\n",
       "      <td>NaN</td>\n",
       "    </tr>\n",
       "    <tr>\n",
       "      <th>9452</th>\n",
       "      <td>NaN</td>\n",
       "      <td>NaN</td>\n",
       "      <td>NaN</td>\n",
       "      <td>NaN</td>\n",
       "      <td>NaN</td>\n",
       "      <td>NaN</td>\n",
       "      <td>NaN</td>\n",
       "      <td>NaN</td>\n",
       "      <td>NaN</td>\n",
       "      <td>NaN</td>\n",
       "      <td>NaN</td>\n",
       "      <td>NaN</td>\n",
       "      <td>NaN</td>\n",
       "      <td>NaN</td>\n",
       "      <td>NaN</td>\n",
       "      <td>NaN</td>\n",
       "      <td>NaN</td>\n",
       "    </tr>\n",
       "    <tr>\n",
       "      <th>9453</th>\n",
       "      <td>NaN</td>\n",
       "      <td>NaN</td>\n",
       "      <td>NaN</td>\n",
       "      <td>NaN</td>\n",
       "      <td>NaN</td>\n",
       "      <td>NaN</td>\n",
       "      <td>NaN</td>\n",
       "      <td>NaN</td>\n",
       "      <td>NaN</td>\n",
       "      <td>NaN</td>\n",
       "      <td>NaN</td>\n",
       "      <td>NaN</td>\n",
       "      <td>NaN</td>\n",
       "      <td>NaN</td>\n",
       "      <td>NaN</td>\n",
       "      <td>NaN</td>\n",
       "      <td>NaN</td>\n",
       "    </tr>\n",
       "    <tr>\n",
       "      <th>9454</th>\n",
       "      <td>NaN</td>\n",
       "      <td>NaN</td>\n",
       "      <td>NaN</td>\n",
       "      <td>NaN</td>\n",
       "      <td>NaN</td>\n",
       "      <td>NaN</td>\n",
       "      <td>NaN</td>\n",
       "      <td>NaN</td>\n",
       "      <td>NaN</td>\n",
       "      <td>NaN</td>\n",
       "      <td>NaN</td>\n",
       "      <td>NaN</td>\n",
       "      <td>NaN</td>\n",
       "      <td>NaN</td>\n",
       "      <td>NaN</td>\n",
       "      <td>NaN</td>\n",
       "      <td>NaN</td>\n",
       "    </tr>\n",
       "    <tr>\n",
       "      <th>9455</th>\n",
       "      <td>NaN</td>\n",
       "      <td>NaN</td>\n",
       "      <td>NaN</td>\n",
       "      <td>NaN</td>\n",
       "      <td>NaN</td>\n",
       "      <td>NaN</td>\n",
       "      <td>NaN</td>\n",
       "      <td>NaN</td>\n",
       "      <td>NaN</td>\n",
       "      <td>NaN</td>\n",
       "      <td>NaN</td>\n",
       "      <td>NaN</td>\n",
       "      <td>NaN</td>\n",
       "      <td>NaN</td>\n",
       "      <td>NaN</td>\n",
       "      <td>NaN</td>\n",
       "      <td>NaN</td>\n",
       "    </tr>\n",
       "    <tr>\n",
       "      <th>9456</th>\n",
       "      <td>NaN</td>\n",
       "      <td>NaN</td>\n",
       "      <td>NaN</td>\n",
       "      <td>NaN</td>\n",
       "      <td>NaN</td>\n",
       "      <td>NaN</td>\n",
       "      <td>NaN</td>\n",
       "      <td>NaN</td>\n",
       "      <td>NaN</td>\n",
       "      <td>NaN</td>\n",
       "      <td>NaN</td>\n",
       "      <td>NaN</td>\n",
       "      <td>NaN</td>\n",
       "      <td>NaN</td>\n",
       "      <td>NaN</td>\n",
       "      <td>NaN</td>\n",
       "      <td>NaN</td>\n",
       "    </tr>\n",
       "    <tr>\n",
       "      <th>9457</th>\n",
       "      <td>NaN</td>\n",
       "      <td>NaN</td>\n",
       "      <td>NaN</td>\n",
       "      <td>NaN</td>\n",
       "      <td>NaN</td>\n",
       "      <td>NaN</td>\n",
       "      <td>NaN</td>\n",
       "      <td>NaN</td>\n",
       "      <td>NaN</td>\n",
       "      <td>NaN</td>\n",
       "      <td>NaN</td>\n",
       "      <td>NaN</td>\n",
       "      <td>NaN</td>\n",
       "      <td>NaN</td>\n",
       "      <td>NaN</td>\n",
       "      <td>NaN</td>\n",
       "      <td>NaN</td>\n",
       "    </tr>\n",
       "    <tr>\n",
       "      <th>9458</th>\n",
       "      <td>NaN</td>\n",
       "      <td>NaN</td>\n",
       "      <td>NaN</td>\n",
       "      <td>NaN</td>\n",
       "      <td>NaN</td>\n",
       "      <td>NaN</td>\n",
       "      <td>NaN</td>\n",
       "      <td>NaN</td>\n",
       "      <td>NaN</td>\n",
       "      <td>NaN</td>\n",
       "      <td>NaN</td>\n",
       "      <td>NaN</td>\n",
       "      <td>NaN</td>\n",
       "      <td>NaN</td>\n",
       "      <td>NaN</td>\n",
       "      <td>NaN</td>\n",
       "      <td>NaN</td>\n",
       "    </tr>\n",
       "    <tr>\n",
       "      <th>9459</th>\n",
       "      <td>NaN</td>\n",
       "      <td>NaN</td>\n",
       "      <td>NaN</td>\n",
       "      <td>NaN</td>\n",
       "      <td>NaN</td>\n",
       "      <td>NaN</td>\n",
       "      <td>NaN</td>\n",
       "      <td>NaN</td>\n",
       "      <td>NaN</td>\n",
       "      <td>NaN</td>\n",
       "      <td>NaN</td>\n",
       "      <td>NaN</td>\n",
       "      <td>NaN</td>\n",
       "      <td>NaN</td>\n",
       "      <td>NaN</td>\n",
       "      <td>NaN</td>\n",
       "      <td>NaN</td>\n",
       "    </tr>\n",
       "    <tr>\n",
       "      <th>9460</th>\n",
       "      <td>NaN</td>\n",
       "      <td>NaN</td>\n",
       "      <td>NaN</td>\n",
       "      <td>NaN</td>\n",
       "      <td>NaN</td>\n",
       "      <td>NaN</td>\n",
       "      <td>NaN</td>\n",
       "      <td>NaN</td>\n",
       "      <td>NaN</td>\n",
       "      <td>NaN</td>\n",
       "      <td>NaN</td>\n",
       "      <td>NaN</td>\n",
       "      <td>NaN</td>\n",
       "      <td>NaN</td>\n",
       "      <td>NaN</td>\n",
       "      <td>NaN</td>\n",
       "      <td>NaN</td>\n",
       "    </tr>\n",
       "    <tr>\n",
       "      <th>9461</th>\n",
       "      <td>NaN</td>\n",
       "      <td>NaN</td>\n",
       "      <td>NaN</td>\n",
       "      <td>NaN</td>\n",
       "      <td>NaN</td>\n",
       "      <td>NaN</td>\n",
       "      <td>NaN</td>\n",
       "      <td>NaN</td>\n",
       "      <td>NaN</td>\n",
       "      <td>NaN</td>\n",
       "      <td>NaN</td>\n",
       "      <td>NaN</td>\n",
       "      <td>NaN</td>\n",
       "      <td>NaN</td>\n",
       "      <td>NaN</td>\n",
       "      <td>NaN</td>\n",
       "      <td>NaN</td>\n",
       "    </tr>\n",
       "    <tr>\n",
       "      <th>9462</th>\n",
       "      <td>NaN</td>\n",
       "      <td>NaN</td>\n",
       "      <td>NaN</td>\n",
       "      <td>NaN</td>\n",
       "      <td>NaN</td>\n",
       "      <td>NaN</td>\n",
       "      <td>NaN</td>\n",
       "      <td>NaN</td>\n",
       "      <td>NaN</td>\n",
       "      <td>NaN</td>\n",
       "      <td>NaN</td>\n",
       "      <td>NaN</td>\n",
       "      <td>NaN</td>\n",
       "      <td>NaN</td>\n",
       "      <td>NaN</td>\n",
       "      <td>NaN</td>\n",
       "      <td>NaN</td>\n",
       "    </tr>\n",
       "    <tr>\n",
       "      <th>9463</th>\n",
       "      <td>NaN</td>\n",
       "      <td>NaN</td>\n",
       "      <td>NaN</td>\n",
       "      <td>NaN</td>\n",
       "      <td>NaN</td>\n",
       "      <td>NaN</td>\n",
       "      <td>NaN</td>\n",
       "      <td>NaN</td>\n",
       "      <td>NaN</td>\n",
       "      <td>NaN</td>\n",
       "      <td>NaN</td>\n",
       "      <td>NaN</td>\n",
       "      <td>NaN</td>\n",
       "      <td>NaN</td>\n",
       "      <td>NaN</td>\n",
       "      <td>NaN</td>\n",
       "      <td>NaN</td>\n",
       "    </tr>\n",
       "    <tr>\n",
       "      <th>9464</th>\n",
       "      <td>NaN</td>\n",
       "      <td>NaN</td>\n",
       "      <td>NaN</td>\n",
       "      <td>NaN</td>\n",
       "      <td>NaN</td>\n",
       "      <td>NaN</td>\n",
       "      <td>NaN</td>\n",
       "      <td>NaN</td>\n",
       "      <td>NaN</td>\n",
       "      <td>NaN</td>\n",
       "      <td>NaN</td>\n",
       "      <td>NaN</td>\n",
       "      <td>NaN</td>\n",
       "      <td>NaN</td>\n",
       "      <td>NaN</td>\n",
       "      <td>NaN</td>\n",
       "      <td>NaN</td>\n",
       "    </tr>\n",
       "    <tr>\n",
       "      <th>9465</th>\n",
       "      <td>NaN</td>\n",
       "      <td>NaN</td>\n",
       "      <td>NaN</td>\n",
       "      <td>NaN</td>\n",
       "      <td>NaN</td>\n",
       "      <td>NaN</td>\n",
       "      <td>NaN</td>\n",
       "      <td>NaN</td>\n",
       "      <td>NaN</td>\n",
       "      <td>NaN</td>\n",
       "      <td>NaN</td>\n",
       "      <td>NaN</td>\n",
       "      <td>NaN</td>\n",
       "      <td>NaN</td>\n",
       "      <td>NaN</td>\n",
       "      <td>NaN</td>\n",
       "      <td>NaN</td>\n",
       "    </tr>\n",
       "    <tr>\n",
       "      <th>9466</th>\n",
       "      <td>NaN</td>\n",
       "      <td>NaN</td>\n",
       "      <td>NaN</td>\n",
       "      <td>NaN</td>\n",
       "      <td>NaN</td>\n",
       "      <td>NaN</td>\n",
       "      <td>NaN</td>\n",
       "      <td>NaN</td>\n",
       "      <td>NaN</td>\n",
       "      <td>NaN</td>\n",
       "      <td>NaN</td>\n",
       "      <td>NaN</td>\n",
       "      <td>NaN</td>\n",
       "      <td>NaN</td>\n",
       "      <td>NaN</td>\n",
       "      <td>NaN</td>\n",
       "      <td>NaN</td>\n",
       "    </tr>\n",
       "    <tr>\n",
       "      <th>9467</th>\n",
       "      <td>NaN</td>\n",
       "      <td>NaN</td>\n",
       "      <td>NaN</td>\n",
       "      <td>NaN</td>\n",
       "      <td>NaN</td>\n",
       "      <td>NaN</td>\n",
       "      <td>NaN</td>\n",
       "      <td>NaN</td>\n",
       "      <td>NaN</td>\n",
       "      <td>NaN</td>\n",
       "      <td>NaN</td>\n",
       "      <td>NaN</td>\n",
       "      <td>NaN</td>\n",
       "      <td>NaN</td>\n",
       "      <td>NaN</td>\n",
       "      <td>NaN</td>\n",
       "      <td>NaN</td>\n",
       "    </tr>\n",
       "    <tr>\n",
       "      <th>9468</th>\n",
       "      <td>NaN</td>\n",
       "      <td>NaN</td>\n",
       "      <td>NaN</td>\n",
       "      <td>NaN</td>\n",
       "      <td>NaN</td>\n",
       "      <td>NaN</td>\n",
       "      <td>NaN</td>\n",
       "      <td>NaN</td>\n",
       "      <td>NaN</td>\n",
       "      <td>NaN</td>\n",
       "      <td>NaN</td>\n",
       "      <td>NaN</td>\n",
       "      <td>NaN</td>\n",
       "      <td>NaN</td>\n",
       "      <td>NaN</td>\n",
       "      <td>NaN</td>\n",
       "      <td>NaN</td>\n",
       "    </tr>\n",
       "    <tr>\n",
       "      <th>9469</th>\n",
       "      <td>NaN</td>\n",
       "      <td>NaN</td>\n",
       "      <td>NaN</td>\n",
       "      <td>NaN</td>\n",
       "      <td>NaN</td>\n",
       "      <td>NaN</td>\n",
       "      <td>NaN</td>\n",
       "      <td>NaN</td>\n",
       "      <td>NaN</td>\n",
       "      <td>NaN</td>\n",
       "      <td>NaN</td>\n",
       "      <td>NaN</td>\n",
       "      <td>NaN</td>\n",
       "      <td>NaN</td>\n",
       "      <td>NaN</td>\n",
       "      <td>NaN</td>\n",
       "      <td>NaN</td>\n",
       "    </tr>\n",
       "    <tr>\n",
       "      <th>9470</th>\n",
       "      <td>NaN</td>\n",
       "      <td>NaN</td>\n",
       "      <td>NaN</td>\n",
       "      <td>NaN</td>\n",
       "      <td>NaN</td>\n",
       "      <td>NaN</td>\n",
       "      <td>NaN</td>\n",
       "      <td>NaN</td>\n",
       "      <td>NaN</td>\n",
       "      <td>NaN</td>\n",
       "      <td>NaN</td>\n",
       "      <td>NaN</td>\n",
       "      <td>NaN</td>\n",
       "      <td>NaN</td>\n",
       "      <td>NaN</td>\n",
       "      <td>NaN</td>\n",
       "      <td>NaN</td>\n",
       "    </tr>\n",
       "  </tbody>\n",
       "</table>\n",
       "<p>114 rows × 17 columns</p>\n",
       "</div>"
      ],
      "text/plain": [
       "     Date Time  CO(GT)  PT08.S1(CO)  ...  RH  AH  Unnamed: 15  Unnamed: 16\n",
       "9357  NaN  NaN     NaN          NaN  ... NaN NaN          NaN          NaN\n",
       "9358  NaN  NaN     NaN          NaN  ... NaN NaN          NaN          NaN\n",
       "9359  NaN  NaN     NaN          NaN  ... NaN NaN          NaN          NaN\n",
       "9360  NaN  NaN     NaN          NaN  ... NaN NaN          NaN          NaN\n",
       "9361  NaN  NaN     NaN          NaN  ... NaN NaN          NaN          NaN\n",
       "9362  NaN  NaN     NaN          NaN  ... NaN NaN          NaN          NaN\n",
       "9363  NaN  NaN     NaN          NaN  ... NaN NaN          NaN          NaN\n",
       "9364  NaN  NaN     NaN          NaN  ... NaN NaN          NaN          NaN\n",
       "9365  NaN  NaN     NaN          NaN  ... NaN NaN          NaN          NaN\n",
       "9366  NaN  NaN     NaN          NaN  ... NaN NaN          NaN          NaN\n",
       "9367  NaN  NaN     NaN          NaN  ... NaN NaN          NaN          NaN\n",
       "9368  NaN  NaN     NaN          NaN  ... NaN NaN          NaN          NaN\n",
       "9369  NaN  NaN     NaN          NaN  ... NaN NaN          NaN          NaN\n",
       "9370  NaN  NaN     NaN          NaN  ... NaN NaN          NaN          NaN\n",
       "9371  NaN  NaN     NaN          NaN  ... NaN NaN          NaN          NaN\n",
       "9372  NaN  NaN     NaN          NaN  ... NaN NaN          NaN          NaN\n",
       "9373  NaN  NaN     NaN          NaN  ... NaN NaN          NaN          NaN\n",
       "9374  NaN  NaN     NaN          NaN  ... NaN NaN          NaN          NaN\n",
       "9375  NaN  NaN     NaN          NaN  ... NaN NaN          NaN          NaN\n",
       "9376  NaN  NaN     NaN          NaN  ... NaN NaN          NaN          NaN\n",
       "9377  NaN  NaN     NaN          NaN  ... NaN NaN          NaN          NaN\n",
       "9378  NaN  NaN     NaN          NaN  ... NaN NaN          NaN          NaN\n",
       "9379  NaN  NaN     NaN          NaN  ... NaN NaN          NaN          NaN\n",
       "9380  NaN  NaN     NaN          NaN  ... NaN NaN          NaN          NaN\n",
       "9381  NaN  NaN     NaN          NaN  ... NaN NaN          NaN          NaN\n",
       "9382  NaN  NaN     NaN          NaN  ... NaN NaN          NaN          NaN\n",
       "9383  NaN  NaN     NaN          NaN  ... NaN NaN          NaN          NaN\n",
       "9384  NaN  NaN     NaN          NaN  ... NaN NaN          NaN          NaN\n",
       "9385  NaN  NaN     NaN          NaN  ... NaN NaN          NaN          NaN\n",
       "9386  NaN  NaN     NaN          NaN  ... NaN NaN          NaN          NaN\n",
       "...   ...  ...     ...          ...  ...  ..  ..          ...          ...\n",
       "9441  NaN  NaN     NaN          NaN  ... NaN NaN          NaN          NaN\n",
       "9442  NaN  NaN     NaN          NaN  ... NaN NaN          NaN          NaN\n",
       "9443  NaN  NaN     NaN          NaN  ... NaN NaN          NaN          NaN\n",
       "9444  NaN  NaN     NaN          NaN  ... NaN NaN          NaN          NaN\n",
       "9445  NaN  NaN     NaN          NaN  ... NaN NaN          NaN          NaN\n",
       "9446  NaN  NaN     NaN          NaN  ... NaN NaN          NaN          NaN\n",
       "9447  NaN  NaN     NaN          NaN  ... NaN NaN          NaN          NaN\n",
       "9448  NaN  NaN     NaN          NaN  ... NaN NaN          NaN          NaN\n",
       "9449  NaN  NaN     NaN          NaN  ... NaN NaN          NaN          NaN\n",
       "9450  NaN  NaN     NaN          NaN  ... NaN NaN          NaN          NaN\n",
       "9451  NaN  NaN     NaN          NaN  ... NaN NaN          NaN          NaN\n",
       "9452  NaN  NaN     NaN          NaN  ... NaN NaN          NaN          NaN\n",
       "9453  NaN  NaN     NaN          NaN  ... NaN NaN          NaN          NaN\n",
       "9454  NaN  NaN     NaN          NaN  ... NaN NaN          NaN          NaN\n",
       "9455  NaN  NaN     NaN          NaN  ... NaN NaN          NaN          NaN\n",
       "9456  NaN  NaN     NaN          NaN  ... NaN NaN          NaN          NaN\n",
       "9457  NaN  NaN     NaN          NaN  ... NaN NaN          NaN          NaN\n",
       "9458  NaN  NaN     NaN          NaN  ... NaN NaN          NaN          NaN\n",
       "9459  NaN  NaN     NaN          NaN  ... NaN NaN          NaN          NaN\n",
       "9460  NaN  NaN     NaN          NaN  ... NaN NaN          NaN          NaN\n",
       "9461  NaN  NaN     NaN          NaN  ... NaN NaN          NaN          NaN\n",
       "9462  NaN  NaN     NaN          NaN  ... NaN NaN          NaN          NaN\n",
       "9463  NaN  NaN     NaN          NaN  ... NaN NaN          NaN          NaN\n",
       "9464  NaN  NaN     NaN          NaN  ... NaN NaN          NaN          NaN\n",
       "9465  NaN  NaN     NaN          NaN  ... NaN NaN          NaN          NaN\n",
       "9466  NaN  NaN     NaN          NaN  ... NaN NaN          NaN          NaN\n",
       "9467  NaN  NaN     NaN          NaN  ... NaN NaN          NaN          NaN\n",
       "9468  NaN  NaN     NaN          NaN  ... NaN NaN          NaN          NaN\n",
       "9469  NaN  NaN     NaN          NaN  ... NaN NaN          NaN          NaN\n",
       "9470  NaN  NaN     NaN          NaN  ... NaN NaN          NaN          NaN\n",
       "\n",
       "[114 rows x 17 columns]"
      ]
     },
     "execution_count": 6,
     "metadata": {
      "tags": []
     },
     "output_type": "execute_result"
    }
   ],
   "source": [
    "data[data.isna().all(axis=1)]"
   ]
  },
  {
   "cell_type": "markdown",
   "metadata": {
    "colab_type": "text",
    "id": "0BDpsvW3B_3I"
   },
   "source": [
    "Видим, что 2 столбика заполнены полностью NaN значениями, а также имеем 114 строк пропусков. Удалим все пропуски."
   ]
  },
  {
   "cell_type": "code",
   "execution_count": 0,
   "metadata": {
    "colab": {},
    "colab_type": "code",
    "id": "D4Bo65Vn5gbf"
   },
   "outputs": [],
   "source": [
    "data.drop(columns=['Unnamed: 15','Unnamed: 16'],inplace=True)\n",
    "data.dropna(inplace=True)"
   ]
  },
  {
   "cell_type": "code",
   "execution_count": 0,
   "metadata": {
    "colab": {
     "base_uri": "https://localhost:8080/",
     "height": 33
    },
    "colab_type": "code",
    "id": "qKpsnJ8g5gbi",
    "outputId": "283c3f04-74d7-47aa-89da-06fa6b843460"
   },
   "outputs": [
    {
     "data": {
      "text/plain": [
       "(9357, 15)"
      ]
     },
     "execution_count": 185,
     "metadata": {
      "tags": []
     },
     "output_type": "execute_result"
    }
   ],
   "source": [
    "data.shape"
   ]
  },
  {
   "cell_type": "markdown",
   "metadata": {
    "colab_type": "text",
    "id": "FS56Mp3CCNZU"
   },
   "source": [
    "Также в описании датасета сказано, что все пропущенные значения, заменены на -200. Заменим все -200 на NaN."
   ]
  },
  {
   "cell_type": "code",
   "execution_count": 0,
   "metadata": {
    "colab": {},
    "colab_type": "code",
    "id": "vd-rQKhf5gbo"
   },
   "outputs": [],
   "source": [
    "data = data.replace(to_replace=-200, value=np.NaN, regex=True)"
   ]
  },
  {
   "cell_type": "code",
   "execution_count": 0,
   "metadata": {
    "colab": {
     "base_uri": "https://localhost:8080/",
     "height": 284
    },
    "colab_type": "code",
    "id": "Kb32LgDp5gbq",
    "outputId": "fdb17e23-1b90-40b6-da56-806bac74240d"
   },
   "outputs": [
    {
     "data": {
      "text/plain": [
       "Date                0\n",
       "Time                0\n",
       "CO(GT)           1683\n",
       "PT08.S1(CO)       366\n",
       "NMHC(GT)         8443\n",
       "C6H6(GT)          366\n",
       "PT08.S2(NMHC)     366\n",
       "NOx(GT)          1639\n",
       "PT08.S3(NOx)      366\n",
       "NO2(GT)          1642\n",
       "PT08.S4(NO2)      366\n",
       "PT08.S5(O3)       366\n",
       "T                 366\n",
       "RH                366\n",
       "AH                366\n",
       "dtype: int64"
      ]
     },
     "execution_count": 187,
     "metadata": {
      "tags": []
     },
     "output_type": "execute_result"
    }
   ],
   "source": [
    "data.isna().sum()"
   ]
  },
  {
   "cell_type": "markdown",
   "metadata": {
    "colab_type": "text",
    "id": "l4hD9JetCXFZ"
   },
   "source": [
    "NMHC(GT) можно смело удалять, т.к. 8443 из 9357 пропущенных значений"
   ]
  },
  {
   "cell_type": "code",
   "execution_count": 0,
   "metadata": {
    "colab": {},
    "colab_type": "code",
    "id": "uYVhisNa5gbv"
   },
   "outputs": [],
   "source": [
    "data.drop(columns=['NMHC(GT)'], inplace=True)"
   ]
  },
  {
   "cell_type": "code",
   "execution_count": 0,
   "metadata": {
    "colab": {
     "base_uri": "https://localhost:8080/",
     "height": 992
    },
    "colab_type": "code",
    "id": "slgHXrnk5gby",
    "outputId": "440ee2e3-b130-443e-da1c-1a2d5638dc8f"
   },
   "outputs": [
    {
     "data": {
      "text/html": [
       "<div>\n",
       "<style scoped>\n",
       "    .dataframe tbody tr th:only-of-type {\n",
       "        vertical-align: middle;\n",
       "    }\n",
       "\n",
       "    .dataframe tbody tr th {\n",
       "        vertical-align: top;\n",
       "    }\n",
       "\n",
       "    .dataframe thead th {\n",
       "        text-align: right;\n",
       "    }\n",
       "</style>\n",
       "<table border=\"1\" class=\"dataframe\">\n",
       "  <thead>\n",
       "    <tr style=\"text-align: right;\">\n",
       "      <th></th>\n",
       "      <th>AH</th>\n",
       "      <th>C6H6(GT)</th>\n",
       "      <th>CO(GT)</th>\n",
       "      <th>NO2(GT)</th>\n",
       "      <th>NOx(GT)</th>\n",
       "      <th>PT08.S1(CO)</th>\n",
       "      <th>PT08.S2(NMHC)</th>\n",
       "      <th>PT08.S3(NOx)</th>\n",
       "      <th>PT08.S4(NO2)</th>\n",
       "      <th>PT08.S5(O3)</th>\n",
       "      <th>RH</th>\n",
       "      <th>T</th>\n",
       "    </tr>\n",
       "  </thead>\n",
       "  <tbody>\n",
       "    <tr>\n",
       "      <th>1825</th>\n",
       "      <td>NaN</td>\n",
       "      <td>NaN</td>\n",
       "      <td>NaN</td>\n",
       "      <td>NaN</td>\n",
       "      <td>NaN</td>\n",
       "      <td>NaN</td>\n",
       "      <td>NaN</td>\n",
       "      <td>NaN</td>\n",
       "      <td>NaN</td>\n",
       "      <td>NaN</td>\n",
       "      <td>NaN</td>\n",
       "      <td>NaN</td>\n",
       "    </tr>\n",
       "    <tr>\n",
       "      <th>1826</th>\n",
       "      <td>NaN</td>\n",
       "      <td>NaN</td>\n",
       "      <td>NaN</td>\n",
       "      <td>NaN</td>\n",
       "      <td>NaN</td>\n",
       "      <td>NaN</td>\n",
       "      <td>NaN</td>\n",
       "      <td>NaN</td>\n",
       "      <td>NaN</td>\n",
       "      <td>NaN</td>\n",
       "      <td>NaN</td>\n",
       "      <td>NaN</td>\n",
       "    </tr>\n",
       "    <tr>\n",
       "      <th>1827</th>\n",
       "      <td>NaN</td>\n",
       "      <td>NaN</td>\n",
       "      <td>NaN</td>\n",
       "      <td>NaN</td>\n",
       "      <td>NaN</td>\n",
       "      <td>NaN</td>\n",
       "      <td>NaN</td>\n",
       "      <td>NaN</td>\n",
       "      <td>NaN</td>\n",
       "      <td>NaN</td>\n",
       "      <td>NaN</td>\n",
       "      <td>NaN</td>\n",
       "    </tr>\n",
       "    <tr>\n",
       "      <th>1828</th>\n",
       "      <td>NaN</td>\n",
       "      <td>NaN</td>\n",
       "      <td>NaN</td>\n",
       "      <td>NaN</td>\n",
       "      <td>NaN</td>\n",
       "      <td>NaN</td>\n",
       "      <td>NaN</td>\n",
       "      <td>NaN</td>\n",
       "      <td>NaN</td>\n",
       "      <td>NaN</td>\n",
       "      <td>NaN</td>\n",
       "      <td>NaN</td>\n",
       "    </tr>\n",
       "    <tr>\n",
       "      <th>1829</th>\n",
       "      <td>NaN</td>\n",
       "      <td>NaN</td>\n",
       "      <td>NaN</td>\n",
       "      <td>NaN</td>\n",
       "      <td>NaN</td>\n",
       "      <td>NaN</td>\n",
       "      <td>NaN</td>\n",
       "      <td>NaN</td>\n",
       "      <td>NaN</td>\n",
       "      <td>NaN</td>\n",
       "      <td>NaN</td>\n",
       "      <td>NaN</td>\n",
       "    </tr>\n",
       "    <tr>\n",
       "      <th>1830</th>\n",
       "      <td>NaN</td>\n",
       "      <td>NaN</td>\n",
       "      <td>NaN</td>\n",
       "      <td>NaN</td>\n",
       "      <td>NaN</td>\n",
       "      <td>NaN</td>\n",
       "      <td>NaN</td>\n",
       "      <td>NaN</td>\n",
       "      <td>NaN</td>\n",
       "      <td>NaN</td>\n",
       "      <td>NaN</td>\n",
       "      <td>NaN</td>\n",
       "    </tr>\n",
       "    <tr>\n",
       "      <th>1831</th>\n",
       "      <td>NaN</td>\n",
       "      <td>NaN</td>\n",
       "      <td>NaN</td>\n",
       "      <td>NaN</td>\n",
       "      <td>NaN</td>\n",
       "      <td>NaN</td>\n",
       "      <td>NaN</td>\n",
       "      <td>NaN</td>\n",
       "      <td>NaN</td>\n",
       "      <td>NaN</td>\n",
       "      <td>NaN</td>\n",
       "      <td>NaN</td>\n",
       "    </tr>\n",
       "    <tr>\n",
       "      <th>1832</th>\n",
       "      <td>NaN</td>\n",
       "      <td>NaN</td>\n",
       "      <td>NaN</td>\n",
       "      <td>NaN</td>\n",
       "      <td>NaN</td>\n",
       "      <td>NaN</td>\n",
       "      <td>NaN</td>\n",
       "      <td>NaN</td>\n",
       "      <td>NaN</td>\n",
       "      <td>NaN</td>\n",
       "      <td>NaN</td>\n",
       "      <td>NaN</td>\n",
       "    </tr>\n",
       "    <tr>\n",
       "      <th>1833</th>\n",
       "      <td>NaN</td>\n",
       "      <td>NaN</td>\n",
       "      <td>NaN</td>\n",
       "      <td>NaN</td>\n",
       "      <td>NaN</td>\n",
       "      <td>NaN</td>\n",
       "      <td>NaN</td>\n",
       "      <td>NaN</td>\n",
       "      <td>NaN</td>\n",
       "      <td>NaN</td>\n",
       "      <td>NaN</td>\n",
       "      <td>NaN</td>\n",
       "    </tr>\n",
       "    <tr>\n",
       "      <th>1834</th>\n",
       "      <td>NaN</td>\n",
       "      <td>NaN</td>\n",
       "      <td>NaN</td>\n",
       "      <td>NaN</td>\n",
       "      <td>NaN</td>\n",
       "      <td>NaN</td>\n",
       "      <td>NaN</td>\n",
       "      <td>NaN</td>\n",
       "      <td>NaN</td>\n",
       "      <td>NaN</td>\n",
       "      <td>NaN</td>\n",
       "      <td>NaN</td>\n",
       "    </tr>\n",
       "    <tr>\n",
       "      <th>1835</th>\n",
       "      <td>NaN</td>\n",
       "      <td>NaN</td>\n",
       "      <td>NaN</td>\n",
       "      <td>NaN</td>\n",
       "      <td>NaN</td>\n",
       "      <td>NaN</td>\n",
       "      <td>NaN</td>\n",
       "      <td>NaN</td>\n",
       "      <td>NaN</td>\n",
       "      <td>NaN</td>\n",
       "      <td>NaN</td>\n",
       "      <td>NaN</td>\n",
       "    </tr>\n",
       "    <tr>\n",
       "      <th>1836</th>\n",
       "      <td>NaN</td>\n",
       "      <td>NaN</td>\n",
       "      <td>NaN</td>\n",
       "      <td>NaN</td>\n",
       "      <td>NaN</td>\n",
       "      <td>NaN</td>\n",
       "      <td>NaN</td>\n",
       "      <td>NaN</td>\n",
       "      <td>NaN</td>\n",
       "      <td>NaN</td>\n",
       "      <td>NaN</td>\n",
       "      <td>NaN</td>\n",
       "    </tr>\n",
       "    <tr>\n",
       "      <th>1837</th>\n",
       "      <td>NaN</td>\n",
       "      <td>NaN</td>\n",
       "      <td>NaN</td>\n",
       "      <td>NaN</td>\n",
       "      <td>NaN</td>\n",
       "      <td>NaN</td>\n",
       "      <td>NaN</td>\n",
       "      <td>NaN</td>\n",
       "      <td>NaN</td>\n",
       "      <td>NaN</td>\n",
       "      <td>NaN</td>\n",
       "      <td>NaN</td>\n",
       "    </tr>\n",
       "    <tr>\n",
       "      <th>1838</th>\n",
       "      <td>NaN</td>\n",
       "      <td>NaN</td>\n",
       "      <td>NaN</td>\n",
       "      <td>NaN</td>\n",
       "      <td>NaN</td>\n",
       "      <td>NaN</td>\n",
       "      <td>NaN</td>\n",
       "      <td>NaN</td>\n",
       "      <td>NaN</td>\n",
       "      <td>NaN</td>\n",
       "      <td>NaN</td>\n",
       "      <td>NaN</td>\n",
       "    </tr>\n",
       "    <tr>\n",
       "      <th>4349</th>\n",
       "      <td>NaN</td>\n",
       "      <td>NaN</td>\n",
       "      <td>NaN</td>\n",
       "      <td>NaN</td>\n",
       "      <td>NaN</td>\n",
       "      <td>NaN</td>\n",
       "      <td>NaN</td>\n",
       "      <td>NaN</td>\n",
       "      <td>NaN</td>\n",
       "      <td>NaN</td>\n",
       "      <td>NaN</td>\n",
       "      <td>NaN</td>\n",
       "    </tr>\n",
       "    <tr>\n",
       "      <th>4350</th>\n",
       "      <td>NaN</td>\n",
       "      <td>NaN</td>\n",
       "      <td>NaN</td>\n",
       "      <td>NaN</td>\n",
       "      <td>NaN</td>\n",
       "      <td>NaN</td>\n",
       "      <td>NaN</td>\n",
       "      <td>NaN</td>\n",
       "      <td>NaN</td>\n",
       "      <td>NaN</td>\n",
       "      <td>NaN</td>\n",
       "      <td>NaN</td>\n",
       "    </tr>\n",
       "    <tr>\n",
       "      <th>4351</th>\n",
       "      <td>NaN</td>\n",
       "      <td>NaN</td>\n",
       "      <td>NaN</td>\n",
       "      <td>NaN</td>\n",
       "      <td>NaN</td>\n",
       "      <td>NaN</td>\n",
       "      <td>NaN</td>\n",
       "      <td>NaN</td>\n",
       "      <td>NaN</td>\n",
       "      <td>NaN</td>\n",
       "      <td>NaN</td>\n",
       "      <td>NaN</td>\n",
       "    </tr>\n",
       "    <tr>\n",
       "      <th>4352</th>\n",
       "      <td>NaN</td>\n",
       "      <td>NaN</td>\n",
       "      <td>NaN</td>\n",
       "      <td>NaN</td>\n",
       "      <td>NaN</td>\n",
       "      <td>NaN</td>\n",
       "      <td>NaN</td>\n",
       "      <td>NaN</td>\n",
       "      <td>NaN</td>\n",
       "      <td>NaN</td>\n",
       "      <td>NaN</td>\n",
       "      <td>NaN</td>\n",
       "    </tr>\n",
       "    <tr>\n",
       "      <th>4353</th>\n",
       "      <td>NaN</td>\n",
       "      <td>NaN</td>\n",
       "      <td>NaN</td>\n",
       "      <td>NaN</td>\n",
       "      <td>NaN</td>\n",
       "      <td>NaN</td>\n",
       "      <td>NaN</td>\n",
       "      <td>NaN</td>\n",
       "      <td>NaN</td>\n",
       "      <td>NaN</td>\n",
       "      <td>NaN</td>\n",
       "      <td>NaN</td>\n",
       "    </tr>\n",
       "    <tr>\n",
       "      <th>4354</th>\n",
       "      <td>NaN</td>\n",
       "      <td>NaN</td>\n",
       "      <td>NaN</td>\n",
       "      <td>NaN</td>\n",
       "      <td>NaN</td>\n",
       "      <td>NaN</td>\n",
       "      <td>NaN</td>\n",
       "      <td>NaN</td>\n",
       "      <td>NaN</td>\n",
       "      <td>NaN</td>\n",
       "      <td>NaN</td>\n",
       "      <td>NaN</td>\n",
       "    </tr>\n",
       "    <tr>\n",
       "      <th>4355</th>\n",
       "      <td>NaN</td>\n",
       "      <td>NaN</td>\n",
       "      <td>NaN</td>\n",
       "      <td>NaN</td>\n",
       "      <td>NaN</td>\n",
       "      <td>NaN</td>\n",
       "      <td>NaN</td>\n",
       "      <td>NaN</td>\n",
       "      <td>NaN</td>\n",
       "      <td>NaN</td>\n",
       "      <td>NaN</td>\n",
       "      <td>NaN</td>\n",
       "    </tr>\n",
       "    <tr>\n",
       "      <th>4356</th>\n",
       "      <td>NaN</td>\n",
       "      <td>NaN</td>\n",
       "      <td>NaN</td>\n",
       "      <td>NaN</td>\n",
       "      <td>NaN</td>\n",
       "      <td>NaN</td>\n",
       "      <td>NaN</td>\n",
       "      <td>NaN</td>\n",
       "      <td>NaN</td>\n",
       "      <td>NaN</td>\n",
       "      <td>NaN</td>\n",
       "      <td>NaN</td>\n",
       "    </tr>\n",
       "    <tr>\n",
       "      <th>4357</th>\n",
       "      <td>NaN</td>\n",
       "      <td>NaN</td>\n",
       "      <td>NaN</td>\n",
       "      <td>NaN</td>\n",
       "      <td>NaN</td>\n",
       "      <td>NaN</td>\n",
       "      <td>NaN</td>\n",
       "      <td>NaN</td>\n",
       "      <td>NaN</td>\n",
       "      <td>NaN</td>\n",
       "      <td>NaN</td>\n",
       "      <td>NaN</td>\n",
       "    </tr>\n",
       "    <tr>\n",
       "      <th>4358</th>\n",
       "      <td>NaN</td>\n",
       "      <td>NaN</td>\n",
       "      <td>NaN</td>\n",
       "      <td>NaN</td>\n",
       "      <td>NaN</td>\n",
       "      <td>NaN</td>\n",
       "      <td>NaN</td>\n",
       "      <td>NaN</td>\n",
       "      <td>NaN</td>\n",
       "      <td>NaN</td>\n",
       "      <td>NaN</td>\n",
       "      <td>NaN</td>\n",
       "    </tr>\n",
       "    <tr>\n",
       "      <th>4360</th>\n",
       "      <td>NaN</td>\n",
       "      <td>NaN</td>\n",
       "      <td>NaN</td>\n",
       "      <td>NaN</td>\n",
       "      <td>NaN</td>\n",
       "      <td>NaN</td>\n",
       "      <td>NaN</td>\n",
       "      <td>NaN</td>\n",
       "      <td>NaN</td>\n",
       "      <td>NaN</td>\n",
       "      <td>NaN</td>\n",
       "      <td>NaN</td>\n",
       "    </tr>\n",
       "    <tr>\n",
       "      <th>4361</th>\n",
       "      <td>NaN</td>\n",
       "      <td>NaN</td>\n",
       "      <td>NaN</td>\n",
       "      <td>NaN</td>\n",
       "      <td>NaN</td>\n",
       "      <td>NaN</td>\n",
       "      <td>NaN</td>\n",
       "      <td>NaN</td>\n",
       "      <td>NaN</td>\n",
       "      <td>NaN</td>\n",
       "      <td>NaN</td>\n",
       "      <td>NaN</td>\n",
       "    </tr>\n",
       "    <tr>\n",
       "      <th>4362</th>\n",
       "      <td>NaN</td>\n",
       "      <td>NaN</td>\n",
       "      <td>NaN</td>\n",
       "      <td>NaN</td>\n",
       "      <td>NaN</td>\n",
       "      <td>NaN</td>\n",
       "      <td>NaN</td>\n",
       "      <td>NaN</td>\n",
       "      <td>NaN</td>\n",
       "      <td>NaN</td>\n",
       "      <td>NaN</td>\n",
       "      <td>NaN</td>\n",
       "    </tr>\n",
       "    <tr>\n",
       "      <th>4363</th>\n",
       "      <td>NaN</td>\n",
       "      <td>NaN</td>\n",
       "      <td>NaN</td>\n",
       "      <td>NaN</td>\n",
       "      <td>NaN</td>\n",
       "      <td>NaN</td>\n",
       "      <td>NaN</td>\n",
       "      <td>NaN</td>\n",
       "      <td>NaN</td>\n",
       "      <td>NaN</td>\n",
       "      <td>NaN</td>\n",
       "      <td>NaN</td>\n",
       "    </tr>\n",
       "    <tr>\n",
       "      <th>4364</th>\n",
       "      <td>NaN</td>\n",
       "      <td>NaN</td>\n",
       "      <td>NaN</td>\n",
       "      <td>NaN</td>\n",
       "      <td>NaN</td>\n",
       "      <td>NaN</td>\n",
       "      <td>NaN</td>\n",
       "      <td>NaN</td>\n",
       "      <td>NaN</td>\n",
       "      <td>NaN</td>\n",
       "      <td>NaN</td>\n",
       "      <td>NaN</td>\n",
       "    </tr>\n",
       "    <tr>\n",
       "      <th>4365</th>\n",
       "      <td>NaN</td>\n",
       "      <td>NaN</td>\n",
       "      <td>NaN</td>\n",
       "      <td>NaN</td>\n",
       "      <td>NaN</td>\n",
       "      <td>NaN</td>\n",
       "      <td>NaN</td>\n",
       "      <td>NaN</td>\n",
       "      <td>NaN</td>\n",
       "      <td>NaN</td>\n",
       "      <td>NaN</td>\n",
       "      <td>NaN</td>\n",
       "    </tr>\n",
       "    <tr>\n",
       "      <th>4366</th>\n",
       "      <td>NaN</td>\n",
       "      <td>NaN</td>\n",
       "      <td>NaN</td>\n",
       "      <td>NaN</td>\n",
       "      <td>NaN</td>\n",
       "      <td>NaN</td>\n",
       "      <td>NaN</td>\n",
       "      <td>NaN</td>\n",
       "      <td>NaN</td>\n",
       "      <td>NaN</td>\n",
       "      <td>NaN</td>\n",
       "      <td>NaN</td>\n",
       "    </tr>\n",
       "  </tbody>\n",
       "</table>\n",
       "</div>"
      ],
      "text/plain": [
       "      AH  C6H6(GT)  CO(GT)  NO2(GT)  ...  PT08.S4(NO2)  PT08.S5(O3)  RH   T\n",
       "1825 NaN       NaN     NaN      NaN  ...           NaN          NaN NaN NaN\n",
       "1826 NaN       NaN     NaN      NaN  ...           NaN          NaN NaN NaN\n",
       "1827 NaN       NaN     NaN      NaN  ...           NaN          NaN NaN NaN\n",
       "1828 NaN       NaN     NaN      NaN  ...           NaN          NaN NaN NaN\n",
       "1829 NaN       NaN     NaN      NaN  ...           NaN          NaN NaN NaN\n",
       "1830 NaN       NaN     NaN      NaN  ...           NaN          NaN NaN NaN\n",
       "1831 NaN       NaN     NaN      NaN  ...           NaN          NaN NaN NaN\n",
       "1832 NaN       NaN     NaN      NaN  ...           NaN          NaN NaN NaN\n",
       "1833 NaN       NaN     NaN      NaN  ...           NaN          NaN NaN NaN\n",
       "1834 NaN       NaN     NaN      NaN  ...           NaN          NaN NaN NaN\n",
       "1835 NaN       NaN     NaN      NaN  ...           NaN          NaN NaN NaN\n",
       "1836 NaN       NaN     NaN      NaN  ...           NaN          NaN NaN NaN\n",
       "1837 NaN       NaN     NaN      NaN  ...           NaN          NaN NaN NaN\n",
       "1838 NaN       NaN     NaN      NaN  ...           NaN          NaN NaN NaN\n",
       "4349 NaN       NaN     NaN      NaN  ...           NaN          NaN NaN NaN\n",
       "4350 NaN       NaN     NaN      NaN  ...           NaN          NaN NaN NaN\n",
       "4351 NaN       NaN     NaN      NaN  ...           NaN          NaN NaN NaN\n",
       "4352 NaN       NaN     NaN      NaN  ...           NaN          NaN NaN NaN\n",
       "4353 NaN       NaN     NaN      NaN  ...           NaN          NaN NaN NaN\n",
       "4354 NaN       NaN     NaN      NaN  ...           NaN          NaN NaN NaN\n",
       "4355 NaN       NaN     NaN      NaN  ...           NaN          NaN NaN NaN\n",
       "4356 NaN       NaN     NaN      NaN  ...           NaN          NaN NaN NaN\n",
       "4357 NaN       NaN     NaN      NaN  ...           NaN          NaN NaN NaN\n",
       "4358 NaN       NaN     NaN      NaN  ...           NaN          NaN NaN NaN\n",
       "4360 NaN       NaN     NaN      NaN  ...           NaN          NaN NaN NaN\n",
       "4361 NaN       NaN     NaN      NaN  ...           NaN          NaN NaN NaN\n",
       "4362 NaN       NaN     NaN      NaN  ...           NaN          NaN NaN NaN\n",
       "4363 NaN       NaN     NaN      NaN  ...           NaN          NaN NaN NaN\n",
       "4364 NaN       NaN     NaN      NaN  ...           NaN          NaN NaN NaN\n",
       "4365 NaN       NaN     NaN      NaN  ...           NaN          NaN NaN NaN\n",
       "4366 NaN       NaN     NaN      NaN  ...           NaN          NaN NaN NaN\n",
       "\n",
       "[31 rows x 12 columns]"
      ]
     },
     "execution_count": 189,
     "metadata": {
      "tags": []
     },
     "output_type": "execute_result"
    }
   ],
   "source": [
    "df = data[data.columns.difference(['Date', 'Time'])]\n",
    "df[df.isna().all(axis=1)]"
   ]
  },
  {
   "cell_type": "code",
   "execution_count": 0,
   "metadata": {
    "colab": {
     "base_uri": "https://localhost:8080/",
     "height": 33
    },
    "colab_type": "code",
    "id": "SJNEuknt5gb0",
    "outputId": "2bdaa7c3-d9a8-4e54-d1f0-9c3ff93fb61f"
   },
   "outputs": [
    {
     "data": {
      "text/plain": [
       "(31, 12)"
      ]
     },
     "execution_count": 190,
     "metadata": {
      "tags": []
     },
     "output_type": "execute_result"
    }
   ],
   "source": [
    "df[df.isna().all(axis=1)].shape"
   ]
  },
  {
   "cell_type": "markdown",
   "metadata": {
    "colab_type": "text",
    "id": "4X2FkOpfCqC-"
   },
   "source": [
    "Всего 31 строка имеет все NaN, удалим их:"
   ]
  },
  {
   "cell_type": "code",
   "execution_count": 0,
   "metadata": {
    "colab": {},
    "colab_type": "code",
    "id": "AV3Uc9tm5gcB"
   },
   "outputs": [],
   "source": [
    "data.drop(df[df.isna().all(axis=1)].index,inplace=True)"
   ]
  },
  {
   "cell_type": "code",
   "execution_count": 0,
   "metadata": {
    "colab": {
     "base_uri": "https://localhost:8080/",
     "height": 33
    },
    "colab_type": "code",
    "id": "pQaki9Ug5gcE",
    "outputId": "2779fba6-161f-49bd-d89c-acfc4b9a2828"
   },
   "outputs": [
    {
     "data": {
      "text/plain": [
       "(9326, 14)"
      ]
     },
     "execution_count": 192,
     "metadata": {
      "tags": []
     },
     "output_type": "execute_result"
    }
   ],
   "source": [
    "data.shape"
   ]
  },
  {
   "cell_type": "code",
   "execution_count": 0,
   "metadata": {
    "colab": {
     "base_uri": "https://localhost:8080/",
     "height": 268
    },
    "colab_type": "code",
    "id": "XJH1PQTw5gcI",
    "outputId": "a87bcc7f-c284-451f-ce5c-b40b273ad673"
   },
   "outputs": [
    {
     "data": {
      "text/plain": [
       "Date                0\n",
       "Time                0\n",
       "CO(GT)           1652\n",
       "PT08.S1(CO)       335\n",
       "C6H6(GT)          335\n",
       "PT08.S2(NMHC)     335\n",
       "NOx(GT)          1608\n",
       "PT08.S3(NOx)      335\n",
       "NO2(GT)          1611\n",
       "PT08.S4(NO2)      335\n",
       "PT08.S5(O3)       335\n",
       "T                 335\n",
       "RH                335\n",
       "AH                335\n",
       "dtype: int64"
      ]
     },
     "execution_count": 193,
     "metadata": {
      "tags": []
     },
     "output_type": "execute_result"
    }
   ],
   "source": [
    "data.isna().sum()"
   ]
  },
  {
   "cell_type": "markdown",
   "metadata": {
    "colab_type": "text",
    "id": "BCfaCSN5CwI4"
   },
   "source": [
    "Теперь заполним все пропуски среднемесячными значениями:"
   ]
  },
  {
   "cell_type": "code",
   "execution_count": 0,
   "metadata": {
    "colab": {},
    "colab_type": "code",
    "id": "HP-TzSHF5gcL"
   },
   "outputs": [],
   "source": [
    "data['Date'] = pd.to_datetime(data.Date, format='%d/%m/%Y')\n",
    "data['Month']=data.Date.dt.month\n",
    "data['Day']=data.Date.dt.day\n",
    "data['Week']=data.Date.dt.week\n",
    "data['Dayofweek']=data.Date.dt.dayofweek\n",
    "data['Quarter']=data.Date.dt.quarter\n",
    "data['Hour'] = data['Time'].apply(lambda x: int(x.split('.')[0]))"
   ]
  },
  {
   "cell_type": "code",
   "execution_count": 0,
   "metadata": {
    "colab": {},
    "colab_type": "code",
    "id": "HrpxqtCG5gcN"
   },
   "outputs": [],
   "source": [
    "def fillnan_main(columns):\n",
    "    for i in columns:\n",
    "        data[i]=data[i].fillna(data.groupby(['Month','Hour'])[i].transform('mean'))"
   ]
  },
  {
   "cell_type": "code",
   "execution_count": 0,
   "metadata": {
    "colab": {},
    "colab_type": "code",
    "id": "lL_isXHC5gcP"
   },
   "outputs": [],
   "source": [
    "fillnan_main(['CO(GT)','PT08.S1(CO)','PT08.S2(NMHC)',\n",
    "        'NOx(GT)','PT08.S3(NOx)','NO2(GT)','PT08.S4(NO2)','PT08.S5(O3)',\n",
    "        'T','RH','AH'])"
   ]
  },
  {
   "cell_type": "code",
   "execution_count": 0,
   "metadata": {
    "colab": {
     "base_uri": "https://localhost:8080/",
     "height": 1000
    },
    "colab_type": "code",
    "id": "7nlTBlHw5gcR",
    "outputId": "b0439d3e-f539-4f15-b55b-200fe6ae32b5"
   },
   "outputs": [
    {
     "data": {
      "text/html": [
       "<div>\n",
       "<style scoped>\n",
       "    .dataframe tbody tr th:only-of-type {\n",
       "        vertical-align: middle;\n",
       "    }\n",
       "\n",
       "    .dataframe tbody tr th {\n",
       "        vertical-align: top;\n",
       "    }\n",
       "\n",
       "    .dataframe thead th {\n",
       "        text-align: right;\n",
       "    }\n",
       "</style>\n",
       "<table border=\"1\" class=\"dataframe\">\n",
       "  <thead>\n",
       "    <tr style=\"text-align: right;\">\n",
       "      <th></th>\n",
       "      <th>Date</th>\n",
       "      <th>Time</th>\n",
       "      <th>CO(GT)</th>\n",
       "      <th>PT08.S1(CO)</th>\n",
       "      <th>C6H6(GT)</th>\n",
       "      <th>PT08.S2(NMHC)</th>\n",
       "      <th>NOx(GT)</th>\n",
       "      <th>PT08.S3(NOx)</th>\n",
       "      <th>NO2(GT)</th>\n",
       "      <th>PT08.S4(NO2)</th>\n",
       "      <th>PT08.S5(O3)</th>\n",
       "      <th>T</th>\n",
       "      <th>RH</th>\n",
       "      <th>AH</th>\n",
       "      <th>Month</th>\n",
       "      <th>Day</th>\n",
       "      <th>Week</th>\n",
       "      <th>Dayofweek</th>\n",
       "      <th>Quarter</th>\n",
       "      <th>Hour</th>\n",
       "    </tr>\n",
       "  </thead>\n",
       "  <tbody>\n",
       "    <tr>\n",
       "      <th>524</th>\n",
       "      <td>2004-04-01</td>\n",
       "      <td>14.00.00</td>\n",
       "      <td>1.7</td>\n",
       "      <td>1124.062500</td>\n",
       "      <td>NaN</td>\n",
       "      <td>949.781250</td>\n",
       "      <td>99.0</td>\n",
       "      <td>925.250000</td>\n",
       "      <td>72.0</td>\n",
       "      <td>1514.031250</td>\n",
       "      <td>851.281250</td>\n",
       "      <td>21.412500</td>\n",
       "      <td>35.234375</td>\n",
       "      <td>0.832913</td>\n",
       "      <td>4</td>\n",
       "      <td>1</td>\n",
       "      <td>14</td>\n",
       "      <td>3</td>\n",
       "      <td>2</td>\n",
       "      <td>14</td>\n",
       "    </tr>\n",
       "    <tr>\n",
       "      <th>525</th>\n",
       "      <td>2004-04-01</td>\n",
       "      <td>15.00.00</td>\n",
       "      <td>1.9</td>\n",
       "      <td>1154.225806</td>\n",
       "      <td>NaN</td>\n",
       "      <td>975.903226</td>\n",
       "      <td>108.0</td>\n",
       "      <td>901.516129</td>\n",
       "      <td>81.0</td>\n",
       "      <td>1541.451613</td>\n",
       "      <td>866.935484</td>\n",
       "      <td>21.632258</td>\n",
       "      <td>35.590323</td>\n",
       "      <td>0.839513</td>\n",
       "      <td>4</td>\n",
       "      <td>1</td>\n",
       "      <td>14</td>\n",
       "      <td>3</td>\n",
       "      <td>2</td>\n",
       "      <td>15</td>\n",
       "    </tr>\n",
       "    <tr>\n",
       "      <th>526</th>\n",
       "      <td>2004-04-01</td>\n",
       "      <td>16.00.00</td>\n",
       "      <td>2.3</td>\n",
       "      <td>1165.225806</td>\n",
       "      <td>NaN</td>\n",
       "      <td>982.967742</td>\n",
       "      <td>131.0</td>\n",
       "      <td>898.483871</td>\n",
       "      <td>93.0</td>\n",
       "      <td>1544.903226</td>\n",
       "      <td>873.774194</td>\n",
       "      <td>21.816129</td>\n",
       "      <td>35.393548</td>\n",
       "      <td>0.846839</td>\n",
       "      <td>4</td>\n",
       "      <td>1</td>\n",
       "      <td>14</td>\n",
       "      <td>3</td>\n",
       "      <td>2</td>\n",
       "      <td>16</td>\n",
       "    </tr>\n",
       "    <tr>\n",
       "      <th>701</th>\n",
       "      <td>2004-04-08</td>\n",
       "      <td>23.00.00</td>\n",
       "      <td>2.0</td>\n",
       "      <td>1128.031250</td>\n",
       "      <td>NaN</td>\n",
       "      <td>868.906250</td>\n",
       "      <td>129.0</td>\n",
       "      <td>918.343750</td>\n",
       "      <td>106.0</td>\n",
       "      <td>1484.718750</td>\n",
       "      <td>968.375000</td>\n",
       "      <td>14.765625</td>\n",
       "      <td>55.990625</td>\n",
       "      <td>0.931887</td>\n",
       "      <td>4</td>\n",
       "      <td>8</td>\n",
       "      <td>15</td>\n",
       "      <td>3</td>\n",
       "      <td>2</td>\n",
       "      <td>23</td>\n",
       "    </tr>\n",
       "    <tr>\n",
       "      <th>702</th>\n",
       "      <td>2004-04-09</td>\n",
       "      <td>00.00.00</td>\n",
       "      <td>2.4</td>\n",
       "      <td>1049.939394</td>\n",
       "      <td>NaN</td>\n",
       "      <td>786.878788</td>\n",
       "      <td>154.0</td>\n",
       "      <td>998.303030</td>\n",
       "      <td>109.0</td>\n",
       "      <td>1399.545455</td>\n",
       "      <td>853.909091</td>\n",
       "      <td>14.242424</td>\n",
       "      <td>56.275758</td>\n",
       "      <td>0.906709</td>\n",
       "      <td>4</td>\n",
       "      <td>9</td>\n",
       "      <td>15</td>\n",
       "      <td>4</td>\n",
       "      <td>2</td>\n",
       "      <td>0</td>\n",
       "    </tr>\n",
       "    <tr>\n",
       "      <th>703</th>\n",
       "      <td>2004-04-09</td>\n",
       "      <td>01.00.00</td>\n",
       "      <td>1.8</td>\n",
       "      <td>995.878788</td>\n",
       "      <td>NaN</td>\n",
       "      <td>721.151515</td>\n",
       "      <td>118.0</td>\n",
       "      <td>1074.484848</td>\n",
       "      <td>97.0</td>\n",
       "      <td>1354.515152</td>\n",
       "      <td>774.333333</td>\n",
       "      <td>13.781818</td>\n",
       "      <td>57.927273</td>\n",
       "      <td>0.906227</td>\n",
       "      <td>4</td>\n",
       "      <td>9</td>\n",
       "      <td>15</td>\n",
       "      <td>4</td>\n",
       "      <td>2</td>\n",
       "      <td>1</td>\n",
       "    </tr>\n",
       "    <tr>\n",
       "      <th>704</th>\n",
       "      <td>2004-04-09</td>\n",
       "      <td>02.00.00</td>\n",
       "      <td>1.0</td>\n",
       "      <td>946.939394</td>\n",
       "      <td>NaN</td>\n",
       "      <td>662.727273</td>\n",
       "      <td>69.0</td>\n",
       "      <td>1147.151515</td>\n",
       "      <td>83.0</td>\n",
       "      <td>1316.000000</td>\n",
       "      <td>706.363636</td>\n",
       "      <td>13.442424</td>\n",
       "      <td>58.996970</td>\n",
       "      <td>0.902773</td>\n",
       "      <td>4</td>\n",
       "      <td>9</td>\n",
       "      <td>15</td>\n",
       "      <td>4</td>\n",
       "      <td>2</td>\n",
       "      <td>2</td>\n",
       "    </tr>\n",
       "    <tr>\n",
       "      <th>705</th>\n",
       "      <td>2004-04-09</td>\n",
       "      <td>03.00.00</td>\n",
       "      <td>1.0</td>\n",
       "      <td>906.757576</td>\n",
       "      <td>NaN</td>\n",
       "      <td>623.515152</td>\n",
       "      <td>76.0</td>\n",
       "      <td>1214.363636</td>\n",
       "      <td>59.5</td>\n",
       "      <td>1293.636364</td>\n",
       "      <td>660.121212</td>\n",
       "      <td>12.815152</td>\n",
       "      <td>60.827273</td>\n",
       "      <td>0.894148</td>\n",
       "      <td>4</td>\n",
       "      <td>9</td>\n",
       "      <td>15</td>\n",
       "      <td>4</td>\n",
       "      <td>2</td>\n",
       "      <td>3</td>\n",
       "    </tr>\n",
       "    <tr>\n",
       "      <th>706</th>\n",
       "      <td>2004-04-09</td>\n",
       "      <td>04.00.00</td>\n",
       "      <td>1.0</td>\n",
       "      <td>873.484848</td>\n",
       "      <td>NaN</td>\n",
       "      <td>580.393939</td>\n",
       "      <td>97.0</td>\n",
       "      <td>1294.484848</td>\n",
       "      <td>79.0</td>\n",
       "      <td>1259.818182</td>\n",
       "      <td>619.272727</td>\n",
       "      <td>12.700000</td>\n",
       "      <td>60.624242</td>\n",
       "      <td>0.885570</td>\n",
       "      <td>4</td>\n",
       "      <td>9</td>\n",
       "      <td>15</td>\n",
       "      <td>4</td>\n",
       "      <td>2</td>\n",
       "      <td>4</td>\n",
       "    </tr>\n",
       "    <tr>\n",
       "      <th>707</th>\n",
       "      <td>2004-04-09</td>\n",
       "      <td>05.00.00</td>\n",
       "      <td>0.9</td>\n",
       "      <td>908.545455</td>\n",
       "      <td>NaN</td>\n",
       "      <td>624.484848</td>\n",
       "      <td>145.0</td>\n",
       "      <td>1231.030303</td>\n",
       "      <td>84.0</td>\n",
       "      <td>1300.757576</td>\n",
       "      <td>665.090909</td>\n",
       "      <td>12.390909</td>\n",
       "      <td>62.103030</td>\n",
       "      <td>0.890539</td>\n",
       "      <td>4</td>\n",
       "      <td>9</td>\n",
       "      <td>15</td>\n",
       "      <td>4</td>\n",
       "      <td>2</td>\n",
       "      <td>5</td>\n",
       "    </tr>\n",
       "    <tr>\n",
       "      <th>708</th>\n",
       "      <td>2004-04-09</td>\n",
       "      <td>06.00.00</td>\n",
       "      <td>1.5</td>\n",
       "      <td>1023.909091</td>\n",
       "      <td>NaN</td>\n",
       "      <td>771.666667</td>\n",
       "      <td>169.0</td>\n",
       "      <td>1036.393939</td>\n",
       "      <td>86.0</td>\n",
       "      <td>1426.575758</td>\n",
       "      <td>839.818182</td>\n",
       "      <td>12.087879</td>\n",
       "      <td>63.327273</td>\n",
       "      <td>0.893155</td>\n",
       "      <td>4</td>\n",
       "      <td>9</td>\n",
       "      <td>15</td>\n",
       "      <td>4</td>\n",
       "      <td>2</td>\n",
       "      <td>6</td>\n",
       "    </tr>\n",
       "    <tr>\n",
       "      <th>709</th>\n",
       "      <td>2004-04-09</td>\n",
       "      <td>07.00.00</td>\n",
       "      <td>2.6</td>\n",
       "      <td>1286.878788</td>\n",
       "      <td>NaN</td>\n",
       "      <td>1072.727273</td>\n",
       "      <td>250.0</td>\n",
       "      <td>811.424242</td>\n",
       "      <td>111.0</td>\n",
       "      <td>1745.333333</td>\n",
       "      <td>1161.303030</td>\n",
       "      <td>12.666667</td>\n",
       "      <td>61.509091</td>\n",
       "      <td>0.900327</td>\n",
       "      <td>4</td>\n",
       "      <td>9</td>\n",
       "      <td>15</td>\n",
       "      <td>4</td>\n",
       "      <td>2</td>\n",
       "      <td>7</td>\n",
       "    </tr>\n",
       "    <tr>\n",
       "      <th>710</th>\n",
       "      <td>2004-04-09</td>\n",
       "      <td>08.00.00</td>\n",
       "      <td>2.9</td>\n",
       "      <td>1340.666667</td>\n",
       "      <td>NaN</td>\n",
       "      <td>1183.484848</td>\n",
       "      <td>215.0</td>\n",
       "      <td>739.181818</td>\n",
       "      <td>117.0</td>\n",
       "      <td>1875.545455</td>\n",
       "      <td>1300.393939</td>\n",
       "      <td>14.203030</td>\n",
       "      <td>56.057576</td>\n",
       "      <td>0.901718</td>\n",
       "      <td>4</td>\n",
       "      <td>9</td>\n",
       "      <td>15</td>\n",
       "      <td>4</td>\n",
       "      <td>2</td>\n",
       "      <td>8</td>\n",
       "    </tr>\n",
       "    <tr>\n",
       "      <th>711</th>\n",
       "      <td>2004-04-09</td>\n",
       "      <td>09.00.00</td>\n",
       "      <td>2.7</td>\n",
       "      <td>1260.060606</td>\n",
       "      <td>NaN</td>\n",
       "      <td>1049.333333</td>\n",
       "      <td>237.0</td>\n",
       "      <td>794.484848</td>\n",
       "      <td>122.0</td>\n",
       "      <td>1679.787879</td>\n",
       "      <td>1227.000000</td>\n",
       "      <td>16.196970</td>\n",
       "      <td>50.109091</td>\n",
       "      <td>0.908500</td>\n",
       "      <td>4</td>\n",
       "      <td>9</td>\n",
       "      <td>15</td>\n",
       "      <td>4</td>\n",
       "      <td>2</td>\n",
       "      <td>9</td>\n",
       "    </tr>\n",
       "    <tr>\n",
       "      <th>712</th>\n",
       "      <td>2004-04-09</td>\n",
       "      <td>10.00.00</td>\n",
       "      <td>2.4</td>\n",
       "      <td>1201.939394</td>\n",
       "      <td>NaN</td>\n",
       "      <td>978.090909</td>\n",
       "      <td>190.0</td>\n",
       "      <td>842.606061</td>\n",
       "      <td>119.0</td>\n",
       "      <td>1582.090909</td>\n",
       "      <td>1124.393939</td>\n",
       "      <td>18.539394</td>\n",
       "      <td>43.584848</td>\n",
       "      <td>0.896821</td>\n",
       "      <td>4</td>\n",
       "      <td>9</td>\n",
       "      <td>15</td>\n",
       "      <td>4</td>\n",
       "      <td>2</td>\n",
       "      <td>10</td>\n",
       "    </tr>\n",
       "    <tr>\n",
       "      <th>713</th>\n",
       "      <td>2004-04-09</td>\n",
       "      <td>11.00.00</td>\n",
       "      <td>2.6</td>\n",
       "      <td>1163.272727</td>\n",
       "      <td>NaN</td>\n",
       "      <td>955.272727</td>\n",
       "      <td>219.0</td>\n",
       "      <td>870.090909</td>\n",
       "      <td>121.0</td>\n",
       "      <td>1548.757576</td>\n",
       "      <td>1028.393939</td>\n",
       "      <td>20.057576</td>\n",
       "      <td>39.512121</td>\n",
       "      <td>0.882618</td>\n",
       "      <td>4</td>\n",
       "      <td>9</td>\n",
       "      <td>15</td>\n",
       "      <td>4</td>\n",
       "      <td>2</td>\n",
       "      <td>11</td>\n",
       "    </tr>\n",
       "    <tr>\n",
       "      <th>714</th>\n",
       "      <td>2004-04-09</td>\n",
       "      <td>12.00.00</td>\n",
       "      <td>4.1</td>\n",
       "      <td>1163.303030</td>\n",
       "      <td>NaN</td>\n",
       "      <td>980.636364</td>\n",
       "      <td>294.0</td>\n",
       "      <td>861.878788</td>\n",
       "      <td>127.0</td>\n",
       "      <td>1558.939394</td>\n",
       "      <td>973.848485</td>\n",
       "      <td>21.448485</td>\n",
       "      <td>35.569697</td>\n",
       "      <td>0.861700</td>\n",
       "      <td>4</td>\n",
       "      <td>9</td>\n",
       "      <td>15</td>\n",
       "      <td>4</td>\n",
       "      <td>2</td>\n",
       "      <td>12</td>\n",
       "    </tr>\n",
       "    <tr>\n",
       "      <th>715</th>\n",
       "      <td>2004-04-09</td>\n",
       "      <td>13.00.00</td>\n",
       "      <td>4.3</td>\n",
       "      <td>1143.060606</td>\n",
       "      <td>NaN</td>\n",
       "      <td>975.393939</td>\n",
       "      <td>253.0</td>\n",
       "      <td>886.060606</td>\n",
       "      <td>135.0</td>\n",
       "      <td>1550.060606</td>\n",
       "      <td>910.272727</td>\n",
       "      <td>21.757576</td>\n",
       "      <td>34.618182</td>\n",
       "      <td>0.848776</td>\n",
       "      <td>4</td>\n",
       "      <td>9</td>\n",
       "      <td>15</td>\n",
       "      <td>4</td>\n",
       "      <td>2</td>\n",
       "      <td>13</td>\n",
       "    </tr>\n",
       "    <tr>\n",
       "      <th>716</th>\n",
       "      <td>2004-04-09</td>\n",
       "      <td>14.00.00</td>\n",
       "      <td>2.2</td>\n",
       "      <td>1124.062500</td>\n",
       "      <td>NaN</td>\n",
       "      <td>949.781250</td>\n",
       "      <td>176.0</td>\n",
       "      <td>925.250000</td>\n",
       "      <td>119.0</td>\n",
       "      <td>1514.031250</td>\n",
       "      <td>851.281250</td>\n",
       "      <td>21.412500</td>\n",
       "      <td>35.234375</td>\n",
       "      <td>0.832913</td>\n",
       "      <td>4</td>\n",
       "      <td>9</td>\n",
       "      <td>15</td>\n",
       "      <td>4</td>\n",
       "      <td>2</td>\n",
       "      <td>14</td>\n",
       "    </tr>\n",
       "    <tr>\n",
       "      <th>717</th>\n",
       "      <td>2004-04-09</td>\n",
       "      <td>15.00.00</td>\n",
       "      <td>3.4</td>\n",
       "      <td>1154.225806</td>\n",
       "      <td>NaN</td>\n",
       "      <td>975.903226</td>\n",
       "      <td>243.0</td>\n",
       "      <td>901.516129</td>\n",
       "      <td>137.0</td>\n",
       "      <td>1541.451613</td>\n",
       "      <td>866.935484</td>\n",
       "      <td>21.632258</td>\n",
       "      <td>35.590323</td>\n",
       "      <td>0.839513</td>\n",
       "      <td>4</td>\n",
       "      <td>9</td>\n",
       "      <td>15</td>\n",
       "      <td>4</td>\n",
       "      <td>2</td>\n",
       "      <td>15</td>\n",
       "    </tr>\n",
       "    <tr>\n",
       "      <th>718</th>\n",
       "      <td>2004-04-09</td>\n",
       "      <td>16.00.00</td>\n",
       "      <td>3.6</td>\n",
       "      <td>1165.225806</td>\n",
       "      <td>NaN</td>\n",
       "      <td>982.967742</td>\n",
       "      <td>214.0</td>\n",
       "      <td>898.483871</td>\n",
       "      <td>139.0</td>\n",
       "      <td>1544.903226</td>\n",
       "      <td>873.774194</td>\n",
       "      <td>21.816129</td>\n",
       "      <td>35.393548</td>\n",
       "      <td>0.846839</td>\n",
       "      <td>4</td>\n",
       "      <td>9</td>\n",
       "      <td>15</td>\n",
       "      <td>4</td>\n",
       "      <td>2</td>\n",
       "      <td>16</td>\n",
       "    </tr>\n",
       "    <tr>\n",
       "      <th>719</th>\n",
       "      <td>2004-04-09</td>\n",
       "      <td>17.00.00</td>\n",
       "      <td>2.5</td>\n",
       "      <td>1251.906250</td>\n",
       "      <td>NaN</td>\n",
       "      <td>1091.968750</td>\n",
       "      <td>141.0</td>\n",
       "      <td>823.156250</td>\n",
       "      <td>117.0</td>\n",
       "      <td>1646.718750</td>\n",
       "      <td>1032.312500</td>\n",
       "      <td>21.259375</td>\n",
       "      <td>35.978125</td>\n",
       "      <td>0.846519</td>\n",
       "      <td>4</td>\n",
       "      <td>9</td>\n",
       "      <td>15</td>\n",
       "      <td>4</td>\n",
       "      <td>2</td>\n",
       "      <td>17</td>\n",
       "    </tr>\n",
       "    <tr>\n",
       "      <th>720</th>\n",
       "      <td>2004-04-09</td>\n",
       "      <td>18.00.00</td>\n",
       "      <td>2.8</td>\n",
       "      <td>1317.218750</td>\n",
       "      <td>NaN</td>\n",
       "      <td>1156.468750</td>\n",
       "      <td>166.0</td>\n",
       "      <td>770.250000</td>\n",
       "      <td>127.0</td>\n",
       "      <td>1758.968750</td>\n",
       "      <td>1168.156250</td>\n",
       "      <td>19.721875</td>\n",
       "      <td>39.537500</td>\n",
       "      <td>0.876144</td>\n",
       "      <td>4</td>\n",
       "      <td>9</td>\n",
       "      <td>15</td>\n",
       "      <td>4</td>\n",
       "      <td>2</td>\n",
       "      <td>18</td>\n",
       "    </tr>\n",
       "    <tr>\n",
       "      <th>721</th>\n",
       "      <td>2004-04-09</td>\n",
       "      <td>19.00.00</td>\n",
       "      <td>3.4</td>\n",
       "      <td>1403.812500</td>\n",
       "      <td>NaN</td>\n",
       "      <td>1240.093750</td>\n",
       "      <td>197.0</td>\n",
       "      <td>707.937500</td>\n",
       "      <td>137.0</td>\n",
       "      <td>1863.156250</td>\n",
       "      <td>1319.937500</td>\n",
       "      <td>18.328125</td>\n",
       "      <td>43.934375</td>\n",
       "      <td>0.903344</td>\n",
       "      <td>4</td>\n",
       "      <td>9</td>\n",
       "      <td>15</td>\n",
       "      <td>4</td>\n",
       "      <td>2</td>\n",
       "      <td>19</td>\n",
       "    </tr>\n",
       "    <tr>\n",
       "      <th>722</th>\n",
       "      <td>2004-04-09</td>\n",
       "      <td>20.00.00</td>\n",
       "      <td>3.0</td>\n",
       "      <td>1303.093750</td>\n",
       "      <td>NaN</td>\n",
       "      <td>1107.187500</td>\n",
       "      <td>191.0</td>\n",
       "      <td>770.875000</td>\n",
       "      <td>127.0</td>\n",
       "      <td>1711.156250</td>\n",
       "      <td>1250.156250</td>\n",
       "      <td>17.028125</td>\n",
       "      <td>47.600000</td>\n",
       "      <td>0.911072</td>\n",
       "      <td>4</td>\n",
       "      <td>9</td>\n",
       "      <td>15</td>\n",
       "      <td>4</td>\n",
       "      <td>2</td>\n",
       "      <td>20</td>\n",
       "    </tr>\n",
       "    <tr>\n",
       "      <th>723</th>\n",
       "      <td>2004-04-09</td>\n",
       "      <td>21.00.00</td>\n",
       "      <td>2.1</td>\n",
       "      <td>1140.281250</td>\n",
       "      <td>NaN</td>\n",
       "      <td>922.781250</td>\n",
       "      <td>159.0</td>\n",
       "      <td>892.906250</td>\n",
       "      <td>107.0</td>\n",
       "      <td>1528.000000</td>\n",
       "      <td>1017.781250</td>\n",
       "      <td>16.078125</td>\n",
       "      <td>50.340625</td>\n",
       "      <td>0.910103</td>\n",
       "      <td>4</td>\n",
       "      <td>9</td>\n",
       "      <td>15</td>\n",
       "      <td>4</td>\n",
       "      <td>2</td>\n",
       "      <td>21</td>\n",
       "    </tr>\n",
       "    <tr>\n",
       "      <th>724</th>\n",
       "      <td>2004-04-09</td>\n",
       "      <td>22.00.00</td>\n",
       "      <td>2.4</td>\n",
       "      <td>1118.843750</td>\n",
       "      <td>NaN</td>\n",
       "      <td>881.500000</td>\n",
       "      <td>175.0</td>\n",
       "      <td>921.937500</td>\n",
       "      <td>102.0</td>\n",
       "      <td>1496.562500</td>\n",
       "      <td>962.406250</td>\n",
       "      <td>15.362500</td>\n",
       "      <td>53.043750</td>\n",
       "      <td>0.915259</td>\n",
       "      <td>4</td>\n",
       "      <td>9</td>\n",
       "      <td>15</td>\n",
       "      <td>4</td>\n",
       "      <td>2</td>\n",
       "      <td>22</td>\n",
       "    </tr>\n",
       "    <tr>\n",
       "      <th>1233</th>\n",
       "      <td>2004-05-01</td>\n",
       "      <td>03.00.00</td>\n",
       "      <td>1.3</td>\n",
       "      <td>1009.000000</td>\n",
       "      <td>6.3</td>\n",
       "      <td>825.000000</td>\n",
       "      <td>NaN</td>\n",
       "      <td>950.000000</td>\n",
       "      <td>NaN</td>\n",
       "      <td>1629.000000</td>\n",
       "      <td>938.000000</td>\n",
       "      <td>15.700000</td>\n",
       "      <td>73.100000</td>\n",
       "      <td>1.290200</td>\n",
       "      <td>5</td>\n",
       "      <td>1</td>\n",
       "      <td>18</td>\n",
       "      <td>5</td>\n",
       "      <td>2</td>\n",
       "      <td>3</td>\n",
       "    </tr>\n",
       "    <tr>\n",
       "      <th>1234</th>\n",
       "      <td>2004-05-01</td>\n",
       "      <td>04.00.00</td>\n",
       "      <td>NaN</td>\n",
       "      <td>882.000000</td>\n",
       "      <td>3.5</td>\n",
       "      <td>685.000000</td>\n",
       "      <td>35.0</td>\n",
       "      <td>1134.000000</td>\n",
       "      <td>42.0</td>\n",
       "      <td>1492.000000</td>\n",
       "      <td>673.000000</td>\n",
       "      <td>16.200000</td>\n",
       "      <td>69.900000</td>\n",
       "      <td>1.275600</td>\n",
       "      <td>5</td>\n",
       "      <td>1</td>\n",
       "      <td>18</td>\n",
       "      <td>5</td>\n",
       "      <td>2</td>\n",
       "      <td>4</td>\n",
       "    </tr>\n",
       "    <tr>\n",
       "      <th>1257</th>\n",
       "      <td>2004-05-02</td>\n",
       "      <td>03.00.00</td>\n",
       "      <td>1.6</td>\n",
       "      <td>1000.000000</td>\n",
       "      <td>6.6</td>\n",
       "      <td>838.000000</td>\n",
       "      <td>NaN</td>\n",
       "      <td>910.000000</td>\n",
       "      <td>NaN</td>\n",
       "      <td>1580.000000</td>\n",
       "      <td>942.000000</td>\n",
       "      <td>14.800000</td>\n",
       "      <td>67.600000</td>\n",
       "      <td>1.135200</td>\n",
       "      <td>5</td>\n",
       "      <td>2</td>\n",
       "      <td>18</td>\n",
       "      <td>6</td>\n",
       "      <td>2</td>\n",
       "      <td>3</td>\n",
       "    </tr>\n",
       "    <tr>\n",
       "      <th>...</th>\n",
       "      <td>...</td>\n",
       "      <td>...</td>\n",
       "      <td>...</td>\n",
       "      <td>...</td>\n",
       "      <td>...</td>\n",
       "      <td>...</td>\n",
       "      <td>...</td>\n",
       "      <td>...</td>\n",
       "      <td>...</td>\n",
       "      <td>...</td>\n",
       "      <td>...</td>\n",
       "      <td>...</td>\n",
       "      <td>...</td>\n",
       "      <td>...</td>\n",
       "      <td>...</td>\n",
       "      <td>...</td>\n",
       "      <td>...</td>\n",
       "      <td>...</td>\n",
       "      <td>...</td>\n",
       "      <td>...</td>\n",
       "    </tr>\n",
       "    <tr>\n",
       "      <th>8103</th>\n",
       "      <td>2005-02-11</td>\n",
       "      <td>09.00.00</td>\n",
       "      <td>5.9</td>\n",
       "      <td>1225.560000</td>\n",
       "      <td>NaN</td>\n",
       "      <td>1040.000000</td>\n",
       "      <td>700.0</td>\n",
       "      <td>640.240000</td>\n",
       "      <td>296.0</td>\n",
       "      <td>1253.000000</td>\n",
       "      <td>1309.520000</td>\n",
       "      <td>5.380000</td>\n",
       "      <td>58.536000</td>\n",
       "      <td>0.528972</td>\n",
       "      <td>2</td>\n",
       "      <td>11</td>\n",
       "      <td>6</td>\n",
       "      <td>4</td>\n",
       "      <td>1</td>\n",
       "      <td>9</td>\n",
       "    </tr>\n",
       "    <tr>\n",
       "      <th>8104</th>\n",
       "      <td>2005-02-11</td>\n",
       "      <td>10.00.00</td>\n",
       "      <td>5.4</td>\n",
       "      <td>1154.680000</td>\n",
       "      <td>NaN</td>\n",
       "      <td>934.880000</td>\n",
       "      <td>747.0</td>\n",
       "      <td>699.520000</td>\n",
       "      <td>291.0</td>\n",
       "      <td>1126.760000</td>\n",
       "      <td>1200.600000</td>\n",
       "      <td>7.152000</td>\n",
       "      <td>52.732000</td>\n",
       "      <td>0.530100</td>\n",
       "      <td>2</td>\n",
       "      <td>11</td>\n",
       "      <td>6</td>\n",
       "      <td>4</td>\n",
       "      <td>1</td>\n",
       "      <td>10</td>\n",
       "    </tr>\n",
       "    <tr>\n",
       "      <th>8105</th>\n",
       "      <td>2005-02-11</td>\n",
       "      <td>11.00.00</td>\n",
       "      <td>4.7</td>\n",
       "      <td>1122.160000</td>\n",
       "      <td>NaN</td>\n",
       "      <td>902.800000</td>\n",
       "      <td>746.0</td>\n",
       "      <td>739.600000</td>\n",
       "      <td>276.0</td>\n",
       "      <td>1067.640000</td>\n",
       "      <td>1131.120000</td>\n",
       "      <td>8.880000</td>\n",
       "      <td>46.788000</td>\n",
       "      <td>0.526148</td>\n",
       "      <td>2</td>\n",
       "      <td>11</td>\n",
       "      <td>6</td>\n",
       "      <td>4</td>\n",
       "      <td>1</td>\n",
       "      <td>11</td>\n",
       "    </tr>\n",
       "    <tr>\n",
       "      <th>8106</th>\n",
       "      <td>2005-02-11</td>\n",
       "      <td>12.00.00</td>\n",
       "      <td>4.3</td>\n",
       "      <td>1065.520000</td>\n",
       "      <td>NaN</td>\n",
       "      <td>830.680000</td>\n",
       "      <td>702.0</td>\n",
       "      <td>783.600000</td>\n",
       "      <td>250.0</td>\n",
       "      <td>1024.040000</td>\n",
       "      <td>992.200000</td>\n",
       "      <td>10.212000</td>\n",
       "      <td>42.240000</td>\n",
       "      <td>0.514816</td>\n",
       "      <td>2</td>\n",
       "      <td>11</td>\n",
       "      <td>6</td>\n",
       "      <td>4</td>\n",
       "      <td>1</td>\n",
       "      <td>12</td>\n",
       "    </tr>\n",
       "    <tr>\n",
       "      <th>8107</th>\n",
       "      <td>2005-02-11</td>\n",
       "      <td>13.00.00</td>\n",
       "      <td>5.4</td>\n",
       "      <td>1070.320000</td>\n",
       "      <td>NaN</td>\n",
       "      <td>853.360000</td>\n",
       "      <td>723.0</td>\n",
       "      <td>765.000000</td>\n",
       "      <td>251.0</td>\n",
       "      <td>1049.560000</td>\n",
       "      <td>941.800000</td>\n",
       "      <td>10.432000</td>\n",
       "      <td>41.828000</td>\n",
       "      <td>0.517380</td>\n",
       "      <td>2</td>\n",
       "      <td>11</td>\n",
       "      <td>6</td>\n",
       "      <td>4</td>\n",
       "      <td>1</td>\n",
       "      <td>13</td>\n",
       "    </tr>\n",
       "    <tr>\n",
       "      <th>8108</th>\n",
       "      <td>2005-02-11</td>\n",
       "      <td>14.00.00</td>\n",
       "      <td>5.8</td>\n",
       "      <td>1064.960000</td>\n",
       "      <td>NaN</td>\n",
       "      <td>857.400000</td>\n",
       "      <td>872.0</td>\n",
       "      <td>768.000000</td>\n",
       "      <td>275.0</td>\n",
       "      <td>1052.120000</td>\n",
       "      <td>910.520000</td>\n",
       "      <td>10.664000</td>\n",
       "      <td>40.828000</td>\n",
       "      <td>0.511380</td>\n",
       "      <td>2</td>\n",
       "      <td>11</td>\n",
       "      <td>6</td>\n",
       "      <td>4</td>\n",
       "      <td>1</td>\n",
       "      <td>14</td>\n",
       "    </tr>\n",
       "    <tr>\n",
       "      <th>8109</th>\n",
       "      <td>2005-02-11</td>\n",
       "      <td>15.00.00</td>\n",
       "      <td>6.1</td>\n",
       "      <td>1043.600000</td>\n",
       "      <td>NaN</td>\n",
       "      <td>820.120000</td>\n",
       "      <td>1054.0</td>\n",
       "      <td>804.240000</td>\n",
       "      <td>312.0</td>\n",
       "      <td>1018.400000</td>\n",
       "      <td>847.600000</td>\n",
       "      <td>10.704000</td>\n",
       "      <td>40.676000</td>\n",
       "      <td>0.508568</td>\n",
       "      <td>2</td>\n",
       "      <td>11</td>\n",
       "      <td>6</td>\n",
       "      <td>4</td>\n",
       "      <td>1</td>\n",
       "      <td>15</td>\n",
       "    </tr>\n",
       "    <tr>\n",
       "      <th>8110</th>\n",
       "      <td>2005-02-11</td>\n",
       "      <td>16.00.00</td>\n",
       "      <td>7.1</td>\n",
       "      <td>1054.680000</td>\n",
       "      <td>NaN</td>\n",
       "      <td>828.600000</td>\n",
       "      <td>1218.0</td>\n",
       "      <td>793.960000</td>\n",
       "      <td>340.0</td>\n",
       "      <td>1028.080000</td>\n",
       "      <td>858.480000</td>\n",
       "      <td>10.692000</td>\n",
       "      <td>40.752000</td>\n",
       "      <td>0.507628</td>\n",
       "      <td>2</td>\n",
       "      <td>11</td>\n",
       "      <td>6</td>\n",
       "      <td>4</td>\n",
       "      <td>1</td>\n",
       "      <td>16</td>\n",
       "    </tr>\n",
       "    <tr>\n",
       "      <th>8111</th>\n",
       "      <td>2005-02-11</td>\n",
       "      <td>17.00.00</td>\n",
       "      <td>6.6</td>\n",
       "      <td>1089.208333</td>\n",
       "      <td>NaN</td>\n",
       "      <td>875.875000</td>\n",
       "      <td>1227.0</td>\n",
       "      <td>755.125000</td>\n",
       "      <td>326.0</td>\n",
       "      <td>1064.166667</td>\n",
       "      <td>964.041667</td>\n",
       "      <td>9.987500</td>\n",
       "      <td>42.645833</td>\n",
       "      <td>0.509833</td>\n",
       "      <td>2</td>\n",
       "      <td>11</td>\n",
       "      <td>6</td>\n",
       "      <td>4</td>\n",
       "      <td>1</td>\n",
       "      <td>17</td>\n",
       "    </tr>\n",
       "    <tr>\n",
       "      <th>8112</th>\n",
       "      <td>2005-02-11</td>\n",
       "      <td>18.00.00</td>\n",
       "      <td>6.5</td>\n",
       "      <td>1158.041667</td>\n",
       "      <td>NaN</td>\n",
       "      <td>988.791667</td>\n",
       "      <td>1061.0</td>\n",
       "      <td>684.541667</td>\n",
       "      <td>284.0</td>\n",
       "      <td>1167.500000</td>\n",
       "      <td>1131.625000</td>\n",
       "      <td>8.658333</td>\n",
       "      <td>45.679167</td>\n",
       "      <td>0.504787</td>\n",
       "      <td>2</td>\n",
       "      <td>11</td>\n",
       "      <td>6</td>\n",
       "      <td>4</td>\n",
       "      <td>1</td>\n",
       "      <td>18</td>\n",
       "    </tr>\n",
       "    <tr>\n",
       "      <th>8113</th>\n",
       "      <td>2005-02-11</td>\n",
       "      <td>19.00.00</td>\n",
       "      <td>7.1</td>\n",
       "      <td>1207.791667</td>\n",
       "      <td>NaN</td>\n",
       "      <td>1066.875000</td>\n",
       "      <td>1075.0</td>\n",
       "      <td>639.458333</td>\n",
       "      <td>289.0</td>\n",
       "      <td>1226.333333</td>\n",
       "      <td>1272.125000</td>\n",
       "      <td>7.870833</td>\n",
       "      <td>47.400000</td>\n",
       "      <td>0.501208</td>\n",
       "      <td>2</td>\n",
       "      <td>11</td>\n",
       "      <td>6</td>\n",
       "      <td>4</td>\n",
       "      <td>1</td>\n",
       "      <td>19</td>\n",
       "    </tr>\n",
       "    <tr>\n",
       "      <th>8114</th>\n",
       "      <td>2005-02-11</td>\n",
       "      <td>20.00.00</td>\n",
       "      <td>4.9</td>\n",
       "      <td>1222.500000</td>\n",
       "      <td>NaN</td>\n",
       "      <td>1078.291667</td>\n",
       "      <td>641.0</td>\n",
       "      <td>629.125000</td>\n",
       "      <td>215.0</td>\n",
       "      <td>1232.833333</td>\n",
       "      <td>1303.208333</td>\n",
       "      <td>7.491667</td>\n",
       "      <td>48.350000</td>\n",
       "      <td>0.499442</td>\n",
       "      <td>2</td>\n",
       "      <td>11</td>\n",
       "      <td>6</td>\n",
       "      <td>4</td>\n",
       "      <td>1</td>\n",
       "      <td>20</td>\n",
       "    </tr>\n",
       "    <tr>\n",
       "      <th>8121</th>\n",
       "      <td>2005-02-12</td>\n",
       "      <td>03.00.00</td>\n",
       "      <td>2.5</td>\n",
       "      <td>1185.000000</td>\n",
       "      <td>5.9</td>\n",
       "      <td>807.000000</td>\n",
       "      <td>NaN</td>\n",
       "      <td>685.000000</td>\n",
       "      <td>NaN</td>\n",
       "      <td>1051.000000</td>\n",
       "      <td>1467.000000</td>\n",
       "      <td>5.000000</td>\n",
       "      <td>66.300000</td>\n",
       "      <td>0.581100</td>\n",
       "      <td>2</td>\n",
       "      <td>12</td>\n",
       "      <td>6</td>\n",
       "      <td>5</td>\n",
       "      <td>1</td>\n",
       "      <td>3</td>\n",
       "    </tr>\n",
       "    <tr>\n",
       "      <th>8145</th>\n",
       "      <td>2005-02-13</td>\n",
       "      <td>03.00.00</td>\n",
       "      <td>2.7</td>\n",
       "      <td>1458.000000</td>\n",
       "      <td>11.3</td>\n",
       "      <td>1024.000000</td>\n",
       "      <td>NaN</td>\n",
       "      <td>530.000000</td>\n",
       "      <td>NaN</td>\n",
       "      <td>1413.000000</td>\n",
       "      <td>1571.000000</td>\n",
       "      <td>9.600000</td>\n",
       "      <td>78.700000</td>\n",
       "      <td>0.942900</td>\n",
       "      <td>2</td>\n",
       "      <td>13</td>\n",
       "      <td>6</td>\n",
       "      <td>6</td>\n",
       "      <td>1</td>\n",
       "      <td>3</td>\n",
       "    </tr>\n",
       "    <tr>\n",
       "      <th>8169</th>\n",
       "      <td>2005-02-14</td>\n",
       "      <td>03.00.00</td>\n",
       "      <td>0.7</td>\n",
       "      <td>968.000000</td>\n",
       "      <td>2.8</td>\n",
       "      <td>639.000000</td>\n",
       "      <td>NaN</td>\n",
       "      <td>891.000000</td>\n",
       "      <td>NaN</td>\n",
       "      <td>1080.000000</td>\n",
       "      <td>794.000000</td>\n",
       "      <td>8.400000</td>\n",
       "      <td>67.100000</td>\n",
       "      <td>0.741100</td>\n",
       "      <td>2</td>\n",
       "      <td>14</td>\n",
       "      <td>7</td>\n",
       "      <td>0</td>\n",
       "      <td>1</td>\n",
       "      <td>3</td>\n",
       "    </tr>\n",
       "    <tr>\n",
       "      <th>8193</th>\n",
       "      <td>2005-02-15</td>\n",
       "      <td>03.00.00</td>\n",
       "      <td>0.4</td>\n",
       "      <td>821.000000</td>\n",
       "      <td>1.1</td>\n",
       "      <td>509.000000</td>\n",
       "      <td>NaN</td>\n",
       "      <td>1235.000000</td>\n",
       "      <td>NaN</td>\n",
       "      <td>762.000000</td>\n",
       "      <td>348.000000</td>\n",
       "      <td>7.100000</td>\n",
       "      <td>37.400000</td>\n",
       "      <td>0.379900</td>\n",
       "      <td>2</td>\n",
       "      <td>15</td>\n",
       "      <td>7</td>\n",
       "      <td>1</td>\n",
       "      <td>1</td>\n",
       "      <td>3</td>\n",
       "    </tr>\n",
       "    <tr>\n",
       "      <th>8217</th>\n",
       "      <td>2005-02-16</td>\n",
       "      <td>03.00.00</td>\n",
       "      <td>1.4</td>\n",
       "      <td>1077.000000</td>\n",
       "      <td>5.9</td>\n",
       "      <td>806.000000</td>\n",
       "      <td>NaN</td>\n",
       "      <td>725.000000</td>\n",
       "      <td>NaN</td>\n",
       "      <td>949.000000</td>\n",
       "      <td>1296.000000</td>\n",
       "      <td>4.000000</td>\n",
       "      <td>49.100000</td>\n",
       "      <td>0.401900</td>\n",
       "      <td>2</td>\n",
       "      <td>16</td>\n",
       "      <td>7</td>\n",
       "      <td>2</td>\n",
       "      <td>1</td>\n",
       "      <td>3</td>\n",
       "    </tr>\n",
       "    <tr>\n",
       "      <th>8241</th>\n",
       "      <td>2005-02-17</td>\n",
       "      <td>03.00.00</td>\n",
       "      <td>1.0</td>\n",
       "      <td>993.000000</td>\n",
       "      <td>3.6</td>\n",
       "      <td>688.000000</td>\n",
       "      <td>NaN</td>\n",
       "      <td>847.000000</td>\n",
       "      <td>NaN</td>\n",
       "      <td>874.000000</td>\n",
       "      <td>931.000000</td>\n",
       "      <td>5.800000</td>\n",
       "      <td>42.900000</td>\n",
       "      <td>0.399000</td>\n",
       "      <td>2</td>\n",
       "      <td>17</td>\n",
       "      <td>7</td>\n",
       "      <td>3</td>\n",
       "      <td>1</td>\n",
       "      <td>3</td>\n",
       "    </tr>\n",
       "    <tr>\n",
       "      <th>8265</th>\n",
       "      <td>2005-02-18</td>\n",
       "      <td>03.00.00</td>\n",
       "      <td>0.8</td>\n",
       "      <td>931.000000</td>\n",
       "      <td>1.9</td>\n",
       "      <td>580.000000</td>\n",
       "      <td>NaN</td>\n",
       "      <td>983.000000</td>\n",
       "      <td>NaN</td>\n",
       "      <td>863.000000</td>\n",
       "      <td>487.000000</td>\n",
       "      <td>5.600000</td>\n",
       "      <td>52.900000</td>\n",
       "      <td>0.485500</td>\n",
       "      <td>2</td>\n",
       "      <td>18</td>\n",
       "      <td>7</td>\n",
       "      <td>4</td>\n",
       "      <td>1</td>\n",
       "      <td>3</td>\n",
       "    </tr>\n",
       "    <tr>\n",
       "      <th>8289</th>\n",
       "      <td>2005-02-19</td>\n",
       "      <td>03.00.00</td>\n",
       "      <td>1.2</td>\n",
       "      <td>966.000000</td>\n",
       "      <td>3.9</td>\n",
       "      <td>703.000000</td>\n",
       "      <td>NaN</td>\n",
       "      <td>865.000000</td>\n",
       "      <td>NaN</td>\n",
       "      <td>903.000000</td>\n",
       "      <td>989.000000</td>\n",
       "      <td>2.200000</td>\n",
       "      <td>59.600000</td>\n",
       "      <td>0.433300</td>\n",
       "      <td>2</td>\n",
       "      <td>19</td>\n",
       "      <td>7</td>\n",
       "      <td>5</td>\n",
       "      <td>1</td>\n",
       "      <td>3</td>\n",
       "    </tr>\n",
       "    <tr>\n",
       "      <th>8313</th>\n",
       "      <td>2005-02-20</td>\n",
       "      <td>03.00.00</td>\n",
       "      <td>1.6</td>\n",
       "      <td>1120.000000</td>\n",
       "      <td>5.1</td>\n",
       "      <td>770.000000</td>\n",
       "      <td>NaN</td>\n",
       "      <td>756.000000</td>\n",
       "      <td>NaN</td>\n",
       "      <td>1012.000000</td>\n",
       "      <td>1191.000000</td>\n",
       "      <td>7.700000</td>\n",
       "      <td>49.700000</td>\n",
       "      <td>0.524200</td>\n",
       "      <td>2</td>\n",
       "      <td>20</td>\n",
       "      <td>7</td>\n",
       "      <td>6</td>\n",
       "      <td>1</td>\n",
       "      <td>3</td>\n",
       "    </tr>\n",
       "    <tr>\n",
       "      <th>8337</th>\n",
       "      <td>2005-02-21</td>\n",
       "      <td>03.00.00</td>\n",
       "      <td>0.6</td>\n",
       "      <td>886.000000</td>\n",
       "      <td>0.7</td>\n",
       "      <td>464.000000</td>\n",
       "      <td>NaN</td>\n",
       "      <td>1273.000000</td>\n",
       "      <td>NaN</td>\n",
       "      <td>919.000000</td>\n",
       "      <td>357.000000</td>\n",
       "      <td>4.500000</td>\n",
       "      <td>79.200000</td>\n",
       "      <td>0.675100</td>\n",
       "      <td>2</td>\n",
       "      <td>21</td>\n",
       "      <td>8</td>\n",
       "      <td>0</td>\n",
       "      <td>1</td>\n",
       "      <td>3</td>\n",
       "    </tr>\n",
       "    <tr>\n",
       "      <th>8361</th>\n",
       "      <td>2005-02-22</td>\n",
       "      <td>03.00.00</td>\n",
       "      <td>0.4</td>\n",
       "      <td>844.000000</td>\n",
       "      <td>0.6</td>\n",
       "      <td>454.000000</td>\n",
       "      <td>NaN</td>\n",
       "      <td>1327.000000</td>\n",
       "      <td>NaN</td>\n",
       "      <td>908.000000</td>\n",
       "      <td>385.000000</td>\n",
       "      <td>2.500000</td>\n",
       "      <td>86.600000</td>\n",
       "      <td>0.640700</td>\n",
       "      <td>2</td>\n",
       "      <td>22</td>\n",
       "      <td>8</td>\n",
       "      <td>1</td>\n",
       "      <td>1</td>\n",
       "      <td>3</td>\n",
       "    </tr>\n",
       "    <tr>\n",
       "      <th>8385</th>\n",
       "      <td>2005-02-23</td>\n",
       "      <td>03.00.00</td>\n",
       "      <td>0.6</td>\n",
       "      <td>880.000000</td>\n",
       "      <td>1.4</td>\n",
       "      <td>533.000000</td>\n",
       "      <td>NaN</td>\n",
       "      <td>1161.000000</td>\n",
       "      <td>NaN</td>\n",
       "      <td>948.000000</td>\n",
       "      <td>499.000000</td>\n",
       "      <td>3.500000</td>\n",
       "      <td>80.600000</td>\n",
       "      <td>0.640300</td>\n",
       "      <td>2</td>\n",
       "      <td>23</td>\n",
       "      <td>8</td>\n",
       "      <td>2</td>\n",
       "      <td>1</td>\n",
       "      <td>3</td>\n",
       "    </tr>\n",
       "    <tr>\n",
       "      <th>8409</th>\n",
       "      <td>2005-02-24</td>\n",
       "      <td>03.00.00</td>\n",
       "      <td>0.7</td>\n",
       "      <td>895.000000</td>\n",
       "      <td>1.5</td>\n",
       "      <td>545.000000</td>\n",
       "      <td>NaN</td>\n",
       "      <td>1080.000000</td>\n",
       "      <td>NaN</td>\n",
       "      <td>964.000000</td>\n",
       "      <td>685.000000</td>\n",
       "      <td>4.300000</td>\n",
       "      <td>81.000000</td>\n",
       "      <td>0.677000</td>\n",
       "      <td>2</td>\n",
       "      <td>24</td>\n",
       "      <td>8</td>\n",
       "      <td>3</td>\n",
       "      <td>1</td>\n",
       "      <td>3</td>\n",
       "    </tr>\n",
       "    <tr>\n",
       "      <th>8433</th>\n",
       "      <td>2005-02-25</td>\n",
       "      <td>03.00.00</td>\n",
       "      <td>1.1</td>\n",
       "      <td>1010.000000</td>\n",
       "      <td>3.4</td>\n",
       "      <td>679.000000</td>\n",
       "      <td>NaN</td>\n",
       "      <td>854.000000</td>\n",
       "      <td>NaN</td>\n",
       "      <td>1046.000000</td>\n",
       "      <td>889.000000</td>\n",
       "      <td>5.000000</td>\n",
       "      <td>82.900000</td>\n",
       "      <td>0.730000</td>\n",
       "      <td>2</td>\n",
       "      <td>25</td>\n",
       "      <td>8</td>\n",
       "      <td>4</td>\n",
       "      <td>1</td>\n",
       "      <td>3</td>\n",
       "    </tr>\n",
       "    <tr>\n",
       "      <th>8457</th>\n",
       "      <td>2005-02-26</td>\n",
       "      <td>03.00.00</td>\n",
       "      <td>2.1</td>\n",
       "      <td>1082.000000</td>\n",
       "      <td>6.7</td>\n",
       "      <td>843.000000</td>\n",
       "      <td>NaN</td>\n",
       "      <td>729.000000</td>\n",
       "      <td>NaN</td>\n",
       "      <td>1061.000000</td>\n",
       "      <td>1090.000000</td>\n",
       "      <td>2.800000</td>\n",
       "      <td>74.000000</td>\n",
       "      <td>0.559100</td>\n",
       "      <td>2</td>\n",
       "      <td>26</td>\n",
       "      <td>8</td>\n",
       "      <td>5</td>\n",
       "      <td>1</td>\n",
       "      <td>3</td>\n",
       "    </tr>\n",
       "    <tr>\n",
       "      <th>8481</th>\n",
       "      <td>2005-02-27</td>\n",
       "      <td>03.00.00</td>\n",
       "      <td>3.0</td>\n",
       "      <td>1035.000000</td>\n",
       "      <td>5.8</td>\n",
       "      <td>805.000000</td>\n",
       "      <td>NaN</td>\n",
       "      <td>790.000000</td>\n",
       "      <td>NaN</td>\n",
       "      <td>1022.000000</td>\n",
       "      <td>1038.000000</td>\n",
       "      <td>3.500000</td>\n",
       "      <td>68.800000</td>\n",
       "      <td>0.545800</td>\n",
       "      <td>2</td>\n",
       "      <td>27</td>\n",
       "      <td>8</td>\n",
       "      <td>6</td>\n",
       "      <td>1</td>\n",
       "      <td>3</td>\n",
       "    </tr>\n",
       "    <tr>\n",
       "      <th>8505</th>\n",
       "      <td>2005-02-28</td>\n",
       "      <td>03.00.00</td>\n",
       "      <td>0.4</td>\n",
       "      <td>798.000000</td>\n",
       "      <td>0.6</td>\n",
       "      <td>452.000000</td>\n",
       "      <td>NaN</td>\n",
       "      <td>1435.000000</td>\n",
       "      <td>NaN</td>\n",
       "      <td>699.000000</td>\n",
       "      <td>280.000000</td>\n",
       "      <td>3.900000</td>\n",
       "      <td>48.100000</td>\n",
       "      <td>0.393000</td>\n",
       "      <td>2</td>\n",
       "      <td>28</td>\n",
       "      <td>9</td>\n",
       "      <td>0</td>\n",
       "      <td>1</td>\n",
       "      <td>3</td>\n",
       "    </tr>\n",
       "    <tr>\n",
       "      <th>8777</th>\n",
       "      <td>2005-03-11</td>\n",
       "      <td>11.00.00</td>\n",
       "      <td>3.0</td>\n",
       "      <td>1239.117647</td>\n",
       "      <td>NaN</td>\n",
       "      <td>978.843137</td>\n",
       "      <td>812.0</td>\n",
       "      <td>748.333333</td>\n",
       "      <td>235.0</td>\n",
       "      <td>1417.627451</td>\n",
       "      <td>1208.000000</td>\n",
       "      <td>15.833333</td>\n",
       "      <td>43.449020</td>\n",
       "      <td>0.788800</td>\n",
       "      <td>3</td>\n",
       "      <td>11</td>\n",
       "      <td>10</td>\n",
       "      <td>4</td>\n",
       "      <td>1</td>\n",
       "      <td>11</td>\n",
       "    </tr>\n",
       "  </tbody>\n",
       "</table>\n",
       "<p>626 rows × 20 columns</p>\n",
       "</div>"
      ],
      "text/plain": [
       "           Date      Time  CO(GT)  PT08.S1(CO)  ...  Week  Dayofweek  Quarter  Hour\n",
       "524  2004-04-01  14.00.00     1.7  1124.062500  ...    14          3        2    14\n",
       "525  2004-04-01  15.00.00     1.9  1154.225806  ...    14          3        2    15\n",
       "526  2004-04-01  16.00.00     2.3  1165.225806  ...    14          3        2    16\n",
       "701  2004-04-08  23.00.00     2.0  1128.031250  ...    15          3        2    23\n",
       "702  2004-04-09  00.00.00     2.4  1049.939394  ...    15          4        2     0\n",
       "703  2004-04-09  01.00.00     1.8   995.878788  ...    15          4        2     1\n",
       "704  2004-04-09  02.00.00     1.0   946.939394  ...    15          4        2     2\n",
       "705  2004-04-09  03.00.00     1.0   906.757576  ...    15          4        2     3\n",
       "706  2004-04-09  04.00.00     1.0   873.484848  ...    15          4        2     4\n",
       "707  2004-04-09  05.00.00     0.9   908.545455  ...    15          4        2     5\n",
       "708  2004-04-09  06.00.00     1.5  1023.909091  ...    15          4        2     6\n",
       "709  2004-04-09  07.00.00     2.6  1286.878788  ...    15          4        2     7\n",
       "710  2004-04-09  08.00.00     2.9  1340.666667  ...    15          4        2     8\n",
       "711  2004-04-09  09.00.00     2.7  1260.060606  ...    15          4        2     9\n",
       "712  2004-04-09  10.00.00     2.4  1201.939394  ...    15          4        2    10\n",
       "713  2004-04-09  11.00.00     2.6  1163.272727  ...    15          4        2    11\n",
       "714  2004-04-09  12.00.00     4.1  1163.303030  ...    15          4        2    12\n",
       "715  2004-04-09  13.00.00     4.3  1143.060606  ...    15          4        2    13\n",
       "716  2004-04-09  14.00.00     2.2  1124.062500  ...    15          4        2    14\n",
       "717  2004-04-09  15.00.00     3.4  1154.225806  ...    15          4        2    15\n",
       "718  2004-04-09  16.00.00     3.6  1165.225806  ...    15          4        2    16\n",
       "719  2004-04-09  17.00.00     2.5  1251.906250  ...    15          4        2    17\n",
       "720  2004-04-09  18.00.00     2.8  1317.218750  ...    15          4        2    18\n",
       "721  2004-04-09  19.00.00     3.4  1403.812500  ...    15          4        2    19\n",
       "722  2004-04-09  20.00.00     3.0  1303.093750  ...    15          4        2    20\n",
       "723  2004-04-09  21.00.00     2.1  1140.281250  ...    15          4        2    21\n",
       "724  2004-04-09  22.00.00     2.4  1118.843750  ...    15          4        2    22\n",
       "1233 2004-05-01  03.00.00     1.3  1009.000000  ...    18          5        2     3\n",
       "1234 2004-05-01  04.00.00     NaN   882.000000  ...    18          5        2     4\n",
       "1257 2004-05-02  03.00.00     1.6  1000.000000  ...    18          6        2     3\n",
       "...         ...       ...     ...          ...  ...   ...        ...      ...   ...\n",
       "8103 2005-02-11  09.00.00     5.9  1225.560000  ...     6          4        1     9\n",
       "8104 2005-02-11  10.00.00     5.4  1154.680000  ...     6          4        1    10\n",
       "8105 2005-02-11  11.00.00     4.7  1122.160000  ...     6          4        1    11\n",
       "8106 2005-02-11  12.00.00     4.3  1065.520000  ...     6          4        1    12\n",
       "8107 2005-02-11  13.00.00     5.4  1070.320000  ...     6          4        1    13\n",
       "8108 2005-02-11  14.00.00     5.8  1064.960000  ...     6          4        1    14\n",
       "8109 2005-02-11  15.00.00     6.1  1043.600000  ...     6          4        1    15\n",
       "8110 2005-02-11  16.00.00     7.1  1054.680000  ...     6          4        1    16\n",
       "8111 2005-02-11  17.00.00     6.6  1089.208333  ...     6          4        1    17\n",
       "8112 2005-02-11  18.00.00     6.5  1158.041667  ...     6          4        1    18\n",
       "8113 2005-02-11  19.00.00     7.1  1207.791667  ...     6          4        1    19\n",
       "8114 2005-02-11  20.00.00     4.9  1222.500000  ...     6          4        1    20\n",
       "8121 2005-02-12  03.00.00     2.5  1185.000000  ...     6          5        1     3\n",
       "8145 2005-02-13  03.00.00     2.7  1458.000000  ...     6          6        1     3\n",
       "8169 2005-02-14  03.00.00     0.7   968.000000  ...     7          0        1     3\n",
       "8193 2005-02-15  03.00.00     0.4   821.000000  ...     7          1        1     3\n",
       "8217 2005-02-16  03.00.00     1.4  1077.000000  ...     7          2        1     3\n",
       "8241 2005-02-17  03.00.00     1.0   993.000000  ...     7          3        1     3\n",
       "8265 2005-02-18  03.00.00     0.8   931.000000  ...     7          4        1     3\n",
       "8289 2005-02-19  03.00.00     1.2   966.000000  ...     7          5        1     3\n",
       "8313 2005-02-20  03.00.00     1.6  1120.000000  ...     7          6        1     3\n",
       "8337 2005-02-21  03.00.00     0.6   886.000000  ...     8          0        1     3\n",
       "8361 2005-02-22  03.00.00     0.4   844.000000  ...     8          1        1     3\n",
       "8385 2005-02-23  03.00.00     0.6   880.000000  ...     8          2        1     3\n",
       "8409 2005-02-24  03.00.00     0.7   895.000000  ...     8          3        1     3\n",
       "8433 2005-02-25  03.00.00     1.1  1010.000000  ...     8          4        1     3\n",
       "8457 2005-02-26  03.00.00     2.1  1082.000000  ...     8          5        1     3\n",
       "8481 2005-02-27  03.00.00     3.0  1035.000000  ...     8          6        1     3\n",
       "8505 2005-02-28  03.00.00     0.4   798.000000  ...     9          0        1     3\n",
       "8777 2005-03-11  11.00.00     3.0  1239.117647  ...    10          4        1    11\n",
       "\n",
       "[626 rows x 20 columns]"
      ]
     },
     "execution_count": 197,
     "metadata": {
      "tags": []
     },
     "output_type": "execute_result"
    }
   ],
   "source": [
    "data[data.isna().any(axis=1)]"
   ]
  },
  {
   "cell_type": "code",
   "execution_count": 0,
   "metadata": {
    "colab": {
     "base_uri": "https://localhost:8080/",
     "height": 368
    },
    "colab_type": "code",
    "id": "i2UJJkJq5gcT",
    "outputId": "e86bcb5b-b07b-45ab-909f-e6c77534e99d"
   },
   "outputs": [
    {
     "data": {
      "text/plain": [
       "Date               0\n",
       "Time               0\n",
       "CO(GT)            30\n",
       "PT08.S1(CO)        0\n",
       "C6H6(GT)         335\n",
       "PT08.S2(NMHC)      0\n",
       "NOx(GT)          272\n",
       "PT08.S3(NOx)       0\n",
       "NO2(GT)          272\n",
       "PT08.S4(NO2)       0\n",
       "PT08.S5(O3)        0\n",
       "T                  0\n",
       "RH                 0\n",
       "AH                 0\n",
       "Month              0\n",
       "Day                0\n",
       "Week               0\n",
       "Dayofweek          0\n",
       "Quarter            0\n",
       "Hour               0\n",
       "dtype: int64"
      ]
     },
     "execution_count": 198,
     "metadata": {
      "tags": []
     },
     "output_type": "execute_result"
    }
   ],
   "source": [
    "data.isna().sum()"
   ]
  },
  {
   "cell_type": "markdown",
   "metadata": {
    "colab_type": "text",
    "id": "OD0S_iPgC2In"
   },
   "source": [
    " Не все значения заполнились,т.к. у нас недостаточно данных по месяцу и часу. Заполним по часу:"
   ]
  },
  {
   "cell_type": "code",
   "execution_count": 0,
   "metadata": {
    "colab": {},
    "colab_type": "code",
    "id": "Y8qD9Kvu5gcX"
   },
   "outputs": [],
   "source": [
    "def fillnan_rest(columns):\n",
    "    for i in columns:\n",
    "        data[i]=data[i].fillna(data.groupby(['Hour'])[i].transform('mean'))"
   ]
  },
  {
   "cell_type": "code",
   "execution_count": 0,
   "metadata": {
    "colab": {},
    "colab_type": "code",
    "id": "UQl2_aty5gcZ"
   },
   "outputs": [],
   "source": [
    "fillnan_rest(['CO(GT)','NOx(GT)','NO2(GT)','C6H6(GT)'])"
   ]
  },
  {
   "cell_type": "code",
   "execution_count": 0,
   "metadata": {
    "colab": {
     "base_uri": "https://localhost:8080/",
     "height": 368
    },
    "colab_type": "code",
    "id": "Qd3WgEd15gcc",
    "outputId": "1190f125-9df2-43e0-ff4d-3cca105b55f0"
   },
   "outputs": [
    {
     "data": {
      "text/plain": [
       "Date             0\n",
       "Time             0\n",
       "CO(GT)           0\n",
       "PT08.S1(CO)      0\n",
       "C6H6(GT)         0\n",
       "PT08.S2(NMHC)    0\n",
       "NOx(GT)          0\n",
       "PT08.S3(NOx)     0\n",
       "NO2(GT)          0\n",
       "PT08.S4(NO2)     0\n",
       "PT08.S5(O3)      0\n",
       "T                0\n",
       "RH               0\n",
       "AH               0\n",
       "Month            0\n",
       "Day              0\n",
       "Week             0\n",
       "Dayofweek        0\n",
       "Quarter          0\n",
       "Hour             0\n",
       "dtype: int64"
      ]
     },
     "execution_count": 201,
     "metadata": {
      "tags": []
     },
     "output_type": "execute_result"
    }
   ],
   "source": [
    "data.isna().sum()"
   ]
  },
  {
   "cell_type": "markdown",
   "metadata": {
    "colab_type": "text",
    "id": "gcadxnH1C_vX"
   },
   "source": [
    "Все недостающие данные заполнены."
   ]
  },
  {
   "cell_type": "markdown",
   "metadata": {
    "colab_type": "text",
    "id": "L9JXOmbCDDt4"
   },
   "source": [
    "Посмотрим на распределение целевого признака:"
   ]
  },
  {
   "cell_type": "code",
   "execution_count": 0,
   "metadata": {
    "colab": {
     "base_uri": "https://localhost:8080/",
     "height": 376
    },
    "colab_type": "code",
    "id": "RRszJZBg5gcl",
    "outputId": "e188da62-7a86-4532-d264-d36259f59069"
   },
   "outputs": [
    {
     "data": {
      "image/png": "[encoded data removed]",
      "text/plain": [
       "<Figure size 576x396 with 1 Axes>"
      ]
     },
     "metadata": {
      "tags": []
     },
     "output_type": "display_data"
    }
   ],
   "source": [
    "ax = sns.distplot(data['C6H6(GT)'], norm_hist=True)\n",
    "ax.set_title('Sale price distribution');"
   ]
  },
  {
   "cell_type": "code",
   "execution_count": 0,
   "metadata": {
    "colab": {
     "base_uri": "https://localhost:8080/",
     "height": 443
    },
    "colab_type": "code",
    "id": "ViQ__gU9Fnp4",
    "outputId": "98a2a153-d5de-4cef-ff6c-1a918a0d64f9"
   },
   "outputs": [
    {
     "data": {
      "text/plain": [
       "((array([-3.79332599, -3.56720799, -3.44302275, ...,  3.44302275,\n",
       "          3.56720799,  3.79332599]),\n",
       "  array([ 0.1,  0.1,  0.2, ..., 50.8, 52.1, 63.7])),\n",
       " (6.9767745164368025, 10.095323861559296, 0.9477161845688613))"
      ]
     },
     "execution_count": 203,
     "metadata": {
      "tags": []
     },
     "output_type": "execute_result"
    },
    {
     "data": {
      "image/png": "[encoded data removed]",
      "text/plain": [
       "<Figure size 576x396 with 1 Axes>"
      ]
     },
     "metadata": {
      "tags": []
     },
     "output_type": "display_data"
    }
   ],
   "source": [
    "ss.probplot(data['C6H6(GT)'], plot=plt)"
   ]
  },
  {
   "cell_type": "code",
   "execution_count": 0,
   "metadata": {
    "colab": {
     "base_uri": "https://localhost:8080/",
     "height": 393
    },
    "colab_type": "code",
    "id": "e3QNeZKC5gcn",
    "outputId": "d6ef7000-715d-4b41-fdca-79335a960528"
   },
   "outputs": [
    {
     "data": {
      "text/plain": [
       "Text(0.5, 1.0, 'Log sale price distribution')"
      ]
     },
     "execution_count": 204,
     "metadata": {
      "tags": []
     },
     "output_type": "execute_result"
    },
    {
     "data": {
      "image/png": "[encoded data removed]",
      "text/plain": [
       "<Figure size 576x396 with 1 Axes>"
      ]
     },
     "metadata": {
      "tags": []
     },
     "output_type": "display_data"
    }
   ],
   "source": [
    "ax = sns.distplot(np.log(data['C6H6(GT)']), norm_hist=True)\n",
    "ax.set_title('Log sale price distribution')"
   ]
  },
  {
   "cell_type": "code",
   "execution_count": 0,
   "metadata": {
    "colab": {
     "base_uri": "https://localhost:8080/",
     "height": 460
    },
    "colab_type": "code",
    "id": "M7yc5OP7F3p-",
    "outputId": "7c3b9bea-d7fc-486e-c355-9581863aedbe"
   },
   "outputs": [
    {
     "data": {
      "text/plain": [
       "((array([-3.79332599, -3.56720799, -3.44302275, ...,  3.44302275,\n",
       "          3.56720799,  3.79332599]),\n",
       "  array([-2.30258509, -2.30258509, -1.60943791, ...,  3.92789635,\n",
       "          3.95316495,  4.15418456])),\n",
       " (0.8188040932974098, 2.0220651365030085, 0.9868995322797579))"
      ]
     },
     "execution_count": 205,
     "metadata": {
      "tags": []
     },
     "output_type": "execute_result"
    },
    {
     "data": {
      "image/png": "[encoded data removed]",
      "text/plain": [
       "<Figure size 576x396 with 1 Axes>"
      ]
     },
     "metadata": {
      "tags": []
     },
     "output_type": "display_data"
    }
   ],
   "source": [
    "ss.probplot(np.log(data['C6H6(GT)']), plot=plt)"
   ]
  },
  {
   "cell_type": "code",
   "execution_count": 0,
   "metadata": {
    "colab": {
     "base_uri": "https://localhost:8080/",
     "height": 376
    },
    "colab_type": "code",
    "id": "IwhdkdZ25gcp",
    "outputId": "e664a812-9b34-4ec8-f299-afe16b977445"
   },
   "outputs": [
    {
     "data": {
      "image/png": "[encoded data removed]",
      "text/plain": [
       "<Figure size 576x396 with 1 Axes>"
      ]
     },
     "metadata": {
      "tags": []
     },
     "output_type": "display_data"
    }
   ],
   "source": [
    "ax = sns.distplot(np.sqrt(data['C6H6(GT)']), norm_hist=True)\n",
    "ax.set_title('Sqrt sale price distribution');"
   ]
  },
  {
   "cell_type": "code",
   "execution_count": 0,
   "metadata": {
    "colab": {
     "base_uri": "https://localhost:8080/",
     "height": 460
    },
    "colab_type": "code",
    "id": "SY_TFGDiF8br",
    "outputId": "a96593bd-b066-43da-ead1-c7c9fa734773"
   },
   "outputs": [
    {
     "data": {
      "text/plain": [
       "((array([-3.79332599, -3.56720799, -3.44302275, ...,  3.44302275,\n",
       "          3.56720799,  3.79332599]),\n",
       "  array([0.31622777, 0.31622777, 0.4472136 , ..., 7.12741187, 7.21803297,\n",
       "         7.98122798])),\n",
       " (1.1134092619219065, 2.9732737575607047, 0.9935121353589664))"
      ]
     },
     "execution_count": 207,
     "metadata": {
      "tags": []
     },
     "output_type": "execute_result"
    },
    {
     "data": {
      "image/png": "[encoded data removed]",
      "text/plain": [
       "<Figure size 576x396 with 1 Axes>"
      ]
     },
     "metadata": {
      "tags": []
     },
     "output_type": "display_data"
    }
   ],
   "source": [
    "ss.probplot(np.sqrt(data['C6H6(GT)']), plot=plt)"
   ]
  },
  {
   "cell_type": "markdown",
   "metadata": {
    "colab_type": "text",
    "id": "9ext_lxeGBdo"
   },
   "source": [
    "По QQ-графику видно, что корень из таргетной переменной наиболее нормально распределен, поэтому используем его."
   ]
  },
  {
   "cell_type": "code",
   "execution_count": 0,
   "metadata": {
    "colab": {
     "base_uri": "https://localhost:8080/",
     "height": 300
    },
    "colab_type": "code",
    "id": "cDAlkMOqGCLq",
    "outputId": "2c830b0d-0462-42ee-c947-0099ded8a829"
   },
   "outputs": [
    {
     "data": {
      "text/html": [
       "<div>\n",
       "<style scoped>\n",
       "    .dataframe tbody tr th:only-of-type {\n",
       "        vertical-align: middle;\n",
       "    }\n",
       "\n",
       "    .dataframe tbody tr th {\n",
       "        vertical-align: top;\n",
       "    }\n",
       "\n",
       "    .dataframe thead th {\n",
       "        text-align: right;\n",
       "    }\n",
       "</style>\n",
       "<table border=\"1\" class=\"dataframe\">\n",
       "  <thead>\n",
       "    <tr style=\"text-align: right;\">\n",
       "      <th></th>\n",
       "      <th>Date</th>\n",
       "      <th>Time</th>\n",
       "      <th>CO(GT)</th>\n",
       "      <th>PT08.S1(CO)</th>\n",
       "      <th>C6H6(GT)</th>\n",
       "      <th>PT08.S2(NMHC)</th>\n",
       "      <th>NOx(GT)</th>\n",
       "      <th>PT08.S3(NOx)</th>\n",
       "      <th>NO2(GT)</th>\n",
       "      <th>PT08.S4(NO2)</th>\n",
       "      <th>PT08.S5(O3)</th>\n",
       "      <th>T</th>\n",
       "      <th>RH</th>\n",
       "      <th>AH</th>\n",
       "      <th>Month</th>\n",
       "      <th>Day</th>\n",
       "      <th>Week</th>\n",
       "      <th>Dayofweek</th>\n",
       "      <th>Quarter</th>\n",
       "      <th>Hour</th>\n",
       "    </tr>\n",
       "  </thead>\n",
       "  <tbody>\n",
       "    <tr>\n",
       "      <th>0</th>\n",
       "      <td>2004-03-10</td>\n",
       "      <td>18.00.00</td>\n",
       "      <td>2.6</td>\n",
       "      <td>1360.0</td>\n",
       "      <td>11.9</td>\n",
       "      <td>1046.0</td>\n",
       "      <td>166.0</td>\n",
       "      <td>1056.0</td>\n",
       "      <td>113.0</td>\n",
       "      <td>1692.0</td>\n",
       "      <td>1268.0</td>\n",
       "      <td>13.6</td>\n",
       "      <td>48.9</td>\n",
       "      <td>0.7578</td>\n",
       "      <td>3</td>\n",
       "      <td>10</td>\n",
       "      <td>11</td>\n",
       "      <td>2</td>\n",
       "      <td>1</td>\n",
       "      <td>18</td>\n",
       "    </tr>\n",
       "    <tr>\n",
       "      <th>1</th>\n",
       "      <td>2004-03-10</td>\n",
       "      <td>19.00.00</td>\n",
       "      <td>2.0</td>\n",
       "      <td>1292.0</td>\n",
       "      <td>9.4</td>\n",
       "      <td>955.0</td>\n",
       "      <td>103.0</td>\n",
       "      <td>1174.0</td>\n",
       "      <td>92.0</td>\n",
       "      <td>1559.0</td>\n",
       "      <td>972.0</td>\n",
       "      <td>13.3</td>\n",
       "      <td>47.7</td>\n",
       "      <td>0.7255</td>\n",
       "      <td>3</td>\n",
       "      <td>10</td>\n",
       "      <td>11</td>\n",
       "      <td>2</td>\n",
       "      <td>1</td>\n",
       "      <td>19</td>\n",
       "    </tr>\n",
       "    <tr>\n",
       "      <th>2</th>\n",
       "      <td>2004-03-10</td>\n",
       "      <td>20.00.00</td>\n",
       "      <td>2.2</td>\n",
       "      <td>1402.0</td>\n",
       "      <td>9.0</td>\n",
       "      <td>939.0</td>\n",
       "      <td>131.0</td>\n",
       "      <td>1140.0</td>\n",
       "      <td>114.0</td>\n",
       "      <td>1555.0</td>\n",
       "      <td>1074.0</td>\n",
       "      <td>11.9</td>\n",
       "      <td>54.0</td>\n",
       "      <td>0.7502</td>\n",
       "      <td>3</td>\n",
       "      <td>10</td>\n",
       "      <td>11</td>\n",
       "      <td>2</td>\n",
       "      <td>1</td>\n",
       "      <td>20</td>\n",
       "    </tr>\n",
       "    <tr>\n",
       "      <th>3</th>\n",
       "      <td>2004-03-10</td>\n",
       "      <td>21.00.00</td>\n",
       "      <td>2.2</td>\n",
       "      <td>1376.0</td>\n",
       "      <td>9.2</td>\n",
       "      <td>948.0</td>\n",
       "      <td>172.0</td>\n",
       "      <td>1092.0</td>\n",
       "      <td>122.0</td>\n",
       "      <td>1584.0</td>\n",
       "      <td>1203.0</td>\n",
       "      <td>11.0</td>\n",
       "      <td>60.0</td>\n",
       "      <td>0.7867</td>\n",
       "      <td>3</td>\n",
       "      <td>10</td>\n",
       "      <td>11</td>\n",
       "      <td>2</td>\n",
       "      <td>1</td>\n",
       "      <td>21</td>\n",
       "    </tr>\n",
       "    <tr>\n",
       "      <th>4</th>\n",
       "      <td>2004-03-10</td>\n",
       "      <td>22.00.00</td>\n",
       "      <td>1.6</td>\n",
       "      <td>1272.0</td>\n",
       "      <td>6.5</td>\n",
       "      <td>836.0</td>\n",
       "      <td>131.0</td>\n",
       "      <td>1205.0</td>\n",
       "      <td>116.0</td>\n",
       "      <td>1490.0</td>\n",
       "      <td>1110.0</td>\n",
       "      <td>11.2</td>\n",
       "      <td>59.6</td>\n",
       "      <td>0.7888</td>\n",
       "      <td>3</td>\n",
       "      <td>10</td>\n",
       "      <td>11</td>\n",
       "      <td>2</td>\n",
       "      <td>1</td>\n",
       "      <td>22</td>\n",
       "    </tr>\n",
       "  </tbody>\n",
       "</table>\n",
       "</div>"
      ],
      "text/plain": [
       "        Date      Time  CO(GT)  PT08.S1(CO)  ...  Week  Dayofweek  Quarter  Hour\n",
       "0 2004-03-10  18.00.00     2.6       1360.0  ...    11          2        1    18\n",
       "1 2004-03-10  19.00.00     2.0       1292.0  ...    11          2        1    19\n",
       "2 2004-03-10  20.00.00     2.2       1402.0  ...    11          2        1    20\n",
       "3 2004-03-10  21.00.00     2.2       1376.0  ...    11          2        1    21\n",
       "4 2004-03-10  22.00.00     1.6       1272.0  ...    11          2        1    22\n",
       "\n",
       "[5 rows x 20 columns]"
      ]
     },
     "execution_count": 208,
     "metadata": {
      "tags": []
     },
     "output_type": "execute_result"
    }
   ],
   "source": [
    "data.head()"
   ]
  },
  {
   "cell_type": "code",
   "execution_count": 0,
   "metadata": {
    "colab": {},
    "colab_type": "code",
    "id": "ZzB9AdEHGDdb"
   },
   "outputs": [],
   "source": [
    "data['C6H6(GT)'] = np.sqrt(data['C6H6(GT)'])\n",
    "y = data['C6H6(GT)']"
   ]
  },
  {
   "cell_type": "code",
   "execution_count": 0,
   "metadata": {
    "colab": {
     "base_uri": "https://localhost:8080/",
     "height": 413
    },
    "colab_type": "code",
    "id": "qPzIPdnz5gcs",
    "outputId": "96ac4e68-f962-48e1-a73f-4ac2008bb144"
   },
   "outputs": [
    {
     "data": {
      "image/png": "[encoded data removed]",
      "text/plain": [
       "<Figure size 576x396 with 2 Axes>"
      ]
     },
     "metadata": {
      "tags": []
     },
     "output_type": "display_data"
    }
   ],
   "source": [
    "corr = data.corr()\n",
    "condition = np.abs(corr['C6H6(GT)']) > 0.5\n",
    "top_corr = corr.loc[condition, condition]\n",
    "sns.heatmap(top_corr, annot=True);"
   ]
  },
  {
   "cell_type": "code",
   "execution_count": 0,
   "metadata": {
    "colab": {
     "base_uri": "https://localhost:8080/",
     "height": 437
    },
    "colab_type": "code",
    "id": "cSdV1fLf5gcx",
    "outputId": "0b4b1177-894c-47ad-c3c9-94913bd0bf28"
   },
   "outputs": [
    {
     "data": {
      "image/png": "[encoded data removed]",
      "text/plain": [
       "<Figure size 432x432 with 3 Axes>"
      ]
     },
     "metadata": {
      "tags": []
     },
     "output_type": "display_data"
    }
   ],
   "source": [
    "g = sns.jointplot(\"C6H6(GT)\", \"PT08.S2(NMHC)\", data = data, kind=\"reg\")"
   ]
  },
  {
   "cell_type": "code",
   "execution_count": 0,
   "metadata": {
    "colab": {
     "base_uri": "https://localhost:8080/",
     "height": 437
    },
    "colab_type": "code",
    "id": "T6_htpoU5gc-",
    "outputId": "ace10ad4-4727-481c-eea2-767b043e42e4"
   },
   "outputs": [
    {
     "data": {
      "image/png": "[encoded data removed]",
      "text/plain": [
       "<Figure size 432x432 with 3 Axes>"
      ]
     },
     "metadata": {
      "tags": []
     },
     "output_type": "display_data"
    }
   ],
   "source": [
    "g = sns.jointplot(\"C6H6(GT)\", \"PT08.S1(CO)\", data = data, kind=\"reg\")"
   ]
  },
  {
   "cell_type": "code",
   "execution_count": 0,
   "metadata": {
    "colab": {
     "base_uri": "https://localhost:8080/",
     "height": 437
    },
    "colab_type": "code",
    "id": "v4mJUg0Q5gdC",
    "outputId": "84d0c153-cc04-461c-fc60-8c1bbcaacf24"
   },
   "outputs": [
    {
     "data": {
      "image/png": "[encoded data removed]",
      "text/plain": [
       "<Figure size 432x432 with 3 Axes>"
      ]
     },
     "metadata": {
      "tags": []
     },
     "output_type": "display_data"
    }
   ],
   "source": [
    "g = sns.jointplot(\"C6H6(GT)\", \"PT08.S4(NO2)\", data = data, kind=\"reg\")"
   ]
  },
  {
   "cell_type": "code",
   "execution_count": 0,
   "metadata": {
    "colab": {
     "base_uri": "https://localhost:8080/",
     "height": 437
    },
    "colab_type": "code",
    "id": "1IixMoZF5gdE",
    "outputId": "4b455ed3-639f-4928-d6ee-1e283771be70"
   },
   "outputs": [
    {
     "data": {
      "image/png": "[encoded data removed]",
      "text/plain": [
       "<Figure size 432x432 with 3 Axes>"
      ]
     },
     "metadata": {
      "tags": []
     },
     "output_type": "display_data"
    }
   ],
   "source": [
    "g = sns.jointplot(\"C6H6(GT)\", \"PT08.S5(O3)\", data = data, kind=\"reg\")"
   ]
  },
  {
   "cell_type": "code",
   "execution_count": 0,
   "metadata": {
    "colab": {},
    "colab_type": "code",
    "id": "yB1X4ec25gdG"
   },
   "outputs": [],
   "source": [
    "data.drop(columns = ['Date','Time','C6H6(GT)'],inplace = True)"
   ]
  },
  {
   "cell_type": "code",
   "execution_count": 0,
   "metadata": {
    "colab": {},
    "colab_type": "code",
    "id": "4HNOSKO-5gdJ"
   },
   "outputs": [],
   "source": [
    "df = data.copy()\n",
    "scaler = StandardScaler() \n",
    "df = scaler.fit_transform(df)\n",
    "X_train, X_test, y_train, y_test = train_test_split(df,y,test_size=0.3, random_state=42)"
   ]
  },
  {
   "cell_type": "code",
   "execution_count": 0,
   "metadata": {
    "colab": {
     "base_uri": "https://localhost:8080/",
     "height": 50
    },
    "colab_type": "code",
    "id": "Kx1b9h545gdN",
    "outputId": "9cbb4841-d372-4ec4-d04e-beaa025ef918"
   },
   "outputs": [
    {
     "name": "stdout",
     "output_type": "stream",
     "text": [
      "Training data size: (6528, 17)\n",
      "Test data size: (2798, 17)\n"
     ]
    }
   ],
   "source": [
    "print('Training data size:',X_train.shape)\n",
    "print('Test data size:',X_test.shape)"
   ]
  },
  {
   "cell_type": "code",
   "execution_count": 0,
   "metadata": {
    "colab": {},
    "colab_type": "code",
    "id": "hzjyG2te5gdR"
   },
   "outputs": [],
   "source": [
    "lr = LinearRegression()\n",
    "lr_model = lr.fit(X_train,y_train)     "
   ]
  },
  {
   "cell_type": "code",
   "execution_count": 0,
   "metadata": {
    "colab": {
     "base_uri": "https://localhost:8080/",
     "height": 33
    },
    "colab_type": "code",
    "id": "lY0YuS0cGhS8",
    "outputId": "5327fc8b-2c49-4fd1-be0b-0ed45da41f20"
   },
   "outputs": [
    {
     "name": "stdout",
     "output_type": "stream",
     "text": [
      "MSE of model with Feature Impotance: -0.009458816861404047\n"
     ]
    }
   ],
   "source": [
    "mse = cross_val_score(lr_model, X_train, y_train, scoring ='neg_mean_squared_error', cv=3).mean()\n",
    "print('MSE of model with Feature Impotance:',mse)"
   ]
  },
  {
   "cell_type": "code",
   "execution_count": 0,
   "metadata": {
    "colab": {
     "base_uri": "https://localhost:8080/",
     "height": 351
    },
    "colab_type": "code",
    "id": "_Hu3GzdyGq6N",
    "outputId": "dbafeb5b-638c-4038-dc5d-e88c6596d001"
   },
   "outputs": [
    {
     "name": "stdout",
     "output_type": "stream",
     "text": [
      "Intercept: 2.973677284672025\n",
      "--------------------------------\n",
      "Slope:\n"
     ]
    },
    {
     "data": {
      "text/plain": [
       "[('CO(GT)', 0.010484632262986567),\n",
       " ('PT08.S1(CO)', -0.013295073075650088),\n",
       " ('PT08.S2(NMHC)', 1.0799709854073578),\n",
       " ('NOx(GT)', -0.012696087694099228),\n",
       " ('PT08.S3(NOx)', -0.03522878765010222),\n",
       " ('NO2(GT)', 0.03026764111766733),\n",
       " ('PT08.S4(NO2)', 0.0012109125590164323),\n",
       " ('PT08.S5(O3)', -0.0070113750376639555),\n",
       " ('T', 0.01961139195567371),\n",
       " ('RH', 0.011425914040685154),\n",
       " ('AH', -0.007028990309273609),\n",
       " ('Month', -0.0019492387748911509),\n",
       " ('Day', -0.005406623068000969),\n",
       " ('Week', 0.004671514374456027),\n",
       " ('Dayofweek', -0.0002391094678309412),\n",
       " ('Quarter', -0.0015678223341083763),\n",
       " ('Hour', 0.007019797817536494)]"
      ]
     },
     "execution_count": 220,
     "metadata": {
      "tags": []
     },
     "output_type": "execute_result"
    }
   ],
   "source": [
    "print('Intercept:',lr_model.intercept_)\n",
    "print('--------------------------------')\n",
    "print('Slope:')\n",
    "list(zip(data.columns.tolist(),lr_model.coef_))"
   ]
  },
  {
   "cell_type": "code",
   "execution_count": 0,
   "metadata": {
    "colab": {},
    "colab_type": "code",
    "id": "7i4CLAp65gdZ"
   },
   "outputs": [],
   "source": [
    "list(zip(data.columns.tolist(),lr_model.coef_)).sort()"
   ]
  },
  {
   "cell_type": "code",
   "execution_count": 0,
   "metadata": {
    "colab": {
     "base_uri": "https://localhost:8080/",
     "height": 430
    },
    "colab_type": "code",
    "id": "T84MyHVi5gdd",
    "outputId": "3d4485f3-6f95-4236-9b95-8a86bd049d82"
   },
   "outputs": [
    {
     "data": {
      "text/plain": [
       "<matplotlib.axes._subplots.AxesSubplot at 0x7f5a73785358>"
      ]
     },
     "execution_count": 222,
     "metadata": {
      "tags": []
     },
     "output_type": "execute_result"
    },
    {
     "data": {
      "image/png": "[encoded data removed]",
      "text/plain": [
       "<Figure size 576x396 with 2 Axes>"
      ]
     },
     "metadata": {
      "tags": []
     },
     "output_type": "display_data"
    }
   ],
   "source": [
    "sns.heatmap(top_corr, annot=True)"
   ]
  },
  {
   "cell_type": "markdown",
   "metadata": {
    "colab_type": "text",
    "id": "cJsnVlbWIUFP"
   },
   "source": [
    "Feature engineering"
   ]
  },
  {
   "cell_type": "markdown",
   "metadata": {
    "colab_type": "text",
    "id": "-2e9j7WyIW7v"
   },
   "source": [
    "Добавим новые признаки, состоящие из различных статистик, по различным датам. Например, медиану CO(GT) за год, месяц, день и так далее."
   ]
  },
  {
   "cell_type": "code",
   "execution_count": 0,
   "metadata": {
    "colab": {},
    "colab_type": "code",
    "id": "Jicj9kp15gdl"
   },
   "outputs": [],
   "source": [
    "funcs = ['mean','median','cumsum','cummin','cummax','count']\n",
    "groups = ['Quarter','Month','Week','Dayofweek','Day','Hour','T','RH']\n",
    "scipy_funcs = [ss.gmean,ss.hmean,ss.kurtosis]\n",
    "def FE(columns):\n",
    "    for i in columns:\n",
    "        for j in groups:\n",
    "            for k in funcs:\n",
    "                data[k+'_'+i+'_'+'by'+'_'+j] = data[i].groupby(data[j]).transform(k)    \n",
    "    for i in columns:\n",
    "        for j in groups:\n",
    "            for m in scipy_funcs:\n",
    "                data[str(m).split()[1]+'_'+i+'_'+'by'+'_'+j] = data[i].groupby(data[j]).transform(lambda x: m(x)) "
   ]
  },
  {
   "cell_type": "code",
   "execution_count": 0,
   "metadata": {
    "colab": {},
    "colab_type": "code",
    "id": "037aTL6w5gdn"
   },
   "outputs": [],
   "source": [
    "FE(['CO(GT)','PT08.S1(CO)','PT08.S2(NMHC)','NOx(GT)','NO2(GT)','PT08.S3(NOx)','PT08.S4(NO2)','PT08.S5(O3)'])"
   ]
  },
  {
   "cell_type": "code",
   "execution_count": 0,
   "metadata": {
    "colab": {
     "base_uri": "https://localhost:8080/",
     "height": 33
    },
    "colab_type": "code",
    "id": "M4B-NyS65gdo",
    "outputId": "579ec49c-4467-4a0c-ffe3-7cac11a38ad0"
   },
   "outputs": [
    {
     "data": {
      "text/plain": [
       "(9326, 593)"
      ]
     },
     "execution_count": 225,
     "metadata": {
      "tags": []
     },
     "output_type": "execute_result"
    }
   ],
   "source": [
    "data.shape"
   ]
  },
  {
   "cell_type": "markdown",
   "metadata": {
    "colab_type": "text",
    "id": "YLzSHoskJZSs"
   },
   "source": [
    "Из 14 признаков у нас получилось 593."
   ]
  },
  {
   "cell_type": "code",
   "execution_count": 0,
   "metadata": {
    "colab": {},
    "colab_type": "code",
    "id": "26VTVPmX5gdq"
   },
   "outputs": [],
   "source": [
    "df = data.copy()\n",
    "scaler = StandardScaler() \n",
    "df = scaler.fit_transform(df)\n",
    "X_train, X_test, y_train, y_test = train_test_split(df,y,test_size=0.3, random_state=42)"
   ]
  },
  {
   "cell_type": "code",
   "execution_count": 0,
   "metadata": {
    "colab": {
     "base_uri": "https://localhost:8080/",
     "height": 50
    },
    "colab_type": "code",
    "id": "E6UzVfJf5gdt",
    "outputId": "3a1ac259-0491-4559-f7c3-5b3d57f29e2e"
   },
   "outputs": [
    {
     "name": "stdout",
     "output_type": "stream",
     "text": [
      "Training data size: (6528, 593)\n",
      "Test data size: (2798, 593)\n"
     ]
    }
   ],
   "source": [
    "print('Training data size:',X_train.shape)\n",
    "print('Test data size:',X_test.shape)"
   ]
  },
  {
   "cell_type": "code",
   "execution_count": 0,
   "metadata": {
    "colab": {},
    "colab_type": "code",
    "id": "GN4Fo5cI5gdv"
   },
   "outputs": [],
   "source": [
    "lr = LinearRegression()\n",
    "lr_model = lr.fit(X_train,y_train)     "
   ]
  },
  {
   "cell_type": "markdown",
   "metadata": {
    "colab_type": "text",
    "id": "mQglnmZ2J_Jx"
   },
   "source": [
    "В качестве метрики будем использовать MSE. В принципе, можно было бы использовать MAE или другую метрику для регрессии, но MSE особенно чувствительна к выбросам, которых мы хотим избегать."
   ]
  },
  {
   "cell_type": "markdown",
   "metadata": {
    "colab_type": "text",
    "id": "keAcIbkrKEFN"
   },
   "source": [
    "Для вычисления score будем использовать cross_val_score с 3 блоками из sklearn.model_selection."
   ]
  },
  {
   "cell_type": "code",
   "execution_count": 0,
   "metadata": {
    "colab": {
     "base_uri": "https://localhost:8080/",
     "height": 33
    },
    "colab_type": "code",
    "id": "1xQy_ZdbKLt7",
    "outputId": "71267925-cfcf-456c-8052-ff3545a0e45a"
   },
   "outputs": [
    {
     "name": "stdout",
     "output_type": "stream",
     "text": [
      "Baseline MSE of model: -0.004814160996129135\n"
     ]
    }
   ],
   "source": [
    "mse = cross_val_score(lr_model, X_train, y_train,scoring ='neg_mean_squared_error', cv=3).mean()\n",
    "print('Baseline MSE of model:',mse)"
   ]
  },
  {
   "cell_type": "markdown",
   "metadata": {
    "colab_type": "text",
    "id": "SmERvaBWKong"
   },
   "source": [
    "**Feature Impotance**"
   ]
  },
  {
   "cell_type": "markdown",
   "metadata": {
    "colab_type": "text",
    "id": "4Xb3dMnbKrKR"
   },
   "source": [
    "Начнем с Recursive Feature Elimination. RFE - это рекурсивный алгоритм, который на каждом цикле исключает наименее важные признаки для выбранной модели."
   ]
  },
  {
   "cell_type": "markdown",
   "metadata": {
    "colab_type": "text",
    "id": "Li0fOSgTKrot"
   },
   "source": [
    "Сократим количество признаков с 593 до 500."
   ]
  },
  {
   "cell_type": "code",
   "execution_count": 0,
   "metadata": {
    "colab": {
     "base_uri": "https://localhost:8080/",
     "height": 351
    },
    "colab_type": "code",
    "id": "u0fSK6SnKuAN",
    "outputId": "8a68b322-d491-42ca-c3f3-0133edbeb311"
   },
   "outputs": [
    {
     "name": "stdout",
     "output_type": "stream",
     "text": [
      "Fitting estimator with 593 features.\n",
      "Fitting estimator with 588 features.\n",
      "Fitting estimator with 583 features.\n",
      "Fitting estimator with 578 features.\n",
      "Fitting estimator with 573 features.\n",
      "Fitting estimator with 568 features.\n",
      "Fitting estimator with 563 features.\n",
      "Fitting estimator with 558 features.\n",
      "Fitting estimator with 553 features.\n",
      "Fitting estimator with 548 features.\n",
      "Fitting estimator with 543 features.\n",
      "Fitting estimator with 538 features.\n",
      "Fitting estimator with 533 features.\n",
      "Fitting estimator with 528 features.\n",
      "Fitting estimator with 523 features.\n",
      "Fitting estimator with 518 features.\n",
      "Fitting estimator with 513 features.\n",
      "Fitting estimator with 508 features.\n",
      "Fitting estimator with 503 features.\n",
      "(6528, 500)\n"
     ]
    }
   ],
   "source": [
    "rfe_selector = RFE(estimator=lr_model, n_features_to_select=500, step=5, verbose=5)\n",
    "rfe_selector.fit(X_train, y_train)\n",
    "rfe_support = rfe_selector.get_support()\n",
    "X_train = X_train[:,rfe_support]\n",
    "X_test = X_test[:,rfe_support]\n",
    "\n",
    "print(X_train.shape)"
   ]
  },
  {
   "cell_type": "markdown",
   "metadata": {
    "colab_type": "text",
    "id": "NSmSxpZWKvbG"
   },
   "source": [
    "Проверим модель на новом признаковом пространтстве."
   ]
  },
  {
   "cell_type": "code",
   "execution_count": 0,
   "metadata": {
    "colab": {
     "base_uri": "https://localhost:8080/",
     "height": 33
    },
    "colab_type": "code",
    "id": "TWA0b6qCKv9W",
    "outputId": "12324d85-a71f-4a9c-a56c-eaf972c9fbe8"
   },
   "outputs": [
    {
     "name": "stdout",
     "output_type": "stream",
     "text": [
      "MSE of model with Feature Impotance: -0.004723976222803974\n"
     ]
    }
   ],
   "source": [
    "lr = LinearRegression()\n",
    "lr_model = lr.fit(X_train,y_train)     \n",
    "\n",
    "mse = cross_val_score(lr_model, X_train, y_train, scoring ='neg_mean_squared_error', cv=3).mean()\n",
    "print('MSE of model with Feature Impotance:',mse)"
   ]
  },
  {
   "cell_type": "markdown",
   "metadata": {
    "colab_type": "text",
    "id": "S1f3RXajK0SM"
   },
   "source": [
    "Удалось немного уменьшить оишбку. Возможно, более простой алгоритм даст лучший результат. Попробуем отбирать признаки по корреляции."
   ]
  },
  {
   "cell_type": "code",
   "execution_count": 0,
   "metadata": {
    "colab": {},
    "colab_type": "code",
    "id": "bGuDRkH7K1oH"
   },
   "outputs": [],
   "source": [
    "df = data.copy()\n",
    "X_train, X_test, y_train, y_test = train_test_split(df,y,test_size=0.3, random_state=42)"
   ]
  },
  {
   "cell_type": "code",
   "execution_count": 0,
   "metadata": {
    "colab": {
     "base_uri": "https://localhost:8080/",
     "height": 33
    },
    "colab_type": "code",
    "id": "eAFQgu7PK240",
    "outputId": "be083107-3afe-4daf-9fdb-9bd255e892e0"
   },
   "outputs": [
    {
     "data": {
      "text/plain": [
       "(6528, 461)"
      ]
     },
     "execution_count": 233,
     "metadata": {
      "tags": []
     },
     "output_type": "execute_result"
    }
   ],
   "source": [
    "corr_matrix = X_train.corr().abs()\n",
    "\n",
    "# Select upper triangle of correlation matrix\n",
    "upper = corr_matrix.where(np.triu(np.ones(corr_matrix.shape), k=1).astype(np.bool))\n",
    "\n",
    "# Find index of feature columns with correlation greater than 0.95\n",
    "to_drop = [column for column in upper.columns if any(upper[column] > 0.995)]\n",
    "X_train = X_train.drop(to_drop, axis=1)\n",
    "X_test = X_test.drop(to_drop, axis=1)\n",
    "X_train.shape"
   ]
  },
  {
   "cell_type": "code",
   "execution_count": 0,
   "metadata": {
    "colab": {},
    "colab_type": "code",
    "id": "pqfKdFu7K4eq"
   },
   "outputs": [],
   "source": [
    "scaler = StandardScaler() \n",
    "X_train = scaler.fit_transform(X_train)\n",
    "X_test = scaler.fit_transform(X_test)"
   ]
  },
  {
   "cell_type": "code",
   "execution_count": 0,
   "metadata": {
    "colab": {
     "base_uri": "https://localhost:8080/",
     "height": 33
    },
    "colab_type": "code",
    "id": "wf12aHiZK5gS",
    "outputId": "06a3e98e-ea40-4c7f-f588-8bdaa4be69f7"
   },
   "outputs": [
    {
     "name": "stdout",
     "output_type": "stream",
     "text": [
      "MSE of model with Feature Impotance: -0.004897436331369485\n"
     ]
    }
   ],
   "source": [
    "lr = LinearRegression()\n",
    "lr_model = lr.fit(X_train,y_train)     \n",
    "\n",
    "mse = cross_val_score(lr_model, X_train, y_train, scoring ='neg_mean_squared_error', cv=3).mean()\n",
    "print('MSE of model with Feature Impotance:',mse)"
   ]
  },
  {
   "cell_type": "markdown",
   "metadata": {
    "colab_type": "text",
    "id": "YylWW9WOK69R"
   },
   "source": [
    "Ошибка увеличивается при любых параметрах значимости корреляции. Данный метод не помогает улучшить результат."
   ]
  },
  {
   "cell_type": "markdown",
   "metadata": {
    "colab_type": "text",
    "id": "BOGn8xgxK8Ik"
   },
   "source": [
    "Напоследок попробуем SelectFromModel из sklearn.feature_selection. Суть та же, что и у RFE, однако тут удаление происходит не на каждой итерации, а, просто, удаляются наименее важные признаки на основе заданного порога."
   ]
  },
  {
   "cell_type": "code",
   "execution_count": 0,
   "metadata": {
    "colab": {},
    "colab_type": "code",
    "id": "DTKUmfQGK9Q9"
   },
   "outputs": [],
   "source": [
    "df = data.copy()\n",
    "X_train, X_test, y_train, y_test = train_test_split(df,y,test_size=0.3, random_state=42)"
   ]
  },
  {
   "cell_type": "code",
   "execution_count": 0,
   "metadata": {
    "colab": {},
    "colab_type": "code",
    "id": "Z1QXJNclK-WR"
   },
   "outputs": [],
   "source": [
    "LinearRegression_selector = SelectFromModel(LinearRegression(), threshold='0.01*median')\n",
    "LinearRegression_selector.fit(X_train, y_train)\n",
    "\n",
    "LinearRegression_support = LinearRegression_selector.get_support()\n",
    "LinearRegression_feature = X_train.loc[:,LinearRegression_support].columns.tolist()\n",
    "\n",
    "X_train = X_train[LinearRegression_feature]\n",
    "X_test = X_test[LinearRegression_feature]"
   ]
  },
  {
   "cell_type": "code",
   "execution_count": 0,
   "metadata": {
    "colab": {
     "base_uri": "https://localhost:8080/",
     "height": 33
    },
    "colab_type": "code",
    "id": "Ok0maW28K_WA",
    "outputId": "896ca4d2-fc0f-443e-feb7-79f922ed171e"
   },
   "outputs": [
    {
     "name": "stdout",
     "output_type": "stream",
     "text": [
      "MSE of model with Feature Impotance: -0.004810583910821335 ; Размер новой выборки = (6528, 560)\n"
     ]
    }
   ],
   "source": [
    "lr = LinearRegression()\n",
    "lr_model = lr.fit(X_train,y_train)     \n",
    "\n",
    "mse = cross_val_score(lr_model, X_train, y_train, scoring ='neg_mean_squared_error', cv=3).mean()\n",
    "print('MSE of model with Feature Impotance:',mse,'; Размер новой выборки =',X_train.shape)"
   ]
  },
  {
   "cell_type": "markdown",
   "metadata": {
    "colab_type": "text",
    "id": "GQPcdiNMLDDh"
   },
   "source": [
    "SelectFromModel не помог уменьшить ошибку при порогах 0.01median, 0.05median, 0.1median"
   ]
  },
  {
   "cell_type": "markdown",
   "metadata": {
    "colab_type": "text",
    "id": "m0c1FTY_LDh_"
   },
   "source": [
    "Теперь попробуем использовать более продвинутые методы, например, LGB."
   ]
  },
  {
   "cell_type": "code",
   "execution_count": 0,
   "metadata": {
    "colab": {},
    "colab_type": "code",
    "id": "W9Q3wSwxLEvF"
   },
   "outputs": [],
   "source": [
    "model = lgb.LGBMRegressor()"
   ]
  },
  {
   "cell_type": "code",
   "execution_count": 0,
   "metadata": {
    "colab": {},
    "colab_type": "code",
    "id": "huh4C8UeLFke"
   },
   "outputs": [],
   "source": [
    "lgb_model = model.fit(X_train,y_train)    "
   ]
  },
  {
   "cell_type": "code",
   "execution_count": 0,
   "metadata": {
    "colab": {
     "base_uri": "https://localhost:8080/",
     "height": 33
    },
    "colab_type": "code",
    "id": "UN6bh9WDLGhr",
    "outputId": "70d7f1c1-7479-4cd6-ef03-8e78d96dab15"
   },
   "outputs": [
    {
     "name": "stdout",
     "output_type": "stream",
     "text": [
      "MSE of LGB model: -0.0021436716513183714\n"
     ]
    }
   ],
   "source": [
    "mse = cross_val_score(lgb_model, X_train, y_train, scoring ='neg_mean_squared_error', cv=3).mean()     \n",
    "print('MSE of LGB model:',mse)  "
   ]
  },
  {
   "cell_type": "markdown",
   "metadata": {
    "colab_type": "text",
    "id": "RIijNG8iLNs1"
   },
   "source": [
    "MSE снизилась более чем в 2 раза. LGB справляется с данной задачей заметно лучше линейной регресии."
   ]
  },
  {
   "cell_type": "markdown",
   "metadata": {
    "colab_type": "text",
    "id": "dLuTDKcRLOIX"
   },
   "source": [
    "Теперь попробуем настроить гиперпараметры с помощью Hyperopt, используя Tree of Parzen Estimators. Это алгоритм поиска в пространстве гиперпараметров с помощью оценки Парзена с древовидной структурой."
   ]
  },
  {
   "cell_type": "code",
   "execution_count": 0,
   "metadata": {
    "colab": {},
    "colab_type": "code",
    "id": "E2K7aKxMLPGu"
   },
   "outputs": [],
   "source": [
    "hp_space ={     'num_leaves' : 31,\n",
    "                'max_depth': -1,\n",
    "                'min_child_samples': 1 + hp.randint('min_child_samples', 40),\n",
    "                'subsample_for_bin': 200000,\n",
    "                'n_estimators': 1500,\n",
    "                'min_split_gain' : hp.quniform('min_split_gain', 0, 0.1, 0.0001),\n",
    "                'lambda_l1' : 0,\n",
    "                'lambda_l2' : 0,\n",
    "                'learning_rate' : hp.quniform('learning_rate', 0.001, 0.1, 0.001),\n",
    "                'metric' :  'RMSE',\n",
    "                'silent' : True,\n",
    "                'importance_type' : 'split',\n",
    "                'boosting_type' : 'gbdt',\n",
    "                'subsample_freq' : 0 + hp.randint('subsample_freq',10),\n",
    "                'colsample_bytree' : hp.quniform('colsample_bytree', 0.1, 1, 0.001),\n",
    "                'min_child_weight' : hp.quniform('min_child_weight', 0.001, 0.01, 0.001),\n",
    "                'bagging_fraction ' : hp.quniform('bagging_fraction ', 0.0001, 1, 0.001)\n",
    "            }\n",
    "def hyperopt_lgb_score(params):\n",
    "    lgbr = lgb.LGBMRegressor(**params)\n",
    "    current_score = cross_val_score(lgbr, X_train, y_train,scoring='neg_mean_squared_error', cv=3).mean()\n",
    "    print(-current_score, params)\n",
    "    return -current_score"
   ]
  },
  {
   "cell_type": "code",
   "execution_count": 0,
   "metadata": {
    "colab": {},
    "colab_type": "code",
    "id": "oeXNy7YXttSw"
   },
   "outputs": [],
   "source": [
    "#best = fmin(fn=hyperopt_lgb_score, space=hp_space, algo=tpe.suggest, max_evals=10000,verbose=-1)"
   ]
  },
  {
   "cell_type": "markdown",
   "metadata": {
    "colab_type": "text",
    "id": "fIovBZS2LRXX"
   },
   "source": [
    "Т.к. алгоритм занимает длительное время, я сразу написал найденные алгоритмом гиперпараметры."
   ]
  },
  {
   "cell_type": "code",
   "execution_count": 0,
   "metadata": {
    "colab": {},
    "colab_type": "code",
    "id": "yDazucCrLRwU"
   },
   "outputs": [],
   "source": [
    "best = {\n",
    "        'bagging_fraction ': 0.838,\n",
    "        'colsample_bytree': 0.998,\n",
    "        'n_estimators' : 150,\n",
    "        'learning_rate': 0.07200000000000001,\n",
    "        'min_child_samples': 3,\n",
    "        'min_child_weight': 0.007,\n",
    "        'min_split_gain': 0.0,\n",
    "        'subsample_freq': 7\n",
    "        }"
   ]
  },
  {
   "cell_type": "code",
   "execution_count": 0,
   "metadata": {
    "colab": {
     "base_uri": "https://localhost:8080/",
     "height": 33
    },
    "colab_type": "code",
    "id": "-EQQ-KuBLVz-",
    "outputId": "40d75994-4ea2-495c-adca-a8128d43a92c"
   },
   "outputs": [
    {
     "name": "stdout",
     "output_type": "stream",
     "text": [
      "MSE of lGB model with hyperparameters tuning: -0.00213448245931152\n"
     ]
    }
   ],
   "source": [
    "model = lgb.LGBMRegressor(**best)\n",
    "lgb_model = model.fit(X_train,y_train)    \n",
    "mse = cross_val_score(model, X_train, y_train,scoring ='neg_mean_squared_error', cv=3).mean()\n",
    "print('MSE of lGB model with hyperparameters tuning:', mse)"
   ]
  },
  {
   "cell_type": "markdown",
   "metadata": {
    "colab_type": "text",
    "id": "aWk22cGrLXTl"
   },
   "source": [
    "С помощью Hyperopt нам удалось еще немного улучшить score."
   ]
  },
  {
   "cell_type": "markdown",
   "metadata": {
    "colab_type": "text",
    "id": "RK9FsHJsLYh1"
   },
   "source": [
    "Добавим RFE к LGB."
   ]
  },
  {
   "cell_type": "code",
   "execution_count": 0,
   "metadata": {
    "colab": {
     "base_uri": "https://localhost:8080/",
     "height": 351
    },
    "colab_type": "code",
    "id": "DCyOk0X9LY99",
    "outputId": "448e091c-ed87-4cfa-84cd-db92aebb5bb5"
   },
   "outputs": [
    {
     "name": "stdout",
     "output_type": "stream",
     "text": [
      "Fitting estimator with 593 features.\n",
      "Fitting estimator with 588 features.\n",
      "Fitting estimator with 583 features.\n",
      "Fitting estimator with 578 features.\n",
      "Fitting estimator with 573 features.\n",
      "Fitting estimator with 568 features.\n",
      "Fitting estimator with 563 features.\n",
      "Fitting estimator with 558 features.\n",
      "Fitting estimator with 553 features.\n",
      "Fitting estimator with 548 features.\n",
      "Fitting estimator with 543 features.\n",
      "Fitting estimator with 538 features.\n",
      "Fitting estimator with 533 features.\n",
      "Fitting estimator with 528 features.\n",
      "Fitting estimator with 523 features.\n",
      "Fitting estimator with 518 features.\n",
      "Fitting estimator with 513 features.\n",
      "Fitting estimator with 508 features.\n",
      "Fitting estimator with 503 features.\n",
      "(6528, 500)\n"
     ]
    }
   ],
   "source": [
    "df = data.copy()\n",
    "scaler = StandardScaler() \n",
    "df = scaler.fit_transform(df)\n",
    "X_train, X_test, y_train, y_test = train_test_split(df,y,test_size=0.3, random_state=42)\n",
    "\n",
    "rfe_selector = RFE(estimator=lgb_model, n_features_to_select=500, step=5, verbose=5)\n",
    "rfe_selector.fit(X_train, y_train)\n",
    "rfe_support = rfe_selector.get_support()\n",
    "X_train = X_train[:,rfe_support]\n",
    "X_test = X_test[:,rfe_support]\n",
    "\n",
    "print(X_train.shape)"
   ]
  },
  {
   "cell_type": "code",
   "execution_count": 0,
   "metadata": {
    "colab": {
     "base_uri": "https://localhost:8080/",
     "height": 33
    },
    "colab_type": "code",
    "id": "sY6KDIdkLbRo",
    "outputId": "2abfaef4-89b9-48e5-be1b-3bfa69078c88"
   },
   "outputs": [
    {
     "name": "stdout",
     "output_type": "stream",
     "text": [
      "MSE of lGB model with hyperparameters tuning: -0.0019090320556405822\n"
     ]
    }
   ],
   "source": [
    "model = lgb.LGBMRegressor(**best)\n",
    "lgb_model = model.fit(X_train,y_train)    \n",
    "mse = cross_val_score(model, X_train, y_train,scoring ='neg_mean_squared_error', cv=3).mean()\n",
    "print('MSE of lGB model with hyperparameters tuning:', mse)"
   ]
  },
  {
   "cell_type": "markdown",
   "metadata": {
    "colab_type": "text",
    "id": "2n2ulMrpLdBE"
   },
   "source": [
    "Посмотрим на коэффициент детерминации, то есть на долю объясняемой дисперсии."
   ]
  },
  {
   "cell_type": "code",
   "execution_count": 0,
   "metadata": {
    "colab": {
     "base_uri": "https://localhost:8080/"
    },
    "colab_type": "code",
    "id": "9dWlPLRMLeZQ",
    "outputId": "b43f21a4-195c-4847-e700-4cfdf85d050d"
   },
   "outputs": [
    {
     "name": "stdout",
     "output_type": "stream",
     "text": [
      "Коэффициент детерминации = 0.9984545541624651\n"
     ]
    }
   ],
   "source": [
    "print(\"Коэффициент детерминации =\", cross_val_score(lgb_model, X_train, y_train,scoring ='r2', cv=3).mean())"
   ]
  },
  {
   "cell_type": "markdown",
   "metadata": {
    "colab_type": "text",
    "id": "nR3AZfqzLf0g"
   },
   "source": [
    "Наша модель объясняет 99.8% диспресии прогнозируемой переменной - это очень хорошо."
   ]
  },
  {
   "cell_type": "markdown",
   "metadata": {
    "colab_type": "text",
    "id": "9m8r3B8OLg5B"
   },
   "source": [
    "Посмотрим на Residuals Plot. Данный график показывает разницу между остатками на вертикальной оси и зависимой переменной на горизонтальной оси. Тем самым можно увидить области, в которых ошибка ведет себе непредсказуемым образом."
   ]
  },
  {
   "cell_type": "code",
   "execution_count": 0,
   "metadata": {
    "colab": {
     "base_uri": "https://localhost:8080/",
     "height": 376
    },
    "colab_type": "code",
    "id": "nlHaNCBRLiUa",
    "outputId": "79ef9cf4-9a81-4d96-dc79-20a83f20fccc"
   },
   "outputs": [
    {
     "data": {
      "image/png": "[encoded data removed]",
      "text/plain": [
       "<Figure size 576x396 with 2 Axes>"
      ]
     },
     "metadata": {
      "tags": []
     },
     "output_type": "display_data"
    }
   ],
   "source": [
    "# Instantiate the linear model and visualizer # Insta \n",
    "visualizer = ResidualsPlot(lgb_model)\n",
    "\n",
    "visualizer.fit(X_train, y_train)  # Fit the training data to the visualizer\n",
    "visualizer.score(X_test, y_test)  # Evaluate the model on the test data \n",
    "g = visualizer.poof()             # Draw/show/poof the data"
   ]
  },
  {
   "cell_type": "markdown",
   "metadata": {
    "colab_type": "text",
    "id": "DjZXDW0wLrYg"
   },
   "source": [
    "Мы видим, что большинство остатков лежит около горизонтальной оси 0, это означает что разница между наблюдаемым и действительным значением у модели LGB - отсутсвует или минимальна."
   ]
  },
  {
   "cell_type": "markdown",
   "metadata": {
    "colab_type": "text",
    "id": "TiVA-xR4Lr68"
   },
   "source": [
    "Отобразим фактические цели относительно прогнозируемых, сгенерированных моделью. Тем самым мы можем посмотреть на дисперсию модели и оценить шумы и гетероскедастичность модели. Линия под углом 45 градусов показывает прогноз в точности соответствующий модели."
   ]
  },
  {
   "cell_type": "code",
   "execution_count": 0,
   "metadata": {
    "colab": {
     "base_uri": "https://localhost:8080/"
    },
    "colab_type": "code",
    "id": "vpSC9uyZLtz4",
    "outputId": "c9f223fb-151c-40cc-f63c-ad919829235e"
   },
   "outputs": [
    {
     "data": {
      "image/png": "[encoded data removed]",
      "text/plain": [
       "<Figure size 576x396 with 1 Axes>"
      ]
     },
     "metadata": {
      "tags": []
     },
     "output_type": "display_data"
    }
   ],
   "source": [
    "# Instantiate the linear model and visualizer\n",
    "visualizer = PredictionError(lgb_model, point_color='blue', line_color='red', alpha=0.3)\n",
    "\n",
    "visualizer.fit(X_train, y_train)  # Fit the training data to the visualizer\n",
    "visualizer.score(X_test, y_test)  # Evaluate the model on the test data \n",
    "g = visualizer.poof()             # Draw/show/poof the data"
   ]
  },
  {
   "cell_type": "markdown",
   "metadata": {
    "colab_type": "text",
    "id": "2hgqg6fXLvP0"
   },
   "source": [
    "Мы видим, что прогнозы имеют небольшой остаток равномерно распределенный вдоль линии. Но в целом остаточный анализ говорит, что нет причин не доверять модели."
   ]
  },
  {
   "cell_type": "markdown",
   "metadata": {
    "colab_type": "text",
    "id": "lJVnPrdnLwUV"
   },
   "source": [
    "Сделаем остаточный анализ для линейной регресии с помощью statsmodels.api."
   ]
  },
  {
   "cell_type": "code",
   "execution_count": 0,
   "metadata": {
    "colab": {},
    "colab_type": "code",
    "id": "Bc8HGjB0LxTt"
   },
   "outputs": [],
   "source": [
    "model = sm.OLS(X_train,y_train)\n",
    "\n",
    "X_train = sm.add_constant(X_train)\n",
    "model = sm.OLS(y_train,X_train)\n",
    "\n",
    "results = model.fit()"
   ]
  },
  {
   "cell_type": "code",
   "execution_count": 0,
   "metadata": {
    "colab": {
     "base_uri": "https://localhost:8080/"
    },
    "colab_type": "code",
    "id": "cei4kSATLy3K",
    "outputId": "06584143-4480-4df2-a586-0d06dab7fc83"
   },
   "outputs": [
    {
     "name": "stderr",
     "output_type": "stream",
     "text": [
      "/usr/local/lib/python3.6/dist-packages/statsmodels/base/model.py:1752: ValueWarning: covariance of constraints does not have full rank. The number of constraints is 501, but rank is 379\n",
      "  'rank is %d' % (J, J_), ValueWarning)\n"
     ]
    },
    {
     "data": {
      "text/plain": [
       "<class 'statsmodels.stats.contrast.ContrastResults'>\n",
       "<F test: F=array([[39687.46663763]]), p=0.0, df_denom=6.15e+03, df_num=379>"
      ]
     },
     "execution_count": 251,
     "metadata": {
      "tags": []
     },
     "output_type": "execute_result"
    }
   ],
   "source": [
    "results.f_test(np.identity(501))"
   ]
  },
  {
   "cell_type": "code",
   "execution_count": 0,
   "metadata": {
    "colab": {
     "base_uri": "https://localhost:8080/",
     "height": 357
    },
    "colab_type": "code",
    "id": "MaBtwFLwL0Hj",
    "outputId": "f1363444-1f24-434c-ac81-89255ab84f50"
   },
   "outputs": [
    {
     "data": {
      "image/png": "[encoded data removed]",
      "text/plain": [
       "<Figure size 576x360 with 1 Axes>"
      ]
     },
     "metadata": {
      "tags": []
     },
     "output_type": "display_data"
    }
   ],
   "source": [
    "plt.figure(figsize=(8,5))\n",
    "p=plt.scatter(x=results.fittedvalues,y=results.resid,edgecolor='k')\n",
    "xmin=min(results.fittedvalues)\n",
    "xmax = max(results.fittedvalues)\n",
    "plt.hlines(y=0,xmin=xmin*0.9,xmax=xmax*1.1,color='red',linestyle='--',lw=3)\n",
    "plt.xlabel(\"Fitted values\",fontsize=15)\n",
    "plt.ylabel(\"Residuals\",fontsize=15)\n",
    "plt.title(\"Fitted vs. residuals plot\",fontsize=18)\n",
    "plt.grid(True)\n",
    "plt.show()"
   ]
  },
  {
   "cell_type": "markdown",
   "metadata": {
    "colab_type": "text",
    "id": "0K9GajEcL1cu"
   },
   "source": [
    "Мы видим вертикальное скопление точек, что означает, что имеется нарушение гомоскедастичности модели, что может повлечь за собой недостоверные результаты."
   ]
  },
  {
   "cell_type": "code",
   "execution_count": 0,
   "metadata": {
    "colab": {
     "base_uri": "https://localhost:8080/",
     "height": 357
    },
    "colab_type": "code",
    "id": "3h41AXaxL2hv",
    "outputId": "fe602b27-11ca-4893-dc14-738c2b6632cc"
   },
   "outputs": [
    {
     "data": {
      "image/png": "[encoded data removed]",
      "text/plain": [
       "<Figure size 576x360 with 1 Axes>"
      ]
     },
     "metadata": {
      "tags": []
     },
     "output_type": "display_data"
    }
   ],
   "source": [
    "plt.figure(figsize=(8,5))\n",
    "plt.hist(results.resid_pearson,bins=20,edgecolor='k')\n",
    "plt.ylabel('Count',fontsize=15)\n",
    "plt.xlabel('Normalized residuals',fontsize=15)\n",
    "plt.title('Histogram of normalized residuals',fontsize=18)\n",
    "plt.show()"
   ]
  },
  {
   "cell_type": "markdown",
   "metadata": {
    "colab_type": "text",
    "id": "JubHE0wtL3tR"
   },
   "source": [
    "Остатки линейной модели не выглядят нормально распределенными. Построим QQ-график, чтобы убедиться в этом."
   ]
  },
  {
   "cell_type": "code",
   "execution_count": 0,
   "metadata": {
    "colab": {
     "base_uri": "https://localhost:8080/",
     "height": 402
    },
    "colab_type": "code",
    "id": "z5KVLP5SL5dU",
    "outputId": "4efced51-09ee-4c53-8cfd-30d247d0979d"
   },
   "outputs": [
    {
     "data": {
      "text/plain": [
       "<Figure size 576x360 with 0 Axes>"
      ]
     },
     "metadata": {
      "tags": []
     },
     "output_type": "display_data"
    },
    {
     "data": {
      "image/png": "[encoded data removed]",
      "text/plain": [
       "<Figure size 576x396 with 1 Axes>"
      ]
     },
     "metadata": {
      "tags": []
     },
     "output_type": "display_data"
    }
   ],
   "source": [
    "from statsmodels.graphics.gofplots import qqplot\n",
    "plt.figure(figsize=(8,5))\n",
    "fig=qqplot(results.resid_pearson,line='45',fit='True')\n",
    "plt.xticks(fontsize=13)\n",
    "plt.yticks(fontsize=13)\n",
    "plt.xlabel(\"Theoretical quantiles\",fontsize=15)\n",
    "plt.ylabel(\"Sample quantiles\",fontsize=15)\n",
    "plt.title(\"Q-Q plot of normalized residuals\",fontsize=18)\n",
    "plt.grid(True)\n",
    "plt.show()"
   ]
  },
  {
   "cell_type": "markdown",
   "metadata": {
    "colab_type": "text",
    "id": "r5VsfJhUL6wD"
   },
   "source": [
    "Распределение остатков не является нормальным, что ставит под сомнение результаты линейной модели."
   ]
  }
 ],
 "metadata": {
  "colab": {
   "collapsed_sections": [],
   "name": "RegressionHW.ipynb",
   "provenance": [],
   "version": "0.3.2"
  },
  "kernelspec": {
   "display_name": "Python 3",
   "language": "python",
   "name": "python3"
  },
  "language_info": {
   "codemirror_mode": {
    "name": "ipython",
    "version": 3
   },
   "file_extension": ".py",
   "mimetype": "text/x-python",
   "name": "python",
   "nbconvert_exporter": "python",
   "pygments_lexer": "ipython3",
   "version": "3.5.5"
  }
 },
 "nbformat": 4,
 "nbformat_minor": 1
}
