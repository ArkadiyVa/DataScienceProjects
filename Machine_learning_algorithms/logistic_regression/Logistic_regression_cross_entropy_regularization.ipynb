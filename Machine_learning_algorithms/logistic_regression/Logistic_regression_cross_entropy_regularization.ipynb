{
 "cells": [
  {
   "cell_type": "code",
   "execution_count": 1,
   "metadata": {},
   "outputs": [],
   "source": [
    "from sklearn.metrics import accuracy_score\n",
    "import matplotlib.pyplot as plt\n",
    "from sklearn import datasets\n",
    "import seaborn as sns\n",
    "import pandas as pd\n",
    "import numpy as np"
   ]
  },
  {
   "cell_type": "markdown",
   "metadata": {},
   "source": [
    "<font size=\"4\">Cross-Entropy loss:</font>\n",
    "\n",
    "<font size=\"3\"> $ L(\\theta) = -\\frac{1}{m}\\sum_{i=1}^{m}(y_{i}log(h_{\\theta }(x_{i}))+(1-y_{i})log(1-h_{\\theta }(x_{i})))+\\frac{\\lambda }{2m}\\sum_{j=1}^{m}\\theta_{j}^{2} $</font>\n",
    "\n",
    "<font size=\"3\"> Where: \n",
    "    \n",
    "$ \\lambda $ - is the regularization factor\n",
    "    \n",
    "</font> $\\frac{\\lambda }{2m}\\sum_{j=1}^{m}\\theta_{2}^{j}$ - is the regularization term\n",
    "\n",
    "<font size=\"4\">Derivative of Cross-Entropy loss:</font>\n",
    "\n",
    "<font size=\"3\"> $\\frac{\\partial}{\\partial \\theta_{i}} J(\\theta) = \\frac{\\partial}{\\partial \\theta_{i}}[-\\frac{1}{m}\\sum_{i=1}^{m}(y_{i}log(h_{\\theta }(x_{i}))+(1-y_{i})log(1-h_{\\theta }(x_{i})))+\\frac{\\lambda }{2m}\\sum_{j=1}^{m}\\theta_{j}^{2}] = \\frac{1}{m}\\sum_{i=1}^{m}(h_{\\theta}(x_{i})-y_{i})x_{ij}+\\frac{\\lambda }{m}\\theta_{j}$</font>"
   ]
  },
  {
   "cell_type": "code",
   "execution_count": 2,
   "metadata": {},
   "outputs": [],
   "source": [
    "def add_intercept(X):\n",
    "    intercept = np.ones((X.shape[0], 1))\n",
    "    return np.concatenate((intercept, X), axis=1)"
   ]
  },
  {
   "cell_type": "code",
   "execution_count": 3,
   "metadata": {},
   "outputs": [],
   "source": [
    "iris = datasets.load_iris()\n",
    "\n",
    "iris_data = pd.DataFrame(data = iris.data[:,0:2], columns = [\"Sepal Length (cm)\", \"Sepal Width (cm)\"])\n",
    "iris_target = pd.DataFrame(data = (iris.target != 0) * 1, columns = [\"Target\"])\n",
    "iris_df = pd.concat([iris_data, iris_target], axis = 1)"
   ]
  },
  {
   "cell_type": "code",
   "execution_count": 4,
   "metadata": {},
   "outputs": [
    {
     "name": "stdout",
     "output_type": "stream",
     "text": [
      "Training set size : 112\n",
      "Testing set size : 37\n"
     ]
    }
   ],
   "source": [
    "#training and testing set size\n",
    "train_size=int(0.75*iris_df.shape[0])\n",
    "test_size=int(0.25*iris_df.shape[0])\n",
    "\n",
    "print(\"Training set size : \"+ str(train_size))\n",
    "print(\"Testing set size : \"+str(test_size))\n",
    "\n",
    "#Getting features from dataset\n",
    "Data=iris_df.sample(frac=1)\n",
    "X=Data.iloc[:,[0, 1]].values\n",
    "y=Data.iloc[:,2].values\n",
    "\n",
    "#add intercept\n",
    "X = add_intercept(X)\n",
    "#training set split\n",
    "X_train=X[0:train_size,:]\n",
    "y_train=y[0:train_size]\n",
    "\n",
    "#testing set split\n",
    "X_test=X[train_size:,:]\n",
    "y_test=y[train_size:]"
   ]
  },
  {
   "cell_type": "code",
   "execution_count": 5,
   "metadata": {},
   "outputs": [],
   "source": [
    "class LogisticRegression_l2:\n",
    "    \n",
    "    def __init__(self, _lambda=0.001, lr=0.01, num_iter=10000, w0=0.5, verbose=True):\n",
    "        self.lr = lr\n",
    "        self.num_iter = num_iter\n",
    "        self.verbose = verbose\n",
    "        self._lambda = _lambda\n",
    "        self.w0 = w0\n",
    "    \n",
    "    def sigmoid(self, z):\n",
    "        return 1 / (1 + np.exp(-z))\n",
    "    \n",
    "    def prediction(self, w, Data):\n",
    "        pred = []\n",
    "        z = np.dot(Data,w)\n",
    "        a = self.sigmoid(z)\n",
    "        \n",
    "        for i in range(0,len(a)):\n",
    "            if (a[i] > self.w0): \n",
    "                pred.append(1)\n",
    "            elif (a[i] <= self.w0):\n",
    "                pred.append(0)\n",
    "        return pred\n",
    "\n",
    "    def cost(self, h, y):\n",
    "        return (-y * np.log(h) - (1 - y) * np.log(1 - h)).mean() + self._lambda/(2 * y.shape[0]) * sum(self.theta ** 2)\n",
    "\n",
    "    def fit(self, X, y):\n",
    "        self.theta = np.zeros(X.shape[1])\n",
    "        \n",
    "        for i in range(self.num_iter):\n",
    "            z = np.dot(X, self.theta)\n",
    "            h = self.sigmoid(z)\n",
    "            gradient = (1/y.shape[0]) * (np.dot(X.T, (h - y)) + self._lambda * self.theta)\n",
    "            self.theta -= self.lr * gradient\n",
    "            \n",
    "            if (self.verbose) and (i % 100) == 0:\n",
    "                loss = self.cost(h, y)\n",
    "                y_pred = self.prediction(self.theta, X)\n",
    "                print('loss =',round(loss,3),' Training Accuracy',round(accuracy_score(y, y_pred)*100,1))\n",
    "                \n",
    "    def get_theha(self):\n",
    "        return self.theta"
   ]
  },
  {
   "cell_type": "code",
   "execution_count": 6,
   "metadata": {},
   "outputs": [
    {
     "name": "stdout",
     "output_type": "stream",
     "text": [
      "loss = 0.693  Training Accuracy 68.8\n",
      "loss = 0.551  Training Accuracy 68.8\n",
      "loss = 0.508  Training Accuracy 68.8\n",
      "loss = 0.471  Training Accuracy 68.8\n",
      "loss = 0.439  Training Accuracy 71.4\n",
      "loss = 0.411  Training Accuracy 75.9\n",
      "loss = 0.386  Training Accuracy 83.0\n",
      "loss = 0.365  Training Accuracy 87.5\n",
      "loss = 0.345  Training Accuracy 91.1\n",
      "loss = 0.328  Training Accuracy 91.1\n",
      "loss = 0.313  Training Accuracy 92.9\n",
      "loss = 0.299  Training Accuracy 93.8\n",
      "loss = 0.286  Training Accuracy 95.5\n",
      "loss = 0.275  Training Accuracy 97.3\n",
      "loss = 0.264  Training Accuracy 98.2\n",
      "loss = 0.255  Training Accuracy 98.2\n",
      "loss = 0.246  Training Accuracy 98.2\n",
      "loss = 0.238  Training Accuracy 98.2\n",
      "loss = 0.231  Training Accuracy 99.1\n",
      "loss = 0.224  Training Accuracy 99.1\n",
      "loss = 0.218  Training Accuracy 99.1\n",
      "loss = 0.212  Training Accuracy 99.1\n",
      "loss = 0.206  Training Accuracy 99.1\n",
      "loss = 0.201  Training Accuracy 99.1\n",
      "loss = 0.196  Training Accuracy 99.1\n",
      "loss = 0.192  Training Accuracy 99.1\n",
      "loss = 0.187  Training Accuracy 99.1\n",
      "loss = 0.183  Training Accuracy 99.1\n",
      "loss = 0.18  Training Accuracy 99.1\n",
      "loss = 0.176  Training Accuracy 99.1\n",
      "loss = 0.173  Training Accuracy 99.1\n",
      "loss = 0.169  Training Accuracy 99.1\n",
      "loss = 0.166  Training Accuracy 99.1\n",
      "loss = 0.163  Training Accuracy 99.1\n",
      "loss = 0.161  Training Accuracy 99.1\n",
      "loss = 0.158  Training Accuracy 99.1\n",
      "loss = 0.155  Training Accuracy 99.1\n",
      "loss = 0.153  Training Accuracy 99.1\n",
      "loss = 0.151  Training Accuracy 99.1\n",
      "loss = 0.148  Training Accuracy 99.1\n",
      "loss = 0.146  Training Accuracy 99.1\n",
      "loss = 0.144  Training Accuracy 99.1\n",
      "loss = 0.142  Training Accuracy 99.1\n",
      "loss = 0.14  Training Accuracy 99.1\n",
      "loss = 0.138  Training Accuracy 99.1\n",
      "loss = 0.137  Training Accuracy 99.1\n",
      "loss = 0.135  Training Accuracy 99.1\n",
      "loss = 0.133  Training Accuracy 99.1\n",
      "loss = 0.132  Training Accuracy 99.1\n",
      "loss = 0.13  Training Accuracy 99.1\n",
      "loss = 0.129  Training Accuracy 99.1\n",
      "loss = 0.127  Training Accuracy 99.1\n",
      "loss = 0.126  Training Accuracy 99.1\n",
      "loss = 0.125  Training Accuracy 99.1\n",
      "loss = 0.123  Training Accuracy 99.1\n",
      "loss = 0.122  Training Accuracy 99.1\n",
      "loss = 0.121  Training Accuracy 99.1\n",
      "loss = 0.12  Training Accuracy 99.1\n",
      "loss = 0.119  Training Accuracy 99.1\n",
      "loss = 0.117  Training Accuracy 99.1\n",
      "loss = 0.116  Training Accuracy 99.1\n",
      "loss = 0.115  Training Accuracy 99.1\n",
      "loss = 0.114  Training Accuracy 99.1\n",
      "loss = 0.113  Training Accuracy 99.1\n",
      "loss = 0.112  Training Accuracy 99.1\n",
      "loss = 0.111  Training Accuracy 99.1\n",
      "loss = 0.111  Training Accuracy 99.1\n",
      "loss = 0.11  Training Accuracy 99.1\n",
      "loss = 0.109  Training Accuracy 99.1\n",
      "loss = 0.108  Training Accuracy 99.1\n",
      "loss = 0.107  Training Accuracy 99.1\n",
      "loss = 0.106  Training Accuracy 99.1\n",
      "loss = 0.105  Training Accuracy 99.1\n",
      "loss = 0.105  Training Accuracy 99.1\n",
      "loss = 0.104  Training Accuracy 99.1\n",
      "loss = 0.103  Training Accuracy 99.1\n",
      "loss = 0.102  Training Accuracy 99.1\n",
      "loss = 0.102  Training Accuracy 99.1\n",
      "loss = 0.101  Training Accuracy 99.1\n",
      "loss = 0.1  Training Accuracy 99.1\n",
      "loss = 0.1  Training Accuracy 99.1\n",
      "loss = 0.099  Training Accuracy 99.1\n",
      "loss = 0.099  Training Accuracy 99.1\n",
      "loss = 0.098  Training Accuracy 99.1\n",
      "loss = 0.097  Training Accuracy 99.1\n",
      "loss = 0.097  Training Accuracy 99.1\n",
      "loss = 0.096  Training Accuracy 99.1\n",
      "loss = 0.096  Training Accuracy 99.1\n",
      "loss = 0.095  Training Accuracy 99.1\n",
      "loss = 0.094  Training Accuracy 99.1\n",
      "loss = 0.094  Training Accuracy 99.1\n",
      "loss = 0.093  Training Accuracy 99.1\n",
      "loss = 0.093  Training Accuracy 99.1\n",
      "loss = 0.092  Training Accuracy 99.1\n",
      "loss = 0.092  Training Accuracy 99.1\n",
      "loss = 0.091  Training Accuracy 99.1\n",
      "loss = 0.091  Training Accuracy 99.1\n",
      "loss = 0.09  Training Accuracy 99.1\n",
      "loss = 0.09  Training Accuracy 99.1\n",
      "loss = 0.09  Training Accuracy 99.1\n"
     ]
    }
   ],
   "source": [
    "logreg = LogisticRegression_l2()\n",
    "logreg.fit(X_train,y_train)"
   ]
  },
  {
   "cell_type": "code",
   "execution_count": 7,
   "metadata": {},
   "outputs": [
    {
     "data": {
      "image/png": "[encoded data removed]",
      "text/plain": [
       "<Figure size 402.375x360 with 1 Axes>"
      ]
     },
     "metadata": {},
     "output_type": "display_data"
    },
    {
     "name": "stdout",
     "output_type": "stream",
     "text": [
      "Test accuracy = 1.0\n"
     ]
    }
   ],
   "source": [
    "w = logreg.get_theha()\n",
    "\n",
    "sns.pairplot(x_vars=[\"Sepal Length (cm)\"], y_vars=[\"Sepal Width (cm)\"], data=Data.iloc[train_size:,:],\n",
    "                                                                                        hue=\"Target\", height=5)\n",
    "domain =  np.linspace(iris_df['Sepal Length (cm)'].min(),iris_df['Sepal Length (cm)'].max(),2)\n",
    "h_x = -(w[1]/w[2])*domain - (w[0]/w[2])\n",
    "plt.plot(domain,h_x,color='red')\n",
    "plt.title('Test data')\n",
    "plt.show()\n",
    "print('Test accuracy =', accuracy_score(logreg.prediction(logreg.get_theha(),X_test),y_test))"
   ]
  }
 ],
 "metadata": {
  "kernelspec": {
   "display_name": "Python 3",
   "language": "python",
   "name": "python3"
  },
  "language_info": {
   "codemirror_mode": {
    "name": "ipython",
    "version": 3
   },
   "file_extension": ".py",
   "mimetype": "text/x-python",
   "name": "python",
   "nbconvert_exporter": "python",
   "pygments_lexer": "ipython3",
   "version": "3.5.5"
  }
 },
 "nbformat": 4,
 "nbformat_minor": 2
}
