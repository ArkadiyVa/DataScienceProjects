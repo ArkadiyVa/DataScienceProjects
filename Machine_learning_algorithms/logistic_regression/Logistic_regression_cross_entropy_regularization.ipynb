{
 "cells": [
  {
   "cell_type": "code",
   "execution_count": 1,
   "metadata": {},
   "outputs": [],
   "source": [
    "from sklearn.metrics import accuracy_score\n",
    "import matplotlib.pyplot as plt\n",
    "from sklearn import datasets\n",
    "import seaborn as sns\n",
    "import pandas as pd\n",
    "import numpy as np"
   ]
  },
  {
   "cell_type": "code",
   "execution_count": 2,
   "metadata": {},
   "outputs": [],
   "source": [
    "def add_intercept(X):\n",
    "    intercept = np.ones((X.shape[0], 1))\n",
    "    return np.concatenate((intercept, X), axis=1)"
   ]
  },
  {
   "cell_type": "code",
   "execution_count": 3,
   "metadata": {},
   "outputs": [],
   "source": [
    "iris = datasets.load_iris()\n",
    "\n",
    "iris_data = pd.DataFrame(data = iris.data[:,0:2], columns = [\"Sepal Length (cm)\", \"Sepal Width (cm)\"])\n",
    "iris_target = pd.DataFrame(data = (iris.target != 0) * 1, columns = [\"Target\"])\n",
    "iris_df = pd.concat([iris_data, iris_target], axis = 1)"
   ]
  },
  {
   "cell_type": "code",
   "execution_count": 4,
   "metadata": {},
   "outputs": [
    {
     "name": "stdout",
     "output_type": "stream",
     "text": [
      "Training set size : 112\n",
      "Testing set size : 37\n"
     ]
    }
   ],
   "source": [
    "#training and testing set size\n",
    "train_size=int(0.75*iris_df.shape[0])\n",
    "test_size=int(0.25*iris_df.shape[0])\n",
    "\n",
    "print(\"Training set size : \"+ str(train_size))\n",
    "print(\"Testing set size : \"+str(test_size))\n",
    "\n",
    "#Getting features from dataset\n",
    "Data=iris_df.sample(frac=1)\n",
    "X=Data.iloc[:,[0, 1]].values\n",
    "y=Data.iloc[:,2].values\n",
    "\n",
    "#add intercept\n",
    "X = add_intercept(X)\n",
    "#training set split\n",
    "X_train=X[0:train_size,:]\n",
    "y_train=y[0:train_size]\n",
    "\n",
    "#testing set split\n",
    "X_test=X[train_size:,:]\n",
    "y_test=y[train_size:]"
   ]
  },
  {
   "cell_type": "code",
   "execution_count": 5,
   "metadata": {},
   "outputs": [],
   "source": [
    "class LogisticRegression_l2:\n",
    "    \n",
    "    def __init__(self, _lambda=0.001, lr=0.01, num_iter=10000, w0=0.5, verbose=True):\n",
    "        self.lr = lr\n",
    "        self.num_iter = num_iter\n",
    "        self.verbose = verbose\n",
    "        self._lambda = _lambda\n",
    "        self.w0 = w0\n",
    "    \n",
    "    def sigmoid(self, z):\n",
    "        return 1 / (1 + np.exp(-z))\n",
    "    \n",
    "    def prediction(self, w, Data):\n",
    "        pred = []\n",
    "        z = np.dot(Data,w)\n",
    "        a = self.sigmoid(z)\n",
    "        \n",
    "        for i in range(0,len(a)):\n",
    "            if (a[i] > self.w0): \n",
    "                pred.append(1)\n",
    "            elif (a[i] <= self.w0):\n",
    "                pred.append(0)\n",
    "        return pred\n",
    "\n",
    "    def cost(self, h, y):\n",
    "        return (-y * np.log(h) - (1 - y) * np.log(1 - h)).mean() + self._lambda/(2 * y.shape[0]) * sum(self.theta ** 2)\n",
    "\n",
    "    def fit(self, X, y):\n",
    "        self.theta = np.zeros(X.shape[1])\n",
    "        \n",
    "        for i in range(self.num_iter):\n",
    "            z = np.dot(X, self.theta)\n",
    "            h = self.sigmoid(z)\n",
    "            gradient = (1/y.shape[0]) * (np.dot(X.T, (h - y)) + self._lambda * self.theta)\n",
    "            self.theta -= self.lr * gradient\n",
    "            \n",
    "            if (self.verbose) and (i % 100) == 0:\n",
    "                loss = self.cost(h, y)\n",
    "                y_pred = self.prediction(self.theta, X)\n",
    "                print('loss =',round(loss,3),' Training Accuracy',round(accuracy_score(y, y_pred)*100,1))\n",
    "                \n",
    "    def get_theha(self):\n",
    "        return self.theta"
   ]
  },
  {
   "cell_type": "code",
   "execution_count": 6,
   "metadata": {},
   "outputs": [
    {
     "name": "stdout",
     "output_type": "stream",
     "text": [
      "loss = 0.693  Training Accuracy 67.0\n",
      "loss = 0.564  Training Accuracy 67.0\n",
      "loss = 0.521  Training Accuracy 67.0\n",
      "loss = 0.484  Training Accuracy 67.0\n",
      "loss = 0.451  Training Accuracy 71.4\n",
      "loss = 0.423  Training Accuracy 76.8\n",
      "loss = 0.398  Training Accuracy 84.8\n",
      "loss = 0.376  Training Accuracy 88.4\n",
      "loss = 0.356  Training Accuracy 90.2\n",
      "loss = 0.339  Training Accuracy 92.0\n",
      "loss = 0.323  Training Accuracy 94.6\n",
      "loss = 0.309  Training Accuracy 96.4\n",
      "loss = 0.297  Training Accuracy 97.3\n",
      "loss = 0.285  Training Accuracy 97.3\n",
      "loss = 0.275  Training Accuracy 97.3\n",
      "loss = 0.265  Training Accuracy 98.2\n",
      "loss = 0.256  Training Accuracy 98.2\n",
      "loss = 0.248  Training Accuracy 98.2\n",
      "loss = 0.24  Training Accuracy 98.2\n",
      "loss = 0.233  Training Accuracy 98.2\n",
      "loss = 0.227  Training Accuracy 98.2\n",
      "loss = 0.221  Training Accuracy 98.2\n",
      "loss = 0.215  Training Accuracy 99.1\n",
      "loss = 0.21  Training Accuracy 99.1\n",
      "loss = 0.205  Training Accuracy 99.1\n",
      "loss = 0.2  Training Accuracy 99.1\n",
      "loss = 0.196  Training Accuracy 99.1\n",
      "loss = 0.192  Training Accuracy 99.1\n",
      "loss = 0.188  Training Accuracy 99.1\n",
      "loss = 0.184  Training Accuracy 99.1\n",
      "loss = 0.181  Training Accuracy 99.1\n",
      "loss = 0.177  Training Accuracy 99.1\n",
      "loss = 0.174  Training Accuracy 99.1\n",
      "loss = 0.171  Training Accuracy 99.1\n",
      "loss = 0.168  Training Accuracy 99.1\n",
      "loss = 0.166  Training Accuracy 99.1\n",
      "loss = 0.163  Training Accuracy 99.1\n",
      "loss = 0.16  Training Accuracy 99.1\n",
      "loss = 0.158  Training Accuracy 99.1\n",
      "loss = 0.156  Training Accuracy 99.1\n",
      "loss = 0.153  Training Accuracy 99.1\n",
      "loss = 0.151  Training Accuracy 99.1\n",
      "loss = 0.149  Training Accuracy 99.1\n",
      "loss = 0.147  Training Accuracy 99.1\n",
      "loss = 0.145  Training Accuracy 99.1\n",
      "loss = 0.144  Training Accuracy 99.1\n",
      "loss = 0.142  Training Accuracy 99.1\n",
      "loss = 0.14  Training Accuracy 99.1\n",
      "loss = 0.138  Training Accuracy 99.1\n",
      "loss = 0.137  Training Accuracy 99.1\n",
      "loss = 0.135  Training Accuracy 99.1\n",
      "loss = 0.134  Training Accuracy 99.1\n",
      "loss = 0.132  Training Accuracy 99.1\n",
      "loss = 0.131  Training Accuracy 99.1\n",
      "loss = 0.13  Training Accuracy 99.1\n",
      "loss = 0.128  Training Accuracy 99.1\n",
      "loss = 0.127  Training Accuracy 99.1\n",
      "loss = 0.126  Training Accuracy 99.1\n",
      "loss = 0.125  Training Accuracy 99.1\n",
      "loss = 0.124  Training Accuracy 99.1\n",
      "loss = 0.122  Training Accuracy 99.1\n",
      "loss = 0.121  Training Accuracy 99.1\n",
      "loss = 0.12  Training Accuracy 99.1\n",
      "loss = 0.119  Training Accuracy 99.1\n",
      "loss = 0.118  Training Accuracy 99.1\n",
      "loss = 0.117  Training Accuracy 99.1\n",
      "loss = 0.116  Training Accuracy 99.1\n",
      "loss = 0.115  Training Accuracy 99.1\n",
      "loss = 0.114  Training Accuracy 99.1\n",
      "loss = 0.114  Training Accuracy 99.1\n",
      "loss = 0.113  Training Accuracy 99.1\n",
      "loss = 0.112  Training Accuracy 99.1\n",
      "loss = 0.111  Training Accuracy 99.1\n",
      "loss = 0.11  Training Accuracy 99.1\n",
      "loss = 0.109  Training Accuracy 99.1\n",
      "loss = 0.109  Training Accuracy 99.1\n",
      "loss = 0.108  Training Accuracy 99.1\n",
      "loss = 0.107  Training Accuracy 99.1\n",
      "loss = 0.106  Training Accuracy 99.1\n",
      "loss = 0.106  Training Accuracy 99.1\n",
      "loss = 0.105  Training Accuracy 99.1\n",
      "loss = 0.104  Training Accuracy 99.1\n",
      "loss = 0.104  Training Accuracy 99.1\n",
      "loss = 0.103  Training Accuracy 99.1\n",
      "loss = 0.102  Training Accuracy 99.1\n",
      "loss = 0.102  Training Accuracy 99.1\n",
      "loss = 0.101  Training Accuracy 99.1\n",
      "loss = 0.101  Training Accuracy 99.1\n",
      "loss = 0.1  Training Accuracy 99.1\n",
      "loss = 0.099  Training Accuracy 99.1\n",
      "loss = 0.099  Training Accuracy 99.1\n",
      "loss = 0.098  Training Accuracy 99.1\n",
      "loss = 0.098  Training Accuracy 99.1\n",
      "loss = 0.097  Training Accuracy 99.1\n",
      "loss = 0.097  Training Accuracy 99.1\n",
      "loss = 0.096  Training Accuracy 99.1\n",
      "loss = 0.096  Training Accuracy 99.1\n",
      "loss = 0.095  Training Accuracy 99.1\n",
      "loss = 0.095  Training Accuracy 99.1\n",
      "loss = 0.094  Training Accuracy 99.1\n"
     ]
    }
   ],
   "source": [
    "logreg = LogisticRegression_l2()\n",
    "logreg.fit(X_train,y_train)"
   ]
  },
  {
   "cell_type": "code",
   "execution_count": 7,
   "metadata": {},
   "outputs": [
    {
     "data": {
      "image/png": "[encoded data removed]",
      "text/plain": [
       "<Figure size 402.375x360 with 1 Axes>"
      ]
     },
     "metadata": {},
     "output_type": "display_data"
    },
    {
     "name": "stdout",
     "output_type": "stream",
     "text": [
      "Test accuracy = 1.0\n"
     ]
    }
   ],
   "source": [
    "w = logreg.get_theha()\n",
    "\n",
    "sns.pairplot(x_vars=[\"Sepal Length (cm)\"], y_vars=[\"Sepal Width (cm)\"], data=Data.iloc[train_size:,:],\n",
    "                                                                                        hue=\"Target\", height=5)\n",
    "domain =  np.linspace(iris_df['Sepal Length (cm)'].min(),iris_df['Sepal Length (cm)'].max(),2)\n",
    "h_x = -(w[1]/w[2])*domain - (w[0]/w[2])\n",
    "plt.plot(domain,h_x,color='red')\n",
    "plt.title('Test data')\n",
    "plt.show()\n",
    "print('Test accuracy =', accuracy_score(logreg.prediction(logreg.get_theha(),X_test),y_test))"
   ]
  }
 ],
 "metadata": {
  "kernelspec": {
   "display_name": "Python 3",
   "language": "python",
   "name": "python3"
  },
  "language_info": {
   "codemirror_mode": {
    "name": "ipython",
    "version": 3
   },
   "file_extension": ".py",
   "mimetype": "text/x-python",
   "name": "python",
   "nbconvert_exporter": "python",
   "pygments_lexer": "ipython3",
   "version": "3.5.5"
  }
 },
 "nbformat": 4,
 "nbformat_minor": 2
}
