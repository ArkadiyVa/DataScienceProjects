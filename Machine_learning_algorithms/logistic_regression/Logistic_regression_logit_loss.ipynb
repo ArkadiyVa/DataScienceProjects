{
 "cells": [
  {
   "cell_type": "code",
   "execution_count": 1,
   "metadata": {},
   "outputs": [],
   "source": [
    "%matplotlib inline\n",
    "import numpy as np\n",
    "import pandas as pd\n",
    "import matplotlib.pyplot as plt\n",
    "import seaborn as sns\n",
    "from sklearn import datasets"
   ]
  },
  {
   "cell_type": "markdown",
   "metadata": {},
   "source": [
    "<font size=\"3\"> $$ z_{i} = y_{i}*f(x_{i}) = y_{i}(w^{T}x_{i}+b)$$</font>\n",
    "\n",
    "<font size=\"4\">Logistic loss:</font>\n",
    "\n",
    "<font size=\"3\"> $$ L(z_{i}) = log(1+e^{-z_{i}}) $$</font>\n",
    "\n",
    "<font size=\"4\">Derivative of logistic loss:</font>\n",
    "\n",
    "<font size=\"3\"> $$ {L_{z}}' = \\frac{\\partial L}{\\partial w }=\\frac{-yXe^{-z}}{1+e^{-z}} $$</font>"
   ]
  },
  {
   "cell_type": "code",
   "execution_count": 2,
   "metadata": {},
   "outputs": [],
   "source": [
    "def add_intercept(X):\n",
    "    \n",
    "    return np.concatenate((np.ones((X.shape[0], 1)), X), axis=1)"
   ]
  },
  {
   "cell_type": "code",
   "execution_count": 3,
   "metadata": {},
   "outputs": [],
   "source": [
    "iris = datasets.load_iris()\n",
    "\n",
    "y = (iris.target != 0) * -1\n",
    "y[y ==0] = 1\n",
    "iris_data = pd.DataFrame(data = iris.data[:,0:2], columns = [\"Sepal Length (cm)\", \"Sepal Width (cm)\"])\n",
    "iris_target = pd.DataFrame(data = y, columns = [\"target\"])\n",
    "iris_df = pd.concat([iris_data, iris_target], axis = 1)"
   ]
  },
  {
   "cell_type": "code",
   "execution_count": 4,
   "metadata": {},
   "outputs": [
    {
     "name": "stdout",
     "output_type": "stream",
     "text": [
      "Training set size : 112\n",
      "Testing set size : 37\n"
     ]
    }
   ],
   "source": [
    "#training and testing set size\n",
    "train_size=int(0.75*iris_df.shape[0])\n",
    "test_size=int(0.25*iris_df.shape[0])\n",
    "\n",
    "print(\"Training set size : \"+ str(train_size))\n",
    "print(\"Testing set size : \"+str(test_size))\n",
    "\n",
    "#Getting features from dataset\n",
    "Data=iris_df.sample(frac=1)\n",
    "X=Data.iloc[:,[0, 1]].values\n",
    "y=Data.iloc[:,2].values\n",
    "\n",
    "#add intercept\n",
    "X = add_intercept(X)\n",
    "#training set split\n",
    "X_train=X[0:train_size,:]\n",
    "y_train=y[0:train_size]\n",
    "\n",
    "#testing set split\n",
    "X_test=X[train_size:,:]\n",
    "y_test=y[train_size:]"
   ]
  },
  {
   "cell_type": "code",
   "execution_count": 5,
   "metadata": {},
   "outputs": [
    {
     "data": {
      "image/png": "[encoded data removed]",
      "text/plain": [
       "<Figure size 406x360 with 1 Axes>"
      ]
     },
     "metadata": {},
     "output_type": "display_data"
    }
   ],
   "source": [
    "sns.pairplot(x_vars=[\"Sepal Length (cm)\"], y_vars=[\"Sepal Width (cm)\"], data=iris_df, hue=\"target\", height=5)\n",
    "plt.show()"
   ]
  },
  {
   "cell_type": "code",
   "execution_count": 6,
   "metadata": {},
   "outputs": [],
   "source": [
    "class LogisticRegression:\n",
    "    \n",
    "    def __init__(self, lr=0.01, num_iter=10000, w0=0.5, verbose=True):\n",
    "        \n",
    "        self.lr = lr\n",
    "        self.num_iter = num_iter\n",
    "        self.verbose = verbose\n",
    "        self.w0 = w0\n",
    "        self.m = y.shape[0]\n",
    "    \n",
    "    def sigmoid(self, z):\n",
    "        \n",
    "        return 1 / (1 + np.exp(-z))\n",
    "    \n",
    "    def prediction(self, w, Data):\n",
    "        \n",
    "        pred = []\n",
    "        z = np.dot(Data,w)\n",
    "        a = self.sigmoid(z)\n",
    "        \n",
    "        for i in range(0,len(a)):\n",
    "            if (a[i] > self.w0): \n",
    "                pred.append(1)\n",
    "            elif (a[i] <= self.w0):\n",
    "                pred.append(-1)\n",
    "                \n",
    "        return pred\n",
    "\n",
    "    def fit(self, X, y):\n",
    "        \n",
    "        self.theta = np.zeros(X.shape[1])\n",
    "        \n",
    "        for i in range(self.num_iter):\n",
    "            z = np.dot(X, self.theta)\n",
    "            val = -np.multiply(y,z)\n",
    "            f = -np.multiply(y,np.exp(val))/(1+np.exp(val))\n",
    "            gradient = np.dot(X.T,f.T)\n",
    "            self.theta -= self.lr * gradient.T\n",
    "            \n",
    "            if (self.verbose) and (i % 100) == 0:\n",
    "                loss = np.sum(np.log(1+np.exp(val)))\n",
    "                y_pred = self.prediction(self.theta, X)\n",
    "                print('loss =',round(loss,3),' Training Accuracy',round(np.mean(y== y_pred)*100,1))\n",
    "                \n",
    "    def get_theha(self):\n",
    "        \n",
    "        return self.theta"
   ]
  },
  {
   "cell_type": "code",
   "execution_count": 7,
   "metadata": {},
   "outputs": [
    {
     "name": "stdout",
     "output_type": "stream",
     "text": [
      "loss = 77.632  Training Accuracy 69.6\n",
      "loss = 6.069  Training Accuracy 99.1\n",
      "loss = 5.603  Training Accuracy 99.1\n",
      "loss = 5.293  Training Accuracy 99.1\n",
      "loss = 5.066  Training Accuracy 99.1\n",
      "loss = 4.889  Training Accuracy 99.1\n",
      "loss = 4.744  Training Accuracy 99.1\n",
      "loss = 4.621  Training Accuracy 99.1\n",
      "loss = 4.513  Training Accuracy 99.1\n",
      "loss = 4.417  Training Accuracy 99.1\n",
      "loss = 4.329  Training Accuracy 99.1\n",
      "loss = 4.249  Training Accuracy 99.1\n",
      "loss = 4.174  Training Accuracy 99.1\n",
      "loss = 4.104  Training Accuracy 99.1\n",
      "loss = 4.037  Training Accuracy 99.1\n",
      "loss = 3.974  Training Accuracy 99.1\n",
      "loss = 3.914  Training Accuracy 99.1\n",
      "loss = 3.856  Training Accuracy 99.1\n",
      "loss = 3.801  Training Accuracy 99.1\n",
      "loss = 3.747  Training Accuracy 99.1\n",
      "loss = 3.695  Training Accuracy 99.1\n",
      "loss = 3.645  Training Accuracy 99.1\n",
      "loss = 3.596  Training Accuracy 99.1\n",
      "loss = 3.549  Training Accuracy 99.1\n",
      "loss = 3.503  Training Accuracy 99.1\n",
      "loss = 3.458  Training Accuracy 99.1\n",
      "loss = 3.415  Training Accuracy 99.1\n",
      "loss = 3.372  Training Accuracy 99.1\n",
      "loss = 3.331  Training Accuracy 99.1\n",
      "loss = 3.29  Training Accuracy 99.1\n",
      "loss = 3.251  Training Accuracy 99.1\n",
      "loss = 3.212  Training Accuracy 99.1\n",
      "loss = 3.175  Training Accuracy 99.1\n",
      "loss = 3.138  Training Accuracy 99.1\n",
      "loss = 3.102  Training Accuracy 99.1\n",
      "loss = 3.067  Training Accuracy 99.1\n",
      "loss = 3.033  Training Accuracy 99.1\n",
      "loss = 2.999  Training Accuracy 99.1\n",
      "loss = 2.966  Training Accuracy 99.1\n",
      "loss = 2.934  Training Accuracy 99.1\n",
      "loss = 2.903  Training Accuracy 99.1\n",
      "loss = 2.872  Training Accuracy 99.1\n",
      "loss = 2.842  Training Accuracy 99.1\n",
      "loss = 2.812  Training Accuracy 99.1\n",
      "loss = 2.783  Training Accuracy 99.1\n",
      "loss = 2.755  Training Accuracy 99.1\n",
      "loss = 2.728  Training Accuracy 99.1\n",
      "loss = 2.701  Training Accuracy 99.1\n",
      "loss = 2.674  Training Accuracy 99.1\n",
      "loss = 2.648  Training Accuracy 99.1\n",
      "loss = 2.623  Training Accuracy 99.1\n",
      "loss = 2.598  Training Accuracy 99.1\n",
      "loss = 2.573  Training Accuracy 99.1\n",
      "loss = 2.549  Training Accuracy 99.1\n",
      "loss = 2.526  Training Accuracy 99.1\n",
      "loss = 2.503  Training Accuracy 99.1\n",
      "loss = 2.481  Training Accuracy 99.1\n",
      "loss = 2.459  Training Accuracy 99.1\n",
      "loss = 2.437  Training Accuracy 99.1\n",
      "loss = 2.416  Training Accuracy 99.1\n",
      "loss = 2.395  Training Accuracy 99.1\n",
      "loss = 2.374  Training Accuracy 99.1\n",
      "loss = 2.354  Training Accuracy 99.1\n",
      "loss = 2.335  Training Accuracy 99.1\n",
      "loss = 2.316  Training Accuracy 99.1\n",
      "loss = 2.297  Training Accuracy 99.1\n",
      "loss = 2.278  Training Accuracy 99.1\n",
      "loss = 2.26  Training Accuracy 99.1\n",
      "loss = 2.242  Training Accuracy 99.1\n",
      "loss = 2.224  Training Accuracy 99.1\n",
      "loss = 2.207  Training Accuracy 99.1\n",
      "loss = 2.19  Training Accuracy 99.1\n",
      "loss = 2.174  Training Accuracy 99.1\n",
      "loss = 2.157  Training Accuracy 99.1\n",
      "loss = 2.141  Training Accuracy 99.1\n",
      "loss = 2.125  Training Accuracy 99.1\n",
      "loss = 2.11  Training Accuracy 99.1\n",
      "loss = 2.095  Training Accuracy 99.1\n",
      "loss = 2.08  Training Accuracy 99.1\n",
      "loss = 2.065  Training Accuracy 99.1\n",
      "loss = 2.05  Training Accuracy 99.1\n",
      "loss = 2.036  Training Accuracy 99.1\n",
      "loss = 2.022  Training Accuracy 99.1\n",
      "loss = 2.008  Training Accuracy 99.1\n",
      "loss = 1.995  Training Accuracy 99.1\n",
      "loss = 1.981  Training Accuracy 99.1\n",
      "loss = 1.968  Training Accuracy 99.1\n",
      "loss = 1.955  Training Accuracy 99.1\n",
      "loss = 1.942  Training Accuracy 99.1\n",
      "loss = 1.93  Training Accuracy 99.1\n",
      "loss = 1.918  Training Accuracy 99.1\n",
      "loss = 1.905  Training Accuracy 99.1\n",
      "loss = 1.893  Training Accuracy 99.1\n",
      "loss = 1.882  Training Accuracy 99.1\n",
      "loss = 1.87  Training Accuracy 99.1\n",
      "loss = 1.859  Training Accuracy 99.1\n",
      "loss = 1.847  Training Accuracy 99.1\n",
      "loss = 1.836  Training Accuracy 99.1\n",
      "loss = 1.825  Training Accuracy 99.1\n",
      "loss = 1.814  Training Accuracy 99.1\n"
     ]
    }
   ],
   "source": [
    "logreg = LogisticRegression()\n",
    "logreg.fit(X_train,y_train)"
   ]
  },
  {
   "cell_type": "code",
   "execution_count": 8,
   "metadata": {},
   "outputs": [
    {
     "data": {
      "image/png": "[encoded data removed]",
      "text/plain": [
       "<Figure size 406x360 with 1 Axes>"
      ]
     },
     "metadata": {},
     "output_type": "display_data"
    },
    {
     "name": "stdout",
     "output_type": "stream",
     "text": [
      "Test accuracy score = 1.0\n"
     ]
    }
   ],
   "source": [
    "w = logreg.get_theha()\n",
    "\n",
    "sns.pairplot(x_vars=[\"Sepal Length (cm)\"], y_vars=[\"Sepal Width (cm)\"], data=Data.iloc[train_size:,:],\n",
    "                                                                                        hue=\"target\", height=5)\n",
    "domain =  np.linspace(iris_df['Sepal Length (cm)'].min(),iris_df['Sepal Length (cm)'].max(),2)\n",
    "h_x = -(w[1]/w[2])*domain - (w[0]/w[2])\n",
    "plt.plot(domain,h_x,color='red')\n",
    "plt.title('Test data')\n",
    "plt.show()\n",
    "print('Test accuracy score =', np.mean(logreg.prediction(logreg.get_theha(),X_test)==y_test))"
   ]
  },
  {
   "cell_type": "markdown",
   "metadata": {},
   "source": [
    "## Pros and Cons of Naive Bayes"
   ]
  },
  {
   "cell_type": "markdown",
   "metadata": {},
   "source": [
    "# Pros:\n",
    "\n",
    "    1) Logistic Regression performs well when the dataset is linearly separable.\n",
    "    \n",
    "    2) Doesn’t require too many computational resources.\n",
    "    \n",
    "    3) It’s highly interpretable.\n",
    "    \n",
    "    4) Doesn’t require any tuning.\n",
    "    \n",
    "# Cons:\n",
    "\n",
    "    1) Can’t solve non-linear problems with logistic regression since it’s decision surface is linear.\n",
    "    \n",
    "    2) Not perform well with independent variables that are not correlated to the target variable and are very similar or correlated to each other."
   ]
  }
 ],
 "metadata": {
  "kernelspec": {
   "display_name": "Python 3",
   "language": "python",
   "name": "python3"
  },
  "language_info": {
   "codemirror_mode": {
    "name": "ipython",
    "version": 3
   },
   "file_extension": ".py",
   "mimetype": "text/x-python",
   "name": "python",
   "nbconvert_exporter": "python",
   "pygments_lexer": "ipython3",
   "version": "3.5.5"
  }
 },
 "nbformat": 4,
 "nbformat_minor": 2
}
