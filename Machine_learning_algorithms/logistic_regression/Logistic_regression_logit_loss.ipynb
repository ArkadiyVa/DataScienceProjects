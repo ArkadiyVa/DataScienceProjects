{
 "cells": [
  {
   "cell_type": "code",
   "execution_count": 1,
   "metadata": {},
   "outputs": [],
   "source": [
    "%matplotlib inline\n",
    "import numpy as np\n",
    "import pandas as pd\n",
    "import matplotlib.pyplot as plt\n",
    "import seaborn as sns\n",
    "import seaborn as sns\n",
    "from sklearn import datasets\n",
    "from sklearn.metrics import accuracy_score"
   ]
  },
  {
   "cell_type": "markdown",
   "metadata": {},
   "source": [
    "<font size=\"3\"> $ z_{i} = y_{i}*f(x_{i}) = y_{i}(w^{T}x_{i}+b)$</font>\n",
    "\n",
    "<font size=\"4\">Logistic loss:</font>\n",
    "\n",
    "<font size=\"2\"> $ L(z_{i}) = log(1+e^{-z_{i}}) $</font>\n",
    "\n",
    "<font size=\"4\">Derivative of logistic loss:</font>\n",
    "\n",
    "<font size=\"3\"> $ {L_{z}}' = \\frac{\\partial L}{\\partial w }=\\frac{-yXe^{-z}}{1+e^{-z}} $</font>"
   ]
  },
  {
   "cell_type": "code",
   "execution_count": 2,
   "metadata": {},
   "outputs": [],
   "source": [
    "def add_intercept(X):\n",
    "    intercept = np.ones((X.shape[0], 1))\n",
    "    return np.concatenate((intercept, X), axis=1)"
   ]
  },
  {
   "cell_type": "code",
   "execution_count": 3,
   "metadata": {},
   "outputs": [],
   "source": [
    "iris = datasets.load_iris()\n",
    "y = (iris.target != 0) * -1\n",
    "y[y ==0] = 1\n",
    "iris_data = pd.DataFrame(data = iris.data[:,0:2], columns = [\"Sepal Length (cm)\", \"Sepal Width (cm)\"])\n",
    "iris_target = pd.DataFrame(data = y, columns = [\"target\"])\n",
    "iris_df = pd.concat([iris_data, iris_target], axis = 1)"
   ]
  },
  {
   "cell_type": "code",
   "execution_count": 4,
   "metadata": {},
   "outputs": [
    {
     "name": "stdout",
     "output_type": "stream",
     "text": [
      "Training set size : 112\n",
      "Testing set size : 37\n"
     ]
    }
   ],
   "source": [
    "#training and testing set size\n",
    "train_size=int(0.75*iris_df.shape[0])\n",
    "test_size=int(0.25*iris_df.shape[0])\n",
    "\n",
    "print(\"Training set size : \"+ str(train_size))\n",
    "print(\"Testing set size : \"+str(test_size))\n",
    "\n",
    "#Getting features from dataset\n",
    "Data=iris_df.sample(frac=1)\n",
    "X=Data.iloc[:,[0, 1]].values\n",
    "y=Data.iloc[:,2].values\n",
    "\n",
    "#add intercept\n",
    "X = add_intercept(X)\n",
    "#training set split\n",
    "X_train=X[0:train_size,:]\n",
    "y_train=y[0:train_size]\n",
    "\n",
    "#testing set split\n",
    "X_test=X[train_size:,:]\n",
    "y_test=y[train_size:]"
   ]
  },
  {
   "cell_type": "code",
   "execution_count": 5,
   "metadata": {},
   "outputs": [
    {
     "data": {
      "image/png": "[encoded data removed]",
      "text/plain": [
       "<Figure size 406x360 with 1 Axes>"
      ]
     },
     "metadata": {},
     "output_type": "display_data"
    }
   ],
   "source": [
    "sns.pairplot(x_vars=[\"Sepal Length (cm)\"], y_vars=[\"Sepal Width (cm)\"], data=iris_df, hue=\"target\", height=5)\n",
    "plt.show()"
   ]
  },
  {
   "cell_type": "code",
   "execution_count": 6,
   "metadata": {},
   "outputs": [],
   "source": [
    "class LogisticRegression:\n",
    "    \n",
    "    def __init__(self, lr=0.01, num_iter=10000, w0=0.5, verbose=True):\n",
    "        self.lr = lr\n",
    "        self.num_iter = num_iter\n",
    "        self.verbose = verbose\n",
    "        self.w0 = w0\n",
    "        self.m = y.shape[0]\n",
    "    \n",
    "    def sigmoid(self, z):\n",
    "        return 1 / (1 + np.exp(-z))\n",
    "    \n",
    "    def prediction(self, w, Data):\n",
    "        pred = []\n",
    "        z = np.dot(Data,w)\n",
    "        a = self.sigmoid(z)\n",
    "        \n",
    "        for i in range(0,len(a)):\n",
    "            if (a[i] > self.w0): \n",
    "                pred.append(1)\n",
    "            elif (a[i] <= self.w0):\n",
    "                pred.append(-1)\n",
    "        return pred\n",
    "\n",
    "    def fit(self, X, y):\n",
    "        self.theta = np.zeros(X.shape[1])\n",
    "        \n",
    "        for i in range(self.num_iter):\n",
    "            z = np.dot(X, self.theta)\n",
    "            val = -np.multiply(y,z)\n",
    "            f = -np.multiply(y,np.exp(val))/(1+np.exp(val))\n",
    "            gradient = np.dot(X.T,f.T)\n",
    "            self.theta -= self.lr * gradient.T\n",
    "            \n",
    "            if (self.verbose) and (i % 100) == 0:\n",
    "                loss = np.sum(np.log(1+np.exp(val)))\n",
    "                y_pred = self.prediction(self.theta, X)\n",
    "                print('loss =',round(loss,3),' Training Accuracy',round(accuracy_score(y, y_pred)*100,1))\n",
    "                \n",
    "    def get_theha(self):\n",
    "        return self.theta"
   ]
  },
  {
   "cell_type": "code",
   "execution_count": 7,
   "metadata": {},
   "outputs": [
    {
     "name": "stdout",
     "output_type": "stream",
     "text": [
      "loss = 77.632  Training Accuracy 66.1\n",
      "loss = 5.422  Training Accuracy 99.1\n",
      "loss = 5.134  Training Accuracy 99.1\n",
      "loss = 4.923  Training Accuracy 99.1\n",
      "loss = 4.758  Training Accuracy 99.1\n",
      "loss = 4.623  Training Accuracy 99.1\n",
      "loss = 4.509  Training Accuracy 99.1\n",
      "loss = 4.409  Training Accuracy 99.1\n",
      "loss = 4.32  Training Accuracy 99.1\n",
      "loss = 4.24  Training Accuracy 99.1\n",
      "loss = 4.166  Training Accuracy 99.1\n",
      "loss = 4.098  Training Accuracy 99.1\n",
      "loss = 4.033  Training Accuracy 99.1\n",
      "loss = 3.972  Training Accuracy 99.1\n",
      "loss = 3.915  Training Accuracy 99.1\n",
      "loss = 3.859  Training Accuracy 99.1\n",
      "loss = 3.806  Training Accuracy 99.1\n",
      "loss = 3.755  Training Accuracy 99.1\n",
      "loss = 3.706  Training Accuracy 99.1\n",
      "loss = 3.659  Training Accuracy 99.1\n",
      "loss = 3.612  Training Accuracy 99.1\n",
      "loss = 3.568  Training Accuracy 99.1\n",
      "loss = 3.524  Training Accuracy 99.1\n",
      "loss = 3.482  Training Accuracy 99.1\n",
      "loss = 3.44  Training Accuracy 99.1\n",
      "loss = 3.4  Training Accuracy 99.1\n",
      "loss = 3.361  Training Accuracy 99.1\n",
      "loss = 3.322  Training Accuracy 99.1\n",
      "loss = 3.285  Training Accuracy 99.1\n",
      "loss = 3.248  Training Accuracy 99.1\n",
      "loss = 3.212  Training Accuracy 99.1\n",
      "loss = 3.177  Training Accuracy 99.1\n",
      "loss = 3.143  Training Accuracy 99.1\n",
      "loss = 3.109  Training Accuracy 99.1\n",
      "loss = 3.076  Training Accuracy 99.1\n",
      "loss = 3.044  Training Accuracy 99.1\n",
      "loss = 3.012  Training Accuracy 99.1\n",
      "loss = 2.981  Training Accuracy 99.1\n",
      "loss = 2.951  Training Accuracy 99.1\n",
      "loss = 2.921  Training Accuracy 99.1\n",
      "loss = 2.892  Training Accuracy 99.1\n",
      "loss = 2.864  Training Accuracy 99.1\n",
      "loss = 2.836  Training Accuracy 99.1\n",
      "loss = 2.808  Training Accuracy 99.1\n",
      "loss = 2.782  Training Accuracy 99.1\n",
      "loss = 2.755  Training Accuracy 99.1\n",
      "loss = 2.729  Training Accuracy 99.1\n",
      "loss = 2.704  Training Accuracy 99.1\n",
      "loss = 2.679  Training Accuracy 99.1\n",
      "loss = 2.655  Training Accuracy 99.1\n",
      "loss = 2.631  Training Accuracy 99.1\n",
      "loss = 2.608  Training Accuracy 99.1\n",
      "loss = 2.585  Training Accuracy 99.1\n",
      "loss = 2.562  Training Accuracy 99.1\n",
      "loss = 2.54  Training Accuracy 99.1\n",
      "loss = 2.518  Training Accuracy 99.1\n",
      "loss = 2.497  Training Accuracy 99.1\n",
      "loss = 2.476  Training Accuracy 99.1\n",
      "loss = 2.455  Training Accuracy 99.1\n",
      "loss = 2.435  Training Accuracy 99.1\n",
      "loss = 2.415  Training Accuracy 99.1\n",
      "loss = 2.396  Training Accuracy 99.1\n",
      "loss = 2.377  Training Accuracy 99.1\n",
      "loss = 2.358  Training Accuracy 99.1\n",
      "loss = 2.34  Training Accuracy 99.1\n",
      "loss = 2.321  Training Accuracy 99.1\n",
      "loss = 2.304  Training Accuracy 99.1\n",
      "loss = 2.286  Training Accuracy 99.1\n",
      "loss = 2.269  Training Accuracy 99.1\n",
      "loss = 2.252  Training Accuracy 99.1\n",
      "loss = 2.235  Training Accuracy 99.1\n",
      "loss = 2.219  Training Accuracy 99.1\n",
      "loss = 2.203  Training Accuracy 99.1\n",
      "loss = 2.187  Training Accuracy 99.1\n",
      "loss = 2.171  Training Accuracy 99.1\n",
      "loss = 2.156  Training Accuracy 99.1\n",
      "loss = 2.141  Training Accuracy 99.1\n",
      "loss = 2.126  Training Accuracy 99.1\n",
      "loss = 2.111  Training Accuracy 99.1\n",
      "loss = 2.097  Training Accuracy 99.1\n",
      "loss = 2.083  Training Accuracy 99.1\n",
      "loss = 2.069  Training Accuracy 99.1\n",
      "loss = 2.055  Training Accuracy 99.1\n",
      "loss = 2.042  Training Accuracy 99.1\n",
      "loss = 2.028  Training Accuracy 99.1\n",
      "loss = 2.015  Training Accuracy 99.1\n",
      "loss = 2.002  Training Accuracy 99.1\n",
      "loss = 1.99  Training Accuracy 99.1\n",
      "loss = 1.977  Training Accuracy 99.1\n",
      "loss = 1.965  Training Accuracy 99.1\n",
      "loss = 1.953  Training Accuracy 99.1\n",
      "loss = 1.941  Training Accuracy 99.1\n",
      "loss = 1.929  Training Accuracy 99.1\n",
      "loss = 1.917  Training Accuracy 99.1\n",
      "loss = 1.906  Training Accuracy 99.1\n",
      "loss = 1.894  Training Accuracy 99.1\n",
      "loss = 1.883  Training Accuracy 99.1\n",
      "loss = 1.872  Training Accuracy 99.1\n",
      "loss = 1.861  Training Accuracy 99.1\n",
      "loss = 1.851  Training Accuracy 99.1\n"
     ]
    }
   ],
   "source": [
    "logreg = LogisticRegression()\n",
    "logreg.fit(X_train,y_train)"
   ]
  },
  {
   "cell_type": "code",
   "execution_count": 9,
   "metadata": {},
   "outputs": [
    {
     "data": {
      "image/png": "[encoded data removed]",
      "text/plain": [
       "<Figure size 406x360 with 1 Axes>"
      ]
     },
     "metadata": {},
     "output_type": "display_data"
    },
    {
     "name": "stdout",
     "output_type": "stream",
     "text": [
      "Test accuracy = 1.0\n"
     ]
    }
   ],
   "source": [
    "w = logreg.get_theha()\n",
    "\n",
    "sns.pairplot(x_vars=[\"Sepal Length (cm)\"], y_vars=[\"Sepal Width (cm)\"], data=Data.iloc[train_size:,:],\n",
    "                                                                                        hue=\"target\", height=5)\n",
    "domain =  np.linspace(iris_df['Sepal Length (cm)'].min(),iris_df['Sepal Length (cm)'].max(),2)\n",
    "h_x = -(w[1]/w[2])*domain - (w[0]/w[2])\n",
    "plt.plot(domain,h_x,color='red')\n",
    "plt.title('Test data')\n",
    "plt.show()\n",
    "print('Test accuracy =', accuracy_score(logreg.prediction(logreg.get_theha(),X_test),y_test))"
   ]
  }
 ],
 "metadata": {
  "kernelspec": {
   "display_name": "Python 3",
   "language": "python",
   "name": "python3"
  },
  "language_info": {
   "codemirror_mode": {
    "name": "ipython",
    "version": 3
   },
   "file_extension": ".py",
   "mimetype": "text/x-python",
   "name": "python",
   "nbconvert_exporter": "python",
   "pygments_lexer": "ipython3",
   "version": "3.5.5"
  }
 },
 "nbformat": 4,
 "nbformat_minor": 2
}
