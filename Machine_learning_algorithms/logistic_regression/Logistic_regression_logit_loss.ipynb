{
 "cells": [
  {
   "cell_type": "code",
   "execution_count": 1,
   "metadata": {},
   "outputs": [],
   "source": [
    "%matplotlib inline\n",
    "import numpy as np\n",
    "import pandas as pd\n",
    "import matplotlib.pyplot as plt\n",
    "import seaborn as sns\n",
    "import seaborn as sns\n",
    "from sklearn import datasets\n",
    "from sklearn.metrics import accuracy_score"
   ]
  },
  {
   "cell_type": "markdown",
   "metadata": {},
   "source": [
    "<font size=\"3\"> $$ z_{i} = y_{i}*f(x_{i}) = y_{i}(w^{T}x_{i}+b)$$</font>\n",
    "\n",
    "<font size=\"4\">Logistic loss:</font>\n",
    "\n",
    "<font size=\"2\"> $$ L(z_{i}) = log(1+e^{-z_{i}}) $$</font>\n",
    "\n",
    "<font size=\"4\">Derivative of logistic loss:</font>\n",
    "\n",
    "<font size=\"3\"> $$ {L_{z}}' = \\frac{\\partial L}{\\partial w }=\\frac{-yXe^{-z}}{1+e^{-z}} $$</font>"
   ]
  },
  {
   "cell_type": "code",
   "execution_count": 2,
   "metadata": {},
   "outputs": [],
   "source": [
    "def add_intercept(X):\n",
    "    intercept = np.ones((X.shape[0], 1))\n",
    "    return np.concatenate((intercept, X), axis=1)"
   ]
  },
  {
   "cell_type": "code",
   "execution_count": 3,
   "metadata": {},
   "outputs": [],
   "source": [
    "iris = datasets.load_iris()\n",
    "y = (iris.target != 0) * -1\n",
    "y[y ==0] = 1\n",
    "iris_data = pd.DataFrame(data = iris.data[:,0:2], columns = [\"Sepal Length (cm)\", \"Sepal Width (cm)\"])\n",
    "iris_target = pd.DataFrame(data = y, columns = [\"target\"])\n",
    "iris_df = pd.concat([iris_data, iris_target], axis = 1)"
   ]
  },
  {
   "cell_type": "code",
   "execution_count": 4,
   "metadata": {},
   "outputs": [
    {
     "name": "stdout",
     "output_type": "stream",
     "text": [
      "Training set size : 112\n",
      "Testing set size : 37\n"
     ]
    }
   ],
   "source": [
    "#training and testing set size\n",
    "train_size=int(0.75*iris_df.shape[0])\n",
    "test_size=int(0.25*iris_df.shape[0])\n",
    "\n",
    "print(\"Training set size : \"+ str(train_size))\n",
    "print(\"Testing set size : \"+str(test_size))\n",
    "\n",
    "#Getting features from dataset\n",
    "Data=iris_df.sample(frac=1)\n",
    "X=Data.iloc[:,[0, 1]].values\n",
    "y=Data.iloc[:,2].values\n",
    "\n",
    "#add intercept\n",
    "X = add_intercept(X)\n",
    "#training set split\n",
    "X_train=X[0:train_size,:]\n",
    "y_train=y[0:train_size]\n",
    "\n",
    "#testing set split\n",
    "X_test=X[train_size:,:]\n",
    "y_test=y[train_size:]"
   ]
  },
  {
   "cell_type": "code",
   "execution_count": 5,
   "metadata": {},
   "outputs": [
    {
     "data": {
      "image/png": "[encoded data removed]",
      "text/plain": [
       "<Figure size 406x360 with 1 Axes>"
      ]
     },
     "metadata": {},
     "output_type": "display_data"
    }
   ],
   "source": [
    "sns.pairplot(x_vars=[\"Sepal Length (cm)\"], y_vars=[\"Sepal Width (cm)\"], data=iris_df, hue=\"target\", height=5)\n",
    "plt.show()"
   ]
  },
  {
   "cell_type": "code",
   "execution_count": 6,
   "metadata": {},
   "outputs": [],
   "source": [
    "class LogisticRegression:\n",
    "    \n",
    "    def __init__(self, lr=0.01, num_iter=10000, w0=0.5, verbose=True):\n",
    "        self.lr = lr\n",
    "        self.num_iter = num_iter\n",
    "        self.verbose = verbose\n",
    "        self.w0 = w0\n",
    "        self.m = y.shape[0]\n",
    "    \n",
    "    def sigmoid(self, z):\n",
    "        return 1 / (1 + np.exp(-z))\n",
    "    \n",
    "    def prediction(self, w, Data):\n",
    "        pred = []\n",
    "        z = np.dot(Data,w)\n",
    "        a = self.sigmoid(z)\n",
    "        \n",
    "        for i in range(0,len(a)):\n",
    "            if (a[i] > self.w0): \n",
    "                pred.append(1)\n",
    "            elif (a[i] <= self.w0):\n",
    "                pred.append(-1)\n",
    "        return pred\n",
    "\n",
    "    def fit(self, X, y):\n",
    "        self.theta = np.zeros(X.shape[1])\n",
    "        \n",
    "        for i in range(self.num_iter):\n",
    "            z = np.dot(X, self.theta)\n",
    "            val = -np.multiply(y,z)\n",
    "            f = -np.multiply(y,np.exp(val))/(1+np.exp(val))\n",
    "            gradient = np.dot(X.T,f.T)\n",
    "            self.theta -= self.lr * gradient.T\n",
    "            \n",
    "            if (self.verbose) and (i % 100) == 0:\n",
    "                loss = np.sum(np.log(1+np.exp(val)))\n",
    "                y_pred = self.prediction(self.theta, X)\n",
    "                print('loss =',round(loss,3),' Training Accuracy',round(accuracy_score(y, y_pred)*100,1))\n",
    "                \n",
    "    def get_theha(self):\n",
    "        return self.theta"
   ]
  },
  {
   "cell_type": "code",
   "execution_count": 7,
   "metadata": {},
   "outputs": [
    {
     "name": "stdout",
     "output_type": "stream",
     "text": [
      "loss = 77.632  Training Accuracy 68.8\n",
      "loss = 6.151  Training Accuracy 99.1\n",
      "loss = 5.45  Training Accuracy 99.1\n",
      "loss = 5.02  Training Accuracy 99.1\n",
      "loss = 4.723  Training Accuracy 99.1\n",
      "loss = 4.501  Training Accuracy 99.1\n",
      "loss = 4.326  Training Accuracy 99.1\n",
      "loss = 4.182  Training Accuracy 99.1\n",
      "loss = 4.06  Training Accuracy 99.1\n",
      "loss = 3.954  Training Accuracy 99.1\n",
      "loss = 3.86  Training Accuracy 99.1\n",
      "loss = 3.775  Training Accuracy 99.1\n",
      "loss = 3.698  Training Accuracy 99.1\n",
      "loss = 3.627  Training Accuracy 99.1\n",
      "loss = 3.561  Training Accuracy 99.1\n",
      "loss = 3.499  Training Accuracy 99.1\n",
      "loss = 3.44  Training Accuracy 99.1\n",
      "loss = 3.385  Training Accuracy 99.1\n",
      "loss = 3.332  Training Accuracy 99.1\n",
      "loss = 3.281  Training Accuracy 99.1\n",
      "loss = 3.233  Training Accuracy 99.1\n",
      "loss = 3.187  Training Accuracy 99.1\n",
      "loss = 3.142  Training Accuracy 99.1\n",
      "loss = 3.099  Training Accuracy 99.1\n",
      "loss = 3.057  Training Accuracy 99.1\n",
      "loss = 3.017  Training Accuracy 99.1\n",
      "loss = 2.977  Training Accuracy 99.1\n",
      "loss = 2.939  Training Accuracy 99.1\n",
      "loss = 2.902  Training Accuracy 99.1\n",
      "loss = 2.866  Training Accuracy 99.1\n",
      "loss = 2.831  Training Accuracy 99.1\n",
      "loss = 2.797  Training Accuracy 99.1\n",
      "loss = 2.764  Training Accuracy 99.1\n",
      "loss = 2.732  Training Accuracy 99.1\n",
      "loss = 2.7  Training Accuracy 99.1\n",
      "loss = 2.669  Training Accuracy 99.1\n",
      "loss = 2.639  Training Accuracy 99.1\n",
      "loss = 2.609  Training Accuracy 99.1\n",
      "loss = 2.581  Training Accuracy 99.1\n",
      "loss = 2.552  Training Accuracy 99.1\n",
      "loss = 2.525  Training Accuracy 99.1\n",
      "loss = 2.498  Training Accuracy 99.1\n",
      "loss = 2.472  Training Accuracy 99.1\n",
      "loss = 2.446  Training Accuracy 99.1\n",
      "loss = 2.421  Training Accuracy 99.1\n",
      "loss = 2.396  Training Accuracy 99.1\n",
      "loss = 2.372  Training Accuracy 99.1\n",
      "loss = 2.348  Training Accuracy 99.1\n",
      "loss = 2.325  Training Accuracy 99.1\n",
      "loss = 2.302  Training Accuracy 99.1\n",
      "loss = 2.28  Training Accuracy 99.1\n",
      "loss = 2.258  Training Accuracy 99.1\n",
      "loss = 2.237  Training Accuracy 99.1\n",
      "loss = 2.216  Training Accuracy 99.1\n",
      "loss = 2.195  Training Accuracy 99.1\n",
      "loss = 2.175  Training Accuracy 99.1\n",
      "loss = 2.155  Training Accuracy 99.1\n",
      "loss = 2.136  Training Accuracy 99.1\n",
      "loss = 2.117  Training Accuracy 99.1\n",
      "loss = 2.098  Training Accuracy 99.1\n",
      "loss = 2.08  Training Accuracy 99.1\n",
      "loss = 2.062  Training Accuracy 99.1\n",
      "loss = 2.044  Training Accuracy 99.1\n",
      "loss = 2.027  Training Accuracy 99.1\n",
      "loss = 2.01  Training Accuracy 99.1\n",
      "loss = 1.993  Training Accuracy 99.1\n",
      "loss = 1.977  Training Accuracy 99.1\n",
      "loss = 1.961  Training Accuracy 99.1\n",
      "loss = 1.945  Training Accuracy 99.1\n",
      "loss = 1.93  Training Accuracy 99.1\n",
      "loss = 1.915  Training Accuracy 99.1\n",
      "loss = 1.9  Training Accuracy 99.1\n",
      "loss = 1.885  Training Accuracy 99.1\n",
      "loss = 1.87  Training Accuracy 99.1\n",
      "loss = 1.856  Training Accuracy 99.1\n",
      "loss = 1.842  Training Accuracy 99.1\n",
      "loss = 1.829  Training Accuracy 99.1\n",
      "loss = 1.815  Training Accuracy 99.1\n",
      "loss = 1.802  Training Accuracy 99.1\n",
      "loss = 1.789  Training Accuracy 99.1\n",
      "loss = 1.776  Training Accuracy 99.1\n",
      "loss = 1.763  Training Accuracy 99.1\n",
      "loss = 1.751  Training Accuracy 99.1\n",
      "loss = 1.739  Training Accuracy 99.1\n",
      "loss = 1.727  Training Accuracy 99.1\n",
      "loss = 1.715  Training Accuracy 99.1\n",
      "loss = 1.703  Training Accuracy 99.1\n",
      "loss = 1.692  Training Accuracy 99.1\n",
      "loss = 1.681  Training Accuracy 99.1\n",
      "loss = 1.67  Training Accuracy 99.1\n",
      "loss = 1.659  Training Accuracy 99.1\n",
      "loss = 1.648  Training Accuracy 99.1\n",
      "loss = 1.637  Training Accuracy 99.1\n",
      "loss = 1.627  Training Accuracy 99.1\n",
      "loss = 1.617  Training Accuracy 99.1\n",
      "loss = 1.607  Training Accuracy 99.1\n",
      "loss = 1.597  Training Accuracy 99.1\n",
      "loss = 1.587  Training Accuracy 99.1\n",
      "loss = 1.577  Training Accuracy 99.1\n",
      "loss = 1.568  Training Accuracy 99.1\n"
     ]
    }
   ],
   "source": [
    "logreg = LogisticRegression()\n",
    "logreg.fit(X_train,y_train)"
   ]
  },
  {
   "cell_type": "code",
   "execution_count": 8,
   "metadata": {},
   "outputs": [
    {
     "data": {
      "image/png": "[encoded data removed]",
      "text/plain": [
       "<Figure size 406x360 with 1 Axes>"
      ]
     },
     "metadata": {},
     "output_type": "display_data"
    },
    {
     "name": "stdout",
     "output_type": "stream",
     "text": [
      "Test accuracy = 1.0\n"
     ]
    }
   ],
   "source": [
    "w = logreg.get_theha()\n",
    "\n",
    "sns.pairplot(x_vars=[\"Sepal Length (cm)\"], y_vars=[\"Sepal Width (cm)\"], data=Data.iloc[train_size:,:],\n",
    "                                                                                        hue=\"target\", height=5)\n",
    "domain =  np.linspace(iris_df['Sepal Length (cm)'].min(),iris_df['Sepal Length (cm)'].max(),2)\n",
    "h_x = -(w[1]/w[2])*domain - (w[0]/w[2])\n",
    "plt.plot(domain,h_x,color='red')\n",
    "plt.title('Test data')\n",
    "plt.show()\n",
    "print('Test accuracy =', accuracy_score(logreg.prediction(logreg.get_theha(),X_test),y_test))"
   ]
  }
 ],
 "metadata": {
  "kernelspec": {
   "display_name": "Python 3",
   "language": "python",
   "name": "python3"
  },
  "language_info": {
   "codemirror_mode": {
    "name": "ipython",
    "version": 3
   },
   "file_extension": ".py",
   "mimetype": "text/x-python",
   "name": "python",
   "nbconvert_exporter": "python",
   "pygments_lexer": "ipython3",
   "version": "3.5.5"
  }
 },
 "nbformat": 4,
 "nbformat_minor": 2
}
