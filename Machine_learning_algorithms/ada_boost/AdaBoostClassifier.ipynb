{
 "cells": [
  {
   "cell_type": "code",
   "execution_count": 1,
   "metadata": {},
   "outputs": [],
   "source": [
    "import numpy as np\n",
    "import pandas as pd\n",
    "import matplotlib.pyplot as plt\n",
    "import random\n",
    "from sklearn.tree import DecisionTreeClassifier\n",
    "from sklearn import datasets"
   ]
  },
  {
   "cell_type": "code",
   "execution_count": 2,
   "metadata": {},
   "outputs": [
    {
     "name": "stdout",
     "output_type": "stream",
     "text": [
      "Training set size : 112\n",
      "Testing set size : 37\n"
     ]
    }
   ],
   "source": [
    "iris = datasets.load_iris()\n",
    "y = (iris.target != 0) * -1\n",
    "y[y ==0] = 1\n",
    "iris_data = pd.DataFrame(data = iris.data[:,0:2], columns = [\"Sepal Length (cm)\", \"Sepal Width (cm)\"])\n",
    "iris_target = pd.DataFrame(data = y, columns = [\"target\"])\n",
    "iris_df = pd.concat([iris_data, iris_target], axis = 1)\n",
    "\n",
    "X = iris.data[:, :2]\n",
    "#training and testing set size\n",
    "train_size=int(0.75*iris_df.shape[0])\n",
    "test_size=int(0.25*iris_df.shape[0])\n",
    "\n",
    "print(\"Training set size : \"+ str(train_size))\n",
    "print(\"Testing set size : \"+str(test_size))\n",
    "\n",
    "#Getting features from dataset\n",
    "Data=iris_df.sample(frac=1)\n",
    "X=Data.iloc[:,[0, 1]].values\n",
    "y=Data.iloc[:,2].values\n",
    "\n",
    "#training set split\n",
    "X_train=X[0:train_size,:]\n",
    "y_train=y[0:train_size]\n",
    "\n",
    "#testing set split\n",
    "X_test=X[train_size:,:]\n",
    "y_test=y[train_size:]"
   ]
  },
  {
   "cell_type": "code",
   "execution_count": 3,
   "metadata": {},
   "outputs": [],
   "source": [
    "class AdaBoostClassifier():\n",
    "    def __init__(self, iters=10, learning_rate=1):\n",
    "        self.learning_rate = learning_rate\n",
    "        self.iters = iters\n",
    "        self.estimators = []\n",
    "        self.y_preds = []\n",
    "        self.estimators_weight = []\n",
    "    \n",
    "    def fit(self, X_train, y_train):\n",
    "        sample_weight = np.ones(len(y_train))/len(y_train)\n",
    "        for _ in range(self.iters):   \n",
    "            #DecisionTreeClassifier classifier\n",
    "            estimator = DecisionTreeClassifier(max_depth = 1, max_leaf_nodes=2)\n",
    "            estimator.fit(X_train, y_train, sample_weight=sample_weight)\n",
    "            y_predict = estimator.predict(X_train)\n",
    "            self.estimators.append(estimator)\n",
    "\n",
    "            estimator_error = ((y_predict != y_train).dot(sample_weight))/sum(sample_weight)\n",
    "            estimator_weight =  self.learning_rate * np.log((1 - estimator_error)/estimator_error)\n",
    "            #New sample weights\n",
    "            sample_weight *= np.exp(estimator_weight * (y_predict != y_train))\n",
    "\n",
    "            self.estimators_weight.append(estimator_weight.copy())   \n",
    "            \n",
    "    def prediction(self,X_test):\n",
    "        \n",
    "        for est in self.estimators:   \n",
    "            y_predict = est.predict(X_test)\n",
    "            self.y_preds.append(y_predict.copy())\n",
    "            \n",
    "        return ([np.sign((np.array(self.y_preds)[:,point] * self.estimators_weight).sum())\\\n",
    "                                                                     for point in range(len(X_test))])\n",
    "    def get_estimators(self):\n",
    "        return self.estimators\n",
    "    \n",
    "    def get_estimators_weight(self):\n",
    "        return self.estimators_weight"
   ]
  },
  {
   "cell_type": "code",
   "execution_count": 4,
   "metadata": {},
   "outputs": [],
   "source": [
    "ada = AdaBoostClassifier()\n",
    "ada.fit(X_train,y_train)\n",
    "prediction = ada.prediction(X_test)"
   ]
  },
  {
   "cell_type": "code",
   "execution_count": 5,
   "metadata": {},
   "outputs": [],
   "source": [
    "def AdaBoostClassifier_boundary(estimators, estimators_weight, X, y, N=10, ax=None):\n",
    "    \n",
    "    def AdaBoostClassifier_classify(x_temp, est, est_weights):\n",
    "        temp_pred = np.asarray([(e.predict(x_temp)).T* w for e, w in zip(est,est_weights)])/est_weights.sum()\n",
    "        return np.sign(temp_pred.sum(axis = 0))\n",
    "    \n",
    "    x_min, x_max = X[:, 0].min() - 0.25, X[:, 0].max() + 0.25\n",
    "    y_min, y_max = X[:, 1].min() - 0.25, X[:, 1].max() + 0.25\n",
    "    \n",
    "    xx, yy = np.meshgrid(np.linspace(x_min, x_max, N), np.linspace(y_min, y_max, N))\n",
    "    zz = np.array([AdaBoostClassifier_classify(np.array([xi,yi]).reshape(1,-1), estimators,estimators_weight)\\\n",
    "                                                        for xi, yi in zip(np.ravel(xx), np.ravel(yy))])\n",
    "    Z = zz.reshape(xx.shape)\n",
    "\n",
    "    ax = plt.gca()\n",
    "    ax.contourf(xx, yy, Z, 2, cmap = 'CMRmap_r', alpha = 0.5)\n",
    "    ax.scatter(X[:,0], X[:,1], c = y)\n",
    "    ax.set_xlabel('$X_1$')\n",
    "    ax.set_ylabel('$X_2$')"
   ]
  },
  {
   "cell_type": "code",
   "execution_count": 6,
   "metadata": {},
   "outputs": [
    {
     "data": {
      "image/png": "[encoded data removed]",
      "text/plain": [
       "<Figure size 432x288 with 1 Axes>"
      ]
     },
     "metadata": {},
     "output_type": "display_data"
    }
   ],
   "source": [
    "AdaBoostClassifier_boundary(ada.get_estimators(), np.array(ada.get_estimators_weight()), X_test, y_test, N = 50)"
   ]
  },
  {
   "cell_type": "code",
   "execution_count": 7,
   "metadata": {},
   "outputs": [
    {
     "name": "stdout",
     "output_type": "stream",
     "text": [
      "Test accuracy score =  0.9736842105263158\n"
     ]
    }
   ],
   "source": [
    "print('Test accuracy score = ', (np.array(prediction) == y_test).sum()/len(y_test)) "
   ]
  },
  {
   "cell_type": "markdown",
   "metadata": {},
   "source": [
    "## Pros and Cons of AdaBoost"
   ]
  },
  {
   "cell_type": "markdown",
   "metadata": {},
   "source": [
    "# Pros:\n",
    "\n",
    "    1) It has the flexibility to be combined with any machine learning algorithm.\n",
    "    \n",
    "    2) There is no need to tune many parameters.\n",
    "    \n",
    "    3) Is not prone to overfitting.\n",
    "    \n",
    "    4) Can be used in text and image classification.\n",
    "\n",
    "# Cons:\n",
    "\n",
    "    1) Sensitive to noisy data and outliers\n",
    "    \n",
    "    2) Training is time consuming"
   ]
  }
 ],
 "metadata": {
  "kernelspec": {
   "display_name": "Python 3",
   "language": "python",
   "name": "python3"
  },
  "language_info": {
   "codemirror_mode": {
    "name": "ipython",
    "version": 3
   },
   "file_extension": ".py",
   "mimetype": "text/x-python",
   "name": "python",
   "nbconvert_exporter": "python",
   "pygments_lexer": "ipython3",
   "version": "3.5.5"
  }
 },
 "nbformat": 4,
 "nbformat_minor": 2
}
